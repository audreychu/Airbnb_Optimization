{
 "cells": [
  {
   "cell_type": "code",
   "execution_count": 1,
   "metadata": {},
   "outputs": [],
   "source": [
    "import numpy as np\n",
    "import pandas as pd\n",
    "import geopandas as gpd\n",
    "import helpers"
   ]
  },
  {
   "cell_type": "code",
   "execution_count": 196,
   "metadata": {},
   "outputs": [],
   "source": [
    "listings = pd.read_csv('datasets/deduped_listings_updated.csv')\n",
    "pois = pd.read_csv('datasets/foursquare_pois.csv')\n",
    "food_pois = pd.read_csv('datasets/foursquare_pois_food.csv')\n",
    "nightlife_pois = pd.read_csv('datasets/foursquare_pois_nightlife.csv')\n",
    "travel_pois = pd.read_csv('datasets/foursquare_pois_travel.csv')"
   ]
  },
  {
   "cell_type": "code",
   "execution_count": 197,
   "metadata": {},
   "outputs": [],
   "source": [
    "geo_listings = helpers.to_gdf(helpers.clean_latlon(listings, 'longitude', 'latitude'))\n",
    "geo_pois = helpers.to_gdf(helpers.clean_latlon(pois, 'venue.location.lng', 'venue.location.lat'))\n",
    "geo_pois_food = helpers.to_gdf(helpers.clean_latlon(food_pois, 'venue.location.lng', 'venue.location.lat'))\n",
    "geo_pois_nightlife = helpers.to_gdf(helpers.clean_latlon(nightlife_pois, 'venue.location.lng', 'venue.location.lat'))\n",
    "geo_pois_travel = helpers.to_gdf(helpers.clean_latlon(travel_pois, 'venue.location.lng', 'venue.location.lat'))"
   ]
  },
  {
   "cell_type": "code",
   "execution_count": 211,
   "metadata": {},
   "outputs": [],
   "source": [
    "# Point of interest features\n",
    "geo_listings['idpop_local_sum'] = geo_listings.apply(helpers.idw_popularity, poi_gdf = geo_pois, metric = 'sum', axis = 1)\n",
    "geo_listings['idpop_citywide_sum'] = geo_listings.apply(helpers.idw_popularity, poi_gdf = geo_pois, citywide = 1, metric = 'sum', axis = 1)\n",
    "geo_listings['idpop_local_food_sum'] = geo_listings.apply(helpers.idw_popularity, poi_gdf = geo_pois_food, citywide = 0, metric = 'sum', axis = 1)\n",
    "geo_listings['idpop_citywide_food_sum'] = geo_listings.apply(helpers.idw_popularity, poi_gdf = geo_pois_food, citywide = 1, metric = 'sum', axis = 1)\n",
    "geo_listings['idpop_local_nightlife_sum'] = geo_listings.apply(helpers.idw_popularity, poi_gdf = geo_pois_nightlife, citywide = 0, metric = 'sum', axis = 1)\n",
    "geo_listings['idpop_citywide_nightlife_sum'] = geo_listings.apply(helpers.idw_popularity, poi_gdf = geo_pois_nightlife, citywide = 1, metric = 'sum', axis = 1)\n",
    "geo_listings['idpop_local_travel_sum'] = geo_listings.apply(helpers.idw_popularity, poi_gdf = geo_pois_travel, citywide = 0, metric = 'sum', axis = 1)\n",
    "geo_listings['idpop_citywide_travel_sum'] = geo_listings.apply(helpers.idw_popularity, poi_gdf = geo_pois_travel, citywide = 1, metric = 'sum', axis = 1)"
   ]
  },
  {
   "cell_type": "code",
   "execution_count": 218,
   "metadata": {},
   "outputs": [],
   "source": [
    "geo_listings.to_csv('datasets/listings_with_poifeats.csv')"
   ]
  },
  {
   "cell_type": "code",
   "execution_count": 214,
   "metadata": {},
   "outputs": [],
   "source": [
    "import importlib\n",
    "importlib.reload(helpers)\n",
    "\n",
    "def count_within_radius(listing, points, radius_meters):\n",
    "    selected = helpers.filter_to_radius(listing, points, radius_meters)\n",
    "    return(len(selected.index))"
   ]
  },
  {
   "cell_type": "code",
   "execution_count": 219,
   "metadata": {},
   "outputs": [],
   "source": [
    "# Count number of venues within 500m of a listing\n",
    "# This takes a really long time (~12 hours per feature)\n",
    "# Only able to get through general venue count\n",
    "geo_listings['venue_count_500m'] = geo_listings.apply(count_within_radius, points = geo_pois, radius_meters = 500, axis = 1)\n",
    "geo_listings['food_count_500m'] = geo_listings.apply(count_within_radius, points = geo_pois_food, radius_meters = 500, axis = 1)"
   ]
  },
  {
   "cell_type": "code",
   "execution_count": null,
   "metadata": {},
   "outputs": [],
   "source": []
  }
 ],
 "metadata": {
  "kernelspec": {
   "display_name": "Python 3",
   "language": "python",
   "name": "python3"
  },
  "language_info": {
   "codemirror_mode": {
    "name": "ipython",
    "version": 3
   },
   "file_extension": ".py",
   "mimetype": "text/x-python",
   "name": "python",
   "nbconvert_exporter": "python",
   "pygments_lexer": "ipython3",
   "version": "3.7.4"
  }
 },
 "nbformat": 4,
 "nbformat_minor": 4
}
