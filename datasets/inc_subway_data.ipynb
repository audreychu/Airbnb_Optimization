{
 "cells": [
  {
   "cell_type": "code",
   "execution_count": 2,
   "metadata": {},
   "outputs": [],
   "source": [
    "import pandas as pd\n",
    "import numpy as np\n",
    "import geopy.distance"
   ]
  },
  {
   "cell_type": "code",
   "execution_count": 3,
   "metadata": {},
   "outputs": [
    {
     "data": {
      "text/html": [
       "<div>\n",
       "<style scoped>\n",
       "    .dataframe tbody tr th:only-of-type {\n",
       "        vertical-align: middle;\n",
       "    }\n",
       "\n",
       "    .dataframe tbody tr th {\n",
       "        vertical-align: top;\n",
       "    }\n",
       "\n",
       "    .dataframe thead th {\n",
       "        text-align: right;\n",
       "    }\n",
       "</style>\n",
       "<table border=\"1\" class=\"dataframe\">\n",
       "  <thead>\n",
       "    <tr style=\"text-align: right;\">\n",
       "      <th></th>\n",
       "      <th>Unnamed: 0</th>\n",
       "      <th>id</th>\n",
       "      <th>last_scraped</th>\n",
       "      <th>neighbourhood</th>\n",
       "      <th>neighbourhood_cleansed</th>\n",
       "      <th>neighbourhood_group_cleansed</th>\n",
       "      <th>city</th>\n",
       "      <th>state</th>\n",
       "      <th>zipcode</th>\n",
       "      <th>latitude</th>\n",
       "      <th>longitude</th>\n",
       "    </tr>\n",
       "  </thead>\n",
       "  <tbody>\n",
       "    <tr>\n",
       "      <th>0</th>\n",
       "      <td>13</td>\n",
       "      <td>5435.0</td>\n",
       "      <td>2019-03-07</td>\n",
       "      <td>Manhattan</td>\n",
       "      <td>Upper West Side</td>\n",
       "      <td>Manhattan</td>\n",
       "      <td>New York</td>\n",
       "      <td>NY</td>\n",
       "      <td>10025</td>\n",
       "      <td>40.80155</td>\n",
       "      <td>-73.97000</td>\n",
       "    </tr>\n",
       "    <tr>\n",
       "      <th>1</th>\n",
       "      <td>96</td>\n",
       "      <td>20311.0</td>\n",
       "      <td>2019-03-07</td>\n",
       "      <td>Brooklyn</td>\n",
       "      <td>Prospect Heights</td>\n",
       "      <td>Brooklyn</td>\n",
       "      <td>Brooklyn</td>\n",
       "      <td>NY</td>\n",
       "      <td>11238</td>\n",
       "      <td>40.67206</td>\n",
       "      <td>-73.96344</td>\n",
       "    </tr>\n",
       "    <tr>\n",
       "      <th>2</th>\n",
       "      <td>132</td>\n",
       "      <td>27024.0</td>\n",
       "      <td>2019-03-07</td>\n",
       "      <td>Chelsea</td>\n",
       "      <td>Chelsea</td>\n",
       "      <td>Manhattan</td>\n",
       "      <td>New York</td>\n",
       "      <td>NY</td>\n",
       "      <td>10001</td>\n",
       "      <td>40.74968</td>\n",
       "      <td>-74.00052</td>\n",
       "    </tr>\n",
       "    <tr>\n",
       "      <th>3</th>\n",
       "      <td>268</td>\n",
       "      <td>62264.0</td>\n",
       "      <td>2019-03-07</td>\n",
       "      <td>Williamsburg</td>\n",
       "      <td>Williamsburg</td>\n",
       "      <td>Brooklyn</td>\n",
       "      <td>Brooklyn</td>\n",
       "      <td>NY</td>\n",
       "      <td>11211</td>\n",
       "      <td>40.72159</td>\n",
       "      <td>-73.96018</td>\n",
       "    </tr>\n",
       "    <tr>\n",
       "      <th>4</th>\n",
       "      <td>324</td>\n",
       "      <td>70381.0</td>\n",
       "      <td>2019-03-07</td>\n",
       "      <td>Soho</td>\n",
       "      <td>SoHo</td>\n",
       "      <td>Manhattan</td>\n",
       "      <td>New York</td>\n",
       "      <td>NY</td>\n",
       "      <td>10013</td>\n",
       "      <td>40.72195</td>\n",
       "      <td>-74.00356</td>\n",
       "    </tr>\n",
       "  </tbody>\n",
       "</table>\n",
       "</div>"
      ],
      "text/plain": [
       "   Unnamed: 0       id last_scraped neighbourhood neighbourhood_cleansed  \\\n",
       "0          13   5435.0   2019-03-07     Manhattan        Upper West Side   \n",
       "1          96  20311.0   2019-03-07      Brooklyn       Prospect Heights   \n",
       "2         132  27024.0   2019-03-07       Chelsea                Chelsea   \n",
       "3         268  62264.0   2019-03-07  Williamsburg           Williamsburg   \n",
       "4         324  70381.0   2019-03-07          Soho                   SoHo   \n",
       "\n",
       "  neighbourhood_group_cleansed      city state zipcode  latitude  longitude  \n",
       "0                    Manhattan  New York    NY   10025  40.80155  -73.97000  \n",
       "1                     Brooklyn  Brooklyn    NY   11238  40.67206  -73.96344  \n",
       "2                    Manhattan  New York    NY   10001  40.74968  -74.00052  \n",
       "3                     Brooklyn  Brooklyn    NY   11211  40.72159  -73.96018  \n",
       "4                    Manhattan  New York    NY   10013  40.72195  -74.00356  "
      ]
     },
     "execution_count": 3,
     "metadata": {},
     "output_type": "execute_result"
    }
   ],
   "source": [
    "url = 'https://raw.githubusercontent.com/audreychu/Airbnb_Optimization/main/datasets/deduped_listings_updated.csv'\n",
    "df = pd.read_csv(url)\n",
    "df.head()"
   ]
  },
  {
   "cell_type": "code",
   "execution_count": 5,
   "metadata": {},
   "outputs": [
    {
     "data": {
      "text/plain": [
       "40135"
      ]
     },
     "execution_count": 5,
     "metadata": {},
     "output_type": "execute_result"
    }
   ],
   "source": [
    "# check that ids are all unique\n",
    "df.id.nunique()"
   ]
  },
  {
   "cell_type": "code",
   "execution_count": 7,
   "metadata": {},
   "outputs": [],
   "source": [
    "# drop lat and long na\n",
    "df = df[df['latitude'].notna()]\n",
    "df = df[df['longitude'].notna()]\n",
    "df = df.reset_index()"
   ]
  },
  {
   "cell_type": "markdown",
   "metadata": {},
   "source": [
    "### 1. Subway Stations"
   ]
  },
  {
   "cell_type": "code",
   "execution_count": 9,
   "metadata": {},
   "outputs": [],
   "source": [
    "import requests\n",
    "from sodapy import Socrata"
   ]
  },
  {
   "cell_type": "code",
   "execution_count": 10,
   "metadata": {},
   "outputs": [],
   "source": [
    "client = Socrata(\"data.cityofnewyork.us\", 'Fwb56JZczDClDBHMEYOdmWugu')\n",
    "results = client.get(\"kk4q-3rt2\")\n",
    "subway_df = pd.DataFrame.from_records(results)"
   ]
  },
  {
   "cell_type": "code",
   "execution_count": 28,
   "metadata": {},
   "outputs": [
    {
     "data": {
      "text/plain": [
       "(-73.99214, 40.71958)"
      ]
     },
     "execution_count": 28,
     "metadata": {},
     "output_type": "execute_result"
    }
   ],
   "source": [
    "df_coord = (df.longitude[20],df.latitude[20])\n",
    "df_coord"
   ]
  },
  {
   "cell_type": "code",
   "execution_count": 26,
   "metadata": {},
   "outputs": [],
   "source": [
    "# calculate number of subway lines\n",
    "subway_df['line_count'] = subway_df.line.str.count(\"-\")+1"
   ]
  },
  {
   "cell_type": "code",
   "execution_count": 36,
   "metadata": {},
   "outputs": [],
   "source": [
    "# Count the number of stations within 0.2 miles\n",
    "# count the number of subway lines within 0.2 miles\n",
    "# This is technically double counting, but its okay\n",
    "# since we are just trying to get a proxy for \n",
    "# transportation convenience\n",
    "\n",
    "miles = 0.2\n",
    "\n",
    "def sub_stations(df_coord,miles):\n",
    "    cnt = 0\n",
    "    line_cnt = 0\n",
    "    for i in range(len(subway_df)):\n",
    "        x = subway_df['the_geom'][i]['coordinates']\n",
    "        if geopy.distance.geodesic(df_coord,x).miles < miles:\n",
    "                cnt += 1\n",
    "                line_cnt += subway_df.line_count[i]\n",
    "    return(cnt,line_cnt)\n",
    "\n",
    "#count_stations(df_coord,0.2)"
   ]
  },
  {
   "cell_type": "code",
   "execution_count": 37,
   "metadata": {},
   "outputs": [],
   "source": [
    "sub_cols = []\n",
    "miles = 0.2\n",
    "\n",
    "for i in range(len(df)):\n",
    "    df_coord = (df.longitude[i],df.latitude[i])\n",
    "    sub_cols.append(sub_stations(df_coord,miles))\n",
    "    \n",
    "    "
   ]
  },
  {
   "cell_type": "code",
   "execution_count": 42,
   "metadata": {},
   "outputs": [],
   "source": [
    "sub_cnt = list(zip(*sub_cols))[0]"
   ]
  },
  {
   "cell_type": "code",
   "execution_count": 43,
   "metadata": {},
   "outputs": [],
   "source": [
    "sub_line_cnt = list(zip(*sub_cols))[1]"
   ]
  },
  {
   "cell_type": "code",
   "execution_count": 44,
   "metadata": {},
   "outputs": [
    {
     "data": {
      "text/html": [
       "<div>\n",
       "<style scoped>\n",
       "    .dataframe tbody tr th:only-of-type {\n",
       "        vertical-align: middle;\n",
       "    }\n",
       "\n",
       "    .dataframe tbody tr th {\n",
       "        vertical-align: top;\n",
       "    }\n",
       "\n",
       "    .dataframe thead th {\n",
       "        text-align: right;\n",
       "    }\n",
       "</style>\n",
       "<table border=\"1\" class=\"dataframe\">\n",
       "  <thead>\n",
       "    <tr style=\"text-align: right;\">\n",
       "      <th></th>\n",
       "      <th>level_0</th>\n",
       "      <th>index</th>\n",
       "      <th>Unnamed: 0</th>\n",
       "      <th>id</th>\n",
       "      <th>last_scraped</th>\n",
       "      <th>neighbourhood</th>\n",
       "      <th>neighbourhood_cleansed</th>\n",
       "      <th>neighbourhood_group_cleansed</th>\n",
       "      <th>city</th>\n",
       "      <th>state</th>\n",
       "      <th>zipcode</th>\n",
       "      <th>latitude</th>\n",
       "      <th>longitude</th>\n",
       "    </tr>\n",
       "  </thead>\n",
       "  <tbody>\n",
       "    <tr>\n",
       "      <th>0</th>\n",
       "      <td>0</td>\n",
       "      <td>0</td>\n",
       "      <td>13</td>\n",
       "      <td>5435.0</td>\n",
       "      <td>2019-03-07</td>\n",
       "      <td>Manhattan</td>\n",
       "      <td>Upper West Side</td>\n",
       "      <td>Manhattan</td>\n",
       "      <td>New York</td>\n",
       "      <td>NY</td>\n",
       "      <td>10025</td>\n",
       "      <td>40.80155</td>\n",
       "      <td>-73.97000</td>\n",
       "    </tr>\n",
       "    <tr>\n",
       "      <th>1</th>\n",
       "      <td>1</td>\n",
       "      <td>1</td>\n",
       "      <td>96</td>\n",
       "      <td>20311.0</td>\n",
       "      <td>2019-03-07</td>\n",
       "      <td>Brooklyn</td>\n",
       "      <td>Prospect Heights</td>\n",
       "      <td>Brooklyn</td>\n",
       "      <td>Brooklyn</td>\n",
       "      <td>NY</td>\n",
       "      <td>11238</td>\n",
       "      <td>40.67206</td>\n",
       "      <td>-73.96344</td>\n",
       "    </tr>\n",
       "    <tr>\n",
       "      <th>2</th>\n",
       "      <td>2</td>\n",
       "      <td>2</td>\n",
       "      <td>132</td>\n",
       "      <td>27024.0</td>\n",
       "      <td>2019-03-07</td>\n",
       "      <td>Chelsea</td>\n",
       "      <td>Chelsea</td>\n",
       "      <td>Manhattan</td>\n",
       "      <td>New York</td>\n",
       "      <td>NY</td>\n",
       "      <td>10001</td>\n",
       "      <td>40.74968</td>\n",
       "      <td>-74.00052</td>\n",
       "    </tr>\n",
       "    <tr>\n",
       "      <th>3</th>\n",
       "      <td>3</td>\n",
       "      <td>3</td>\n",
       "      <td>268</td>\n",
       "      <td>62264.0</td>\n",
       "      <td>2019-03-07</td>\n",
       "      <td>Williamsburg</td>\n",
       "      <td>Williamsburg</td>\n",
       "      <td>Brooklyn</td>\n",
       "      <td>Brooklyn</td>\n",
       "      <td>NY</td>\n",
       "      <td>11211</td>\n",
       "      <td>40.72159</td>\n",
       "      <td>-73.96018</td>\n",
       "    </tr>\n",
       "    <tr>\n",
       "      <th>4</th>\n",
       "      <td>4</td>\n",
       "      <td>4</td>\n",
       "      <td>324</td>\n",
       "      <td>70381.0</td>\n",
       "      <td>2019-03-07</td>\n",
       "      <td>Soho</td>\n",
       "      <td>SoHo</td>\n",
       "      <td>Manhattan</td>\n",
       "      <td>New York</td>\n",
       "      <td>NY</td>\n",
       "      <td>10013</td>\n",
       "      <td>40.72195</td>\n",
       "      <td>-74.00356</td>\n",
       "    </tr>\n",
       "  </tbody>\n",
       "</table>\n",
       "</div>"
      ],
      "text/plain": [
       "   level_0  index  Unnamed: 0       id last_scraped neighbourhood  \\\n",
       "0        0      0          13   5435.0   2019-03-07     Manhattan   \n",
       "1        1      1          96  20311.0   2019-03-07      Brooklyn   \n",
       "2        2      2         132  27024.0   2019-03-07       Chelsea   \n",
       "3        3      3         268  62264.0   2019-03-07  Williamsburg   \n",
       "4        4      4         324  70381.0   2019-03-07          Soho   \n",
       "\n",
       "  neighbourhood_cleansed neighbourhood_group_cleansed      city state zipcode  \\\n",
       "0        Upper West Side                    Manhattan  New York    NY   10025   \n",
       "1       Prospect Heights                     Brooklyn  Brooklyn    NY   11238   \n",
       "2                Chelsea                    Manhattan  New York    NY   10001   \n",
       "3           Williamsburg                     Brooklyn  Brooklyn    NY   11211   \n",
       "4                   SoHo                    Manhattan  New York    NY   10013   \n",
       "\n",
       "   latitude  longitude  \n",
       "0  40.80155  -73.97000  \n",
       "1  40.67206  -73.96344  \n",
       "2  40.74968  -74.00052  \n",
       "3  40.72159  -73.96018  \n",
       "4  40.72195  -74.00356  "
      ]
     },
     "execution_count": 44,
     "metadata": {},
     "output_type": "execute_result"
    }
   ],
   "source": [
    "df.head()"
   ]
  },
  {
   "cell_type": "code",
   "execution_count": 45,
   "metadata": {},
   "outputs": [],
   "source": [
    "df['sub_cnt_20m'] = sub_cnt"
   ]
  },
  {
   "cell_type": "code",
   "execution_count": 46,
   "metadata": {},
   "outputs": [],
   "source": [
    "df['sub__line_cnt_20m'] = sub_line_cnt"
   ]
  },
  {
   "cell_type": "code",
   "execution_count": 47,
   "metadata": {},
   "outputs": [
    {
     "data": {
      "text/html": [
       "<div>\n",
       "<style scoped>\n",
       "    .dataframe tbody tr th:only-of-type {\n",
       "        vertical-align: middle;\n",
       "    }\n",
       "\n",
       "    .dataframe tbody tr th {\n",
       "        vertical-align: top;\n",
       "    }\n",
       "\n",
       "    .dataframe thead th {\n",
       "        text-align: right;\n",
       "    }\n",
       "</style>\n",
       "<table border=\"1\" class=\"dataframe\">\n",
       "  <thead>\n",
       "    <tr style=\"text-align: right;\">\n",
       "      <th></th>\n",
       "      <th>level_0</th>\n",
       "      <th>index</th>\n",
       "      <th>Unnamed: 0</th>\n",
       "      <th>id</th>\n",
       "      <th>last_scraped</th>\n",
       "      <th>neighbourhood</th>\n",
       "      <th>neighbourhood_cleansed</th>\n",
       "      <th>neighbourhood_group_cleansed</th>\n",
       "      <th>city</th>\n",
       "      <th>state</th>\n",
       "      <th>zipcode</th>\n",
       "      <th>latitude</th>\n",
       "      <th>longitude</th>\n",
       "      <th>sub_cnt_20m</th>\n",
       "      <th>sub__line_cnt_20m</th>\n",
       "    </tr>\n",
       "  </thead>\n",
       "  <tbody>\n",
       "    <tr>\n",
       "      <th>0</th>\n",
       "      <td>0</td>\n",
       "      <td>0</td>\n",
       "      <td>13</td>\n",
       "      <td>5435.0</td>\n",
       "      <td>2019-03-07</td>\n",
       "      <td>Manhattan</td>\n",
       "      <td>Upper West Side</td>\n",
       "      <td>Manhattan</td>\n",
       "      <td>New York</td>\n",
       "      <td>NY</td>\n",
       "      <td>10025</td>\n",
       "      <td>40.80155</td>\n",
       "      <td>-73.97000</td>\n",
       "      <td>1</td>\n",
       "      <td>1</td>\n",
       "    </tr>\n",
       "    <tr>\n",
       "      <th>1</th>\n",
       "      <td>1</td>\n",
       "      <td>1</td>\n",
       "      <td>96</td>\n",
       "      <td>20311.0</td>\n",
       "      <td>2019-03-07</td>\n",
       "      <td>Brooklyn</td>\n",
       "      <td>Prospect Heights</td>\n",
       "      <td>Brooklyn</td>\n",
       "      <td>Brooklyn</td>\n",
       "      <td>NY</td>\n",
       "      <td>11238</td>\n",
       "      <td>40.67206</td>\n",
       "      <td>-73.96344</td>\n",
       "      <td>1</td>\n",
       "      <td>3</td>\n",
       "    </tr>\n",
       "    <tr>\n",
       "      <th>2</th>\n",
       "      <td>2</td>\n",
       "      <td>2</td>\n",
       "      <td>132</td>\n",
       "      <td>27024.0</td>\n",
       "      <td>2019-03-07</td>\n",
       "      <td>Chelsea</td>\n",
       "      <td>Chelsea</td>\n",
       "      <td>Manhattan</td>\n",
       "      <td>New York</td>\n",
       "      <td>NY</td>\n",
       "      <td>10001</td>\n",
       "      <td>40.74968</td>\n",
       "      <td>-74.00052</td>\n",
       "      <td>3</td>\n",
       "      <td>8</td>\n",
       "    </tr>\n",
       "    <tr>\n",
       "      <th>3</th>\n",
       "      <td>3</td>\n",
       "      <td>3</td>\n",
       "      <td>268</td>\n",
       "      <td>62264.0</td>\n",
       "      <td>2019-03-07</td>\n",
       "      <td>Williamsburg</td>\n",
       "      <td>Williamsburg</td>\n",
       "      <td>Brooklyn</td>\n",
       "      <td>Brooklyn</td>\n",
       "      <td>NY</td>\n",
       "      <td>11211</td>\n",
       "      <td>40.72159</td>\n",
       "      <td>-73.96018</td>\n",
       "      <td>0</td>\n",
       "      <td>0</td>\n",
       "    </tr>\n",
       "    <tr>\n",
       "      <th>4</th>\n",
       "      <td>4</td>\n",
       "      <td>4</td>\n",
       "      <td>324</td>\n",
       "      <td>70381.0</td>\n",
       "      <td>2019-03-07</td>\n",
       "      <td>Soho</td>\n",
       "      <td>SoHo</td>\n",
       "      <td>Manhattan</td>\n",
       "      <td>New York</td>\n",
       "      <td>NY</td>\n",
       "      <td>10013</td>\n",
       "      <td>40.72195</td>\n",
       "      <td>-74.00356</td>\n",
       "      <td>8</td>\n",
       "      <td>20</td>\n",
       "    </tr>\n",
       "  </tbody>\n",
       "</table>\n",
       "</div>"
      ],
      "text/plain": [
       "   level_0  index  Unnamed: 0       id last_scraped neighbourhood  \\\n",
       "0        0      0          13   5435.0   2019-03-07     Manhattan   \n",
       "1        1      1          96  20311.0   2019-03-07      Brooklyn   \n",
       "2        2      2         132  27024.0   2019-03-07       Chelsea   \n",
       "3        3      3         268  62264.0   2019-03-07  Williamsburg   \n",
       "4        4      4         324  70381.0   2019-03-07          Soho   \n",
       "\n",
       "  neighbourhood_cleansed neighbourhood_group_cleansed      city state zipcode  \\\n",
       "0        Upper West Side                    Manhattan  New York    NY   10025   \n",
       "1       Prospect Heights                     Brooklyn  Brooklyn    NY   11238   \n",
       "2                Chelsea                    Manhattan  New York    NY   10001   \n",
       "3           Williamsburg                     Brooklyn  Brooklyn    NY   11211   \n",
       "4                   SoHo                    Manhattan  New York    NY   10013   \n",
       "\n",
       "   latitude  longitude  sub_cnt_20m  sub__line_cnt_20m  \n",
       "0  40.80155  -73.97000            1                  1  \n",
       "1  40.67206  -73.96344            1                  3  \n",
       "2  40.74968  -74.00052            3                  8  \n",
       "3  40.72159  -73.96018            0                  0  \n",
       "4  40.72195  -74.00356            8                 20  "
      ]
     },
     "execution_count": 47,
     "metadata": {},
     "output_type": "execute_result"
    }
   ],
   "source": [
    "df.head()"
   ]
  },
  {
   "cell_type": "code",
   "execution_count": 48,
   "metadata": {},
   "outputs": [
    {
     "data": {
      "text/html": [
       "<div>\n",
       "<style scoped>\n",
       "    .dataframe tbody tr th:only-of-type {\n",
       "        vertical-align: middle;\n",
       "    }\n",
       "\n",
       "    .dataframe tbody tr th {\n",
       "        vertical-align: top;\n",
       "    }\n",
       "\n",
       "    .dataframe thead th {\n",
       "        text-align: right;\n",
       "    }\n",
       "</style>\n",
       "<table border=\"1\" class=\"dataframe\">\n",
       "  <thead>\n",
       "    <tr style=\"text-align: right;\">\n",
       "      <th></th>\n",
       "      <th>level_0</th>\n",
       "      <th>index</th>\n",
       "      <th>Unnamed: 0</th>\n",
       "      <th>id</th>\n",
       "      <th>latitude</th>\n",
       "      <th>longitude</th>\n",
       "      <th>sub_cnt_20m</th>\n",
       "      <th>sub__line_cnt_20m</th>\n",
       "    </tr>\n",
       "  </thead>\n",
       "  <tbody>\n",
       "    <tr>\n",
       "      <th>count</th>\n",
       "      <td>40135.000000</td>\n",
       "      <td>40135.000000</td>\n",
       "      <td>40135.000000</td>\n",
       "      <td>4.013500e+04</td>\n",
       "      <td>40135.000000</td>\n",
       "      <td>40135.000000</td>\n",
       "      <td>40135.000000</td>\n",
       "      <td>40135.000000</td>\n",
       "    </tr>\n",
       "    <tr>\n",
       "      <th>mean</th>\n",
       "      <td>20067.000000</td>\n",
       "      <td>20067.000000</td>\n",
       "      <td>470224.111524</td>\n",
       "      <td>1.915594e+07</td>\n",
       "      <td>40.728933</td>\n",
       "      <td>-73.949870</td>\n",
       "      <td>1.940227</td>\n",
       "      <td>4.180491</td>\n",
       "    </tr>\n",
       "    <tr>\n",
       "      <th>std</th>\n",
       "      <td>11586.120864</td>\n",
       "      <td>11586.120864</td>\n",
       "      <td>163672.487669</td>\n",
       "      <td>1.141606e+07</td>\n",
       "      <td>0.055234</td>\n",
       "      <td>0.049202</td>\n",
       "      <td>1.958237</td>\n",
       "      <td>5.079378</td>\n",
       "    </tr>\n",
       "    <tr>\n",
       "      <th>min</th>\n",
       "      <td>0.000000</td>\n",
       "      <td>0.000000</td>\n",
       "      <td>13.000000</td>\n",
       "      <td>2.515000e+03</td>\n",
       "      <td>40.506410</td>\n",
       "      <td>-74.244420</td>\n",
       "      <td>0.000000</td>\n",
       "      <td>0.000000</td>\n",
       "    </tr>\n",
       "    <tr>\n",
       "      <th>25%</th>\n",
       "      <td>10033.500000</td>\n",
       "      <td>10033.500000</td>\n",
       "      <td>426192.000000</td>\n",
       "      <td>9.155944e+06</td>\n",
       "      <td>40.689050</td>\n",
       "      <td>-73.983850</td>\n",
       "      <td>1.000000</td>\n",
       "      <td>1.000000</td>\n",
       "    </tr>\n",
       "    <tr>\n",
       "      <th>50%</th>\n",
       "      <td>20067.000000</td>\n",
       "      <td>20067.000000</td>\n",
       "      <td>552538.000000</td>\n",
       "      <td>2.000018e+07</td>\n",
       "      <td>40.723650</td>\n",
       "      <td>-73.954390</td>\n",
       "      <td>1.000000</td>\n",
       "      <td>3.000000</td>\n",
       "    </tr>\n",
       "    <tr>\n",
       "      <th>75%</th>\n",
       "      <td>30100.500000</td>\n",
       "      <td>30100.500000</td>\n",
       "      <td>570515.500000</td>\n",
       "      <td>2.877463e+07</td>\n",
       "      <td>40.763470</td>\n",
       "      <td>-73.932475</td>\n",
       "      <td>3.000000</td>\n",
       "      <td>5.000000</td>\n",
       "    </tr>\n",
       "    <tr>\n",
       "      <th>max</th>\n",
       "      <td>40134.000000</td>\n",
       "      <td>40134.000000</td>\n",
       "      <td>591985.000000</td>\n",
       "      <td>4.037082e+07</td>\n",
       "      <td>40.911708</td>\n",
       "      <td>-73.712990</td>\n",
       "      <td>14.000000</td>\n",
       "      <td>32.000000</td>\n",
       "    </tr>\n",
       "  </tbody>\n",
       "</table>\n",
       "</div>"
      ],
      "text/plain": [
       "            level_0         index     Unnamed: 0            id      latitude  \\\n",
       "count  40135.000000  40135.000000   40135.000000  4.013500e+04  40135.000000   \n",
       "mean   20067.000000  20067.000000  470224.111524  1.915594e+07     40.728933   \n",
       "std    11586.120864  11586.120864  163672.487669  1.141606e+07      0.055234   \n",
       "min        0.000000      0.000000      13.000000  2.515000e+03     40.506410   \n",
       "25%    10033.500000  10033.500000  426192.000000  9.155944e+06     40.689050   \n",
       "50%    20067.000000  20067.000000  552538.000000  2.000018e+07     40.723650   \n",
       "75%    30100.500000  30100.500000  570515.500000  2.877463e+07     40.763470   \n",
       "max    40134.000000  40134.000000  591985.000000  4.037082e+07     40.911708   \n",
       "\n",
       "          longitude   sub_cnt_20m  sub__line_cnt_20m  \n",
       "count  40135.000000  40135.000000       40135.000000  \n",
       "mean     -73.949870      1.940227           4.180491  \n",
       "std        0.049202      1.958237           5.079378  \n",
       "min      -74.244420      0.000000           0.000000  \n",
       "25%      -73.983850      1.000000           1.000000  \n",
       "50%      -73.954390      1.000000           3.000000  \n",
       "75%      -73.932475      3.000000           5.000000  \n",
       "max      -73.712990     14.000000          32.000000  "
      ]
     },
     "execution_count": 48,
     "metadata": {},
     "output_type": "execute_result"
    }
   ],
   "source": [
    "df.describe()"
   ]
  },
  {
   "cell_type": "code",
   "execution_count": 79,
   "metadata": {},
   "outputs": [],
   "source": [
    "df.to_csv('df_subway_stations.csv')"
   ]
  },
  {
   "cell_type": "markdown",
   "metadata": {},
   "source": [
    "### 2. Hotels"
   ]
  },
  {
   "cell_type": "code",
   "execution_count": 152,
   "metadata": {},
   "outputs": [],
   "source": [
    "hot = client.get(\"tjus-cn27\",limit=3000)\n",
    "hotels = pd.DataFrame.from_records(hot)"
   ]
  },
  {
   "cell_type": "code",
   "execution_count": 162,
   "metadata": {},
   "outputs": [
    {
     "data": {
      "text/html": [
       "<div>\n",
       "<style scoped>\n",
       "    .dataframe tbody tr th:only-of-type {\n",
       "        vertical-align: middle;\n",
       "    }\n",
       "\n",
       "    .dataframe tbody tr th {\n",
       "        vertical-align: top;\n",
       "    }\n",
       "\n",
       "    .dataframe thead th {\n",
       "        text-align: right;\n",
       "    }\n",
       "</style>\n",
       "<table border=\"1\" class=\"dataframe\">\n",
       "  <thead>\n",
       "    <tr style=\"text-align: right;\">\n",
       "      <th></th>\n",
       "      <th>level_0</th>\n",
       "      <th>index</th>\n",
       "    </tr>\n",
       "  </thead>\n",
       "  <tbody>\n",
       "    <tr>\n",
       "      <th>count</th>\n",
       "      <td>2724.000000</td>\n",
       "      <td>2724.000000</td>\n",
       "    </tr>\n",
       "    <tr>\n",
       "      <th>mean</th>\n",
       "      <td>1361.500000</td>\n",
       "      <td>1362.852423</td>\n",
       "    </tr>\n",
       "    <tr>\n",
       "      <th>std</th>\n",
       "      <td>786.495391</td>\n",
       "      <td>787.595990</td>\n",
       "    </tr>\n",
       "    <tr>\n",
       "      <th>min</th>\n",
       "      <td>0.000000</td>\n",
       "      <td>0.000000</td>\n",
       "    </tr>\n",
       "    <tr>\n",
       "      <th>25%</th>\n",
       "      <td>680.750000</td>\n",
       "      <td>681.750000</td>\n",
       "    </tr>\n",
       "    <tr>\n",
       "      <th>50%</th>\n",
       "      <td>1361.500000</td>\n",
       "      <td>1362.500000</td>\n",
       "    </tr>\n",
       "    <tr>\n",
       "      <th>75%</th>\n",
       "      <td>2042.250000</td>\n",
       "      <td>2043.250000</td>\n",
       "    </tr>\n",
       "    <tr>\n",
       "      <th>max</th>\n",
       "      <td>2723.000000</td>\n",
       "      <td>2730.000000</td>\n",
       "    </tr>\n",
       "  </tbody>\n",
       "</table>\n",
       "</div>"
      ],
      "text/plain": [
       "           level_0        index\n",
       "count  2724.000000  2724.000000\n",
       "mean   1361.500000  1362.852423\n",
       "std     786.495391   787.595990\n",
       "min       0.000000     0.000000\n",
       "25%     680.750000   681.750000\n",
       "50%    1361.500000  1362.500000\n",
       "75%    2042.250000  2043.250000\n",
       "max    2723.000000  2730.000000"
      ]
     },
     "execution_count": 162,
     "metadata": {},
     "output_type": "execute_result"
    }
   ],
   "source": [
    "hotels.describe()"
   ]
  },
  {
   "cell_type": "code",
   "execution_count": 160,
   "metadata": {},
   "outputs": [],
   "source": [
    "hotels = hotels[pd.notnull(hotels['latitude'])]\n",
    "hotels = hotels[pd.notnull(hotels['longitude'])].reset_index()"
   ]
  },
  {
   "cell_type": "code",
   "execution_count": 161,
   "metadata": {},
   "outputs": [
    {
     "data": {
      "text/plain": [
       "34"
      ]
     },
     "execution_count": 161,
     "metadata": {},
     "output_type": "execute_result"
    }
   ],
   "source": [
    "miles = 0.2\n",
    "\n",
    "def count_hotels(df_coord,miles):\n",
    "    cnt = 0\n",
    "    line_cnt = 0\n",
    "    for i in range(len(hotels)):\n",
    "        x = (hotels['longitude'][i],hotels['latitude'][i])\n",
    "        if geopy.distance.geodesic(df_coord,x).miles < miles:\n",
    "                cnt += 1\n",
    "    return(cnt)\n",
    "\n",
    "count_hotels(df_coord,0.2)"
   ]
  },
  {
   "cell_type": "markdown",
   "metadata": {},
   "source": [
    "hotel_cols = []\n",
    "miles = 0.2\n",
    "\n",
    "for i in range(len(df)):\n",
    "    df_coord = (df.longitude[i],df.latitude[i])\n",
    "    hotel_cols.append(count_hotels(df_coord,miles))\n",
    "    "
   ]
  },
  {
   "cell_type": "code",
   "execution_count": 163,
   "metadata": {},
   "outputs": [
    {
     "data": {
      "text/html": [
       "<div>\n",
       "<style scoped>\n",
       "    .dataframe tbody tr th:only-of-type {\n",
       "        vertical-align: middle;\n",
       "    }\n",
       "\n",
       "    .dataframe tbody tr th {\n",
       "        vertical-align: top;\n",
       "    }\n",
       "\n",
       "    .dataframe thead th {\n",
       "        text-align: right;\n",
       "    }\n",
       "</style>\n",
       "<table border=\"1\" class=\"dataframe\">\n",
       "  <thead>\n",
       "    <tr style=\"text-align: right;\">\n",
       "      <th></th>\n",
       "      <th>level_0</th>\n",
       "      <th>index</th>\n",
       "      <th>Unnamed: 0</th>\n",
       "      <th>id</th>\n",
       "      <th>last_scraped</th>\n",
       "      <th>neighbourhood</th>\n",
       "      <th>neighbourhood_cleansed</th>\n",
       "      <th>neighbourhood_group_cleansed</th>\n",
       "      <th>city</th>\n",
       "      <th>state</th>\n",
       "      <th>zipcode</th>\n",
       "      <th>latitude</th>\n",
       "      <th>longitude</th>\n",
       "      <th>sub_cnt_20m</th>\n",
       "      <th>sub__line_cnt_20m</th>\n",
       "    </tr>\n",
       "  </thead>\n",
       "  <tbody>\n",
       "    <tr>\n",
       "      <th>0</th>\n",
       "      <td>0</td>\n",
       "      <td>0</td>\n",
       "      <td>13</td>\n",
       "      <td>5435.0</td>\n",
       "      <td>2019-03-07</td>\n",
       "      <td>Manhattan</td>\n",
       "      <td>Upper West Side</td>\n",
       "      <td>Manhattan</td>\n",
       "      <td>New York</td>\n",
       "      <td>NY</td>\n",
       "      <td>10025</td>\n",
       "      <td>40.80155</td>\n",
       "      <td>-73.97000</td>\n",
       "      <td>1</td>\n",
       "      <td>1</td>\n",
       "    </tr>\n",
       "    <tr>\n",
       "      <th>1</th>\n",
       "      <td>1</td>\n",
       "      <td>1</td>\n",
       "      <td>96</td>\n",
       "      <td>20311.0</td>\n",
       "      <td>2019-03-07</td>\n",
       "      <td>Brooklyn</td>\n",
       "      <td>Prospect Heights</td>\n",
       "      <td>Brooklyn</td>\n",
       "      <td>Brooklyn</td>\n",
       "      <td>NY</td>\n",
       "      <td>11238</td>\n",
       "      <td>40.67206</td>\n",
       "      <td>-73.96344</td>\n",
       "      <td>1</td>\n",
       "      <td>3</td>\n",
       "    </tr>\n",
       "    <tr>\n",
       "      <th>2</th>\n",
       "      <td>2</td>\n",
       "      <td>2</td>\n",
       "      <td>132</td>\n",
       "      <td>27024.0</td>\n",
       "      <td>2019-03-07</td>\n",
       "      <td>Chelsea</td>\n",
       "      <td>Chelsea</td>\n",
       "      <td>Manhattan</td>\n",
       "      <td>New York</td>\n",
       "      <td>NY</td>\n",
       "      <td>10001</td>\n",
       "      <td>40.74968</td>\n",
       "      <td>-74.00052</td>\n",
       "      <td>3</td>\n",
       "      <td>8</td>\n",
       "    </tr>\n",
       "    <tr>\n",
       "      <th>3</th>\n",
       "      <td>3</td>\n",
       "      <td>3</td>\n",
       "      <td>268</td>\n",
       "      <td>62264.0</td>\n",
       "      <td>2019-03-07</td>\n",
       "      <td>Williamsburg</td>\n",
       "      <td>Williamsburg</td>\n",
       "      <td>Brooklyn</td>\n",
       "      <td>Brooklyn</td>\n",
       "      <td>NY</td>\n",
       "      <td>11211</td>\n",
       "      <td>40.72159</td>\n",
       "      <td>-73.96018</td>\n",
       "      <td>0</td>\n",
       "      <td>0</td>\n",
       "    </tr>\n",
       "    <tr>\n",
       "      <th>4</th>\n",
       "      <td>4</td>\n",
       "      <td>4</td>\n",
       "      <td>324</td>\n",
       "      <td>70381.0</td>\n",
       "      <td>2019-03-07</td>\n",
       "      <td>Soho</td>\n",
       "      <td>SoHo</td>\n",
       "      <td>Manhattan</td>\n",
       "      <td>New York</td>\n",
       "      <td>NY</td>\n",
       "      <td>10013</td>\n",
       "      <td>40.72195</td>\n",
       "      <td>-74.00356</td>\n",
       "      <td>8</td>\n",
       "      <td>20</td>\n",
       "    </tr>\n",
       "  </tbody>\n",
       "</table>\n",
       "</div>"
      ],
      "text/plain": [
       "   level_0  index  Unnamed: 0       id last_scraped neighbourhood  \\\n",
       "0        0      0          13   5435.0   2019-03-07     Manhattan   \n",
       "1        1      1          96  20311.0   2019-03-07      Brooklyn   \n",
       "2        2      2         132  27024.0   2019-03-07       Chelsea   \n",
       "3        3      3         268  62264.0   2019-03-07  Williamsburg   \n",
       "4        4      4         324  70381.0   2019-03-07          Soho   \n",
       "\n",
       "  neighbourhood_cleansed neighbourhood_group_cleansed      city state zipcode  \\\n",
       "0        Upper West Side                    Manhattan  New York    NY   10025   \n",
       "1       Prospect Heights                     Brooklyn  Brooklyn    NY   11238   \n",
       "2                Chelsea                    Manhattan  New York    NY   10001   \n",
       "3           Williamsburg                     Brooklyn  Brooklyn    NY   11211   \n",
       "4                   SoHo                    Manhattan  New York    NY   10013   \n",
       "\n",
       "   latitude  longitude  sub_cnt_20m  sub__line_cnt_20m  \n",
       "0  40.80155  -73.97000            1                  1  \n",
       "1  40.67206  -73.96344            1                  3  \n",
       "2  40.74968  -74.00052            3                  8  \n",
       "3  40.72159  -73.96018            0                  0  \n",
       "4  40.72195  -74.00356            8                 20  "
      ]
     },
     "execution_count": 163,
     "metadata": {},
     "output_type": "execute_result"
    }
   ],
   "source": [
    "df.head()"
   ]
  },
  {
   "cell_type": "code",
   "execution_count": null,
   "metadata": {},
   "outputs": [],
   "source": []
  },
  {
   "cell_type": "code",
   "execution_count": null,
   "metadata": {},
   "outputs": [],
   "source": []
  },
  {
   "cell_type": "code",
   "execution_count": null,
   "metadata": {},
   "outputs": [],
   "source": []
  },
  {
   "cell_type": "code",
   "execution_count": null,
   "metadata": {},
   "outputs": [],
   "source": []
  },
  {
   "cell_type": "code",
   "execution_count": null,
   "metadata": {},
   "outputs": [],
   "source": []
  },
  {
   "cell_type": "code",
   "execution_count": null,
   "metadata": {},
   "outputs": [],
   "source": []
  },
  {
   "cell_type": "code",
   "execution_count": 103,
   "metadata": {},
   "outputs": [
    {
     "data": {
      "text/html": [
       "<div>\n",
       "<style scoped>\n",
       "    .dataframe tbody tr th:only-of-type {\n",
       "        vertical-align: middle;\n",
       "    }\n",
       "\n",
       "    .dataframe tbody tr th {\n",
       "        vertical-align: top;\n",
       "    }\n",
       "\n",
       "    .dataframe thead th {\n",
       "        text-align: right;\n",
       "    }\n",
       "</style>\n",
       "<table border=\"1\" class=\"dataframe\">\n",
       "  <thead>\n",
       "    <tr style=\"text-align: right;\">\n",
       "      <th></th>\n",
       "      <th>postcode</th>\n",
       "      <th>count_hotel</th>\n",
       "    </tr>\n",
       "  </thead>\n",
       "  <tbody>\n",
       "    <tr>\n",
       "      <th>0</th>\n",
       "      <td>0</td>\n",
       "      <td>0</td>\n",
       "    </tr>\n",
       "    <tr>\n",
       "      <th>1</th>\n",
       "      <td>10001</td>\n",
       "      <td>66</td>\n",
       "    </tr>\n",
       "    <tr>\n",
       "      <th>2</th>\n",
       "      <td>10002</td>\n",
       "      <td>35</td>\n",
       "    </tr>\n",
       "    <tr>\n",
       "      <th>3</th>\n",
       "      <td>10003</td>\n",
       "      <td>39</td>\n",
       "    </tr>\n",
       "    <tr>\n",
       "      <th>4</th>\n",
       "      <td>10004</td>\n",
       "      <td>6</td>\n",
       "    </tr>\n",
       "    <tr>\n",
       "      <th>...</th>\n",
       "      <td>...</td>\n",
       "      <td>...</td>\n",
       "    </tr>\n",
       "    <tr>\n",
       "      <th>129</th>\n",
       "      <td>11434</td>\n",
       "      <td>14</td>\n",
       "    </tr>\n",
       "    <tr>\n",
       "      <th>130</th>\n",
       "      <td>11435</td>\n",
       "      <td>20</td>\n",
       "    </tr>\n",
       "    <tr>\n",
       "      <th>131</th>\n",
       "      <td>11436</td>\n",
       "      <td>6</td>\n",
       "    </tr>\n",
       "    <tr>\n",
       "      <th>132</th>\n",
       "      <td>11691</td>\n",
       "      <td>4</td>\n",
       "    </tr>\n",
       "    <tr>\n",
       "      <th>133</th>\n",
       "      <td>11694</td>\n",
       "      <td>3</td>\n",
       "    </tr>\n",
       "  </tbody>\n",
       "</table>\n",
       "<p>134 rows × 2 columns</p>\n",
       "</div>"
      ],
      "text/plain": [
       "    postcode  count_hotel\n",
       "0          0            0\n",
       "1      10001           66\n",
       "2      10002           35\n",
       "3      10003           39\n",
       "4      10004            6\n",
       "..       ...          ...\n",
       "129    11434           14\n",
       "130    11435           20\n",
       "131    11436            6\n",
       "132    11691            4\n",
       "133    11694            3\n",
       "\n",
       "[134 rows x 2 columns]"
      ]
     },
     "execution_count": 103,
     "metadata": {},
     "output_type": "execute_result"
    }
   ],
   "source": [
    "hotels_zip = hotels[['postcode','borough']].groupby(['postcode']).count().reset_index()\n",
    "hotels_zip.columns =['postcode','count_hotel']\n",
    "hotels_zip"
   ]
  },
  {
   "cell_type": "code",
   "execution_count": 111,
   "metadata": {},
   "outputs": [
    {
     "data": {
      "text/html": [
       "<div>\n",
       "<style scoped>\n",
       "    .dataframe tbody tr th:only-of-type {\n",
       "        vertical-align: middle;\n",
       "    }\n",
       "\n",
       "    .dataframe tbody tr th {\n",
       "        vertical-align: top;\n",
       "    }\n",
       "\n",
       "    .dataframe thead th {\n",
       "        text-align: right;\n",
       "    }\n",
       "</style>\n",
       "<table border=\"1\" class=\"dataframe\">\n",
       "  <thead>\n",
       "    <tr style=\"text-align: right;\">\n",
       "      <th></th>\n",
       "      <th>level_0</th>\n",
       "      <th>index</th>\n",
       "      <th>Unnamed: 0</th>\n",
       "      <th>id</th>\n",
       "      <th>last_scraped</th>\n",
       "      <th>neighbourhood</th>\n",
       "      <th>neighbourhood_cleansed</th>\n",
       "      <th>neighbourhood_group_cleansed</th>\n",
       "      <th>city</th>\n",
       "      <th>state</th>\n",
       "      <th>zipcode</th>\n",
       "      <th>latitude</th>\n",
       "      <th>longitude</th>\n",
       "      <th>sub_cnt_20m</th>\n",
       "      <th>sub__line_cnt_20m</th>\n",
       "      <th>postcode</th>\n",
       "      <th>count_hotel</th>\n",
       "    </tr>\n",
       "  </thead>\n",
       "  <tbody>\n",
       "    <tr>\n",
       "      <th>0</th>\n",
       "      <td>0</td>\n",
       "      <td>0</td>\n",
       "      <td>13</td>\n",
       "      <td>5435.0</td>\n",
       "      <td>2019-03-07</td>\n",
       "      <td>Manhattan</td>\n",
       "      <td>Upper West Side</td>\n",
       "      <td>Manhattan</td>\n",
       "      <td>New York</td>\n",
       "      <td>NY</td>\n",
       "      <td>10025</td>\n",
       "      <td>40.80155</td>\n",
       "      <td>-73.97000</td>\n",
       "      <td>1</td>\n",
       "      <td>1</td>\n",
       "      <td>10025</td>\n",
       "      <td>49.0</td>\n",
       "    </tr>\n",
       "    <tr>\n",
       "      <th>1</th>\n",
       "      <td>1</td>\n",
       "      <td>1</td>\n",
       "      <td>96</td>\n",
       "      <td>20311.0</td>\n",
       "      <td>2019-03-07</td>\n",
       "      <td>Brooklyn</td>\n",
       "      <td>Prospect Heights</td>\n",
       "      <td>Brooklyn</td>\n",
       "      <td>Brooklyn</td>\n",
       "      <td>NY</td>\n",
       "      <td>11238</td>\n",
       "      <td>40.67206</td>\n",
       "      <td>-73.96344</td>\n",
       "      <td>1</td>\n",
       "      <td>3</td>\n",
       "      <td>11238</td>\n",
       "      <td>3.0</td>\n",
       "    </tr>\n",
       "    <tr>\n",
       "      <th>2</th>\n",
       "      <td>2</td>\n",
       "      <td>2</td>\n",
       "      <td>132</td>\n",
       "      <td>27024.0</td>\n",
       "      <td>2019-03-07</td>\n",
       "      <td>Chelsea</td>\n",
       "      <td>Chelsea</td>\n",
       "      <td>Manhattan</td>\n",
       "      <td>New York</td>\n",
       "      <td>NY</td>\n",
       "      <td>10001</td>\n",
       "      <td>40.74968</td>\n",
       "      <td>-74.00052</td>\n",
       "      <td>3</td>\n",
       "      <td>8</td>\n",
       "      <td>10001</td>\n",
       "      <td>66.0</td>\n",
       "    </tr>\n",
       "    <tr>\n",
       "      <th>3</th>\n",
       "      <td>3</td>\n",
       "      <td>3</td>\n",
       "      <td>268</td>\n",
       "      <td>62264.0</td>\n",
       "      <td>2019-03-07</td>\n",
       "      <td>Williamsburg</td>\n",
       "      <td>Williamsburg</td>\n",
       "      <td>Brooklyn</td>\n",
       "      <td>Brooklyn</td>\n",
       "      <td>NY</td>\n",
       "      <td>11211</td>\n",
       "      <td>40.72159</td>\n",
       "      <td>-73.96018</td>\n",
       "      <td>0</td>\n",
       "      <td>0</td>\n",
       "      <td>11211</td>\n",
       "      <td>12.0</td>\n",
       "    </tr>\n",
       "    <tr>\n",
       "      <th>4</th>\n",
       "      <td>4</td>\n",
       "      <td>4</td>\n",
       "      <td>324</td>\n",
       "      <td>70381.0</td>\n",
       "      <td>2019-03-07</td>\n",
       "      <td>Soho</td>\n",
       "      <td>SoHo</td>\n",
       "      <td>Manhattan</td>\n",
       "      <td>New York</td>\n",
       "      <td>NY</td>\n",
       "      <td>10013</td>\n",
       "      <td>40.72195</td>\n",
       "      <td>-74.00356</td>\n",
       "      <td>8</td>\n",
       "      <td>20</td>\n",
       "      <td>10013</td>\n",
       "      <td>419.0</td>\n",
       "    </tr>\n",
       "  </tbody>\n",
       "</table>\n",
       "</div>"
      ],
      "text/plain": [
       "   level_0  index  Unnamed: 0       id last_scraped neighbourhood  \\\n",
       "0        0      0          13   5435.0   2019-03-07     Manhattan   \n",
       "1        1      1          96  20311.0   2019-03-07      Brooklyn   \n",
       "2        2      2         132  27024.0   2019-03-07       Chelsea   \n",
       "3        3      3         268  62264.0   2019-03-07  Williamsburg   \n",
       "4        4      4         324  70381.0   2019-03-07          Soho   \n",
       "\n",
       "  neighbourhood_cleansed neighbourhood_group_cleansed      city state zipcode  \\\n",
       "0        Upper West Side                    Manhattan  New York    NY   10025   \n",
       "1       Prospect Heights                     Brooklyn  Brooklyn    NY   11238   \n",
       "2                Chelsea                    Manhattan  New York    NY   10001   \n",
       "3           Williamsburg                     Brooklyn  Brooklyn    NY   11211   \n",
       "4                   SoHo                    Manhattan  New York    NY   10013   \n",
       "\n",
       "   latitude  longitude  sub_cnt_20m  sub__line_cnt_20m postcode  count_hotel  \n",
       "0  40.80155  -73.97000            1                  1    10025         49.0  \n",
       "1  40.67206  -73.96344            1                  3    11238          3.0  \n",
       "2  40.74968  -74.00052            3                  8    10001         66.0  \n",
       "3  40.72159  -73.96018            0                  0    11211         12.0  \n",
       "4  40.72195  -74.00356            8                 20    10013        419.0  "
      ]
     },
     "execution_count": 111,
     "metadata": {},
     "output_type": "execute_result"
    }
   ],
   "source": [
    "df_sub_hotel = df.merge(hotels_zip,left_on='zipcode',right_on='postcode',how='left')\n",
    "df_sub_hotel.head()"
   ]
  },
  {
   "cell_type": "code",
   "execution_count": 112,
   "metadata": {},
   "outputs": [
    {
     "data": {
      "text/html": [
       "<div>\n",
       "<style scoped>\n",
       "    .dataframe tbody tr th:only-of-type {\n",
       "        vertical-align: middle;\n",
       "    }\n",
       "\n",
       "    .dataframe tbody tr th {\n",
       "        vertical-align: top;\n",
       "    }\n",
       "\n",
       "    .dataframe thead th {\n",
       "        text-align: right;\n",
       "    }\n",
       "</style>\n",
       "<table border=\"1\" class=\"dataframe\">\n",
       "  <thead>\n",
       "    <tr style=\"text-align: right;\">\n",
       "      <th></th>\n",
       "      <th>level_0</th>\n",
       "      <th>index</th>\n",
       "      <th>Unnamed: 0</th>\n",
       "      <th>id</th>\n",
       "      <th>latitude</th>\n",
       "      <th>longitude</th>\n",
       "      <th>sub_cnt_20m</th>\n",
       "      <th>sub__line_cnt_20m</th>\n",
       "      <th>count_hotel</th>\n",
       "    </tr>\n",
       "  </thead>\n",
       "  <tbody>\n",
       "    <tr>\n",
       "      <th>count</th>\n",
       "      <td>40135.000000</td>\n",
       "      <td>40135.000000</td>\n",
       "      <td>40135.000000</td>\n",
       "      <td>4.013500e+04</td>\n",
       "      <td>40135.000000</td>\n",
       "      <td>40135.000000</td>\n",
       "      <td>40135.000000</td>\n",
       "      <td>40135.000000</td>\n",
       "      <td>33844.000000</td>\n",
       "    </tr>\n",
       "    <tr>\n",
       "      <th>mean</th>\n",
       "      <td>20067.000000</td>\n",
       "      <td>20067.000000</td>\n",
       "      <td>470224.111524</td>\n",
       "      <td>1.915594e+07</td>\n",
       "      <td>40.728933</td>\n",
       "      <td>-73.949870</td>\n",
       "      <td>1.940227</td>\n",
       "      <td>4.180491</td>\n",
       "      <td>37.788943</td>\n",
       "    </tr>\n",
       "    <tr>\n",
       "      <th>std</th>\n",
       "      <td>11586.120864</td>\n",
       "      <td>11586.120864</td>\n",
       "      <td>163672.487669</td>\n",
       "      <td>1.141606e+07</td>\n",
       "      <td>0.055234</td>\n",
       "      <td>0.049202</td>\n",
       "      <td>1.958237</td>\n",
       "      <td>5.079378</td>\n",
       "      <td>99.495395</td>\n",
       "    </tr>\n",
       "    <tr>\n",
       "      <th>min</th>\n",
       "      <td>0.000000</td>\n",
       "      <td>0.000000</td>\n",
       "      <td>13.000000</td>\n",
       "      <td>2.515000e+03</td>\n",
       "      <td>40.506410</td>\n",
       "      <td>-74.244420</td>\n",
       "      <td>0.000000</td>\n",
       "      <td>0.000000</td>\n",
       "      <td>0.000000</td>\n",
       "    </tr>\n",
       "    <tr>\n",
       "      <th>25%</th>\n",
       "      <td>10033.500000</td>\n",
       "      <td>10033.500000</td>\n",
       "      <td>426192.000000</td>\n",
       "      <td>9.155944e+06</td>\n",
       "      <td>40.689050</td>\n",
       "      <td>-73.983850</td>\n",
       "      <td>1.000000</td>\n",
       "      <td>1.000000</td>\n",
       "      <td>3.000000</td>\n",
       "    </tr>\n",
       "    <tr>\n",
       "      <th>50%</th>\n",
       "      <td>20067.000000</td>\n",
       "      <td>20067.000000</td>\n",
       "      <td>552538.000000</td>\n",
       "      <td>2.000018e+07</td>\n",
       "      <td>40.723650</td>\n",
       "      <td>-73.954390</td>\n",
       "      <td>1.000000</td>\n",
       "      <td>3.000000</td>\n",
       "      <td>6.000000</td>\n",
       "    </tr>\n",
       "    <tr>\n",
       "      <th>75%</th>\n",
       "      <td>30100.500000</td>\n",
       "      <td>30100.500000</td>\n",
       "      <td>570515.500000</td>\n",
       "      <td>2.877463e+07</td>\n",
       "      <td>40.763470</td>\n",
       "      <td>-73.932475</td>\n",
       "      <td>3.000000</td>\n",
       "      <td>5.000000</td>\n",
       "      <td>20.000000</td>\n",
       "    </tr>\n",
       "    <tr>\n",
       "      <th>max</th>\n",
       "      <td>40134.000000</td>\n",
       "      <td>40134.000000</td>\n",
       "      <td>591985.000000</td>\n",
       "      <td>4.037082e+07</td>\n",
       "      <td>40.911708</td>\n",
       "      <td>-73.712990</td>\n",
       "      <td>14.000000</td>\n",
       "      <td>32.000000</td>\n",
       "      <td>517.000000</td>\n",
       "    </tr>\n",
       "  </tbody>\n",
       "</table>\n",
       "</div>"
      ],
      "text/plain": [
       "            level_0         index     Unnamed: 0            id      latitude  \\\n",
       "count  40135.000000  40135.000000   40135.000000  4.013500e+04  40135.000000   \n",
       "mean   20067.000000  20067.000000  470224.111524  1.915594e+07     40.728933   \n",
       "std    11586.120864  11586.120864  163672.487669  1.141606e+07      0.055234   \n",
       "min        0.000000      0.000000      13.000000  2.515000e+03     40.506410   \n",
       "25%    10033.500000  10033.500000  426192.000000  9.155944e+06     40.689050   \n",
       "50%    20067.000000  20067.000000  552538.000000  2.000018e+07     40.723650   \n",
       "75%    30100.500000  30100.500000  570515.500000  2.877463e+07     40.763470   \n",
       "max    40134.000000  40134.000000  591985.000000  4.037082e+07     40.911708   \n",
       "\n",
       "          longitude   sub_cnt_20m  sub__line_cnt_20m   count_hotel  \n",
       "count  40135.000000  40135.000000       40135.000000  33844.000000  \n",
       "mean     -73.949870      1.940227           4.180491     37.788943  \n",
       "std        0.049202      1.958237           5.079378     99.495395  \n",
       "min      -74.244420      0.000000           0.000000      0.000000  \n",
       "25%      -73.983850      1.000000           1.000000      3.000000  \n",
       "50%      -73.954390      1.000000           3.000000      6.000000  \n",
       "75%      -73.932475      3.000000           5.000000     20.000000  \n",
       "max      -73.712990     14.000000          32.000000    517.000000  "
      ]
     },
     "execution_count": 112,
     "metadata": {},
     "output_type": "execute_result"
    }
   ],
   "source": [
    "df_sub_hotel.describe()"
   ]
  },
  {
   "cell_type": "code",
   "execution_count": 114,
   "metadata": {},
   "outputs": [
    {
     "data": {
      "text/plain": [
       "40135"
      ]
     },
     "execution_count": 114,
     "metadata": {},
     "output_type": "execute_result"
    }
   ],
   "source": [
    "df_sub_hotel.id.nunique()"
   ]
  },
  {
   "cell_type": "code",
   "execution_count": 170,
   "metadata": {},
   "outputs": [],
   "source": [
    "df_sub_hotel.to_csv('df_subway_stations_hotels.csv')"
   ]
  },
  {
   "cell_type": "code",
   "execution_count": 126,
   "metadata": {},
   "outputs": [
    {
     "data": {
      "text/plain": [
       "6291"
      ]
     },
     "execution_count": 126,
     "metadata": {},
     "output_type": "execute_result"
    }
   ],
   "source": [
    "df_sub_hotel.count_hotel.isna().sum()"
   ]
  },
  {
   "cell_type": "code",
   "execution_count": 168,
   "metadata": {},
   "outputs": [
    {
     "data": {
      "text/plain": [
       "6608"
      ]
     },
     "execution_count": 168,
     "metadata": {},
     "output_type": "execute_result"
    }
   ],
   "source": [
    "miss_count = df_sub_hotel[(df_sub_hotel.count_hotel.isna()) | (df_sub_hotel['count_hotel']==0)]\n",
    "len(miss_count)"
   ]
  },
  {
   "cell_type": "code",
   "execution_count": 140,
   "metadata": {},
   "outputs": [
    {
     "data": {
      "text/plain": [
       "10009         911\n",
       "11385         317\n",
       "11102         249\n",
       "11105         199\n",
       "11236         167\n",
       "             ... \n",
       "10174.0         1\n",
       "11433.0         1\n",
       "11378.0         1\n",
       "11385-2308      1\n",
       "11417.0         1\n",
       "Name: zipcode, Length: 210, dtype: int64"
      ]
     },
     "execution_count": 140,
     "metadata": {},
     "output_type": "execute_result"
    }
   ],
   "source": [
    "df_sub_hotel[(df_sub_hotel.count_hotel.isna()) | (df_sub_hotel['count_hotel']==0)].zipcode.value_counts()"
   ]
  },
  {
   "cell_type": "code",
   "execution_count": 141,
   "metadata": {},
   "outputs": [
    {
     "data": {
      "text/plain": [
       "Manhattan              1263\n",
       "Queens                  918\n",
       "Brooklyn                532\n",
       "East Village            363\n",
       "Alphabet City           243\n",
       "                       ... \n",
       "Huguenot                  1\n",
       "Pleasant Plains           1\n",
       "Brighton Beach            1\n",
       "Kingsbridge Heights       1\n",
       "Eltingville               1\n",
       "Name: neighbourhood, Length: 152, dtype: int64"
      ]
     },
     "execution_count": 141,
     "metadata": {},
     "output_type": "execute_result"
    }
   ],
   "source": [
    "df_sub_hotel[(df_sub_hotel.count_hotel.isna()) | (df_sub_hotel['count_hotel']==0)].neighbourhood.value_counts()"
   ]
  },
  {
   "cell_type": "code",
   "execution_count": 169,
   "metadata": {},
   "outputs": [
    {
     "data": {
      "text/html": [
       "<div>\n",
       "<style scoped>\n",
       "    .dataframe tbody tr th:only-of-type {\n",
       "        vertical-align: middle;\n",
       "    }\n",
       "\n",
       "    .dataframe tbody tr th {\n",
       "        vertical-align: top;\n",
       "    }\n",
       "\n",
       "    .dataframe thead th {\n",
       "        text-align: right;\n",
       "    }\n",
       "</style>\n",
       "<table border=\"1\" class=\"dataframe\">\n",
       "  <thead>\n",
       "    <tr style=\"text-align: right;\">\n",
       "      <th></th>\n",
       "      <th>level_0</th>\n",
       "      <th>index</th>\n",
       "      <th>Unnamed: 0</th>\n",
       "      <th>id</th>\n",
       "      <th>last_scraped</th>\n",
       "      <th>neighbourhood</th>\n",
       "      <th>neighbourhood_cleansed</th>\n",
       "      <th>neighbourhood_group_cleansed</th>\n",
       "      <th>city</th>\n",
       "      <th>state</th>\n",
       "      <th>zipcode</th>\n",
       "      <th>latitude</th>\n",
       "      <th>longitude</th>\n",
       "      <th>sub_cnt_20m</th>\n",
       "      <th>sub__line_cnt_20m</th>\n",
       "      <th>postcode</th>\n",
       "      <th>count_hotel</th>\n",
       "    </tr>\n",
       "  </thead>\n",
       "  <tbody>\n",
       "    <tr>\n",
       "      <th>0</th>\n",
       "      <td>0</td>\n",
       "      <td>0</td>\n",
       "      <td>13</td>\n",
       "      <td>5435.0</td>\n",
       "      <td>2019-03-07</td>\n",
       "      <td>Manhattan</td>\n",
       "      <td>Upper West Side</td>\n",
       "      <td>Manhattan</td>\n",
       "      <td>New York</td>\n",
       "      <td>NY</td>\n",
       "      <td>10025</td>\n",
       "      <td>40.80155</td>\n",
       "      <td>-73.97000</td>\n",
       "      <td>1</td>\n",
       "      <td>1</td>\n",
       "      <td>10025</td>\n",
       "      <td>49.0</td>\n",
       "    </tr>\n",
       "    <tr>\n",
       "      <th>1</th>\n",
       "      <td>1</td>\n",
       "      <td>1</td>\n",
       "      <td>96</td>\n",
       "      <td>20311.0</td>\n",
       "      <td>2019-03-07</td>\n",
       "      <td>Brooklyn</td>\n",
       "      <td>Prospect Heights</td>\n",
       "      <td>Brooklyn</td>\n",
       "      <td>Brooklyn</td>\n",
       "      <td>NY</td>\n",
       "      <td>11238</td>\n",
       "      <td>40.67206</td>\n",
       "      <td>-73.96344</td>\n",
       "      <td>1</td>\n",
       "      <td>3</td>\n",
       "      <td>11238</td>\n",
       "      <td>3.0</td>\n",
       "    </tr>\n",
       "    <tr>\n",
       "      <th>2</th>\n",
       "      <td>2</td>\n",
       "      <td>2</td>\n",
       "      <td>132</td>\n",
       "      <td>27024.0</td>\n",
       "      <td>2019-03-07</td>\n",
       "      <td>Chelsea</td>\n",
       "      <td>Chelsea</td>\n",
       "      <td>Manhattan</td>\n",
       "      <td>New York</td>\n",
       "      <td>NY</td>\n",
       "      <td>10001</td>\n",
       "      <td>40.74968</td>\n",
       "      <td>-74.00052</td>\n",
       "      <td>3</td>\n",
       "      <td>8</td>\n",
       "      <td>10001</td>\n",
       "      <td>66.0</td>\n",
       "    </tr>\n",
       "    <tr>\n",
       "      <th>3</th>\n",
       "      <td>3</td>\n",
       "      <td>3</td>\n",
       "      <td>268</td>\n",
       "      <td>62264.0</td>\n",
       "      <td>2019-03-07</td>\n",
       "      <td>Williamsburg</td>\n",
       "      <td>Williamsburg</td>\n",
       "      <td>Brooklyn</td>\n",
       "      <td>Brooklyn</td>\n",
       "      <td>NY</td>\n",
       "      <td>11211</td>\n",
       "      <td>40.72159</td>\n",
       "      <td>-73.96018</td>\n",
       "      <td>0</td>\n",
       "      <td>0</td>\n",
       "      <td>11211</td>\n",
       "      <td>12.0</td>\n",
       "    </tr>\n",
       "    <tr>\n",
       "      <th>4</th>\n",
       "      <td>4</td>\n",
       "      <td>4</td>\n",
       "      <td>324</td>\n",
       "      <td>70381.0</td>\n",
       "      <td>2019-03-07</td>\n",
       "      <td>Soho</td>\n",
       "      <td>SoHo</td>\n",
       "      <td>Manhattan</td>\n",
       "      <td>New York</td>\n",
       "      <td>NY</td>\n",
       "      <td>10013</td>\n",
       "      <td>40.72195</td>\n",
       "      <td>-74.00356</td>\n",
       "      <td>8</td>\n",
       "      <td>20</td>\n",
       "      <td>10013</td>\n",
       "      <td>419.0</td>\n",
       "    </tr>\n",
       "  </tbody>\n",
       "</table>\n",
       "</div>"
      ],
      "text/plain": [
       "   level_0  index  Unnamed: 0       id last_scraped neighbourhood  \\\n",
       "0        0      0          13   5435.0   2019-03-07     Manhattan   \n",
       "1        1      1          96  20311.0   2019-03-07      Brooklyn   \n",
       "2        2      2         132  27024.0   2019-03-07       Chelsea   \n",
       "3        3      3         268  62264.0   2019-03-07  Williamsburg   \n",
       "4        4      4         324  70381.0   2019-03-07          Soho   \n",
       "\n",
       "  neighbourhood_cleansed neighbourhood_group_cleansed      city state zipcode  \\\n",
       "0        Upper West Side                    Manhattan  New York    NY   10025   \n",
       "1       Prospect Heights                     Brooklyn  Brooklyn    NY   11238   \n",
       "2                Chelsea                    Manhattan  New York    NY   10001   \n",
       "3           Williamsburg                     Brooklyn  Brooklyn    NY   11211   \n",
       "4                   SoHo                    Manhattan  New York    NY   10013   \n",
       "\n",
       "   latitude  longitude  sub_cnt_20m  sub__line_cnt_20m postcode  count_hotel  \n",
       "0  40.80155  -73.97000            1                  1    10025         49.0  \n",
       "1  40.67206  -73.96344            1                  3    11238          3.0  \n",
       "2  40.74968  -74.00052            3                  8    10001         66.0  \n",
       "3  40.72159  -73.96018            0                  0    11211         12.0  \n",
       "4  40.72195  -74.00356            8                 20    10013        419.0  "
      ]
     },
     "execution_count": 169,
     "metadata": {},
     "output_type": "execute_result"
    }
   ],
   "source": [
    "df_sub_hotel.head()"
   ]
  },
  {
   "cell_type": "code",
   "execution_count": null,
   "metadata": {},
   "outputs": [],
   "source": []
  },
  {
   "cell_type": "code",
   "execution_count": null,
   "metadata": {},
   "outputs": [],
   "source": []
  },
  {
   "cell_type": "code",
   "execution_count": 129,
   "metadata": {},
   "outputs": [
    {
     "data": {
      "text/plain": [
       "Queens       163\n",
       "Ridgewood    126\n",
       "Glendale      21\n",
       "Brooklyn       4\n",
       "Bushwick       2\n",
       "Name: neighbourhood, dtype: int64"
      ]
     },
     "execution_count": 129,
     "metadata": {},
     "output_type": "execute_result"
    }
   ],
   "source": [
    "df_sub_hotel[df_sub_hotel['count_hotel']==0].neighbourhood.value_counts()"
   ]
  },
  {
   "cell_type": "code",
   "execution_count": 124,
   "metadata": {},
   "outputs": [
    {
     "data": {
      "text/plain": [
       "Queens                   242\n",
       "Ridgewood                 24\n",
       "New York                  14\n",
       "Ridgewood                 11\n",
       "Brooklyn                   7\n",
       "Glendale                   5\n",
       "Glendale                   4\n",
       "Brooklyn                   2\n",
       "New york                   1\n",
       "New York City              1\n",
       "NY                         1\n",
       "New york , Ridgewood       1\n",
       "Brookyln                   1\n",
       "Ridgewood Queens.          1\n",
       "New York                   1\n",
       "Bushwick                   1\n",
       "Name: city, dtype: int64"
      ]
     },
     "execution_count": 124,
     "metadata": {},
     "output_type": "execute_result"
    }
   ],
   "source": [
    "df_sub_hotel[df_sub_hotel['count_hotel']==0].city.value_counts()"
   ]
  },
  {
   "cell_type": "code",
   "execution_count": 150,
   "metadata": {},
   "outputs": [
    {
     "data": {
      "text/plain": [
       "134"
      ]
     },
     "execution_count": 150,
     "metadata": {},
     "output_type": "execute_result"
    }
   ],
   "source": [
    "hot_ls = hotels_zip.postcode.unique()\n",
    "len(hot_ls)"
   ]
  },
  {
   "cell_type": "code",
   "execution_count": 151,
   "metadata": {},
   "outputs": [
    {
     "data": {
      "text/plain": [
       "342"
      ]
     },
     "execution_count": 151,
     "metadata": {},
     "output_type": "execute_result"
    }
   ],
   "source": [
    "df_ls = df.zipcode.unique()\n",
    "len(df_ls)"
   ]
  },
  {
   "cell_type": "code",
   "execution_count": 149,
   "metadata": {},
   "outputs": [
    {
     "data": {
      "text/plain": [
       "132"
      ]
     },
     "execution_count": 149,
     "metadata": {},
     "output_type": "execute_result"
    }
   ],
   "source": [
    "len(list(set(df_ls) & set(hot_ls)))"
   ]
  },
  {
   "cell_type": "code",
   "execution_count": null,
   "metadata": {},
   "outputs": [],
   "source": []
  },
  {
   "cell_type": "code",
   "execution_count": null,
   "metadata": {},
   "outputs": [],
   "source": []
  },
  {
   "cell_type": "code",
   "execution_count": null,
   "metadata": {},
   "outputs": [],
   "source": []
  },
  {
   "cell_type": "code",
   "execution_count": null,
   "metadata": {},
   "outputs": [],
   "source": []
  },
  {
   "cell_type": "markdown",
   "metadata": {},
   "source": [
    "### 1. Average household income"
   ]
  },
  {
   "cell_type": "code",
   "execution_count": 130,
   "metadata": {},
   "outputs": [
    {
     "data": {
      "text/html": [
       "<div>\n",
       "<style scoped>\n",
       "    .dataframe tbody tr th:only-of-type {\n",
       "        vertical-align: middle;\n",
       "    }\n",
       "\n",
       "    .dataframe tbody tr th {\n",
       "        vertical-align: top;\n",
       "    }\n",
       "\n",
       "    .dataframe thead th {\n",
       "        text-align: right;\n",
       "    }\n",
       "</style>\n",
       "<table border=\"1\" class=\"dataframe\">\n",
       "  <thead>\n",
       "    <tr style=\"text-align: right;\">\n",
       "      <th></th>\n",
       "      <th>#</th>\n",
       "      <th>Zip Code</th>\n",
       "      <th>lat</th>\n",
       "      <th>long</th>\n",
       "      <th>City</th>\n",
       "      <th>Population</th>\n",
       "      <th>Avg. Income/H/hold</th>\n",
       "      <th>National Rank</th>\n",
       "    </tr>\n",
       "  </thead>\n",
       "  <tbody>\n",
       "    <tr>\n",
       "      <th>0</th>\n",
       "      <td>1</td>\n",
       "      <td>10007</td>\n",
       "      <td>40.713973</td>\n",
       "      <td>-74.008336</td>\n",
       "      <td>New York, New York</td>\n",
       "      <td>3,522</td>\n",
       "      <td>$112,947.00</td>\n",
       "      <td>#132</td>\n",
       "    </tr>\n",
       "    <tr>\n",
       "      <th>1</th>\n",
       "      <td>2</td>\n",
       "      <td>10280</td>\n",
       "      <td>40.708501</td>\n",
       "      <td>-74.016828</td>\n",
       "      <td>New York, New York</td>\n",
       "      <td>6,614</td>\n",
       "      <td>$108,536.00</td>\n",
       "      <td>#157</td>\n",
       "    </tr>\n",
       "    <tr>\n",
       "      <th>2</th>\n",
       "      <td>3</td>\n",
       "      <td>10162</td>\n",
       "      <td>40.769298</td>\n",
       "      <td>-73.949942</td>\n",
       "      <td>New York, New York</td>\n",
       "      <td>1,726</td>\n",
       "      <td>$108,416.00</td>\n",
       "      <td>#158</td>\n",
       "    </tr>\n",
       "    <tr>\n",
       "      <th>3</th>\n",
       "      <td>4</td>\n",
       "      <td>10004</td>\n",
       "      <td>40.691870</td>\n",
       "      <td>-74.014109</td>\n",
       "      <td>New York, New York</td>\n",
       "      <td>1,225</td>\n",
       "      <td>$101,868.00</td>\n",
       "      <td>#238</td>\n",
       "    </tr>\n",
       "    <tr>\n",
       "      <th>4</th>\n",
       "      <td>5</td>\n",
       "      <td>10069</td>\n",
       "      <td>40.775551</td>\n",
       "      <td>-73.989689</td>\n",
       "      <td>New York, New York</td>\n",
       "      <td>1,403</td>\n",
       "      <td>$88,091.00</td>\n",
       "      <td>#507</td>\n",
       "    </tr>\n",
       "  </tbody>\n",
       "</table>\n",
       "</div>"
      ],
      "text/plain": [
       "   #  Zip Code        lat       long                City Population  \\\n",
       "0  1     10007  40.713973 -74.008336  New York, New York      3,522   \n",
       "1  2     10280  40.708501 -74.016828  New York, New York      6,614   \n",
       "2  3     10162  40.769298 -73.949942  New York, New York      1,726   \n",
       "3  4     10004  40.691870 -74.014109  New York, New York      1,225   \n",
       "4  5     10069  40.775551 -73.989689  New York, New York      1,403   \n",
       "\n",
       "  Avg. Income/H/hold National Rank  \n",
       "0       $112,947.00           #132  \n",
       "1       $108,536.00           #157  \n",
       "2       $108,416.00           #158  \n",
       "3       $101,868.00           #238  \n",
       "4        $88,091.00           #507  "
      ]
     },
     "execution_count": 130,
     "metadata": {},
     "output_type": "execute_result"
    }
   ],
   "source": [
    "#inc = pd.read_csv('/Users/audreychu/Desktop/1001_Data/CCC Data Download_20201114_162426118/medianincomes.csv')\n",
    "inc = pd.read_csv('/Users/audreychu/Desktop/1001_Data/inc_zip.csv')\n",
    "#inc = inc[inc['Household Type'] == 'All Households']\n",
    "inc.head()"
   ]
  },
  {
   "cell_type": "code",
   "execution_count": 165,
   "metadata": {},
   "outputs": [],
   "source": [
    "avg_inc = []\n",
    "for j in range(10000):\n",
    "    df_coord = (df.latitude[j], df.longitude[j])\n",
    "    dist = []\n",
    "    for i in range(len(inc)):\n",
    "        inc_coord = (inc.lat[i], inc.long[i])\n",
    "        dist.append(geopy.distance.geodesic(df_coord,inc_coord).miles)\n",
    "    ind = dist.index(min(dist))\n",
    "    avg_inc.append(inc['Avg. Income/H/hold'][ind])"
   ]
  },
  {
   "cell_type": "code",
   "execution_count": 167,
   "metadata": {},
   "outputs": [],
   "source": [
    "avg_inc_10_40 = []\n",
    "\n",
    "for j in range(10001,40000):\n",
    "    df_coord = (df.latitude[j], df.longitude[j])\n",
    "    dist = []\n",
    "    for i in range(len(inc)):\n",
    "        inc_coord = (inc.lat[i], inc.long[i])\n",
    "        dist.append(geopy.distance.geodesic(df_coord,inc_coord).miles)\n",
    "    ind = dist.index(min(dist))\n",
    "    avg_inc_10_40.append(inc['Avg. Income/H/hold'][ind])"
   ]
  },
  {
   "cell_type": "code",
   "execution_count": 169,
   "metadata": {},
   "outputs": [],
   "source": [
    "avg_inc_40_70 = []\n",
    "\n",
    "for j in range(40001,70000):\n",
    "    df_coord = (df.latitude[j], df.longitude[j])\n",
    "    dist = []\n",
    "    for i in range(len(inc)):\n",
    "        inc_coord = (inc.lat[i], inc.long[i])\n",
    "        dist.append(geopy.distance.geodesic(df_coord,inc_coord).miles)\n",
    "    ind = dist.index(min(dist))\n",
    "    avg_inc_40_70.append(inc['Avg. Income/H/hold'][ind])"
   ]
  },
  {
   "cell_type": "code",
   "execution_count": 170,
   "metadata": {},
   "outputs": [],
   "source": [
    "avg_inc_70_100 = []\n",
    "\n",
    "for j in range(70001,100000):\n",
    "    df_coord = (df.latitude[j], df.longitude[j])\n",
    "    dist = []\n",
    "    for i in range(len(inc)):\n",
    "        inc_coord = (inc.lat[i], inc.long[i])\n",
    "        dist.append(geopy.distance.geodesic(df_coord,inc_coord).miles)\n",
    "    ind = dist.index(min(dist))\n",
    "    avg_inc_70_100.append(inc['Avg. Income/H/hold'][ind])"
   ]
  },
  {
   "cell_type": "code",
   "execution_count": 195,
   "metadata": {},
   "outputs": [],
   "source": [
    "avg_inc_100_ = []\n",
    "\n",
    "for j in range(100001,len(df)):\n",
    "    df_coord = (df.latitude[j], df.longitude[j])\n",
    "    dist = []\n",
    "    for i in range(len(inc)):\n",
    "        inc_coord = (inc.lat[i], inc.long[i])\n",
    "        dist.append(geopy.distance.geodesic(df_coord,inc_coord).miles)\n",
    "    ind = dist.index(min(dist))\n",
    "    avg_inc_100_.append(inc['Avg. Income/H/hold'][ind])"
   ]
  },
  {
   "cell_type": "code",
   "execution_count": 196,
   "metadata": {},
   "outputs": [],
   "source": [
    "#10000\n",
    "#40000\n",
    "#70000\n",
    "#100000\n",
    "\n",
    "fix = [10000,40000,70000,100000]\n",
    "fix_ls = []\n",
    "\n",
    "for j in fix:\n",
    "    df_coord = (df.latitude[j], df.longitude[j])\n",
    "    dist = []\n",
    "    for i in range(len(inc)):\n",
    "        inc_coord = (inc.lat[i], inc.long[i])\n",
    "        dist.append(geopy.distance.geodesic(df_coord,inc_coord).miles)\n",
    "    ind = dist.index(min(dist))\n",
    "    fix_ls.append(inc['Avg. Income/H/hold'][ind])"
   ]
  },
  {
   "cell_type": "code",
   "execution_count": 197,
   "metadata": {},
   "outputs": [
    {
     "data": {
      "text/plain": [
       "['$40,176.00 ', '$49,976.00 ', '$40,176.00 ', '$17,970.00 ']"
      ]
     },
     "execution_count": 197,
     "metadata": {},
     "output_type": "execute_result"
    }
   ],
   "source": [
    "fix_ls"
   ]
  },
  {
   "cell_type": "code",
   "execution_count": 200,
   "metadata": {},
   "outputs": [
    {
     "data": {
      "text/plain": [
       "114129"
      ]
     },
     "execution_count": 200,
     "metadata": {},
     "output_type": "execute_result"
    }
   ],
   "source": [
    "len(df)"
   ]
  },
  {
   "cell_type": "markdown",
   "metadata": {},
   "source": [
    "avg_inc.append(fix_ls[0])"
   ]
  },
  {
   "cell_type": "markdown",
   "metadata": {},
   "source": [
    "avg_inc_10_40.append(fix_ls[1])\n",
    "avg_inc_40_70.append(fix_ls[2])\n",
    "avg_inc_70_100.append(fix_ls[3])"
   ]
  },
  {
   "cell_type": "code",
   "execution_count": 227,
   "metadata": {},
   "outputs": [],
   "source": [
    "avg_sal = avg_inc + avg_inc_10_40 + avg_inc_40_70 + avg_inc_70_100 + avg_inc_100_"
   ]
  },
  {
   "cell_type": "code",
   "execution_count": 228,
   "metadata": {},
   "outputs": [],
   "source": [
    "df['avg_salary'] = avg_sal"
   ]
  },
  {
   "cell_type": "code",
   "execution_count": 229,
   "metadata": {},
   "outputs": [
    {
     "data": {
      "text/html": [
       "<div>\n",
       "<style scoped>\n",
       "    .dataframe tbody tr th:only-of-type {\n",
       "        vertical-align: middle;\n",
       "    }\n",
       "\n",
       "    .dataframe tbody tr th {\n",
       "        vertical-align: top;\n",
       "    }\n",
       "\n",
       "    .dataframe thead th {\n",
       "        text-align: right;\n",
       "    }\n",
       "</style>\n",
       "<table border=\"1\" class=\"dataframe\">\n",
       "  <thead>\n",
       "    <tr style=\"text-align: right;\">\n",
       "      <th></th>\n",
       "      <th>level_0</th>\n",
       "      <th>index</th>\n",
       "      <th>Unnamed: 0</th>\n",
       "      <th>id</th>\n",
       "      <th>last_scraped</th>\n",
       "      <th>neighbourhood</th>\n",
       "      <th>neighbourhood_cleansed</th>\n",
       "      <th>neighbourhood_group_cleansed</th>\n",
       "      <th>city</th>\n",
       "      <th>state</th>\n",
       "      <th>zipcode</th>\n",
       "      <th>latitude</th>\n",
       "      <th>longitude</th>\n",
       "      <th>avg_salary</th>\n",
       "    </tr>\n",
       "  </thead>\n",
       "  <tbody>\n",
       "    <tr>\n",
       "      <th>0</th>\n",
       "      <td>0</td>\n",
       "      <td>0</td>\n",
       "      <td>13</td>\n",
       "      <td>5435.0</td>\n",
       "      <td>2019-03-07</td>\n",
       "      <td>Manhattan</td>\n",
       "      <td>Upper West Side</td>\n",
       "      <td>Manhattan</td>\n",
       "      <td>New York</td>\n",
       "      <td>NY</td>\n",
       "      <td>10025</td>\n",
       "      <td>40.80155</td>\n",
       "      <td>-73.97000</td>\n",
       "      <td>$49,733.00</td>\n",
       "    </tr>\n",
       "    <tr>\n",
       "      <th>1</th>\n",
       "      <td>1</td>\n",
       "      <td>1</td>\n",
       "      <td>20</td>\n",
       "      <td>7036.0</td>\n",
       "      <td>2019-03-07</td>\n",
       "      <td>Kensington</td>\n",
       "      <td>Kensington</td>\n",
       "      <td>Brooklyn</td>\n",
       "      <td>Brooklyn</td>\n",
       "      <td>NY</td>\n",
       "      <td>11218</td>\n",
       "      <td>40.64522</td>\n",
       "      <td>-73.98293</td>\n",
       "      <td>$101,868.00</td>\n",
       "    </tr>\n",
       "    <tr>\n",
       "      <th>2</th>\n",
       "      <td>2</td>\n",
       "      <td>2</td>\n",
       "      <td>77</td>\n",
       "      <td>17298.0</td>\n",
       "      <td>2019-03-07</td>\n",
       "      <td>Bedford-Stuyvesant</td>\n",
       "      <td>Bedford-Stuyvesant</td>\n",
       "      <td>Brooklyn</td>\n",
       "      <td>Brooklyn</td>\n",
       "      <td>NY</td>\n",
       "      <td>11233</td>\n",
       "      <td>40.68291</td>\n",
       "      <td>-73.93664</td>\n",
       "      <td>$24,022.00</td>\n",
       "    </tr>\n",
       "    <tr>\n",
       "      <th>3</th>\n",
       "      <td>3</td>\n",
       "      <td>3</td>\n",
       "      <td>78</td>\n",
       "      <td>17299.0</td>\n",
       "      <td>2019-03-07</td>\n",
       "      <td>Brooklyn</td>\n",
       "      <td>Bedford-Stuyvesant</td>\n",
       "      <td>Brooklyn</td>\n",
       "      <td>Brooklyn</td>\n",
       "      <td>NY</td>\n",
       "      <td>11233</td>\n",
       "      <td>40.68276</td>\n",
       "      <td>-73.93503</td>\n",
       "      <td>$24,022.00</td>\n",
       "    </tr>\n",
       "    <tr>\n",
       "      <th>4</th>\n",
       "      <td>4</td>\n",
       "      <td>4</td>\n",
       "      <td>96</td>\n",
       "      <td>20311.0</td>\n",
       "      <td>2019-03-07</td>\n",
       "      <td>Brooklyn</td>\n",
       "      <td>Prospect Heights</td>\n",
       "      <td>Brooklyn</td>\n",
       "      <td>Brooklyn</td>\n",
       "      <td>NY</td>\n",
       "      <td>11238</td>\n",
       "      <td>40.67206</td>\n",
       "      <td>-73.96344</td>\n",
       "      <td>$101,868.00</td>\n",
       "    </tr>\n",
       "  </tbody>\n",
       "</table>\n",
       "</div>"
      ],
      "text/plain": [
       "   level_0  index  Unnamed: 0       id last_scraped       neighbourhood  \\\n",
       "0        0      0          13   5435.0   2019-03-07           Manhattan   \n",
       "1        1      1          20   7036.0   2019-03-07          Kensington   \n",
       "2        2      2          77  17298.0   2019-03-07  Bedford-Stuyvesant   \n",
       "3        3      3          78  17299.0   2019-03-07            Brooklyn   \n",
       "4        4      4          96  20311.0   2019-03-07            Brooklyn   \n",
       "\n",
       "  neighbourhood_cleansed neighbourhood_group_cleansed      city state zipcode  \\\n",
       "0        Upper West Side                    Manhattan  New York    NY   10025   \n",
       "1             Kensington                     Brooklyn  Brooklyn    NY   11218   \n",
       "2     Bedford-Stuyvesant                     Brooklyn  Brooklyn    NY   11233   \n",
       "3     Bedford-Stuyvesant                     Brooklyn  Brooklyn    NY   11233   \n",
       "4       Prospect Heights                     Brooklyn  Brooklyn    NY   11238   \n",
       "\n",
       "   latitude  longitude    avg_salary  \n",
       "0  40.80155  -73.97000   $49,733.00   \n",
       "1  40.64522  -73.98293  $101,868.00   \n",
       "2  40.68291  -73.93664   $24,022.00   \n",
       "3  40.68276  -73.93503   $24,022.00   \n",
       "4  40.67206  -73.96344  $101,868.00   "
      ]
     },
     "execution_count": 229,
     "metadata": {},
     "output_type": "execute_result"
    }
   ],
   "source": [
    "df.head()"
   ]
  },
  {
   "cell_type": "code",
   "execution_count": 231,
   "metadata": {},
   "outputs": [],
   "source": [
    "df.to_csv('df_salary.csv')"
   ]
  },
  {
   "cell_type": "markdown",
   "metadata": {},
   "source": [
    "import geopandas as gpd\n",
    "import pandas as pd\n",
    "import pyproj\n",
    "\n",
    "df1 = pd.read_csv(\"/home/ubuntu/maid80.csv\")\n",
    "df2 = pd.read_csv(\"/home/ubuntu/iodr.csv\")\n",
    "\n",
    "gdf1 = gpd.GeoDataFrame(df1, geometry=gpd.points_from_xy(df1['longitude'], df1['latitude']), crs=pyproj.CRS.from_epsg(4326))\n",
    "gdf2 = gpd.GeoDataFrame(df2, geometry=gpd.points_from_xy(df2['longitude'], df2['latitude']), crs=pyproj.CRS.from_epsg(4326))\n",
    "\n",
    "radius = 400\n",
    "for gdf in [gdf1, gdf2]:\n",
    "  gdf.to_crs(pyproj.CRS.from_epsg(3857), inplace=True)\n",
    "\n",
    "gdf1['geometry'] = gdf1['geometry'].buffer(radius)\n",
    "gdf2['IS_WITHIN_400M'] = 1\n",
    "\n",
    "gdf = gpd.sjoin(gdf1, gdf2['geometry'], how='left')\n",
    "print(gdf[gdf.IS_WITHIN_400M_right==1].head())"
   ]
  },
  {
   "cell_type": "markdown",
   "metadata": {},
   "source": [
    "### Distance from subway entrance"
   ]
  },
  {
   "cell_type": "code",
   "execution_count": null,
   "metadata": {},
   "outputs": [],
   "source": []
  },
  {
   "cell_type": "code",
   "execution_count": 233,
   "metadata": {},
   "outputs": [],
   "source": [
    "sub['long'] = [x.split('(')[1] for x in sub['longitude']]\n",
    "sub['lat'] = [x.split(')')[0] for x in sub['latitude']]\n",
    "sub = sub.reset_index()"
   ]
  },
  {
   "cell_type": "code",
   "execution_count": 234,
   "metadata": {},
   "outputs": [
    {
     "data": {
      "text/plain": [
       "6.259646418494054"
      ]
     },
     "execution_count": 234,
     "metadata": {},
     "output_type": "execute_result"
    }
   ],
   "source": [
    "df_test = (df.latitude[0],df.longitude[0])\n",
    "sub_test = (sub.lat[0],sub.long[0])\n",
    "\n",
    "geopy.distance.geodesic(df_test,sub_test).miles"
   ]
  },
  {
   "cell_type": "code",
   "execution_count": 235,
   "metadata": {},
   "outputs": [
    {
     "data": {
      "text/plain": [
       "False"
      ]
     },
     "execution_count": 235,
     "metadata": {},
     "output_type": "execute_result"
    }
   ],
   "source": [
    "x = geopy.distance.geodesic(df_test,sub_test).miles\n",
    "x < 0.5"
   ]
  },
  {
   "cell_type": "code",
   "execution_count": null,
   "metadata": {},
   "outputs": [],
   "source": []
  },
  {
   "cell_type": "code",
   "execution_count": null,
   "metadata": {},
   "outputs": [],
   "source": []
  },
  {
   "cell_type": "markdown",
   "metadata": {},
   "source": [
    "#### Calculate number of subway entrances within x miles"
   ]
  },
  {
   "cell_type": "code",
   "execution_count": 236,
   "metadata": {},
   "outputs": [],
   "source": [
    "def count_entrances(df_test,miles):\n",
    "    cnt = 0\n",
    "    for i in range(len(sub)):\n",
    "        x = (sub.lat[i],sub.long[i])\n",
    "        if geopy.distance.geodesic(df_test,x).miles < miles:\n",
    "                cnt += 1\n",
    "    return(cnt)"
   ]
  },
  {
   "cell_type": "code",
   "execution_count": 237,
   "metadata": {},
   "outputs": [
    {
     "data": {
      "text/plain": [
       "4"
      ]
     },
     "execution_count": 237,
     "metadata": {},
     "output_type": "execute_result"
    }
   ],
   "source": [
    "df_coord=(df.latitude[1],df.longitude[1])\n",
    "cnt = count_entrances(df_coord,0.25)\n",
    "cnt"
   ]
  },
  {
   "cell_type": "code",
   "execution_count": 243,
   "metadata": {},
   "outputs": [],
   "source": [
    "num_sub = []\n",
    "for i in range(10000):\n",
    "    df_coord = (df.latitude[i],df.longitude[i])\n",
    "    x = count_entrances(df_coord,0.20)\n",
    "    num_sub.append(x)"
   ]
  },
  {
   "cell_type": "code",
   "execution_count": 242,
   "metadata": {},
   "outputs": [
    {
     "data": {
      "text/plain": [
       "114129"
      ]
     },
     "execution_count": 242,
     "metadata": {},
     "output_type": "execute_result"
    }
   ],
   "source": [
    "len(df)"
   ]
  },
  {
   "cell_type": "code",
   "execution_count": 246,
   "metadata": {},
   "outputs": [
    {
     "data": {
      "text/plain": [
       "[5,\n",
       " 2,\n",
       " 0,\n",
       " 0,\n",
       " 2,\n",
       " 0,\n",
       " 0,\n",
       " 0,\n",
       " 2,\n",
       " 0,\n",
       " 1,\n",
       " 14,\n",
       " 0,\n",
       " 10,\n",
       " 2,\n",
       " 6,\n",
       " 0,\n",
       " 4,\n",
       " 2,\n",
       " 4,\n",
       " 2,\n",
       " 0,\n",
       " 8,\n",
       " 3,\n",
       " 0,\n",
       " 0,\n",
       " 4,\n",
       " 0,\n",
       " 13,\n",
       " 4,\n",
       " 0,\n",
       " 27,\n",
       " 4,\n",
       " 4,\n",
       " 2,\n",
       " 4,\n",
       " 4,\n",
       " 5,\n",
       " 0,\n",
       " 0,\n",
       " 4,\n",
       " 3,\n",
       " 6,\n",
       " 4,\n",
       " 5,\n",
       " 1,\n",
       " 2,\n",
       " 6,\n",
       " 0,\n",
       " 0,\n",
       " 0,\n",
       " 4,\n",
       " 6,\n",
       " 4,\n",
       " 0,\n",
       " 0,\n",
       " 0,\n",
       " 2,\n",
       " 0,\n",
       " 0,\n",
       " 0,\n",
       " 2,\n",
       " 4,\n",
       " 5,\n",
       " 4,\n",
       " 0,\n",
       " 5,\n",
       " 3,\n",
       " 5,\n",
       " 6,\n",
       " 18,\n",
       " 17,\n",
       " 10,\n",
       " 2,\n",
       " 17,\n",
       " 10,\n",
       " 2,\n",
       " 4,\n",
       " 0,\n",
       " 0,\n",
       " 8,\n",
       " 9,\n",
       " 0,\n",
       " 0,\n",
       " 0,\n",
       " 17,\n",
       " 2,\n",
       " 5,\n",
       " 0,\n",
       " 3,\n",
       " 0,\n",
       " 4,\n",
       " 3,\n",
       " 0,\n",
       " 0,\n",
       " 0,\n",
       " 0,\n",
       " 24,\n",
       " 3,\n",
       " 4]"
      ]
     },
     "execution_count": 246,
     "metadata": {},
     "output_type": "execute_result"
    }
   ],
   "source": [
    "num_sub[:100]"
   ]
  },
  {
   "cell_type": "code",
   "execution_count": 52,
   "metadata": {},
   "outputs": [
    {
     "data": {
      "text/plain": [
       "Unnamed: 0                            36281\n",
       "id                              2.52167e+07\n",
       "last_scraped                     2019-03-06\n",
       "neighbourhood                           NaN\n",
       "neighbourhood_cleansed                  NaN\n",
       "neighbourhood_group_cleansed            NaN\n",
       "city                                    NaN\n",
       "state                                   NaN\n",
       "zipcode                                 NaN\n",
       "latitude                                NaN\n",
       "longitude                               NaN\n",
       "Name: 4190, dtype: object"
      ]
     },
     "execution_count": 52,
     "metadata": {},
     "output_type": "execute_result"
    }
   ],
   "source": [
    "df.iloc[4190]"
   ]
  },
  {
   "cell_type": "code",
   "execution_count": null,
   "metadata": {},
   "outputs": [],
   "source": []
  }
 ],
 "metadata": {
  "kernelspec": {
   "display_name": "Python 3",
   "language": "python",
   "name": "python3"
  },
  "language_info": {
   "codemirror_mode": {
    "name": "ipython",
    "version": 3
   },
   "file_extension": ".py",
   "mimetype": "text/x-python",
   "name": "python",
   "nbconvert_exporter": "python",
   "pygments_lexer": "ipython3",
   "version": "3.8.3"
  }
 },
 "nbformat": 4,
 "nbformat_minor": 4
}
