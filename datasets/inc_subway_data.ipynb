{
 "cells": [
  {
   "cell_type": "code",
   "execution_count": 75,
   "metadata": {},
   "outputs": [],
   "source": [
    "import pandas as pd\n",
    "import numpy as np\n",
    "import geopy.distance"
   ]
  },
  {
   "cell_type": "code",
   "execution_count": 76,
   "metadata": {},
   "outputs": [
    {
     "data": {
      "text/html": [
       "<div>\n",
       "<style scoped>\n",
       "    .dataframe tbody tr th:only-of-type {\n",
       "        vertical-align: middle;\n",
       "    }\n",
       "\n",
       "    .dataframe tbody tr th {\n",
       "        vertical-align: top;\n",
       "    }\n",
       "\n",
       "    .dataframe thead th {\n",
       "        text-align: right;\n",
       "    }\n",
       "</style>\n",
       "<table border=\"1\" class=\"dataframe\">\n",
       "  <thead>\n",
       "    <tr style=\"text-align: right;\">\n",
       "      <th></th>\n",
       "      <th>Unnamed: 0</th>\n",
       "      <th>id</th>\n",
       "      <th>last_scraped</th>\n",
       "      <th>neighbourhood</th>\n",
       "      <th>neighbourhood_cleansed</th>\n",
       "      <th>neighbourhood_group_cleansed</th>\n",
       "      <th>city</th>\n",
       "      <th>state</th>\n",
       "      <th>zipcode</th>\n",
       "      <th>latitude</th>\n",
       "      <th>longitude</th>\n",
       "    </tr>\n",
       "  </thead>\n",
       "  <tbody>\n",
       "    <tr>\n",
       "      <th>0</th>\n",
       "      <td>13</td>\n",
       "      <td>5435.0</td>\n",
       "      <td>2019-03-07</td>\n",
       "      <td>Manhattan</td>\n",
       "      <td>Upper West Side</td>\n",
       "      <td>Manhattan</td>\n",
       "      <td>New York</td>\n",
       "      <td>NY</td>\n",
       "      <td>10025</td>\n",
       "      <td>40.80155</td>\n",
       "      <td>-73.97000</td>\n",
       "    </tr>\n",
       "    <tr>\n",
       "      <th>1</th>\n",
       "      <td>20</td>\n",
       "      <td>7036.0</td>\n",
       "      <td>2019-03-07</td>\n",
       "      <td>Kensington</td>\n",
       "      <td>Kensington</td>\n",
       "      <td>Brooklyn</td>\n",
       "      <td>Brooklyn</td>\n",
       "      <td>NY</td>\n",
       "      <td>11218</td>\n",
       "      <td>40.64522</td>\n",
       "      <td>-73.98293</td>\n",
       "    </tr>\n",
       "    <tr>\n",
       "      <th>2</th>\n",
       "      <td>77</td>\n",
       "      <td>17298.0</td>\n",
       "      <td>2019-03-07</td>\n",
       "      <td>Bedford-Stuyvesant</td>\n",
       "      <td>Bedford-Stuyvesant</td>\n",
       "      <td>Brooklyn</td>\n",
       "      <td>Brooklyn</td>\n",
       "      <td>NY</td>\n",
       "      <td>11233</td>\n",
       "      <td>40.68291</td>\n",
       "      <td>-73.93664</td>\n",
       "    </tr>\n",
       "    <tr>\n",
       "      <th>3</th>\n",
       "      <td>78</td>\n",
       "      <td>17299.0</td>\n",
       "      <td>2019-03-07</td>\n",
       "      <td>Brooklyn</td>\n",
       "      <td>Bedford-Stuyvesant</td>\n",
       "      <td>Brooklyn</td>\n",
       "      <td>Brooklyn</td>\n",
       "      <td>NY</td>\n",
       "      <td>11233</td>\n",
       "      <td>40.68276</td>\n",
       "      <td>-73.93503</td>\n",
       "    </tr>\n",
       "    <tr>\n",
       "      <th>4</th>\n",
       "      <td>96</td>\n",
       "      <td>20311.0</td>\n",
       "      <td>2019-03-07</td>\n",
       "      <td>Brooklyn</td>\n",
       "      <td>Prospect Heights</td>\n",
       "      <td>Brooklyn</td>\n",
       "      <td>Brooklyn</td>\n",
       "      <td>NY</td>\n",
       "      <td>11238</td>\n",
       "      <td>40.67206</td>\n",
       "      <td>-73.96344</td>\n",
       "    </tr>\n",
       "  </tbody>\n",
       "</table>\n",
       "</div>"
      ],
      "text/plain": [
       "   Unnamed: 0       id last_scraped       neighbourhood  \\\n",
       "0          13   5435.0   2019-03-07           Manhattan   \n",
       "1          20   7036.0   2019-03-07          Kensington   \n",
       "2          77  17298.0   2019-03-07  Bedford-Stuyvesant   \n",
       "3          78  17299.0   2019-03-07            Brooklyn   \n",
       "4          96  20311.0   2019-03-07            Brooklyn   \n",
       "\n",
       "  neighbourhood_cleansed neighbourhood_group_cleansed      city state zipcode  \\\n",
       "0        Upper West Side                    Manhattan  New York    NY   10025   \n",
       "1             Kensington                     Brooklyn  Brooklyn    NY   11218   \n",
       "2     Bedford-Stuyvesant                     Brooklyn  Brooklyn    NY   11233   \n",
       "3     Bedford-Stuyvesant                     Brooklyn  Brooklyn    NY   11233   \n",
       "4       Prospect Heights                     Brooklyn  Brooklyn    NY   11238   \n",
       "\n",
       "   latitude  longitude  \n",
       "0  40.80155  -73.97000  \n",
       "1  40.64522  -73.98293  \n",
       "2  40.68291  -73.93664  \n",
       "3  40.68276  -73.93503  \n",
       "4  40.67206  -73.96344  "
      ]
     },
     "execution_count": 76,
     "metadata": {},
     "output_type": "execute_result"
    }
   ],
   "source": [
    "url = 'https://raw.githubusercontent.com/audreychu/Airbnb_Optimization/main/datasets/2019_listings_locations.csv'\n",
    "df = pd.read_csv(url)\n",
    "df.head()"
   ]
  },
  {
   "cell_type": "code",
   "execution_count": 78,
   "metadata": {},
   "outputs": [],
   "source": [
    "df = df[df['latitude'].notna()]\n",
    "df = df[df['longitude'].notna()]\n",
    "df = df.reset_index()"
   ]
  },
  {
   "cell_type": "code",
   "execution_count": 93,
   "metadata": {},
   "outputs": [
    {
     "data": {
      "text/plain": [
       "Brooklyn              21953\n",
       "Manhattan             21511\n",
       "Queens                 6296\n",
       "Williamsburg           4475\n",
       "Bedford-Stuyvesant     4390\n",
       "                      ...  \n",
       "New Dorp                  1\n",
       "Rossville                 1\n",
       "Greenridge                1\n",
       "Richmondtown              1\n",
       "Lighthouse HIll           1\n",
       "Name: neighbourhood, Length: 206, dtype: int64"
      ]
     },
     "execution_count": 93,
     "metadata": {},
     "output_type": "execute_result"
    }
   ],
   "source": [
    "df.neighbourhood.value_counts()"
   ]
  },
  {
   "cell_type": "code",
   "execution_count": 127,
   "metadata": {},
   "outputs": [
    {
     "data": {
      "text/plain": [
       "207"
      ]
     },
     "execution_count": 127,
     "metadata": {},
     "output_type": "execute_result"
    }
   ],
   "source": [
    "len(df.neighbourhood.unique())"
   ]
  },
  {
   "cell_type": "markdown",
   "metadata": {},
   "source": [
    "### 1. Average household income"
   ]
  },
  {
   "cell_type": "code",
   "execution_count": 130,
   "metadata": {},
   "outputs": [
    {
     "data": {
      "text/html": [
       "<div>\n",
       "<style scoped>\n",
       "    .dataframe tbody tr th:only-of-type {\n",
       "        vertical-align: middle;\n",
       "    }\n",
       "\n",
       "    .dataframe tbody tr th {\n",
       "        vertical-align: top;\n",
       "    }\n",
       "\n",
       "    .dataframe thead th {\n",
       "        text-align: right;\n",
       "    }\n",
       "</style>\n",
       "<table border=\"1\" class=\"dataframe\">\n",
       "  <thead>\n",
       "    <tr style=\"text-align: right;\">\n",
       "      <th></th>\n",
       "      <th>#</th>\n",
       "      <th>Zip Code</th>\n",
       "      <th>lat</th>\n",
       "      <th>long</th>\n",
       "      <th>City</th>\n",
       "      <th>Population</th>\n",
       "      <th>Avg. Income/H/hold</th>\n",
       "      <th>National Rank</th>\n",
       "    </tr>\n",
       "  </thead>\n",
       "  <tbody>\n",
       "    <tr>\n",
       "      <th>0</th>\n",
       "      <td>1</td>\n",
       "      <td>10007</td>\n",
       "      <td>40.713973</td>\n",
       "      <td>-74.008336</td>\n",
       "      <td>New York, New York</td>\n",
       "      <td>3,522</td>\n",
       "      <td>$112,947.00</td>\n",
       "      <td>#132</td>\n",
       "    </tr>\n",
       "    <tr>\n",
       "      <th>1</th>\n",
       "      <td>2</td>\n",
       "      <td>10280</td>\n",
       "      <td>40.708501</td>\n",
       "      <td>-74.016828</td>\n",
       "      <td>New York, New York</td>\n",
       "      <td>6,614</td>\n",
       "      <td>$108,536.00</td>\n",
       "      <td>#157</td>\n",
       "    </tr>\n",
       "    <tr>\n",
       "      <th>2</th>\n",
       "      <td>3</td>\n",
       "      <td>10162</td>\n",
       "      <td>40.769298</td>\n",
       "      <td>-73.949942</td>\n",
       "      <td>New York, New York</td>\n",
       "      <td>1,726</td>\n",
       "      <td>$108,416.00</td>\n",
       "      <td>#158</td>\n",
       "    </tr>\n",
       "    <tr>\n",
       "      <th>3</th>\n",
       "      <td>4</td>\n",
       "      <td>10004</td>\n",
       "      <td>40.691870</td>\n",
       "      <td>-74.014109</td>\n",
       "      <td>New York, New York</td>\n",
       "      <td>1,225</td>\n",
       "      <td>$101,868.00</td>\n",
       "      <td>#238</td>\n",
       "    </tr>\n",
       "    <tr>\n",
       "      <th>4</th>\n",
       "      <td>5</td>\n",
       "      <td>10069</td>\n",
       "      <td>40.775551</td>\n",
       "      <td>-73.989689</td>\n",
       "      <td>New York, New York</td>\n",
       "      <td>1,403</td>\n",
       "      <td>$88,091.00</td>\n",
       "      <td>#507</td>\n",
       "    </tr>\n",
       "  </tbody>\n",
       "</table>\n",
       "</div>"
      ],
      "text/plain": [
       "   #  Zip Code        lat       long                City Population  \\\n",
       "0  1     10007  40.713973 -74.008336  New York, New York      3,522   \n",
       "1  2     10280  40.708501 -74.016828  New York, New York      6,614   \n",
       "2  3     10162  40.769298 -73.949942  New York, New York      1,726   \n",
       "3  4     10004  40.691870 -74.014109  New York, New York      1,225   \n",
       "4  5     10069  40.775551 -73.989689  New York, New York      1,403   \n",
       "\n",
       "  Avg. Income/H/hold National Rank  \n",
       "0       $112,947.00           #132  \n",
       "1       $108,536.00           #157  \n",
       "2       $108,416.00           #158  \n",
       "3       $101,868.00           #238  \n",
       "4        $88,091.00           #507  "
      ]
     },
     "execution_count": 130,
     "metadata": {},
     "output_type": "execute_result"
    }
   ],
   "source": [
    "#inc = pd.read_csv('/Users/audreychu/Desktop/1001_Data/CCC Data Download_20201114_162426118/medianincomes.csv')\n",
    "inc = pd.read_csv('/Users/audreychu/Desktop/1001_Data/inc_zip.csv')\n",
    "#inc = inc[inc['Household Type'] == 'All Households']\n",
    "inc.head()"
   ]
  },
  {
   "cell_type": "code",
   "execution_count": 165,
   "metadata": {},
   "outputs": [],
   "source": [
    "avg_inc = []\n",
    "for j in range(10000):\n",
    "    df_coord = (df.latitude[j], df.longitude[j])\n",
    "    dist = []\n",
    "    for i in range(len(inc)):\n",
    "        inc_coord = (inc.lat[i], inc.long[i])\n",
    "        dist.append(geopy.distance.geodesic(df_coord,inc_coord).miles)\n",
    "    ind = dist.index(min(dist))\n",
    "    avg_inc.append(inc['Avg. Income/H/hold'][ind])"
   ]
  },
  {
   "cell_type": "code",
   "execution_count": 167,
   "metadata": {},
   "outputs": [],
   "source": [
    "avg_inc_10_40 = []\n",
    "\n",
    "for j in range(10001,40000):\n",
    "    df_coord = (df.latitude[j], df.longitude[j])\n",
    "    dist = []\n",
    "    for i in range(len(inc)):\n",
    "        inc_coord = (inc.lat[i], inc.long[i])\n",
    "        dist.append(geopy.distance.geodesic(df_coord,inc_coord).miles)\n",
    "    ind = dist.index(min(dist))\n",
    "    avg_inc_10_40.append(inc['Avg. Income/H/hold'][ind])"
   ]
  },
  {
   "cell_type": "code",
   "execution_count": 169,
   "metadata": {},
   "outputs": [],
   "source": [
    "avg_inc_40_70 = []\n",
    "\n",
    "for j in range(40001,70000):\n",
    "    df_coord = (df.latitude[j], df.longitude[j])\n",
    "    dist = []\n",
    "    for i in range(len(inc)):\n",
    "        inc_coord = (inc.lat[i], inc.long[i])\n",
    "        dist.append(geopy.distance.geodesic(df_coord,inc_coord).miles)\n",
    "    ind = dist.index(min(dist))\n",
    "    avg_inc_40_70.append(inc['Avg. Income/H/hold'][ind])"
   ]
  },
  {
   "cell_type": "code",
   "execution_count": 170,
   "metadata": {},
   "outputs": [],
   "source": [
    "avg_inc_70_100 = []\n",
    "\n",
    "for j in range(70001,100000):\n",
    "    df_coord = (df.latitude[j], df.longitude[j])\n",
    "    dist = []\n",
    "    for i in range(len(inc)):\n",
    "        inc_coord = (inc.lat[i], inc.long[i])\n",
    "        dist.append(geopy.distance.geodesic(df_coord,inc_coord).miles)\n",
    "    ind = dist.index(min(dist))\n",
    "    avg_inc_70_100.append(inc['Avg. Income/H/hold'][ind])"
   ]
  },
  {
   "cell_type": "code",
   "execution_count": 195,
   "metadata": {},
   "outputs": [],
   "source": [
    "avg_inc_100_ = []\n",
    "\n",
    "for j in range(100001,len(df)):\n",
    "    df_coord = (df.latitude[j], df.longitude[j])\n",
    "    dist = []\n",
    "    for i in range(len(inc)):\n",
    "        inc_coord = (inc.lat[i], inc.long[i])\n",
    "        dist.append(geopy.distance.geodesic(df_coord,inc_coord).miles)\n",
    "    ind = dist.index(min(dist))\n",
    "    avg_inc_100_.append(inc['Avg. Income/H/hold'][ind])"
   ]
  },
  {
   "cell_type": "code",
   "execution_count": 196,
   "metadata": {},
   "outputs": [],
   "source": [
    "#10000\n",
    "#40000\n",
    "#70000\n",
    "#100000\n",
    "\n",
    "fix = [10000,40000,70000,100000]\n",
    "fix_ls = []\n",
    "\n",
    "for j in fix:\n",
    "    df_coord = (df.latitude[j], df.longitude[j])\n",
    "    dist = []\n",
    "    for i in range(len(inc)):\n",
    "        inc_coord = (inc.lat[i], inc.long[i])\n",
    "        dist.append(geopy.distance.geodesic(df_coord,inc_coord).miles)\n",
    "    ind = dist.index(min(dist))\n",
    "    fix_ls.append(inc['Avg. Income/H/hold'][ind])"
   ]
  },
  {
   "cell_type": "code",
   "execution_count": 197,
   "metadata": {},
   "outputs": [
    {
     "data": {
      "text/plain": [
       "['$40,176.00 ', '$49,976.00 ', '$40,176.00 ', '$17,970.00 ']"
      ]
     },
     "execution_count": 197,
     "metadata": {},
     "output_type": "execute_result"
    }
   ],
   "source": [
    "fix_ls"
   ]
  },
  {
   "cell_type": "code",
   "execution_count": 200,
   "metadata": {},
   "outputs": [
    {
     "data": {
      "text/plain": [
       "114129"
      ]
     },
     "execution_count": 200,
     "metadata": {},
     "output_type": "execute_result"
    }
   ],
   "source": [
    "len(df)"
   ]
  },
  {
   "cell_type": "markdown",
   "metadata": {},
   "source": [
    "avg_inc.append(fix_ls[0])"
   ]
  },
  {
   "cell_type": "markdown",
   "metadata": {},
   "source": [
    "avg_inc_10_40.append(fix_ls[1])\n",
    "avg_inc_40_70.append(fix_ls[2])\n",
    "avg_inc_70_100.append(fix_ls[3])"
   ]
  },
  {
   "cell_type": "code",
   "execution_count": 227,
   "metadata": {},
   "outputs": [],
   "source": [
    "avg_sal = avg_inc + avg_inc_10_40 + avg_inc_40_70 + avg_inc_70_100 + avg_inc_100_"
   ]
  },
  {
   "cell_type": "code",
   "execution_count": 228,
   "metadata": {},
   "outputs": [],
   "source": [
    "df['avg_salary'] = avg_sal"
   ]
  },
  {
   "cell_type": "code",
   "execution_count": 229,
   "metadata": {},
   "outputs": [
    {
     "data": {
      "text/html": [
       "<div>\n",
       "<style scoped>\n",
       "    .dataframe tbody tr th:only-of-type {\n",
       "        vertical-align: middle;\n",
       "    }\n",
       "\n",
       "    .dataframe tbody tr th {\n",
       "        vertical-align: top;\n",
       "    }\n",
       "\n",
       "    .dataframe thead th {\n",
       "        text-align: right;\n",
       "    }\n",
       "</style>\n",
       "<table border=\"1\" class=\"dataframe\">\n",
       "  <thead>\n",
       "    <tr style=\"text-align: right;\">\n",
       "      <th></th>\n",
       "      <th>level_0</th>\n",
       "      <th>index</th>\n",
       "      <th>Unnamed: 0</th>\n",
       "      <th>id</th>\n",
       "      <th>last_scraped</th>\n",
       "      <th>neighbourhood</th>\n",
       "      <th>neighbourhood_cleansed</th>\n",
       "      <th>neighbourhood_group_cleansed</th>\n",
       "      <th>city</th>\n",
       "      <th>state</th>\n",
       "      <th>zipcode</th>\n",
       "      <th>latitude</th>\n",
       "      <th>longitude</th>\n",
       "      <th>avg_salary</th>\n",
       "    </tr>\n",
       "  </thead>\n",
       "  <tbody>\n",
       "    <tr>\n",
       "      <th>0</th>\n",
       "      <td>0</td>\n",
       "      <td>0</td>\n",
       "      <td>13</td>\n",
       "      <td>5435.0</td>\n",
       "      <td>2019-03-07</td>\n",
       "      <td>Manhattan</td>\n",
       "      <td>Upper West Side</td>\n",
       "      <td>Manhattan</td>\n",
       "      <td>New York</td>\n",
       "      <td>NY</td>\n",
       "      <td>10025</td>\n",
       "      <td>40.80155</td>\n",
       "      <td>-73.97000</td>\n",
       "      <td>$49,733.00</td>\n",
       "    </tr>\n",
       "    <tr>\n",
       "      <th>1</th>\n",
       "      <td>1</td>\n",
       "      <td>1</td>\n",
       "      <td>20</td>\n",
       "      <td>7036.0</td>\n",
       "      <td>2019-03-07</td>\n",
       "      <td>Kensington</td>\n",
       "      <td>Kensington</td>\n",
       "      <td>Brooklyn</td>\n",
       "      <td>Brooklyn</td>\n",
       "      <td>NY</td>\n",
       "      <td>11218</td>\n",
       "      <td>40.64522</td>\n",
       "      <td>-73.98293</td>\n",
       "      <td>$101,868.00</td>\n",
       "    </tr>\n",
       "    <tr>\n",
       "      <th>2</th>\n",
       "      <td>2</td>\n",
       "      <td>2</td>\n",
       "      <td>77</td>\n",
       "      <td>17298.0</td>\n",
       "      <td>2019-03-07</td>\n",
       "      <td>Bedford-Stuyvesant</td>\n",
       "      <td>Bedford-Stuyvesant</td>\n",
       "      <td>Brooklyn</td>\n",
       "      <td>Brooklyn</td>\n",
       "      <td>NY</td>\n",
       "      <td>11233</td>\n",
       "      <td>40.68291</td>\n",
       "      <td>-73.93664</td>\n",
       "      <td>$24,022.00</td>\n",
       "    </tr>\n",
       "    <tr>\n",
       "      <th>3</th>\n",
       "      <td>3</td>\n",
       "      <td>3</td>\n",
       "      <td>78</td>\n",
       "      <td>17299.0</td>\n",
       "      <td>2019-03-07</td>\n",
       "      <td>Brooklyn</td>\n",
       "      <td>Bedford-Stuyvesant</td>\n",
       "      <td>Brooklyn</td>\n",
       "      <td>Brooklyn</td>\n",
       "      <td>NY</td>\n",
       "      <td>11233</td>\n",
       "      <td>40.68276</td>\n",
       "      <td>-73.93503</td>\n",
       "      <td>$24,022.00</td>\n",
       "    </tr>\n",
       "    <tr>\n",
       "      <th>4</th>\n",
       "      <td>4</td>\n",
       "      <td>4</td>\n",
       "      <td>96</td>\n",
       "      <td>20311.0</td>\n",
       "      <td>2019-03-07</td>\n",
       "      <td>Brooklyn</td>\n",
       "      <td>Prospect Heights</td>\n",
       "      <td>Brooklyn</td>\n",
       "      <td>Brooklyn</td>\n",
       "      <td>NY</td>\n",
       "      <td>11238</td>\n",
       "      <td>40.67206</td>\n",
       "      <td>-73.96344</td>\n",
       "      <td>$101,868.00</td>\n",
       "    </tr>\n",
       "  </tbody>\n",
       "</table>\n",
       "</div>"
      ],
      "text/plain": [
       "   level_0  index  Unnamed: 0       id last_scraped       neighbourhood  \\\n",
       "0        0      0          13   5435.0   2019-03-07           Manhattan   \n",
       "1        1      1          20   7036.0   2019-03-07          Kensington   \n",
       "2        2      2          77  17298.0   2019-03-07  Bedford-Stuyvesant   \n",
       "3        3      3          78  17299.0   2019-03-07            Brooklyn   \n",
       "4        4      4          96  20311.0   2019-03-07            Brooklyn   \n",
       "\n",
       "  neighbourhood_cleansed neighbourhood_group_cleansed      city state zipcode  \\\n",
       "0        Upper West Side                    Manhattan  New York    NY   10025   \n",
       "1             Kensington                     Brooklyn  Brooklyn    NY   11218   \n",
       "2     Bedford-Stuyvesant                     Brooklyn  Brooklyn    NY   11233   \n",
       "3     Bedford-Stuyvesant                     Brooklyn  Brooklyn    NY   11233   \n",
       "4       Prospect Heights                     Brooklyn  Brooklyn    NY   11238   \n",
       "\n",
       "   latitude  longitude    avg_salary  \n",
       "0  40.80155  -73.97000   $49,733.00   \n",
       "1  40.64522  -73.98293  $101,868.00   \n",
       "2  40.68291  -73.93664   $24,022.00   \n",
       "3  40.68276  -73.93503   $24,022.00   \n",
       "4  40.67206  -73.96344  $101,868.00   "
      ]
     },
     "execution_count": 229,
     "metadata": {},
     "output_type": "execute_result"
    }
   ],
   "source": [
    "df.head()"
   ]
  },
  {
   "cell_type": "code",
   "execution_count": 231,
   "metadata": {},
   "outputs": [],
   "source": [
    "df.to_csv('df_salary.csv')"
   ]
  },
  {
   "cell_type": "markdown",
   "metadata": {},
   "source": [
    "import geopandas as gpd\n",
    "import pandas as pd\n",
    "import pyproj\n",
    "\n",
    "df1 = pd.read_csv(\"/home/ubuntu/maid80.csv\")\n",
    "df2 = pd.read_csv(\"/home/ubuntu/iodr.csv\")\n",
    "\n",
    "gdf1 = gpd.GeoDataFrame(df1, geometry=gpd.points_from_xy(df1['longitude'], df1['latitude']), crs=pyproj.CRS.from_epsg(4326))\n",
    "gdf2 = gpd.GeoDataFrame(df2, geometry=gpd.points_from_xy(df2['longitude'], df2['latitude']), crs=pyproj.CRS.from_epsg(4326))\n",
    "\n",
    "radius = 400\n",
    "for gdf in [gdf1, gdf2]:\n",
    "  gdf.to_crs(pyproj.CRS.from_epsg(3857), inplace=True)\n",
    "\n",
    "gdf1['geometry'] = gdf1['geometry'].buffer(radius)\n",
    "gdf2['IS_WITHIN_400M'] = 1\n",
    "\n",
    "gdf = gpd.sjoin(gdf1, gdf2['geometry'], how='left')\n",
    "print(gdf[gdf.IS_WITHIN_400M_right==1].head())"
   ]
  },
  {
   "cell_type": "markdown",
   "metadata": {},
   "source": [
    "### Distance from subway entrance"
   ]
  },
  {
   "cell_type": "code",
   "execution_count": 232,
   "metadata": {},
   "outputs": [
    {
     "data": {
      "text/html": [
       "<div>\n",
       "<style scoped>\n",
       "    .dataframe tbody tr th:only-of-type {\n",
       "        vertical-align: middle;\n",
       "    }\n",
       "\n",
       "    .dataframe tbody tr th {\n",
       "        vertical-align: top;\n",
       "    }\n",
       "\n",
       "    .dataframe thead th {\n",
       "        text-align: right;\n",
       "    }\n",
       "</style>\n",
       "<table border=\"1\" class=\"dataframe\">\n",
       "  <thead>\n",
       "    <tr style=\"text-align: right;\">\n",
       "      <th></th>\n",
       "      <th>OBJECTID</th>\n",
       "      <th>URL</th>\n",
       "      <th>NAME</th>\n",
       "      <th>the_geom</th>\n",
       "      <th>longitude</th>\n",
       "      <th>latitude</th>\n",
       "      <th>Unnamed: 6</th>\n",
       "      <th>LINE</th>\n",
       "    </tr>\n",
       "  </thead>\n",
       "  <tbody>\n",
       "    <tr>\n",
       "      <th>0</th>\n",
       "      <td>1734</td>\n",
       "      <td>http://web.mta.info/nyct/service/</td>\n",
       "      <td>Birchall Ave &amp; Sagamore St at NW corner</td>\n",
       "      <td>POINT</td>\n",
       "      <td>(-73.86835600032798</td>\n",
       "      <td>40.84916900104506)</td>\n",
       "      <td>NaN</td>\n",
       "      <td>5-Feb</td>\n",
       "    </tr>\n",
       "    <tr>\n",
       "      <th>1</th>\n",
       "      <td>1735</td>\n",
       "      <td>http://web.mta.info/nyct/service/</td>\n",
       "      <td>Birchall Ave &amp; Sagamore St at NE corner</td>\n",
       "      <td>POINT</td>\n",
       "      <td>(-73.86821300022677</td>\n",
       "      <td>40.84912800131844)</td>\n",
       "      <td>NaN</td>\n",
       "      <td>5-Feb</td>\n",
       "    </tr>\n",
       "    <tr>\n",
       "      <th>2</th>\n",
       "      <td>1736</td>\n",
       "      <td>http://web.mta.info/nyct/service/</td>\n",
       "      <td>Morris Park Ave &amp; 180th St at NW corner</td>\n",
       "      <td>POINT</td>\n",
       "      <td>(-73.87349900050798</td>\n",
       "      <td>40.84122300105249)</td>\n",
       "      <td>NaN</td>\n",
       "      <td>5-Feb</td>\n",
       "    </tr>\n",
       "    <tr>\n",
       "      <th>3</th>\n",
       "      <td>1737</td>\n",
       "      <td>http://web.mta.info/nyct/service/</td>\n",
       "      <td>Morris Park Ave &amp; 180th St at NW corner</td>\n",
       "      <td>POINT</td>\n",
       "      <td>(-73.8728919997833</td>\n",
       "      <td>40.84145300067447)</td>\n",
       "      <td>NaN</td>\n",
       "      <td>5-Feb</td>\n",
       "    </tr>\n",
       "    <tr>\n",
       "      <th>4</th>\n",
       "      <td>1738</td>\n",
       "      <td>http://web.mta.info/nyct/service/</td>\n",
       "      <td>Boston Rd &amp; 178th St at SW corner</td>\n",
       "      <td>POINT</td>\n",
       "      <td>(-73.87962300013866</td>\n",
       "      <td>40.84081500075867)</td>\n",
       "      <td>NaN</td>\n",
       "      <td>5-Feb</td>\n",
       "    </tr>\n",
       "  </tbody>\n",
       "</table>\n",
       "</div>"
      ],
      "text/plain": [
       "   OBJECTID                                URL  \\\n",
       "0      1734  http://web.mta.info/nyct/service/   \n",
       "1      1735  http://web.mta.info/nyct/service/   \n",
       "2      1736  http://web.mta.info/nyct/service/   \n",
       "3      1737  http://web.mta.info/nyct/service/   \n",
       "4      1738  http://web.mta.info/nyct/service/   \n",
       "\n",
       "                                      NAME the_geom            longitude  \\\n",
       "0  Birchall Ave & Sagamore St at NW corner    POINT  (-73.86835600032798   \n",
       "1  Birchall Ave & Sagamore St at NE corner    POINT  (-73.86821300022677   \n",
       "2  Morris Park Ave & 180th St at NW corner    POINT  (-73.87349900050798   \n",
       "3  Morris Park Ave & 180th St at NW corner    POINT   (-73.8728919997833   \n",
       "4        Boston Rd & 178th St at SW corner    POINT  (-73.87962300013866   \n",
       "\n",
       "             latitude  Unnamed: 6   LINE  \n",
       "0  40.84916900104506)         NaN  5-Feb  \n",
       "1  40.84912800131844)         NaN  5-Feb  \n",
       "2  40.84122300105249)         NaN  5-Feb  \n",
       "3  40.84145300067447)         NaN  5-Feb  \n",
       "4  40.84081500075867)         NaN  5-Feb  "
      ]
     },
     "execution_count": 232,
     "metadata": {},
     "output_type": "execute_result"
    }
   ],
   "source": [
    "sub = pd.read_csv('/Users/audreychu/Desktop/1001_Data/Data/Subway_Entrance/DOITT_SUBWAY_ENTRANCE_01_13SEPT2010.csv')\n",
    "sub.head()"
   ]
  },
  {
   "cell_type": "code",
   "execution_count": 233,
   "metadata": {},
   "outputs": [],
   "source": [
    "sub['long'] = [x.split('(')[1] for x in sub['longitude']]\n",
    "sub['lat'] = [x.split(')')[0] for x in sub['latitude']]\n",
    "sub = sub.reset_index()"
   ]
  },
  {
   "cell_type": "code",
   "execution_count": 234,
   "metadata": {},
   "outputs": [
    {
     "data": {
      "text/plain": [
       "6.259646418494054"
      ]
     },
     "execution_count": 234,
     "metadata": {},
     "output_type": "execute_result"
    }
   ],
   "source": [
    "df_test = (df.latitude[0],df.longitude[0])\n",
    "sub_test = (sub.lat[0],sub.long[0])\n",
    "\n",
    "geopy.distance.geodesic(df_test,sub_test).miles"
   ]
  },
  {
   "cell_type": "code",
   "execution_count": 235,
   "metadata": {},
   "outputs": [
    {
     "data": {
      "text/plain": [
       "False"
      ]
     },
     "execution_count": 235,
     "metadata": {},
     "output_type": "execute_result"
    }
   ],
   "source": [
    "x = geopy.distance.geodesic(df_test,sub_test).miles\n",
    "x < 0.5"
   ]
  },
  {
   "cell_type": "code",
   "execution_count": null,
   "metadata": {},
   "outputs": [],
   "source": []
  },
  {
   "cell_type": "code",
   "execution_count": null,
   "metadata": {},
   "outputs": [],
   "source": []
  },
  {
   "cell_type": "markdown",
   "metadata": {},
   "source": [
    "#### Calculate number of subway entrances within x miles"
   ]
  },
  {
   "cell_type": "code",
   "execution_count": 236,
   "metadata": {},
   "outputs": [],
   "source": [
    "def count_entrances(df_test,miles):\n",
    "    cnt = 0\n",
    "    for i in range(len(sub)):\n",
    "        x = (sub.lat[i],sub.long[i])\n",
    "        if geopy.distance.geodesic(df_test,x).miles < miles:\n",
    "                cnt += 1\n",
    "    return(cnt)"
   ]
  },
  {
   "cell_type": "code",
   "execution_count": 237,
   "metadata": {},
   "outputs": [
    {
     "data": {
      "text/plain": [
       "4"
      ]
     },
     "execution_count": 237,
     "metadata": {},
     "output_type": "execute_result"
    }
   ],
   "source": [
    "df_coord=(df.latitude[1],df.longitude[1])\n",
    "cnt = count_entrances(df_coord,0.25)\n",
    "cnt"
   ]
  },
  {
   "cell_type": "code",
   "execution_count": 243,
   "metadata": {},
   "outputs": [],
   "source": [
    "num_sub = []\n",
    "for i in range(10000):\n",
    "    df_coord = (df.latitude[i],df.longitude[i])\n",
    "    x = count_entrances(df_coord,0.20)\n",
    "    num_sub.append(x)"
   ]
  },
  {
   "cell_type": "code",
   "execution_count": 242,
   "metadata": {},
   "outputs": [
    {
     "data": {
      "text/plain": [
       "114129"
      ]
     },
     "execution_count": 242,
     "metadata": {},
     "output_type": "execute_result"
    }
   ],
   "source": [
    "len(df)"
   ]
  },
  {
   "cell_type": "code",
   "execution_count": 246,
   "metadata": {},
   "outputs": [
    {
     "data": {
      "text/plain": [
       "[5,\n",
       " 2,\n",
       " 0,\n",
       " 0,\n",
       " 2,\n",
       " 0,\n",
       " 0,\n",
       " 0,\n",
       " 2,\n",
       " 0,\n",
       " 1,\n",
       " 14,\n",
       " 0,\n",
       " 10,\n",
       " 2,\n",
       " 6,\n",
       " 0,\n",
       " 4,\n",
       " 2,\n",
       " 4,\n",
       " 2,\n",
       " 0,\n",
       " 8,\n",
       " 3,\n",
       " 0,\n",
       " 0,\n",
       " 4,\n",
       " 0,\n",
       " 13,\n",
       " 4,\n",
       " 0,\n",
       " 27,\n",
       " 4,\n",
       " 4,\n",
       " 2,\n",
       " 4,\n",
       " 4,\n",
       " 5,\n",
       " 0,\n",
       " 0,\n",
       " 4,\n",
       " 3,\n",
       " 6,\n",
       " 4,\n",
       " 5,\n",
       " 1,\n",
       " 2,\n",
       " 6,\n",
       " 0,\n",
       " 0,\n",
       " 0,\n",
       " 4,\n",
       " 6,\n",
       " 4,\n",
       " 0,\n",
       " 0,\n",
       " 0,\n",
       " 2,\n",
       " 0,\n",
       " 0,\n",
       " 0,\n",
       " 2,\n",
       " 4,\n",
       " 5,\n",
       " 4,\n",
       " 0,\n",
       " 5,\n",
       " 3,\n",
       " 5,\n",
       " 6,\n",
       " 18,\n",
       " 17,\n",
       " 10,\n",
       " 2,\n",
       " 17,\n",
       " 10,\n",
       " 2,\n",
       " 4,\n",
       " 0,\n",
       " 0,\n",
       " 8,\n",
       " 9,\n",
       " 0,\n",
       " 0,\n",
       " 0,\n",
       " 17,\n",
       " 2,\n",
       " 5,\n",
       " 0,\n",
       " 3,\n",
       " 0,\n",
       " 4,\n",
       " 3,\n",
       " 0,\n",
       " 0,\n",
       " 0,\n",
       " 0,\n",
       " 24,\n",
       " 3,\n",
       " 4]"
      ]
     },
     "execution_count": 246,
     "metadata": {},
     "output_type": "execute_result"
    }
   ],
   "source": [
    "num_sub[:100]"
   ]
  },
  {
   "cell_type": "code",
   "execution_count": 52,
   "metadata": {},
   "outputs": [
    {
     "data": {
      "text/plain": [
       "Unnamed: 0                            36281\n",
       "id                              2.52167e+07\n",
       "last_scraped                     2019-03-06\n",
       "neighbourhood                           NaN\n",
       "neighbourhood_cleansed                  NaN\n",
       "neighbourhood_group_cleansed            NaN\n",
       "city                                    NaN\n",
       "state                                   NaN\n",
       "zipcode                                 NaN\n",
       "latitude                                NaN\n",
       "longitude                               NaN\n",
       "Name: 4190, dtype: object"
      ]
     },
     "execution_count": 52,
     "metadata": {},
     "output_type": "execute_result"
    }
   ],
   "source": [
    "df.iloc[4190]"
   ]
  },
  {
   "cell_type": "code",
   "execution_count": null,
   "metadata": {},
   "outputs": [],
   "source": []
  }
 ],
 "metadata": {
  "kernelspec": {
   "display_name": "Python 3",
   "language": "python",
   "name": "python3"
  },
  "language_info": {
   "codemirror_mode": {
    "name": "ipython",
    "version": 3
   },
   "file_extension": ".py",
   "mimetype": "text/x-python",
   "name": "python",
   "nbconvert_exporter": "python",
   "pygments_lexer": "ipython3",
   "version": "3.8.3"
  }
 },
 "nbformat": 4,
 "nbformat_minor": 4
}
