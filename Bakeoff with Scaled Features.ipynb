{
 "cells": [
  {
   "cell_type": "code",
   "execution_count": 2,
   "metadata": {},
   "outputs": [],
   "source": [
    "import pandas as pd\n",
    "import numpy as np\n",
    "import matplotlib.pyplot as plt\n",
    "%matplotlib inline"
   ]
  },
  {
   "cell_type": "code",
   "execution_count": 3,
   "metadata": {},
   "outputs": [],
   "source": [
    "UC_Sampled = pd.read_csv('datasets/uncontrollable_sample.csv', index_col='id')\n",
    "df_controllable_sampled = pd.read_csv('datasets/controllable_sampled.csv', index_col = 'id')\n",
    "df_controllable_all = pd.read_csv('Faizan_scratch/Controllables/controllable_cleaned_features.csv', index_col='id')\n",
    "df_uncontrollable_all = pd.read_csv('Faizan_scratch/uncontrollable_cleaned_features.csv', index_col='id')\n",
    "\n",
    "df_all_features = df_controllable_all.merge(df_uncontrollable_all, left_index=True, right_index=True)\n",
    "df_all_features = df_all_features.drop(columns=['host_is_superhost', 'Label_y'])\n",
    "df_all_features = df_all_features.rename(columns={'Label_x':'Label'})\n",
    "\n",
    "uncontrollable_columns = UC_Sampled.drop(columns='Label').columns\n",
    "controllable_columns = df_controllable_sampled.drop(columns='Label').columns"
   ]
  },
  {
   "cell_type": "markdown",
   "metadata": {},
   "source": [
    "# DATA SPLIT"
   ]
  },
  {
   "cell_type": "code",
   "execution_count": 4,
   "metadata": {},
   "outputs": [],
   "source": [
    "from sklearn.model_selection import train_test_split, PredefinedSplit\n",
    "\n",
    "\n",
    "X_trainval, X_test, Y_trainval, Y_test = train_test_split(df_all_features.drop('Label',1), \n",
    "                                                          df_all_features['Label'],\n",
    "                                                         test_size = 0.2,\n",
    "                                                         random_state = 42)\n",
    "\n",
    "\n",
    "X_train, X_val, Y_train, Y_val = train_test_split(X_trainval, \n",
    "                                                  Y_trainval, \n",
    "                                                  test_size = 0.25, # Corresponds to 20% of total data\n",
    "                                                  random_state = 42)\n",
    "\n",
    "# Use 'pds' as the cv parameter in GridSearchCV/RandomizedSearchCV:\n",
    "\n",
    "split_index = [-1 if x in X_train.index else 0 for x in X_trainval.index]\n",
    "pds = PredefinedSplit(test_fold = split_index)"
   ]
  },
  {
   "cell_type": "code",
   "execution_count": 5,
   "metadata": {},
   "outputs": [],
   "source": [
    "# Split training/validation and test sets by feature categories\n",
    "\n",
    "X_trainval_uc, X_trainval_c = X_trainval[uncontrollable_columns], X_trainval[controllable_columns]\n",
    "X_test_uc, X_test_c = X_test[uncontrollable_columns], X_test[controllable_columns]\n",
    "\n",
    "# For baseline models\n",
    "X_train_uc, X_train_c = X_train[uncontrollable_columns], X_train[controllable_columns]\n",
    "X_val_uc, X_val_c = X_val[uncontrollable_columns], X_val[controllable_columns]"
   ]
  },
  {
   "cell_type": "code",
   "execution_count": 25,
   "metadata": {},
   "outputs": [],
   "source": [
    "from sklearn.preprocessing import StandardScaler\n",
    "\n",
    "# Scale features for LR\n",
    "# Note these will be used again for hyperparameter tuning, so need to scale:\n",
    "\n",
    "X_train_uc = pd.DataFrame(scaler.fit_transform(X_train_uc), columns = uncontrollable_columns)\n",
    "X_train_c = pd.DataFrame(scaler.fit_transform(X_train_c), columns = controllable_columns)\n",
    "\n",
    "X_val_uc = pd.DataFrame(scaler.fit_transform(X_val_uc), columns = uncontrollable_columns)\n",
    "X_val_c = pd.DataFrame(scaler.fit_transform(X_val_c), columns = controllable_columns)\n",
    "\n",
    "X_trainval_uc = pd.DataFrame(scaler.fit_transform(X_trainval_uc), columns = uncontrollable_columns)\n",
    "X_trainval_c = pd.DataFrame(scaler.fit_transform(X_trainval_c), columns = controllable_columns)\n",
    "\n",
    "X_test_uc = pd.DataFrame(scaler.fit_transform(X_test_uc), columns = uncontrollable_columns)\n",
    "X_test_c = pd.DataFrame(scaler.fit_transform(X_test_c), columns = controllable_columns)\n"
   ]
  },
  {
   "cell_type": "markdown",
   "metadata": {},
   "source": [
    "# MODEL TUNING"
   ]
  },
  {
   "cell_type": "code",
   "execution_count": 9,
   "metadata": {},
   "outputs": [],
   "source": [
    "from sklearn.ensemble import RandomForestClassifier, GradientBoostingClassifier\n",
    "from sklearn import svm, linear_model, metrics\n",
    "from sklearn.tree import DecisionTreeClassifier\n",
    "from sklearn.model_selection import RandomizedSearchCV, GridSearchCV"
   ]
  },
  {
   "cell_type": "markdown",
   "metadata": {},
   "source": [
    "## Uncontrollable feature models"
   ]
  },
  {
   "cell_type": "markdown",
   "metadata": {},
   "source": [
    "### Decision tree"
   ]
  },
  {
   "cell_type": "code",
   "execution_count": null,
   "metadata": {},
   "outputs": [],
   "source": []
  },
  {
   "cell_type": "markdown",
   "metadata": {},
   "source": [
    "### Logistic regression"
   ]
  },
  {
   "cell_type": "code",
   "execution_count": 30,
   "metadata": {},
   "outputs": [
    {
     "name": "stdout",
     "output_type": "stream",
     "text": [
      "Baseline LR AUC = 0.560076720080976\n"
     ]
    }
   ],
   "source": [
    "# Baseline model\n",
    "lr_uc_base = linear_model.LogisticRegression(max_iter = 2000, solver = 'liblinear')\n",
    "lr_uc_base.fit(X_train_uc, Y_train)\n",
    "Y_pred = lr_uc_base.predict_proba(X_val_uc)[:,1] # Using validation data to test baseline model\n",
    "\n",
    "fpr_lr_uc_base, tpr_lr_uc_base, thresholds_lr_uc_base = metrics.roc_curve(Y_val, Y_pred)\n",
    "auc_lr_uc_base = metrics.auc(fpr_lr_uc_base, tpr_lr_uc_base)\n",
    "\n",
    "print(\"Baseline LR AUC = {}\".format(auc_lr_uc_base))"
   ]
  },
  {
   "cell_type": "code",
   "execution_count": 33,
   "metadata": {},
   "outputs": [
    {
     "name": "stdout",
     "output_type": "stream",
     "text": [
      "Best parameters: {'solver': 'liblinear', 'penalty': 'l1', 'max_iter': 4000, 'C': 0.2520004993764092}\n",
      "AUC of best performing model: 0.5603464544217218\n"
     ]
    }
   ],
   "source": [
    "# Hyperparameter search\n",
    "\n",
    "param_grid = [\n",
    "    {'C': np.logspace(-5, 2, num = 5000), \n",
    "     'penalty': ['l1', 'l2'],\n",
    "    'solver': ['liblinear', 'saga'],\n",
    "    'max_iter': [4000]}\n",
    "]\n",
    "\n",
    "scores = ['roc_auc', 'accuracy']\n",
    "\n",
    "# Note the cv parameter 'pds'\n",
    "lr_uc_base_RS = RandomizedSearchCV(linear_model.LogisticRegression(), param_grid, scoring = scores, \n",
    "                     cv = pds, refit = scores[0], n_jobs = -1)\n",
    "lr_uc_base_RS.fit(X_trainval_uc, Y_trainval) # Note use of trainval data together for fitting\n",
    "\n",
    "print(\"Best parameters: {}\".format(lr_uc_base_RS.best_params_))\n",
    "print(\"AUC of best performing model: {}\".format(lr_uc_base_RS.best_score_))"
   ]
  },
  {
   "cell_type": "markdown",
   "metadata": {},
   "source": [
    "### Support vector machine"
   ]
  },
  {
   "cell_type": "code",
   "execution_count": 38,
   "metadata": {},
   "outputs": [
    {
     "name": "stdout",
     "output_type": "stream",
     "text": [
      "Baseline SVM AUC = 0.5609263074152422\n"
     ]
    }
   ],
   "source": [
    "# Baseline model\n",
    "svm_uc_base = svm.SVC()\n",
    "svm_uc_base.fit(X_train_uc, Y_train)\n",
    "Y_pred = svm_uc_base.decision_function(X_val_uc)\n",
    "\n",
    "fpr_svm_uc_base, tpr_svm_uc_base, thresholds_svm_uc_base = metrics.roc_curve(Y_val, Y_pred)\n",
    "auc_svm_uc_base = metrics.auc(fpr_svm_uc_base, tpr_svm_uc_base)\n",
    "\n",
    "print(\"Baseline SVM AUC = {}\".format(auc_svm_uc_base))"
   ]
  },
  {
   "cell_type": "code",
   "execution_count": 40,
   "metadata": {},
   "outputs": [
    {
     "name": "stdout",
     "output_type": "stream",
     "text": [
      "Best parameters: {'kernel': 'rbf', 'C': 25.402764157911143}\n",
      "AUC of best performing model: 0.573288899635568\n"
     ]
    }
   ],
   "source": [
    "# Hyperparameter search\n",
    "\n",
    "param_grid = [\n",
    "    {'C': np.logspace(-5, 2, num = 5000), \n",
    "     'kernel': ['linear', 'rbf', 'sigmoid', 'poly']}\n",
    "]\n",
    "\n",
    "scores = ['roc_auc', 'accuracy']\n",
    "\n",
    "# Note the cv parameter 'pds'\n",
    "svm_uc_base_RS = RandomizedSearchCV(svm.SVC(), param_grid, scoring = scores, \n",
    "                     cv = pds, refit = scores[0], n_jobs = -1)\n",
    "svm_uc_base_RS.fit(X_trainval_uc, Y_trainval) # Note use of trainval data together for fitting\n",
    "\n",
    "print(\"Best parameters: {}\".format(svm_uc_base_RS.best_params_))\n",
    "print(\"AUC of best performing model: {}\".format(svm_uc_base_RS.best_score_))"
   ]
  },
  {
   "cell_type": "markdown",
   "metadata": {},
   "source": [
    "### Gradient boosted decision tree"
   ]
  },
  {
   "cell_type": "markdown",
   "metadata": {},
   "source": [
    "### Model with Uncontrollable features"
   ]
  },
  {
   "cell_type": "code",
   "execution_count": 10,
   "metadata": {},
   "outputs": [
    {
     "name": "stdout",
     "output_type": "stream",
     "text": [
      "Baseline LR AUC = 0.5799524059190888\n"
     ]
    }
   ],
   "source": [
    "from sklearn.ensemble import GradientBoostingClassifier\n",
    "\n",
    "gbc = GradientBoostingClassifier()\n",
    "gbc.fit(X_train_uc, Y_train)\n",
    "Y_pred = gbc.predict_proba(X_val_uc)[:,1]\n",
    "\n",
    "fpr_lr_uc_base, tpr_lr_uc_base, thresholds_lr_uc_base = metrics.roc_curve(Y_val, Y_pred)\n",
    "auc_lr_uc_base = metrics.auc(fpr_lr_uc_base, tpr_lr_uc_base)\n",
    "\n",
    "print(\"Baseline LR AUC = {}\".format(auc_lr_uc_base))\n",
    "# fpr_lr_uc_base, tpr_lr_uc_base, thresholds_lr_uc_base = metrics.roc_curve(Y_val, Y_pred)\n",
    "# auc_lr_uc_base = metrics.auc(fpr_lr_uc_base, tpr_lr_uc_base)"
   ]
  },
  {
   "cell_type": "code",
   "execution_count": 11,
   "metadata": {
    "scrolled": true
   },
   "outputs": [
    {
     "data": {
      "text/plain": [
       "({'subsample': 1.0,\n",
       "  'n_estimators': 2500,\n",
       "  'min_samples_split': 0.22244897959183674,\n",
       "  'min_samples_leaf': 0.1489795918367347,\n",
       "  'max_features': 'sqrt',\n",
       "  'max_depth': 10,\n",
       "  'loss': 'deviance',\n",
       "  'learning_rate': 0.025,\n",
       "  'criterion': 'friedman_mse'},\n",
       " GradientBoostingClassifier(learning_rate=0.025, max_depth=10,\n",
       "                            max_features='sqrt',\n",
       "                            min_samples_leaf=0.1489795918367347,\n",
       "                            min_samples_split=0.22244897959183674,\n",
       "                            n_estimators=2500))"
      ]
     },
     "execution_count": 11,
     "metadata": {},
     "output_type": "execute_result"
    }
   ],
   "source": [
    "# Hyperparameter search\n",
    "from sklearn.model_selection import RandomizedSearchCV\n",
    "\n",
    "# Hyperparameters over which to search\n",
    "parameters = {\n",
    "    \"loss\":[\"deviance\"],\n",
    "    \"learning_rate\": [0.01, 0.025, 0.05, 0.075, 0.1, 0.15, 0.2],\n",
    "    \"min_samples_split\": np.linspace(0.1, 0.5, 50),\n",
    "    \"min_samples_leaf\": np.linspace(0.1, 0.5, 50),\n",
    "    \"max_depth\":[3,5,7,8,9,10],\n",
    "    \"max_features\":[\"log2\",\"sqrt\"],\n",
    "    \"criterion\": [\"friedman_mse\",  \"mae\"],\n",
    "    \"subsample\":[0.5, 0.618, 0.8, 0.85, 0.9, 0.95, 1.0],\n",
    "    \"n_estimators\": [100,200,500,1000,1500,2000,2500]\n",
    "    }\n",
    "\n",
    "scores = ['roc_auc', 'accuracy']\n",
    "\n",
    "gbc_uc_base_RS = RandomizedSearchCV(GradientBoostingClassifier(), parameters, random_state=0,scoring = scores, \n",
    "                     cv = pds, refit = scores[0], n_jobs = -1)\n",
    "\n",
    "gbc_uc_base_RS.fit(X_trainval_uc, Y_trainval)\n",
    "gbc_uc_base_RS.best_params_,gbc_uc_base_RS.best_estimator_\n",
    "# Note the cv parameter 'pds'\n",
    "# lr_uc_base_RS = RandomizedSearchCV(linear_model.LogisticRegression(), param_grid, scoring = scores, \n",
    "#                      cv = pds, refit = scores[0], n_jobs = -1)\n",
    "# lr_uc_base_RS.fit(X_trainval_uc, Y_trainval) # Note use of trainval data together"
   ]
  },
  {
   "cell_type": "code",
   "execution_count": 13,
   "metadata": {},
   "outputs": [
    {
     "name": "stdout",
     "output_type": "stream",
     "text": [
      "Uncontrollable best params LR AUC = 0.5767574001249829\n"
     ]
    }
   ],
   "source": [
    "gbc = GradientBoostingClassifier(learning_rate=0.025, max_depth=10,\n",
    "                            max_features='sqrt',\n",
    "                            min_samples_leaf=0.1489795918367347,\n",
    "                            min_samples_split=0.22244897959183674,\n",
    "                            n_estimators=2500)\n",
    "gbc.fit(X_train_uc, Y_train)\n",
    "Y_pred = gbc.predict_proba(X_val_uc)[:,1]\n",
    "\n",
    "fpr_lr_uc_base, tpr_lr_uc_base, thresholds_lr_uc_base = metrics.roc_curve(Y_val, Y_pred)\n",
    "auc_lr_uc_base = metrics.auc(fpr_lr_uc_base, tpr_lr_uc_base)\n",
    "\n",
    "print(f\"Uncontrollable best params LR AUC = {auc_lr_uc_base}\")\n",
    "# fpr_lr_uc_base, tpr_lr_uc_base, thresholds_lr_uc_base = metrics.roc_curve(Y_val, Y_pred)\n",
    "# auc_lr_uc_base = metrics.auc(fpr_lr_uc_base, tpr_lr_uc_base)"
   ]
  },
  {
   "cell_type": "code",
   "execution_count": null,
   "metadata": {},
   "outputs": [],
   "source": []
  },
  {
   "cell_type": "markdown",
   "metadata": {},
   "source": [
    "### Random forest"
   ]
  },
  {
   "cell_type": "code",
   "execution_count": null,
   "metadata": {},
   "outputs": [],
   "source": []
  },
  {
   "cell_type": "markdown",
   "metadata": {},
   "source": [
    "## Controllable feature models"
   ]
  },
  {
   "cell_type": "markdown",
   "metadata": {},
   "source": [
    "### Decision tree"
   ]
  },
  {
   "cell_type": "code",
   "execution_count": null,
   "metadata": {},
   "outputs": [],
   "source": []
  },
  {
   "cell_type": "markdown",
   "metadata": {},
   "source": [
    "### Logistic regression"
   ]
  },
  {
   "cell_type": "code",
   "execution_count": 35,
   "metadata": {},
   "outputs": [
    {
     "name": "stdout",
     "output_type": "stream",
     "text": [
      "Baseline LR AUC = 0.686077321990503\n"
     ]
    }
   ],
   "source": [
    "# Baseline model\n",
    "lr_c_base = linear_model.LogisticRegression(max_iter = 2000, solver = 'liblinear')\n",
    "lr_c_base.fit(X_train_c, Y_train)\n",
    "Y_pred = lr_c_base.predict_proba(X_val_c)[:,1] # Using validation data to test baseline model\n",
    "\n",
    "fpr_lr_c_base, tpr_lr_c_base, thresholds_lr_c_base = metrics.roc_curve(Y_val, Y_pred)\n",
    "auc_lr_c_base = metrics.auc(fpr_lr_c_base, tpr_lr_c_base)\n",
    "\n",
    "print(\"Baseline LR AUC = {}\".format(auc_lr_c_base))"
   ]
  },
  {
   "cell_type": "code",
   "execution_count": 36,
   "metadata": {},
   "outputs": [
    {
     "name": "stdout",
     "output_type": "stream",
     "text": [
      "Best parameters: {'solver': 'liblinear', 'penalty': 'l1', 'max_iter': 4000, 'C': 50.89870193519685}\n",
      "AUC of best performing model: 0.6872489094339775\n"
     ]
    }
   ],
   "source": [
    "# Hyperparameter search\n",
    "\n",
    "param_grid = [\n",
    "    {'C': np.logspace(-5, 5, num = 5000), \n",
    "     'penalty': ['l1', 'l2'],\n",
    "    'solver': ['liblinear', 'saga'],\n",
    "    'max_iter': [4000]}\n",
    "]\n",
    "\n",
    "scores = ['roc_auc', 'accuracy']\n",
    "\n",
    "# Note the cv parameter 'pds'\n",
    "lr_c_base_RS = RandomizedSearchCV(linear_model.LogisticRegression(), param_grid, scoring = scores, \n",
    "                     cv = pds, refit = scores[0], n_jobs = -1)\n",
    "lr_c_base_RS.fit(X_trainval_c, Y_trainval) # Note use of trainval data together for fitting\n",
    "\n",
    "print(\"Best parameters: {}\".format(lr_c_base_RS.best_params_))\n",
    "print(\"AUC of best performing model: {}\".format(lr_c_base_RS.best_score_))"
   ]
  },
  {
   "cell_type": "markdown",
   "metadata": {},
   "source": [
    "### Support vector machine"
   ]
  },
  {
   "cell_type": "code",
   "execution_count": 39,
   "metadata": {},
   "outputs": [
    {
     "name": "stdout",
     "output_type": "stream",
     "text": [
      "Baseline SVM AUC = 0.7005392032446993\n"
     ]
    }
   ],
   "source": [
    "# Baseline model\n",
    "svm_c_base = svm.SVC()\n",
    "svm_c_base.fit(X_train_c, Y_train)\n",
    "Y_pred = svm_c_base.decision_function(X_val_c)\n",
    "\n",
    "fpr_svm_c_base, tpr_svm_c_base, thresholds_svm_c_base = metrics.roc_curve(Y_val, Y_pred)\n",
    "auc_svm_c_base = metrics.auc(fpr_svm_c_base, tpr_svm_c_base)\n",
    "\n",
    "print(\"Baseline SVM AUC = {}\".format(auc_svm_c_base))"
   ]
  },
  {
   "cell_type": "code",
   "execution_count": 41,
   "metadata": {},
   "outputs": [
    {
     "name": "stdout",
     "output_type": "stream",
     "text": [
      "Best parameters: {'kernel': 'linear', 'C': 1.9510035139852595}\n",
      "AUC of best performing model: 0.6863120439543104\n"
     ]
    }
   ],
   "source": [
    "# Hyperparameter search\n",
    "\n",
    "param_grid = [\n",
    "    {'C': np.logspace(-5, 2, num = 5000), \n",
    "     'kernel': ['linear', 'rbf', 'sigmoid', 'poly']}\n",
    "]\n",
    "\n",
    "scores = ['roc_auc', 'accuracy']\n",
    "\n",
    "# Note the cv parameter 'pds'\n",
    "svm_c_base_RS = RandomizedSearchCV(svm.SVC(), param_grid, scoring = scores, \n",
    "                     cv = pds, refit = scores[0], n_jobs = -1)\n",
    "svm_c_base_RS.fit(X_trainval_c, Y_trainval) # Note use of trainval data together for fitting\n",
    "\n",
    "print(\"Best parameters: {}\".format(svm_c_base_RS.best_params_))\n",
    "print(\"AUC of best performing model: {}\".format(svm_c_base_RS.best_score_))"
   ]
  },
  {
   "cell_type": "markdown",
   "metadata": {},
   "source": [
    "### Gradient boosted decision tree"
   ]
  },
  {
   "cell_type": "code",
   "execution_count": 16,
   "metadata": {},
   "outputs": [
    {
     "name": "stdout",
     "output_type": "stream",
     "text": [
      "Baseline LR AUC = 0.7119472341991797\n"
     ]
    }
   ],
   "source": [
    "#Baseline model\n",
    "from sklearn.ensemble import GradientBoostingClassifier\n",
    "\n",
    "gbc = GradientBoostingClassifier()\n",
    "gbc.fit(X_train_c, Y_train)\n",
    "Y_pred = gbc.predict_proba(X_val_c)[:,1]\n",
    "\n",
    "fpr_lr_uc_base, tpr_lr_uc_base, thresholds_lr_uc_base = metrics.roc_curve(Y_val, Y_pred)\n",
    "auc_lr_uc_base = metrics.auc(fpr_lr_uc_base, tpr_lr_uc_base)\n",
    "\n",
    "print(\"Baseline LR AUC = {}\".format(auc_lr_uc_base))"
   ]
  },
  {
   "cell_type": "code",
   "execution_count": 17,
   "metadata": {},
   "outputs": [
    {
     "data": {
      "text/plain": [
       "({'subsample': 1.0,\n",
       "  'n_estimators': 2500,\n",
       "  'min_samples_split': 0.22244897959183674,\n",
       "  'min_samples_leaf': 0.1489795918367347,\n",
       "  'max_features': 'sqrt',\n",
       "  'max_depth': 10,\n",
       "  'loss': 'deviance',\n",
       "  'learning_rate': 0.025,\n",
       "  'criterion': 'friedman_mse'},\n",
       " GradientBoostingClassifier(learning_rate=0.025, max_depth=10,\n",
       "                            max_features='sqrt',\n",
       "                            min_samples_leaf=0.1489795918367347,\n",
       "                            min_samples_split=0.22244897959183674,\n",
       "                            n_estimators=2500))"
      ]
     },
     "execution_count": 17,
     "metadata": {},
     "output_type": "execute_result"
    }
   ],
   "source": [
    "# Hyperparameter search\n",
    "from sklearn.model_selection import RandomizedSearchCV\n",
    "\n",
    "# Hyperparameters over which to search\n",
    "parameters = {\n",
    "    \"loss\":[\"deviance\"],\n",
    "    \"learning_rate\": [0.01, 0.025, 0.05, 0.075, 0.1, 0.15, 0.2],\n",
    "    \"min_samples_split\": np.linspace(0.1, 0.5, 50),\n",
    "    \"min_samples_leaf\": np.linspace(0.1, 0.5, 50),\n",
    "    \"max_depth\":[3,5,7,8,9,10],\n",
    "    \"max_features\":[\"log2\",\"sqrt\"],\n",
    "    \"criterion\": [\"friedman_mse\",  \"mae\"],\n",
    "    \"subsample\":[0.5, 0.618, 0.8, 0.85, 0.9, 0.95, 1.0],\n",
    "    \"n_estimators\": [100,200,500,1000,1500,2000,2500]\n",
    "    }\n",
    "\n",
    "scores = ['roc_auc', 'accuracy']\n",
    "\n",
    "gbc_uc_base_RS = RandomizedSearchCV(GradientBoostingClassifier(), parameters, random_state=0,scoring = scores, \n",
    "                     cv = pds, refit = scores[0], n_jobs = -1)\n",
    "\n",
    "gbc_uc_base_RS.fit(X_trainval_c, Y_trainval)\n",
    "gbc_uc_base_RS.best_params_,gbc_uc_base_RS.best_estimator_\n",
    "# Note the cv parameter 'pds'\n",
    "# lr_uc_base_RS = RandomizedSearchCV(linear_model.LogisticRegression(), param_grid, scoring = scores, \n",
    "#                      cv = pds, refit = scores[0], n_jobs = -1)\n",
    "# lr_uc_base_RS.fit(X_trainval_uc, Y_trainval) # Note use of trainval data together"
   ]
  },
  {
   "cell_type": "code",
   "execution_count": 18,
   "metadata": {},
   "outputs": [
    {
     "name": "stdout",
     "output_type": "stream",
     "text": [
      "Controllable best params LR AUC = 0.7062828762427498\n"
     ]
    }
   ],
   "source": [
    "gbc =  GradientBoostingClassifier(learning_rate=0.025, max_depth=10,\n",
    "                            max_features='sqrt',\n",
    "                            min_samples_leaf=0.1489795918367347,\n",
    "                            min_samples_split=0.22244897959183674,\n",
    "                            n_estimators=2500)\n",
    "gbc.fit(X_train_c, Y_train)\n",
    "Y_pred = gbc.predict_proba(X_val_c)[:,1]\n",
    "\n",
    "fpr_lr_uc_base, tpr_lr_uc_base, thresholds_lr_uc_base = metrics.roc_curve(Y_val, Y_pred)\n",
    "auc_lr_uc_base = metrics.auc(fpr_lr_uc_base, tpr_lr_uc_base)\n",
    "\n",
    "print(f\"Controllable best params LR AUC = {auc_lr_uc_base}\")"
   ]
  },
  {
   "cell_type": "markdown",
   "metadata": {},
   "source": [
    "### Random forest"
   ]
  },
  {
   "cell_type": "code",
   "execution_count": null,
   "metadata": {},
   "outputs": [],
   "source": []
  },
  {
   "cell_type": "markdown",
   "metadata": {},
   "source": [
    "# ULTIMATE BAKEOFF\n",
    "\n",
    "## Uncontrollable"
   ]
  },
  {
   "cell_type": "code",
   "execution_count": 31,
   "metadata": {},
   "outputs": [],
   "source": [
    "\n",
    "\n",
    "from sklearn.ensemble import RandomForestClassifier, GradientBoostingClassifier\n",
    "from sklearn import svm, linear_model\n",
    "\n",
    "\n",
    "#Best models:\n",
    "\n",
    "best_rf_uc = RandomForestClassifier(criterion='entropy', n_estimators=200, \n",
    "                                    max_features=11, oob_score=True,min_samples_leaf=61,min_samples_split=1402)\n",
    "best_gb_uc = GradientBoostingClassifier(learning_rate=0.05, max_depth=7, max_features='sqrt',\n",
    "                           min_samples_leaf=0.24545454545454548,\n",
    "                           min_samples_split=0.42727272727272736,\n",
    "                           n_estimators=1000, subsample=0.9)\n",
    "best_dt_uc = DecisionTreeClassifier(criterion = 'gini', min_samples_leaf=180, min_samples_split=1050)\n",
    "best_svm_uc = svm.SVC(kernel = 'rbf', C = 0.2681812609453013)\n",
    "best_lr_uc = linear_model.LogisticRegression(C = 10**-1.5, penalty = 'l1', max_iter = 4000, solver = 'liblinear')\n",
    "\n",
    "\n",
    "models = {'RF': best_rf_uc, 'GB' : best_gb_uc, 'DT' : best_dt_uc, 'SVM': best_svm_uc, 'LR': best_lr_uc}\n"
   ]
  },
  {
   "cell_type": "code",
   "execution_count": 32,
   "metadata": {},
   "outputs": [],
   "source": [
    "from sklearn.model_selection import train_test_split\n",
    "\n",
    "X = df_all_features[uncontrollable_columns]\n",
    "Y = df_all_features['Label']\n",
    "\n",
    "X_train, X_test, Y_train, Y_test = train_test_split(X, Y, train_size=.80)"
   ]
  },
  {
   "cell_type": "code",
   "execution_count": 33,
   "metadata": {},
   "outputs": [],
   "source": [
    "from sklearn.preprocessing import StandardScaler\n",
    "\n",
    "scaler = StandardScaler().fit(X_train)\n",
    "X_train_scaled = pd.DataFrame(scaler.transform(X_train), columns = uncontrollable_columns)\n",
    "X_test_scaled = pd.DataFrame(scaler.transform(X_test), columns = uncontrollable_columns)"
   ]
  },
  {
   "cell_type": "code",
   "execution_count": 34,
   "metadata": {},
   "outputs": [],
   "source": [
    "for model in models:\n",
    "    models[model].fit(X_train, Y_train)"
   ]
  },
  {
   "cell_type": "code",
   "execution_count": 35,
   "metadata": {},
   "outputs": [],
   "source": [
    "predictions_rf = best_rf_uc.predict_proba(X_test[uncontrollable_columns])[:,1]\n",
    "predictions_gb = best_gb_uc.predict_proba(X_test[uncontrollable_columns])[:,1]\n",
    "predictions_dt = best_dt_uc.predict_proba(X_test[uncontrollable_columns])[:,1]\n",
    "predictions_svm = best_svm_uc.decision_function(X_test[uncontrollable_columns])\n",
    "predictions_lr = best_lr_uc.predict_proba(X_test[uncontrollable_columns])[:,1]\n",
    "\n",
    "predictions = {'RF': predictions_rf, 'GB' : predictions_gb, 'DT' : predictions_dt, 'SVM': predictions_svm, 'LR': predictions_lr}\n",
    "\n"
   ]
  },
  {
   "cell_type": "code",
   "execution_count": 36,
   "metadata": {},
   "outputs": [
    {
     "data": {
      "image/png": "[encoded data removed]",
      "text/plain": [
       "<Figure size 864x576 with 1 Axes>"
      ]
     },
     "metadata": {
      "needs_background": "light"
     },
     "output_type": "display_data"
    }
   ],
   "source": [
    "#Plot ROC curves of the two models\n",
    "\n",
    "import matplotlib.pyplot as plt\n",
    "%matplotlib inline\n",
    "from sklearn import linear_model, svm, metrics\n",
    "\n",
    "\n",
    "plt.figure(figsize=(12,8))\n",
    "\n",
    "for prediction in predictions:\n",
    "    fpr, tpr, thresholds = metrics.roc_curve(Y_test, predictions[prediction])\n",
    "    auc = metrics.auc(fpr,tpr)\n",
    "    label = prediction + \" AUC = %.3f\"%auc\n",
    "    plt.plot(fpr,tpr,label = label)\n",
    "    \n",
    "\n",
    "#Plot 45 degree line\n",
    "plt.plot([0,1],[0,1])\n",
    "\n",
    "plt.title('ROC')\n",
    "plt.xlabel('FPR')\n",
    "plt.ylabel('TPR')\n",
    "plt.legend()\n",
    "\n",
    "plt.show()"
   ]
  },
  {
   "cell_type": "code",
   "execution_count": null,
   "metadata": {},
   "outputs": [],
   "source": []
  },
  {
   "cell_type": "code",
   "execution_count": null,
   "metadata": {},
   "outputs": [],
   "source": []
  },
  {
   "cell_type": "markdown",
   "metadata": {},
   "source": [
    "## Controllable"
   ]
  },
  {
   "cell_type": "code",
   "execution_count": 37,
   "metadata": {},
   "outputs": [],
   "source": [
    "best_rf_c = RandomForestClassifier(criterion='entropy', max_features=8,\n",
    "                       min_samples_split=100, n_estimators=160)\n",
    "best_gb_c = GradientBoostingClassifier(n_estimators=100, max_depth=5,max_features='sqrt',\n",
    "                                                  min_samples_leaf=50,\n",
    "                                                  min_samples_split=1000,\n",
    "                                                  random_state=10,\n",
    "                                                  subsample=0.8)\n",
    "best_dt_c = DecisionTreeClassifier(criterion = 'gini', min_samples_leaf=40, min_samples_split=350)\n",
    "best_svm_c = svm.SVC(kernel = 'rbf',  C = 0.24175940791691308)\n",
    "best_lr_c = linear_model.LogisticRegression(solver = 'liblinear', penalty = 'l1', max_iter = 2000, C = 0.20151357338155584)\n",
    "\n",
    "models = {'RF': best_rf_c, 'GB' : best_gb_c, 'DT' : best_dt_c, 'SVM': best_svm_c, 'LR': best_lr_c}"
   ]
  },
  {
   "cell_type": "code",
   "execution_count": 38,
   "metadata": {},
   "outputs": [],
   "source": [
    "X = df_all_features[controllable_columns]\n",
    "Y = df_all_features['Label']\n",
    "\n",
    "X_train, X_test, Y_train, Y_test = train_test_split(X, Y, train_size=.80)"
   ]
  },
  {
   "cell_type": "code",
   "execution_count": 39,
   "metadata": {},
   "outputs": [],
   "source": [
    "scaler = StandardScaler().fit(X_train)\n",
    "X_train_scaled = pd.DataFrame(scaler.transform(X_train), columns = controllable_columns)\n",
    "X_test_scaled = pd.DataFrame(scaler.transform(X_test), columns = controllable_columns)"
   ]
  },
  {
   "cell_type": "code",
   "execution_count": 40,
   "metadata": {},
   "outputs": [],
   "source": [
    "for model in models:\n",
    "    models[model].fit(X_train, Y_train)"
   ]
  },
  {
   "cell_type": "code",
   "execution_count": 41,
   "metadata": {},
   "outputs": [],
   "source": [
    "predictions_rf = best_rf_c.predict_proba(X_test[controllable_columns])[:,1]\n",
    "predictions_gb = best_gb_c.predict_proba(X_test[controllable_columns])[:,1]\n",
    "predictions_dt = best_dt_c.predict_proba(X_test[controllable_columns])[:,1]\n",
    "predictions_svm = best_svm_c.decision_function(X_test[controllable_columns])\n",
    "predictions_lr = best_lr_c.predict_proba(X_test[controllable_columns])[:,1]\n",
    "\n",
    "predictions = {'RF': predictions_rf, 'GB' : predictions_gb, 'DT' : predictions_dt, 'SVM': predictions_svm, 'LR': predictions_lr}\n"
   ]
  },
  {
   "cell_type": "code",
   "execution_count": 42,
   "metadata": {},
   "outputs": [
    {
     "data": {
      "image/png": "[encoded data removed]",
      "text/plain": [
       "<Figure size 864x576 with 1 Axes>"
      ]
     },
     "metadata": {
      "needs_background": "light"
     },
     "output_type": "display_data"
    }
   ],
   "source": [
    "#Plot ROC curves of the two models\n",
    "\n",
    "import matplotlib.pyplot as plt\n",
    "%matplotlib inline\n",
    "from sklearn import linear_model, svm, metrics\n",
    "\n",
    "\n",
    "plt.figure(figsize=(12,8))\n",
    "\n",
    "for prediction in predictions:\n",
    "    fpr, tpr, thresholds = metrics.roc_curve(Y_test, predictions[prediction])\n",
    "    auc = metrics.auc(fpr,tpr)\n",
    "    label = prediction + \" AUC = %.3f\"%auc\n",
    "    plt.plot(fpr,tpr,label = label)\n",
    "    \n",
    "\n",
    "#Plot 45 degree line\n",
    "plt.plot([0,1],[0,1])\n",
    "\n",
    "plt.title('ROC')\n",
    "plt.xlabel('FPR')\n",
    "plt.ylabel('TPR')\n",
    "plt.legend()\n",
    "\n",
    "plt.show()"
   ]
  },
  {
   "cell_type": "markdown",
   "metadata": {},
   "source": [
    "## Winners: \n",
    "\n",
    "### Controllable: \n",
    "\n",
    "RandomForestClassifier(criterion='entropy', max_features=8,\n",
    "                       min_samples_split=100, n_estimators=160)\n",
    "\n",
    "\n",
    "### Uncontrollable:\n",
    "\n",
    "RandomForestClassifier(criterion='entropy', n_estimators=200, \n",
    "                                    max_features=11, oob_score=True,min_samples_leaf=61,min_samples_split=1402)"
   ]
  },
  {
   "cell_type": "markdown",
   "metadata": {},
   "source": [
    "## Leveraging Uncontrollable and Controllable models\n",
    "\n",
    "Basic Idea: Each location gets 2 scores - a location score and a property/quality score. We can bucket the listings into 4 buckets based on score combos"
   ]
  },
  {
   "cell_type": "code",
   "execution_count": 376,
   "metadata": {},
   "outputs": [],
   "source": [
    "#Take the full dataset and split into train and test:\n",
    "\n",
    "from sklearn.model_selection import train_test_split\n",
    "\n",
    "X = df_all_features.drop(columns=['Label'])\n",
    "Y = df_all_features['Label']\n",
    "\n",
    "X_train, X_test, Y_train, Y_test = train_test_split(X, Y, train_size=.80)"
   ]
  },
  {
   "cell_type": "code",
   "execution_count": 378,
   "metadata": {},
   "outputs": [],
   "source": [
    "#Train the location model and the property model on the Train dataset using best model parameters\n",
    "\n",
    "\n",
    "uncontrollable_columns = UC_Sampled.drop(columns='Label').columns\n",
    "rf_uncontrollable = RandomForestClassifier(criterion='entropy', n_estimators=200, \n",
    "                                    max_features=11, oob_score=True,min_samples_leaf=61,min_samples_split=1402)\n",
    "fit = rf_uncontrollable.fit(X_train[uncontrollable_columns], Y_train)\n",
    "\n",
    "controllable_columns = df_controllable_sampled.drop(columns='Label').columns\n",
    "rf_controllable = RandomForestClassifier(criterion='entropy', max_features=8,\n",
    "                       min_samples_split=100, n_estimators=160)\n",
    "fit = rf_controllable.fit(X_train[controllable_columns], Y_train)"
   ]
  },
  {
   "cell_type": "code",
   "execution_count": 379,
   "metadata": {},
   "outputs": [
    {
     "data": {
      "image/png": "[encoded data removed]",
      "text/plain": [
       "<Figure size 864x576 with 1 Axes>"
      ]
     },
     "metadata": {
      "needs_background": "light"
     },
     "output_type": "display_data"
    }
   ],
   "source": [
    "#Plot ROC curves of the two models\n",
    "\n",
    "import matplotlib.pyplot as plt\n",
    "%matplotlib inline\n",
    "from sklearn import linear_model, svm, metrics\n",
    "\n",
    "predictions_rf_uc = rf_uncontrollable.predict_proba(X_test[uncontrollable_columns])[:,1]\n",
    "predictions_rf_c = rf_controllable.predict_proba(X_test[controllable_columns])[:,1]\n",
    "\n",
    "\n",
    "plt.figure(figsize=(12,8))\n",
    "\n",
    "#Plot LR ROC/AUC\n",
    "fpr, tpr, thresholds = metrics.roc_curve(Y_test, predictions_rf_uc)\n",
    "auc = metrics.auc(fpr,tpr)\n",
    "label = \"UC AUC = %.3f\"%auc\n",
    "plt.plot(fpr,tpr,label = label)\n",
    "\n",
    "#Plot LR ROC/AUC\n",
    "fpr, tpr, thresholds = metrics.roc_curve(Y_test, predictions_rf_c)\n",
    "auc = metrics.auc(fpr,tpr)\n",
    "label = \"C AUC = %.3f\"%auc\n",
    "plt.plot(fpr,tpr,label = label)\n",
    "\n",
    "\n",
    "#Plot 45 degree line\n",
    "plt.plot([0,1],[0,1])\n",
    "\n",
    "plt.title('ROC')\n",
    "plt.xlabel('FPR')\n",
    "plt.ylabel('TPR')\n",
    "plt.legend()\n",
    "\n",
    "plt.show()"
   ]
  },
  {
   "cell_type": "code",
   "execution_count": 380,
   "metadata": {},
   "outputs": [],
   "source": [
    "df_test_with_predictions = pd.DataFrame(Y_test)"
   ]
  },
  {
   "cell_type": "code",
   "execution_count": 381,
   "metadata": {},
   "outputs": [],
   "source": [
    "df_test_with_predictions['Location_predictions_score'] = rf_uncontrollable.predict_proba(X_test[uncontrollable_columns])[:,1]\n",
    "df_test_with_predictions['Property_predictions_score'] = rf_controllable.predict_proba(X_test[controllable_columns])[:,1]\n"
   ]
  },
  {
   "cell_type": "code",
   "execution_count": 382,
   "metadata": {},
   "outputs": [],
   "source": [
    "df_test_with_predictions['Loc_bucket'] = pd.qcut(df_test_with_predictions['Location_predictions_score'], 3, labels=[\"low\", \"medium\", \"high\"])\n",
    "\n",
    "df_test_with_predictions['Prop_bucket'] = pd.qcut(df_test_with_predictions['Property_predictions_score'], 3, labels=[\"low\", \"medium\", \"high\"])\n"
   ]
  },
  {
   "cell_type": "code",
   "execution_count": 383,
   "metadata": {},
   "outputs": [],
   "source": [
    "statistics = df_test_with_predictions.groupby(['Loc_bucket', 'Prop_bucket']).agg(['mean', 'count'])['Label']"
   ]
  },
  {
   "cell_type": "code",
   "execution_count": 384,
   "metadata": {},
   "outputs": [],
   "source": [
    "statistics['percent'] = statistics['count'] / len(df_test_with_predictions)"
   ]
  },
  {
   "cell_type": "code",
   "execution_count": 385,
   "metadata": {},
   "outputs": [
    {
     "data": {
      "text/html": [
       "<div>\n",
       "<style scoped>\n",
       "    .dataframe tbody tr th:only-of-type {\n",
       "        vertical-align: middle;\n",
       "    }\n",
       "\n",
       "    .dataframe tbody tr th {\n",
       "        vertical-align: top;\n",
       "    }\n",
       "\n",
       "    .dataframe thead th {\n",
       "        text-align: right;\n",
       "    }\n",
       "</style>\n",
       "<table border=\"1\" class=\"dataframe\">\n",
       "  <thead>\n",
       "    <tr style=\"text-align: right;\">\n",
       "      <th></th>\n",
       "      <th></th>\n",
       "      <th>mean</th>\n",
       "      <th>count</th>\n",
       "      <th>percent</th>\n",
       "    </tr>\n",
       "    <tr>\n",
       "      <th>Loc_bucket</th>\n",
       "      <th>Prop_bucket</th>\n",
       "      <th></th>\n",
       "      <th></th>\n",
       "      <th></th>\n",
       "    </tr>\n",
       "  </thead>\n",
       "  <tbody>\n",
       "    <tr>\n",
       "      <th rowspan=\"3\" valign=\"top\">low</th>\n",
       "      <th>low</th>\n",
       "      <td>0.232350</td>\n",
       "      <td>1119</td>\n",
       "      <td>0.140560</td>\n",
       "    </tr>\n",
       "    <tr>\n",
       "      <th>medium</th>\n",
       "      <td>0.475787</td>\n",
       "      <td>826</td>\n",
       "      <td>0.103756</td>\n",
       "    </tr>\n",
       "    <tr>\n",
       "      <th>high</th>\n",
       "      <td>0.644570</td>\n",
       "      <td>709</td>\n",
       "      <td>0.089059</td>\n",
       "    </tr>\n",
       "    <tr>\n",
       "      <th rowspan=\"3\" valign=\"top\">medium</th>\n",
       "      <th>low</th>\n",
       "      <td>0.249431</td>\n",
       "      <td>878</td>\n",
       "      <td>0.110288</td>\n",
       "    </tr>\n",
       "    <tr>\n",
       "      <th>medium</th>\n",
       "      <td>0.497256</td>\n",
       "      <td>911</td>\n",
       "      <td>0.114433</td>\n",
       "    </tr>\n",
       "    <tr>\n",
       "      <th>high</th>\n",
       "      <td>0.659722</td>\n",
       "      <td>864</td>\n",
       "      <td>0.108529</td>\n",
       "    </tr>\n",
       "    <tr>\n",
       "      <th rowspan=\"3\" valign=\"top\">high</th>\n",
       "      <th>low</th>\n",
       "      <td>0.336377</td>\n",
       "      <td>657</td>\n",
       "      <td>0.082527</td>\n",
       "    </tr>\n",
       "    <tr>\n",
       "      <th>medium</th>\n",
       "      <td>0.534934</td>\n",
       "      <td>916</td>\n",
       "      <td>0.115061</td>\n",
       "    </tr>\n",
       "    <tr>\n",
       "      <th>high</th>\n",
       "      <td>0.708603</td>\n",
       "      <td>1081</td>\n",
       "      <td>0.135787</td>\n",
       "    </tr>\n",
       "  </tbody>\n",
       "</table>\n",
       "</div>"
      ],
      "text/plain": [
       "                            mean  count   percent\n",
       "Loc_bucket Prop_bucket                           \n",
       "low        low          0.232350   1119  0.140560\n",
       "           medium       0.475787    826  0.103756\n",
       "           high         0.644570    709  0.089059\n",
       "medium     low          0.249431    878  0.110288\n",
       "           medium       0.497256    911  0.114433\n",
       "           high         0.659722    864  0.108529\n",
       "high       low          0.336377    657  0.082527\n",
       "           medium       0.534934    916  0.115061\n",
       "           high         0.708603   1081  0.135787"
      ]
     },
     "execution_count": 385,
     "metadata": {},
     "output_type": "execute_result"
    }
   ],
   "source": [
    "statistics"
   ]
  },
  {
   "cell_type": "markdown",
   "metadata": {},
   "source": [
    "<table style=\"height: 306px;\" width=\"637\">\n",
    "<tbody>\n",
    "<tr>\n",
    "<td style=\"width: 152px;\">&nbsp;</td>\n",
    "<td style=\"width: 152px; text-align: center;\"><strong>High Property Score</strong></td>\n",
    "<td style=\"width: 152px; text-align: center;\"><strong>Medium Property Score</strong></td>\n",
    "<td style=\"width: 153px; text-align: center;\"><strong>Low Property Score</strong></td>\n",
    "</tr>\n",
    "<tr>\n",
    "<td style=\"width: 152px; text-align: center;\"><strong>High Location Score</strong></td>\n",
    "<td style=\"width: 152px;\">\n",
    "<p>Percent of Listings: 12.1%</p>\n",
    "<p>% Actual Positives: 66.3%</p>\n",
    "</td>\n",
    "<td style=\"width: 152px;\">\n",
    "<p>Percent of Listings: 10.7%</p>\n",
    "<p>% Actual Positives: 57.4%</p>\n",
    "</td>\n",
    "<td style=\"width: 153px;\">\n",
    "<p>Percent of Listings: 8.6%</p>\n",
    "<p>% Actual Positives: 37.7%</p>\n",
    "</td>\n",
    "</tr>\n",
    "<tr>\n",
    "<td style=\"width: 152px; text-align: center;\"><strong>Medium Location Score</strong></td>\n",
    "<td style=\"width: 152px;\">Percent of Listings: 10.9%\n",
    "<p>% Actual Positives: 61.6%</p>\n",
    "</td>\n",
    "<td style=\"width: 152px;\">Percent of Listings: 11.0%\n",
    "<p>% Actual Positives: 50.2%</p>\n",
    "</td>\n",
    "<td style=\"width: 153px;\">Percent of Listings: 11.1%\n",
    "<p>% Actual Positives: 34.9%</p>\n",
    "</td>\n",
    "</tr>\n",
    "<tr>\n",
    "<td style=\"width: 152px; text-align: center;\"><strong>Low Location Score</strong></td>\n",
    "<td style=\"width: 152px;\">\n",
    "<p>Percent of Listings: 9.8%</p>\n",
    "<p>% Actual Positives: 60.5%</p>\n",
    "</td>\n",
    "<td style=\"width: 152px;\">\n",
    "<p>Percent of Listings: 11.5%</p>\n",
    "<p>% Actual Positives: 45.4%</p>\n",
    "</td>\n",
    "<td style=\"width: 153px;\">\n",
    "<p>Percent of Listings: 14.3%</p>\n",
    "<p>% Actual Positives: 25.5%</p>\n",
    "</td>\n",
    "</tr>\n",
    "</tbody>\n",
    "</table>"
   ]
  },
  {
   "cell_type": "code",
   "execution_count": null,
   "metadata": {},
   "outputs": [],
   "source": []
  }
 ],
 "metadata": {
  "kernelspec": {
   "display_name": "Python 3",
   "language": "python",
   "name": "python3"
  },
  "language_info": {
   "codemirror_mode": {
    "name": "ipython",
    "version": 3
   },
   "file_extension": ".py",
   "mimetype": "text/x-python",
   "name": "python",
   "nbconvert_exporter": "python",
   "pygments_lexer": "ipython3",
   "version": "3.8.3"
  }
 },
 "nbformat": 4,
 "nbformat_minor": 4
}
