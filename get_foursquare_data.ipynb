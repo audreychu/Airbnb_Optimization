{
 "cells": [
  {
   "cell_type": "code",
   "execution_count": 1,
   "metadata": {},
   "outputs": [],
   "source": [
    "import numpy as np\n",
    "import pandas as pd\n",
    "import helpers"
   ]
  },
  {
   "cell_type": "code",
   "execution_count": 2,
   "metadata": {},
   "outputs": [],
   "source": [
    "locs = pd.read_csv('datasets/deduped_listings_updated.csv')"
   ]
  },
  {
   "cell_type": "code",
   "execution_count": 20,
   "metadata": {},
   "outputs": [],
   "source": [
    "# List of neighborhoods for API requests\n",
    "neighs = locs.neighbourhood_cleansed.unique()\n",
    "neighs = [x for x in neighs if str(x) != 'nan']\n",
    "neighs.append('New York City')\n",
    "\n",
    "excluded_neighs = [x for x in neighs if x not in pois.neighborhood.unique()]\n",
    "expanded_neighs = locs.loc[locs['neighbourhood_cleansed'].isin(excluded_neighs), 'neighbourhood_group_cleansed'].unique()\n",
    "for x in expanded_neighs:\n",
    "    neighs.append(x)"
   ]
  },
  {
   "cell_type": "code",
   "execution_count": 27,
   "metadata": {},
   "outputs": [],
   "source": [
    "# Get general points of interest for all neighborhoods\n",
    "poi_dfs = []\n",
    "for neigh in neighs:\n",
    "    poi_dfs.append(helpers.get_cleaned_foursquare_data(neigh))\n",
    "\n",
    "pois = pd.concat(poi_dfs)"
   ]
  },
  {
   "cell_type": "code",
   "execution_count": 28,
   "metadata": {},
   "outputs": [],
   "source": [
    "pois.to_csv('datasets/foursquare_pois.csv')"
   ]
  },
  {
   "cell_type": "markdown",
   "metadata": {},
   "source": [
    "Category IDs found here: https://developer.foursquare.com/docs/build-with-foursquare/categories/"
   ]
  },
  {
   "cell_type": "code",
   "execution_count": 32,
   "metadata": {},
   "outputs": [],
   "source": [
    "# Get food points of interest for all neighborhoods\n",
    "food_dfs = []\n",
    "for neigh in neighs:\n",
    "    food_dfs.append(helpers.get_cleaned_foursquare_data(neigh, categoryId = '4d4b7105d754a06374d81259'))\n",
    "\n",
    "food_pois = pd.concat(food_dfs)"
   ]
  },
  {
   "cell_type": "code",
   "execution_count": 42,
   "metadata": {},
   "outputs": [],
   "source": [
    "food_pois.to_csv('datasets/foursquare_pois_food.csv')"
   ]
  },
  {
   "cell_type": "code",
   "execution_count": 43,
   "metadata": {},
   "outputs": [],
   "source": [
    "# Get nightlife points of interest for all neighborhoods\n",
    "nightlife_dfs = []\n",
    "for neigh in neighs:\n",
    "    nightlife_dfs.append(helpers.get_cleaned_foursquare_data(neigh, categoryId = '4d4b7105d754a06376d81259'))\n",
    "\n",
    "nightlife_pois = pd.concat(nightlife_dfs)"
   ]
  },
  {
   "cell_type": "code",
   "execution_count": 46,
   "metadata": {},
   "outputs": [],
   "source": [
    "nightlife_pois.to_csv('datasets/foursquare_pois_nightlife.csv')"
   ]
  },
  {
   "cell_type": "code",
   "execution_count": 47,
   "metadata": {},
   "outputs": [],
   "source": [
    "# Get travel and transport points of interest for all neighborhoods\n",
    "travel_dfs = []\n",
    "for neigh in neighs:\n",
    "    travel_dfs.append(helpers.get_cleaned_foursquare_data(neigh, categoryId = '4d4b7105d754a06379d81259'))\n",
    "\n",
    "travel_pois = pd.concat(travel_dfs)"
   ]
  },
  {
   "cell_type": "code",
   "execution_count": 50,
   "metadata": {},
   "outputs": [],
   "source": [
    "travel_pois.to_csv('datasets/foursquare_pois_travel.csv')"
   ]
  },
  {
   "cell_type": "code",
   "execution_count": 45,
   "metadata": {},
   "outputs": [
    {
     "data": {
      "text/plain": [
       "210"
      ]
     },
     "execution_count": 45,
     "metadata": {},
     "output_type": "execute_result"
    }
   ],
   "source": [
    "len(nightlife_pois.neighborhood.unique())"
   ]
  },
  {
   "cell_type": "code",
   "execution_count": 49,
   "metadata": {},
   "outputs": [
    {
     "data": {
      "text/plain": [
       "210"
      ]
     },
     "execution_count": 49,
     "metadata": {},
     "output_type": "execute_result"
    }
   ],
   "source": [
    "len(travel_pois.neighborhood.unique())"
   ]
  },
  {
   "cell_type": "code",
   "execution_count": null,
   "metadata": {},
   "outputs": [],
   "source": []
  }
 ],
 "metadata": {
  "kernelspec": {
   "display_name": "Python 3",
   "language": "python",
   "name": "python3"
  },
  "language_info": {
   "codemirror_mode": {
    "name": "ipython",
    "version": 3
   },
   "file_extension": ".py",
   "mimetype": "text/x-python",
   "name": "python",
   "nbconvert_exporter": "python",
   "pygments_lexer": "ipython3",
   "version": "3.7.4"
  }
 },
 "nbformat": 4,
 "nbformat_minor": 4
}
