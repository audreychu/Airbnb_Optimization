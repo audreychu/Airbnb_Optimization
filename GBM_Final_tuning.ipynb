{
 "cells": [
  {
   "cell_type": "code",
   "execution_count": 39,
   "metadata": {},
   "outputs": [],
   "source": [
    "import pandas as pd\n",
    "import numpy as np\n",
    "import matplotlib.pyplot as plt\n",
    "%matplotlib inline"
   ]
  },
  {
   "cell_type": "code",
   "execution_count": 25,
   "metadata": {},
   "outputs": [],
   "source": [
    "UC_Sampled = pd.read_csv('datasets/uncontrollable_sample.csv', index_col='id')\n",
    "df_controllable_sampled = pd.read_csv('datasets/controllable_sampled.csv', index_col = 'id')\n",
    "df_controllable_all = pd.read_csv('Faizan_scratch/Controllables/controllable_cleaned_features.csv', index_col='id')\n",
    "df_uncontrollable_all = pd.read_csv('Faizan_scratch/uncontrollable_cleaned_features.csv', index_col='id')\n",
    "\n",
    "df_all_features = df_controllable_all.merge(df_uncontrollable_all, left_index=True, right_index=True)\n",
    "df_all_features = df_all_features.drop(columns=['host_is_superhost', 'Label_y'])\n",
    "df_all_features = df_all_features.rename(columns={'Label_x':'Label'})\n",
    "\n",
    "uncontrollable_columns = UC_Sampled.drop(columns='Label').columns\n",
    "controllable_columns = df_controllable_sampled.drop(columns='Label').columns"
   ]
  },
  {
   "cell_type": "markdown",
   "metadata": {},
   "source": [
    "# DATA SPLIT"
   ]
  },
  {
   "cell_type": "code",
   "execution_count": 26,
   "metadata": {},
   "outputs": [],
   "source": [
    "from sklearn.model_selection import train_test_split, PredefinedSplit\n",
    "\n",
    "\n",
    "X_trainval, X_test, Y_trainval, Y_test = train_test_split(df_all_features.drop('Label',1), \n",
    "                                                          df_all_features['Label'],\n",
    "                                                         test_size = 0.2,\n",
    "                                                         random_state = 42)\n",
    "\n",
    "\n",
    "X_train, X_val, Y_train, Y_val = train_test_split(X_trainval, \n",
    "                                                  Y_trainval, \n",
    "                                                  test_size = 0.25, # Corresponds to 20% of total data\n",
    "                                                  random_state = 42)\n",
    "\n",
    "# Use 'pds' as the cv parameter in GridSearchCV/RandomizedSearchCV:\n",
    "\n",
    "split_index = [-1 if x in X_train.index else 0 for x in X_trainval.index]\n",
    "pds = PredefinedSplit(test_fold = split_index)"
   ]
  },
  {
   "cell_type": "code",
   "execution_count": 27,
   "metadata": {},
   "outputs": [],
   "source": [
    "# Split training/validation and test sets by feature categories\n",
    "\n",
    "X_trainval_uc, X_trainval_c = X_trainval[uncontrollable_columns], X_trainval[controllable_columns]\n",
    "X_test_uc, X_test_c = X_test[uncontrollable_columns], X_test[controllable_columns]\n",
    "\n",
    "# For baseline models\n",
    "X_train_uc, X_train_c = X_train[uncontrollable_columns], X_train[controllable_columns]\n",
    "X_val_uc, X_val_c = X_val[uncontrollable_columns], X_val[controllable_columns]"
   ]
  },
  {
   "cell_type": "code",
   "execution_count": 10,
   "metadata": {},
   "outputs": [],
   "source": [
    "from sklearn.preprocessing import StandardScaler\n",
    "\n",
    "# Scale features for LR\n",
    "# Note these will be used again for hyperparameter tuning, so need to scale:\n",
    "\n",
    "scaler = StandardScaler()\n",
    "\n",
    "X_train_uc = pd.DataFrame(scaler.fit_transform(X_train_uc), columns = uncontrollable_columns)\n",
    "X_train_c = pd.DataFrame(scaler.fit_transform(X_train_c), columns = controllable_columns)\n",
    "\n",
    "X_val_uc = pd.DataFrame(scaler.fit_transform(X_val_uc), columns = uncontrollable_columns)\n",
    "X_val_c = pd.DataFrame(scaler.fit_transform(X_val_c), columns = controllable_columns)\n",
    "\n",
    "X_trainval_uc = pd.DataFrame(scaler.fit_transform(X_trainval_uc), columns = uncontrollable_columns)\n",
    "X_trainval_c = pd.DataFrame(scaler.fit_transform(X_trainval_c), columns = controllable_columns)\n",
    "\n",
    "X_test_uc = pd.DataFrame(scaler.fit_transform(X_test_uc), columns = uncontrollable_columns)\n",
    "X_test_c = pd.DataFrame(scaler.fit_transform(X_test_c), columns = controllable_columns)\n"
   ]
  },
  {
   "cell_type": "markdown",
   "metadata": {},
   "source": [
    "# MODEL TUNING"
   ]
  },
  {
   "cell_type": "code",
   "execution_count": 36,
   "metadata": {},
   "outputs": [],
   "source": [
    "from sklearn.ensemble import RandomForestClassifier, GradientBoostingClassifier\n",
    "from sklearn import svm, linear_model, metrics\n",
    "from sklearn.tree import DecisionTreeClassifier\n",
    "from sklearn.model_selection import RandomizedSearchCV, GridSearchCV"
   ]
  },
  {
   "cell_type": "markdown",
   "metadata": {},
   "source": [
    "## Uncontrollable feature models"
   ]
  },
  {
   "cell_type": "markdown",
   "metadata": {},
   "source": [
    "### Decision tree"
   ]
  },
  {
   "cell_type": "code",
   "execution_count": 29,
   "metadata": {},
   "outputs": [
    {
     "name": "stdout",
     "output_type": "stream",
     "text": [
      "Baseline LR AUC = 0.5260262039201729\n"
     ]
    }
   ],
   "source": [
    "#Baseline model\n",
    "dt_uc_base = DecisionTreeClassifier(criterion = 'entropy')\n",
    "fit = dt_uc_base.fit(X_train_uc, Y_train)\n",
    "Y_pred = dt_uc_base.predict_proba(X_val_uc)[:,1]\n",
    "\n",
    "fpr_dt_uc_base, tpr_dt_uc_base, thresholds_dt_uc_base = metrics.roc_curve(Y_val, Y_pred)\n",
    "auc_dt_uc_base = metrics.auc(fpr_dt_uc_base, tpr_dt_uc_base)\n",
    "\n",
    "print(\"Baseline LR AUC = {}\".format(auc_dt_uc_base))"
   ]
  },
  {
   "cell_type": "code",
   "execution_count": 35,
   "metadata": {},
   "outputs": [
    {
     "data": {
      "image/png": "[encoded data removed]",
      "text/plain": [
       "<Figure size 720x360 with 1 Axes>"
      ]
     },
     "metadata": {
      "needs_background": "light"
     },
     "output_type": "display_data"
    }
   ],
   "source": [
    "import matplotlib.pyplot as plt\n",
    "%matplotlib inline\n",
    "\n",
    "#Get feature importances\n",
    "feature_mi = dt_uc_base.feature_importances_\n",
    "\n",
    "#Sort indices\n",
    "featureinds = feature_mi.argsort()\n",
    "\n",
    "plt.figure(figsize=(10,5))\n",
    "plt.title(\"Feature Importance\")\n",
    "\n",
    "#Plot features in order of importance\n",
    "plt.bar(X_train_uc.columns.values[featureinds[::-1]][:10],feature_mi[featureinds[::-1]][:10])\n",
    "plt.xticks(X_train_uc.columns.values[featureinds[::-1]][:10],rotation=\"90\")\n",
    "plt.xlabel('Features')\n",
    "plt.ylabel('Importance')\n",
    "\n",
    "plt.show()\n"
   ]
  },
  {
   "cell_type": "code",
   "execution_count": 33,
   "metadata": {},
   "outputs": [
    {
     "data": {
      "text/plain": [
       "array(['guests_included', 'accommodates', 'host_listings_count',\n",
       "       'bedrooms', 'bathrooms', 'beds', 'host_identity_verified',\n",
       "       'host_response_rate', 'host_has_profile_pic', 'price'],\n",
       "      dtype=object)"
      ]
     },
     "execution_count": 33,
     "metadata": {},
     "output_type": "execute_result"
    }
   ],
   "source": [
    "X_train.columns.values[featureinds[::-1]][:10]"
   ]
  },
  {
   "cell_type": "code",
   "execution_count": 83,
   "metadata": {},
   "outputs": [
    {
     "data": {
      "text/plain": [
       "GridSearchCV(cv=PredefinedSplit(test_fold=array([-1, -1, ..., -1,  0])),\n",
       "             estimator=DecisionTreeClassifier(), n_jobs=-1,\n",
       "             param_grid={'criterion': ['gini', 'entropy'],\n",
       "                         'min_samples_leaf': array([0.001     , 0.00302041, 0.00504082, 0.00706122, 0.00908163,\n",
       "       0.01110204, 0.01312245, 0.01514286, 0.01716327, 0.01918367,\n",
       "       0.02120408, 0.02322449, 0.0252449 , 0.02726531, 0.02928571,\n",
       "       0.03130612...\n",
       "       0.08755102, 0.09142857, 0.09530612, 0.09918367, 0.10306122,\n",
       "       0.10693878, 0.11081633, 0.11469388, 0.11857143, 0.12244898,\n",
       "       0.12632653, 0.13020408, 0.13408163, 0.13795918, 0.14183673,\n",
       "       0.14571429, 0.14959184, 0.15346939, 0.15734694, 0.16122449,\n",
       "       0.16510204, 0.16897959, 0.17285714, 0.17673469, 0.18061224,\n",
       "       0.1844898 , 0.18836735, 0.1922449 , 0.19612245, 0.2       ])},\n",
       "             refit='roc_auc', scoring='roc_auc')"
      ]
     },
     "execution_count": 83,
     "metadata": {},
     "output_type": "execute_result"
    }
   ],
   "source": [
    "dt_parameters = {\n",
    "    \"min_samples_split\": np.linspace(0.01, 0.2, 50),\n",
    "    \"min_samples_leaf\": np.linspace(0.001, 0.1, 50),\n",
    "    \"criterion\": ['gini', 'entropy']\n",
    "    }\n",
    "\n",
    "# Note the cv parameter 'pds'\n",
    "dt_uc_base_GS = GridSearchCV(DecisionTreeClassifier(), dt_parameters, scoring = 'roc_auc', \n",
    "                     cv = pds, refit = 'roc_auc', n_jobs = -1)\n",
    "dt_uc_base_GS.fit(X_trainval_uc, Y_trainval) # Note use of trainval data together"
   ]
  },
  {
   "cell_type": "code",
   "execution_count": 84,
   "metadata": {},
   "outputs": [
    {
     "name": "stdout",
     "output_type": "stream",
     "text": [
      "DecisionTreeClassifier(criterion='entropy',\n",
      "                       min_samples_leaf=0.0030204081632653063,\n",
      "                       min_samples_split=0.03326530612244898)\n",
      "{'criterion': 'entropy', 'min_samples_leaf': 0.0030204081632653063, 'min_samples_split': 0.03326530612244898}\n",
      "Best AUC is 0.5814839446132004\n"
     ]
    }
   ],
   "source": [
    "print(dt_uc_base_GS.best_estimator_)\n",
    "print(dt_uc_base_GS.best_params_)\n",
    "print(\"Best AUC is \" + str(dt_uc_base_GS.best_score_))"
   ]
  },
  {
   "cell_type": "markdown",
   "metadata": {},
   "source": [
    "### Logistic regression"
   ]
  },
  {
   "cell_type": "code",
   "execution_count": 30,
   "metadata": {},
   "outputs": [
    {
     "name": "stdout",
     "output_type": "stream",
     "text": [
      "Baseline LR AUC = 0.560076720080976\n"
     ]
    }
   ],
   "source": [
    "# Baseline model\n",
    "lr_uc_base = linear_model.LogisticRegression(max_iter = 2000, solver = 'liblinear')\n",
    "lr_uc_base.fit(X_train_uc, Y_train)\n",
    "Y_pred = lr_uc_base.predict_proba(X_val_uc)[:,1] # Using validation data to test baseline model\n",
    "\n",
    "fpr_lr_uc_base, tpr_lr_uc_base, thresholds_lr_uc_base = metrics.roc_curve(Y_val, Y_pred)\n",
    "auc_lr_uc_base = metrics.auc(fpr_lr_uc_base, tpr_lr_uc_base)\n",
    "\n",
    "print(\"Baseline LR AUC = {}\".format(auc_lr_uc_base))"
   ]
  },
  {
   "cell_type": "code",
   "execution_count": 33,
   "metadata": {},
   "outputs": [
    {
     "name": "stdout",
     "output_type": "stream",
     "text": [
      "Best parameters: {'solver': 'liblinear', 'penalty': 'l1', 'max_iter': 4000, 'C': 0.2520004993764092}\n",
      "AUC of best performing model: 0.5603464544217218\n"
     ]
    }
   ],
   "source": [
    "# Hyperparameter search\n",
    "\n",
    "param_grid = [\n",
    "    {'C': np.logspace(-5, 2, num = 5000), \n",
    "     'penalty': ['l1', 'l2'],\n",
    "    'solver': ['liblinear', 'saga'],\n",
    "    'max_iter': [4000]}\n",
    "]\n",
    "\n",
    "scores = ['roc_auc', 'accuracy']\n",
    "\n",
    "# Note the cv parameter 'pds'\n",
    "lr_uc_base_RS = RandomizedSearchCV(linear_model.LogisticRegression(), param_grid, scoring = scores, \n",
    "                     cv = pds, refit = scores[0], n_jobs = -1)\n",
    "lr_uc_base_RS.fit(X_trainval_uc, Y_trainval) # Note use of trainval data together for fitting\n",
    "\n",
    "print(\"Best parameters: {}\".format(lr_uc_base_RS.best_params_))\n",
    "print(\"AUC of best performing model: {}\".format(lr_uc_base_RS.best_score_))"
   ]
  },
  {
   "cell_type": "markdown",
   "metadata": {},
   "source": [
    "### Support vector machine"
   ]
  },
  {
   "cell_type": "code",
   "execution_count": 38,
   "metadata": {},
   "outputs": [
    {
     "name": "stdout",
     "output_type": "stream",
     "text": [
      "Baseline SVM AUC = 0.5609263074152422\n"
     ]
    }
   ],
   "source": [
    "# Baseline model\n",
    "svm_uc_base = svm.SVC()\n",
    "svm_uc_base.fit(X_train_uc, Y_train)\n",
    "Y_pred = svm_uc_base.decision_function(X_val_uc)\n",
    "\n",
    "fpr_svm_uc_base, tpr_svm_uc_base, thresholds_svm_uc_base = metrics.roc_curve(Y_val, Y_pred)\n",
    "auc_svm_uc_base = metrics.auc(fpr_svm_uc_base, tpr_svm_uc_base)\n",
    "\n",
    "print(\"Baseline SVM AUC = {}\".format(auc_svm_uc_base))"
   ]
  },
  {
   "cell_type": "code",
   "execution_count": 40,
   "metadata": {},
   "outputs": [
    {
     "name": "stdout",
     "output_type": "stream",
     "text": [
      "Best parameters: {'kernel': 'rbf', 'C': 25.402764157911143}\n",
      "AUC of best performing model: 0.573288899635568\n"
     ]
    }
   ],
   "source": [
    "# Hyperparameter search\n",
    "\n",
    "param_grid = [\n",
    "    {'C': np.logspace(-5, 2, num = 5000), \n",
    "     'kernel': ['linear', 'rbf', 'sigmoid', 'poly']}\n",
    "]\n",
    "\n",
    "scores = ['roc_auc', 'accuracy']\n",
    "\n",
    "# Note the cv parameter 'pds'\n",
    "svm_uc_base_RS = RandomizedSearchCV(svm.SVC(), param_grid, scoring = scores, \n",
    "                     cv = pds, refit = scores[0], n_jobs = -1)\n",
    "svm_uc_base_RS.fit(X_trainval_uc, Y_trainval) # Note use of trainval data together for fitting\n",
    "\n",
    "print(\"Best parameters: {}\".format(svm_uc_base_RS.best_params_))\n",
    "print(\"AUC of best performing model: {}\".format(svm_uc_base_RS.best_score_))"
   ]
  },
  {
   "cell_type": "markdown",
   "metadata": {},
   "source": [
    "### Gradient boosted decision tree"
   ]
  },
  {
   "cell_type": "markdown",
   "metadata": {},
   "source": [
    "### Model with Uncontrollable features"
   ]
  },
  {
   "cell_type": "code",
   "execution_count": 37,
   "metadata": {},
   "outputs": [
    {
     "name": "stdout",
     "output_type": "stream",
     "text": [
      "Baseline LR AUC = 0.5796232010969364\n"
     ]
    }
   ],
   "source": [
    "from sklearn.ensemble import GradientBoostingClassifier\n",
    "\n",
    "gbc = GradientBoostingClassifier()\n",
    "gbc.fit(X_train_uc, Y_train)\n",
    "Y_pred = gbc.predict_proba(X_val_uc)[:,1]\n",
    "\n",
    "fpr_lr_uc_base, tpr_lr_uc_base, thresholds_lr_uc_base = metrics.roc_curve(Y_val, Y_pred)\n",
    "auc_lr_uc_base = metrics.auc(fpr_lr_uc_base, tpr_lr_uc_base)\n",
    "\n",
    "print(\"Baseline LR AUC = {}\".format(auc_lr_uc_base))\n",
    "# fpr_lr_uc_base, tpr_lr_uc_base, thresholds_lr_uc_base = metrics.roc_curve(Y_val, Y_pred)\n",
    "# auc_lr_uc_base = metrics.auc(fpr_lr_uc_base, tpr_lr_uc_base)"
   ]
  },
  {
   "cell_type": "code",
   "execution_count": 38,
   "metadata": {},
   "outputs": [],
   "source": [
    "n_estimators = range(50,1500,50)\n",
    "auc = []\n",
    "for n in n_estimators:\n",
    "    gbc = GradientBoostingClassifier(n_estimators=n)\n",
    "    gbc.fit(X_train_uc, Y_train)\n",
    "    Y_pred = gbc.predict_proba(X_val_uc)[:,1]\n",
    "\n",
    "    fpr_lr_uc_base, tpr_lr_uc_base, thresholds_lr_uc_base = metrics.roc_curve(Y_val, Y_pred)\n",
    "    auc_lr_uc_base = metrics.auc(fpr_lr_uc_base, tpr_lr_uc_base)\n",
    "    auc.append(auc_lr_uc_base)\n",
    "    #print(\"Baseline LR AUC = {}\".format(auc_lr_uc_base))\n",
    "# fpr_lr_uc_base, tpr_lr_uc_base, thresholds_lr_uc"
   ]
  },
  {
   "cell_type": "code",
   "execution_count": 40,
   "metadata": {},
   "outputs": [
    {
     "data": {
      "text/plain": [
       "Text(0.5, 1.0, \"AUC's for different n_Estimators for a learning rate of 0.1\")"
      ]
     },
     "execution_count": 40,
     "metadata": {},
     "output_type": "execute_result"
    },
    {
     "data": {
      "image/png": "[encoded data removed]",
      "text/plain": [
       "<Figure size 432x288 with 1 Axes>"
      ]
     },
     "metadata": {
      "needs_background": "light"
     },
     "output_type": "display_data"
    }
   ],
   "source": [
    "plt.plot(n_estimators,auc)\n",
    "plt.title('AUC\\'s for different n_Estimators for a learning rate of 0.1')"
   ]
  },
  {
   "cell_type": "code",
   "execution_count": 42,
   "metadata": {},
   "outputs": [],
   "source": [
    "min_sample_split = np.linspace(0.01,0.5,12)\n",
    "auc_mss = []\n",
    "for m in min_sample_split:\n",
    "    gbc = GradientBoostingClassifier(n_estimators=550, min_samples_split=m)\n",
    "    gbc.fit(X_train_uc, Y_train)\n",
    "    Y_pred = gbc.predict_proba(X_val_uc)[:,1]\n",
    "\n",
    "    fpr_lr_uc_base, tpr_lr_uc_base, thresholds_lr_uc_base = metrics.roc_curve(Y_val, Y_pred)\n",
    "    auc_lr_uc_base = metrics.auc(fpr_lr_uc_base, tpr_lr_uc_base)\n",
    "    auc_mss.append(auc_lr_uc_base)"
   ]
  },
  {
   "cell_type": "code",
   "execution_count": 43,
   "metadata": {},
   "outputs": [
    {
     "data": {
      "text/plain": [
       "[<matplotlib.lines.Line2D at 0x7f06aa183640>]"
      ]
     },
     "execution_count": 43,
     "metadata": {},
     "output_type": "execute_result"
    },
    {
     "data": {
      "image/png": "[encoded data removed]",
      "text/plain": [
       "<Figure size 432x288 with 1 Axes>"
      ]
     },
     "metadata": {
      "needs_background": "light"
     },
     "output_type": "display_data"
    }
   ],
   "source": [
    "plt.plot(min_sample_split,auc_mss)"
   ]
  },
  {
   "cell_type": "code",
   "execution_count": 44,
   "metadata": {},
   "outputs": [],
   "source": [
    "min_sample_leaf = np.linspace(0.001,0.5,12)\n",
    "auc_msl = []\n",
    "for m in min_sample_leaf:\n",
    "    gbc = GradientBoostingClassifier(n_estimators=550, min_samples_leaf=0.05)\n",
    "    gbc.fit(X_train_uc, Y_train)\n",
    "    Y_pred = gbc.predict_proba(X_val_uc)[:,1]\n",
    "\n",
    "    fpr_lr_uc_base, tpr_lr_uc_base, thresholds_lr_uc_base = metrics.roc_curve(Y_val, Y_pred)\n",
    "    auc_lr_uc_base = metrics.auc(fpr_lr_uc_base, tpr_lr_uc_base)\n",
    "    auc_msl.append(auc_lr_uc_base)"
   ]
  },
  {
   "cell_type": "code",
   "execution_count": 45,
   "metadata": {},
   "outputs": [
    {
     "data": {
      "text/plain": [
       "[<matplotlib.lines.Line2D at 0x7f06aecd4e50>]"
      ]
     },
     "execution_count": 45,
     "metadata": {},
     "output_type": "execute_result"
    },
    {
     "data": {
      "image/png": "[encoded data removed]",
      "text/plain": [
       "<Figure size 432x288 with 1 Axes>"
      ]
     },
     "metadata": {
      "needs_background": "light"
     },
     "output_type": "display_data"
    }
   ],
   "source": [
    "plt.plot(min_sample_leaf,auc_msl)"
   ]
  },
  {
   "cell_type": "code",
   "execution_count": 46,
   "metadata": {},
   "outputs": [],
   "source": [
    "max_depth = [5,10,15,20,25]\n",
    "auc_msd = []\n",
    "for m in max_depth:\n",
    "    gbc = GradientBoostingClassifier(n_estimators=550, min_samples_leaf=0.05,min_samples_split=0.01,max_depth=m)\n",
    "    gbc.fit(X_train_uc, Y_train)\n",
    "    Y_pred = gbc.predict_proba(X_val_uc)[:,1]\n",
    "\n",
    "    fpr_lr_uc_base, tpr_lr_uc_base, thresholds_lr_uc_base = metrics.roc_curve(Y_val, Y_pred)\n",
    "    auc_lr_uc_base = metrics.auc(fpr_lr_uc_base, tpr_lr_uc_base)\n",
    "    auc_msd.append(auc_lr_uc_base)"
   ]
  },
  {
   "cell_type": "code",
   "execution_count": 48,
   "metadata": {},
   "outputs": [
    {
     "data": {
      "text/plain": [
       "[<matplotlib.lines.Line2D at 0x7f06a98b7310>]"
      ]
     },
     "execution_count": 48,
     "metadata": {},
     "output_type": "execute_result"
    },
    {
     "data": {
      "image/png": "[encoded data removed]",
      "text/plain": [
       "<Figure size 432x288 with 1 Axes>"
      ]
     },
     "metadata": {
      "needs_background": "light"
     },
     "output_type": "display_data"
    }
   ],
   "source": [
    "plt.plot(max_depth,auc_msd)"
   ]
  },
  {
   "cell_type": "code",
   "execution_count": 68,
   "metadata": {},
   "outputs": [
    {
     "data": {
      "text/plain": [
       "Text(0.5, 1.0, 'max_depth for learning rate=0.1')"
      ]
     },
     "execution_count": 68,
     "metadata": {},
     "output_type": "execute_result"
    },
    {
     "data": {
      "image/png": "[encoded data removed]",
      "text/plain": [
       "<Figure size 1080x720 with 4 Axes>"
      ]
     },
     "metadata": {
      "needs_background": "light"
     },
     "output_type": "display_data"
    }
   ],
   "source": [
    "fig, ax = plt.subplots(2,2,figsize=(15,10))\n",
    "fig.suptitle('AUC vs varying different Hyper Parameters at a time')\n",
    "ax[0][0].plot(n_estimators,auc)\n",
    "ax[0][1].plot(min_sample_split,auc_mss)\n",
    "ax[1][0].plot(min_sample_leaf,auc_msl)\n",
    "ax[1][1].plot(max_depth,auc_msd)\n",
    "\n",
    "ax[0][0].set_title('Different n_estimaters for learning rate=0.1')\n",
    "ax[0][1].set_title('min_samples_split for learning rate=0.1')\n",
    "ax[1][0].set_title('min_samples_leaf for learning rate=0.1')\n",
    "ax[1][1].set_title('max_depth for learning rate=0.1')"
   ]
  },
  {
   "cell_type": "code",
   "execution_count": 58,
   "metadata": {
    "scrolled": true
   },
   "outputs": [
    {
     "ename": "KeyboardInterrupt",
     "evalue": "",
     "output_type": "error",
     "traceback": [
      "\u001b[0;31m---------------------------------------------------------------------------\u001b[0m",
      "\u001b[0;31mKeyboardInterrupt\u001b[0m                         Traceback (most recent call last)",
      "\u001b[0;32m<ipython-input-58-facc76dc50b5>\u001b[0m in \u001b[0;36m<module>\u001b[0;34m\u001b[0m\n\u001b[1;32m     20\u001b[0m                      cv = pds, refit = scores[0], n_jobs = -1)\n\u001b[1;32m     21\u001b[0m \u001b[0;34m\u001b[0m\u001b[0m\n\u001b[0;32m---> 22\u001b[0;31m \u001b[0mgbc_uc_base_RS\u001b[0m\u001b[0;34m.\u001b[0m\u001b[0mfit\u001b[0m\u001b[0;34m(\u001b[0m\u001b[0mX_trainval_uc\u001b[0m\u001b[0;34m,\u001b[0m \u001b[0mY_trainval\u001b[0m\u001b[0;34m)\u001b[0m\u001b[0;34m\u001b[0m\u001b[0;34m\u001b[0m\u001b[0m\n\u001b[0m\u001b[1;32m     23\u001b[0m \u001b[0mgbc_uc_base_RS\u001b[0m\u001b[0;34m.\u001b[0m\u001b[0mbest_params_\u001b[0m\u001b[0;34m,\u001b[0m\u001b[0mgbc_uc_base_RS\u001b[0m\u001b[0;34m.\u001b[0m\u001b[0mbest_estimator_\u001b[0m\u001b[0;34m\u001b[0m\u001b[0;34m\u001b[0m\u001b[0m\n\u001b[1;32m     24\u001b[0m \u001b[0;31m# Note the cv parameter 'pds'\u001b[0m\u001b[0;34m\u001b[0m\u001b[0;34m\u001b[0m\u001b[0;34m\u001b[0m\u001b[0m\n",
      "\u001b[0;32m~/anaconda3/lib/python3.8/site-packages/sklearn/utils/validation.py\u001b[0m in \u001b[0;36minner_f\u001b[0;34m(*args, **kwargs)\u001b[0m\n\u001b[1;32m     71\u001b[0m                           FutureWarning)\n\u001b[1;32m     72\u001b[0m         \u001b[0mkwargs\u001b[0m\u001b[0;34m.\u001b[0m\u001b[0mupdate\u001b[0m\u001b[0;34m(\u001b[0m\u001b[0;34m{\u001b[0m\u001b[0mk\u001b[0m\u001b[0;34m:\u001b[0m \u001b[0marg\u001b[0m \u001b[0;32mfor\u001b[0m \u001b[0mk\u001b[0m\u001b[0;34m,\u001b[0m \u001b[0marg\u001b[0m \u001b[0;32min\u001b[0m \u001b[0mzip\u001b[0m\u001b[0;34m(\u001b[0m\u001b[0msig\u001b[0m\u001b[0;34m.\u001b[0m\u001b[0mparameters\u001b[0m\u001b[0;34m,\u001b[0m \u001b[0margs\u001b[0m\u001b[0;34m)\u001b[0m\u001b[0;34m}\u001b[0m\u001b[0;34m)\u001b[0m\u001b[0;34m\u001b[0m\u001b[0;34m\u001b[0m\u001b[0m\n\u001b[0;32m---> 73\u001b[0;31m         \u001b[0;32mreturn\u001b[0m \u001b[0mf\u001b[0m\u001b[0;34m(\u001b[0m\u001b[0;34m**\u001b[0m\u001b[0mkwargs\u001b[0m\u001b[0;34m)\u001b[0m\u001b[0;34m\u001b[0m\u001b[0;34m\u001b[0m\u001b[0m\n\u001b[0m\u001b[1;32m     74\u001b[0m     \u001b[0;32mreturn\u001b[0m \u001b[0minner_f\u001b[0m\u001b[0;34m\u001b[0m\u001b[0;34m\u001b[0m\u001b[0m\n\u001b[1;32m     75\u001b[0m \u001b[0;34m\u001b[0m\u001b[0m\n",
      "\u001b[0;32m~/anaconda3/lib/python3.8/site-packages/sklearn/model_selection/_search.py\u001b[0m in \u001b[0;36mfit\u001b[0;34m(self, X, y, groups, **fit_params)\u001b[0m\n\u001b[1;32m    734\u001b[0m                 \u001b[0;32mreturn\u001b[0m \u001b[0mresults\u001b[0m\u001b[0;34m\u001b[0m\u001b[0;34m\u001b[0m\u001b[0m\n\u001b[1;32m    735\u001b[0m \u001b[0;34m\u001b[0m\u001b[0m\n\u001b[0;32m--> 736\u001b[0;31m             \u001b[0mself\u001b[0m\u001b[0;34m.\u001b[0m\u001b[0m_run_search\u001b[0m\u001b[0;34m(\u001b[0m\u001b[0mevaluate_candidates\u001b[0m\u001b[0;34m)\u001b[0m\u001b[0;34m\u001b[0m\u001b[0;34m\u001b[0m\u001b[0m\n\u001b[0m\u001b[1;32m    737\u001b[0m \u001b[0;34m\u001b[0m\u001b[0m\n\u001b[1;32m    738\u001b[0m         \u001b[0;31m# For multi-metric evaluation, store the best_index_, best_params_ and\u001b[0m\u001b[0;34m\u001b[0m\u001b[0;34m\u001b[0m\u001b[0;34m\u001b[0m\u001b[0m\n",
      "\u001b[0;32m~/anaconda3/lib/python3.8/site-packages/sklearn/model_selection/_search.py\u001b[0m in \u001b[0;36m_run_search\u001b[0;34m(self, evaluate_candidates)\u001b[0m\n\u001b[1;32m   1527\u001b[0m     \u001b[0;32mdef\u001b[0m \u001b[0m_run_search\u001b[0m\u001b[0;34m(\u001b[0m\u001b[0mself\u001b[0m\u001b[0;34m,\u001b[0m \u001b[0mevaluate_candidates\u001b[0m\u001b[0;34m)\u001b[0m\u001b[0;34m:\u001b[0m\u001b[0;34m\u001b[0m\u001b[0;34m\u001b[0m\u001b[0m\n\u001b[1;32m   1528\u001b[0m         \u001b[0;34m\"\"\"Search n_iter candidates from param_distributions\"\"\"\u001b[0m\u001b[0;34m\u001b[0m\u001b[0;34m\u001b[0m\u001b[0m\n\u001b[0;32m-> 1529\u001b[0;31m         evaluate_candidates(ParameterSampler(\n\u001b[0m\u001b[1;32m   1530\u001b[0m             \u001b[0mself\u001b[0m\u001b[0;34m.\u001b[0m\u001b[0mparam_distributions\u001b[0m\u001b[0;34m,\u001b[0m \u001b[0mself\u001b[0m\u001b[0;34m.\u001b[0m\u001b[0mn_iter\u001b[0m\u001b[0;34m,\u001b[0m\u001b[0;34m\u001b[0m\u001b[0;34m\u001b[0m\u001b[0m\n\u001b[1;32m   1531\u001b[0m             random_state=self.random_state))\n",
      "\u001b[0;32m~/anaconda3/lib/python3.8/site-packages/sklearn/model_selection/_search.py\u001b[0m in \u001b[0;36mevaluate_candidates\u001b[0;34m(candidate_params)\u001b[0m\n\u001b[1;32m    706\u001b[0m                               n_splits, n_candidates, n_candidates * n_splits))\n\u001b[1;32m    707\u001b[0m \u001b[0;34m\u001b[0m\u001b[0m\n\u001b[0;32m--> 708\u001b[0;31m                 out = parallel(delayed(_fit_and_score)(clone(base_estimator),\n\u001b[0m\u001b[1;32m    709\u001b[0m                                                        \u001b[0mX\u001b[0m\u001b[0;34m,\u001b[0m \u001b[0my\u001b[0m\u001b[0;34m,\u001b[0m\u001b[0;34m\u001b[0m\u001b[0;34m\u001b[0m\u001b[0m\n\u001b[1;32m    710\u001b[0m                                                        \u001b[0mtrain\u001b[0m\u001b[0;34m=\u001b[0m\u001b[0mtrain\u001b[0m\u001b[0;34m,\u001b[0m \u001b[0mtest\u001b[0m\u001b[0;34m=\u001b[0m\u001b[0mtest\u001b[0m\u001b[0;34m,\u001b[0m\u001b[0;34m\u001b[0m\u001b[0;34m\u001b[0m\u001b[0m\n",
      "\u001b[0;32m~/anaconda3/lib/python3.8/site-packages/joblib/parallel.py\u001b[0m in \u001b[0;36m__call__\u001b[0;34m(self, iterable)\u001b[0m\n\u001b[1;32m   1040\u001b[0m \u001b[0;34m\u001b[0m\u001b[0m\n\u001b[1;32m   1041\u001b[0m             \u001b[0;32mwith\u001b[0m \u001b[0mself\u001b[0m\u001b[0;34m.\u001b[0m\u001b[0m_backend\u001b[0m\u001b[0;34m.\u001b[0m\u001b[0mretrieval_context\u001b[0m\u001b[0;34m(\u001b[0m\u001b[0;34m)\u001b[0m\u001b[0;34m:\u001b[0m\u001b[0;34m\u001b[0m\u001b[0;34m\u001b[0m\u001b[0m\n\u001b[0;32m-> 1042\u001b[0;31m                 \u001b[0mself\u001b[0m\u001b[0;34m.\u001b[0m\u001b[0mretrieve\u001b[0m\u001b[0;34m(\u001b[0m\u001b[0;34m)\u001b[0m\u001b[0;34m\u001b[0m\u001b[0;34m\u001b[0m\u001b[0m\n\u001b[0m\u001b[1;32m   1043\u001b[0m             \u001b[0;31m# Make sure that we get a last message telling us we are done\u001b[0m\u001b[0;34m\u001b[0m\u001b[0;34m\u001b[0m\u001b[0;34m\u001b[0m\u001b[0m\n\u001b[1;32m   1044\u001b[0m             \u001b[0melapsed_time\u001b[0m \u001b[0;34m=\u001b[0m \u001b[0mtime\u001b[0m\u001b[0;34m.\u001b[0m\u001b[0mtime\u001b[0m\u001b[0;34m(\u001b[0m\u001b[0;34m)\u001b[0m \u001b[0;34m-\u001b[0m \u001b[0mself\u001b[0m\u001b[0;34m.\u001b[0m\u001b[0m_start_time\u001b[0m\u001b[0;34m\u001b[0m\u001b[0;34m\u001b[0m\u001b[0m\n",
      "\u001b[0;32m~/anaconda3/lib/python3.8/site-packages/joblib/parallel.py\u001b[0m in \u001b[0;36mretrieve\u001b[0;34m(self)\u001b[0m\n\u001b[1;32m    919\u001b[0m             \u001b[0;32mtry\u001b[0m\u001b[0;34m:\u001b[0m\u001b[0;34m\u001b[0m\u001b[0;34m\u001b[0m\u001b[0m\n\u001b[1;32m    920\u001b[0m                 \u001b[0;32mif\u001b[0m \u001b[0mgetattr\u001b[0m\u001b[0;34m(\u001b[0m\u001b[0mself\u001b[0m\u001b[0;34m.\u001b[0m\u001b[0m_backend\u001b[0m\u001b[0;34m,\u001b[0m \u001b[0;34m'supports_timeout'\u001b[0m\u001b[0;34m,\u001b[0m \u001b[0;32mFalse\u001b[0m\u001b[0;34m)\u001b[0m\u001b[0;34m:\u001b[0m\u001b[0;34m\u001b[0m\u001b[0;34m\u001b[0m\u001b[0m\n\u001b[0;32m--> 921\u001b[0;31m                     \u001b[0mself\u001b[0m\u001b[0;34m.\u001b[0m\u001b[0m_output\u001b[0m\u001b[0;34m.\u001b[0m\u001b[0mextend\u001b[0m\u001b[0;34m(\u001b[0m\u001b[0mjob\u001b[0m\u001b[0;34m.\u001b[0m\u001b[0mget\u001b[0m\u001b[0;34m(\u001b[0m\u001b[0mtimeout\u001b[0m\u001b[0;34m=\u001b[0m\u001b[0mself\u001b[0m\u001b[0;34m.\u001b[0m\u001b[0mtimeout\u001b[0m\u001b[0;34m)\u001b[0m\u001b[0;34m)\u001b[0m\u001b[0;34m\u001b[0m\u001b[0;34m\u001b[0m\u001b[0m\n\u001b[0m\u001b[1;32m    922\u001b[0m                 \u001b[0;32melse\u001b[0m\u001b[0;34m:\u001b[0m\u001b[0;34m\u001b[0m\u001b[0;34m\u001b[0m\u001b[0m\n\u001b[1;32m    923\u001b[0m                     \u001b[0mself\u001b[0m\u001b[0;34m.\u001b[0m\u001b[0m_output\u001b[0m\u001b[0;34m.\u001b[0m\u001b[0mextend\u001b[0m\u001b[0;34m(\u001b[0m\u001b[0mjob\u001b[0m\u001b[0;34m.\u001b[0m\u001b[0mget\u001b[0m\u001b[0;34m(\u001b[0m\u001b[0;34m)\u001b[0m\u001b[0;34m)\u001b[0m\u001b[0;34m\u001b[0m\u001b[0;34m\u001b[0m\u001b[0m\n",
      "\u001b[0;32m~/anaconda3/lib/python3.8/site-packages/joblib/_parallel_backends.py\u001b[0m in \u001b[0;36mwrap_future_result\u001b[0;34m(future, timeout)\u001b[0m\n\u001b[1;32m    540\u001b[0m         AsyncResults.get from multiprocessing.\"\"\"\n\u001b[1;32m    541\u001b[0m         \u001b[0;32mtry\u001b[0m\u001b[0;34m:\u001b[0m\u001b[0;34m\u001b[0m\u001b[0;34m\u001b[0m\u001b[0m\n\u001b[0;32m--> 542\u001b[0;31m             \u001b[0;32mreturn\u001b[0m \u001b[0mfuture\u001b[0m\u001b[0;34m.\u001b[0m\u001b[0mresult\u001b[0m\u001b[0;34m(\u001b[0m\u001b[0mtimeout\u001b[0m\u001b[0;34m=\u001b[0m\u001b[0mtimeout\u001b[0m\u001b[0;34m)\u001b[0m\u001b[0;34m\u001b[0m\u001b[0;34m\u001b[0m\u001b[0m\n\u001b[0m\u001b[1;32m    543\u001b[0m         \u001b[0;32mexcept\u001b[0m \u001b[0mCfTimeoutError\u001b[0m \u001b[0;32mas\u001b[0m \u001b[0me\u001b[0m\u001b[0;34m:\u001b[0m\u001b[0;34m\u001b[0m\u001b[0;34m\u001b[0m\u001b[0m\n\u001b[1;32m    544\u001b[0m             \u001b[0;32mraise\u001b[0m \u001b[0mTimeoutError\u001b[0m \u001b[0;32mfrom\u001b[0m \u001b[0me\u001b[0m\u001b[0;34m\u001b[0m\u001b[0;34m\u001b[0m\u001b[0m\n",
      "\u001b[0;32m~/anaconda3/lib/python3.8/concurrent/futures/_base.py\u001b[0m in \u001b[0;36mresult\u001b[0;34m(self, timeout)\u001b[0m\n\u001b[1;32m    432\u001b[0m                 \u001b[0;32mreturn\u001b[0m \u001b[0mself\u001b[0m\u001b[0;34m.\u001b[0m\u001b[0m__get_result\u001b[0m\u001b[0;34m(\u001b[0m\u001b[0;34m)\u001b[0m\u001b[0;34m\u001b[0m\u001b[0;34m\u001b[0m\u001b[0m\n\u001b[1;32m    433\u001b[0m \u001b[0;34m\u001b[0m\u001b[0m\n\u001b[0;32m--> 434\u001b[0;31m             \u001b[0mself\u001b[0m\u001b[0;34m.\u001b[0m\u001b[0m_condition\u001b[0m\u001b[0;34m.\u001b[0m\u001b[0mwait\u001b[0m\u001b[0;34m(\u001b[0m\u001b[0mtimeout\u001b[0m\u001b[0;34m)\u001b[0m\u001b[0;34m\u001b[0m\u001b[0;34m\u001b[0m\u001b[0m\n\u001b[0m\u001b[1;32m    435\u001b[0m \u001b[0;34m\u001b[0m\u001b[0m\n\u001b[1;32m    436\u001b[0m             \u001b[0;32mif\u001b[0m \u001b[0mself\u001b[0m\u001b[0;34m.\u001b[0m\u001b[0m_state\u001b[0m \u001b[0;32min\u001b[0m \u001b[0;34m[\u001b[0m\u001b[0mCANCELLED\u001b[0m\u001b[0;34m,\u001b[0m \u001b[0mCANCELLED_AND_NOTIFIED\u001b[0m\u001b[0;34m]\u001b[0m\u001b[0;34m:\u001b[0m\u001b[0;34m\u001b[0m\u001b[0;34m\u001b[0m\u001b[0m\n",
      "\u001b[0;32m~/anaconda3/lib/python3.8/threading.py\u001b[0m in \u001b[0;36mwait\u001b[0;34m(self, timeout)\u001b[0m\n\u001b[1;32m    300\u001b[0m         \u001b[0;32mtry\u001b[0m\u001b[0;34m:\u001b[0m    \u001b[0;31m# restore state no matter what (e.g., KeyboardInterrupt)\u001b[0m\u001b[0;34m\u001b[0m\u001b[0;34m\u001b[0m\u001b[0m\n\u001b[1;32m    301\u001b[0m             \u001b[0;32mif\u001b[0m \u001b[0mtimeout\u001b[0m \u001b[0;32mis\u001b[0m \u001b[0;32mNone\u001b[0m\u001b[0;34m:\u001b[0m\u001b[0;34m\u001b[0m\u001b[0;34m\u001b[0m\u001b[0m\n\u001b[0;32m--> 302\u001b[0;31m                 \u001b[0mwaiter\u001b[0m\u001b[0;34m.\u001b[0m\u001b[0macquire\u001b[0m\u001b[0;34m(\u001b[0m\u001b[0;34m)\u001b[0m\u001b[0;34m\u001b[0m\u001b[0;34m\u001b[0m\u001b[0m\n\u001b[0m\u001b[1;32m    303\u001b[0m                 \u001b[0mgotit\u001b[0m \u001b[0;34m=\u001b[0m \u001b[0;32mTrue\u001b[0m\u001b[0;34m\u001b[0m\u001b[0;34m\u001b[0m\u001b[0m\n\u001b[1;32m    304\u001b[0m             \u001b[0;32melse\u001b[0m\u001b[0;34m:\u001b[0m\u001b[0;34m\u001b[0m\u001b[0;34m\u001b[0m\u001b[0m\n",
      "\u001b[0;31mKeyboardInterrupt\u001b[0m: "
     ]
    }
   ],
   "source": [
    "# Hyperparameter search\n",
    "from sklearn.model_selection import RandomizedSearchCV\n",
    "\n",
    "# Hyperparameters over which to search\n",
    "parameters = {\n",
    "    \"loss\":[\"deviance\"],\n",
    "    \"learning_rate\": [0.01, 0.025, 0.05, 0.075, 0.1, 0.15, 0.2],\n",
    "    \"min_samples_split\": np.linspace(0.1, 0.5, 50),\n",
    "    \"min_samples_leaf\": np.linspace(0.1, 0.5, 50),\n",
    "    \"max_depth\":[3,5,7,8,9,10],\n",
    "    \"max_features\":[\"log2\",\"sqrt\"],\n",
    "    \"criterion\": [\"friedman_mse\",  \"mae\"],\n",
    "    \"subsample\":[0.5, 0.618, 0.8, 0.85, 0.9, 0.95, 1.0],\n",
    "    \"n_estimators\": [100,200,500,1000,1500,2000,2500]\n",
    "    }\n",
    "\n",
    "scores = ['roc_auc', 'accuracy']\n",
    "\n",
    "gbc_uc_base_RS = RandomizedSearchCV(GradientBoostingClassifier(), parameters, random_state=0,scoring = scores, \n",
    "                     cv = pds, refit = scores[0], n_jobs = -1)\n",
    "\n",
    "gbc_uc_base_RS.fit(X_trainval_uc, Y_trainval)\n",
    "gbc_uc_base_RS.best_params_,gbc_uc_base_RS.best_estimator_\n",
    "# Note the cv parameter 'pds'\n",
    "# lr_uc_base_RS = RandomizedSearchCV(linear_model.LogisticRegression(), param_grid, scoring = scores, \n",
    "#                      cv = pds, refit = scores[0], n_jobs = -1)\n",
    "# lr_uc_base_RS.fit(X_trainval_uc, Y_trainval) # Note use of trainval data together"
   ]
  },
  {
   "cell_type": "code",
   "execution_count": 13,
   "metadata": {},
   "outputs": [
    {
     "name": "stdout",
     "output_type": "stream",
     "text": [
      "Uncontrollable best params LR AUC = 0.5767574001249829\n"
     ]
    }
   ],
   "source": [
    "gbc = GradientBoostingClassifier(learning_rate=0.025, max_depth=10,\n",
    "                            max_features='sqrt',\n",
    "                            min_samples_leaf=0.1489795918367347,\n",
    "                            min_samples_split=0.22244897959183674,\n",
    "                            n_estimators=2500)\n",
    "gbc.fit(X_train_uc, Y_train)\n",
    "Y_pred = gbc.predict_proba(X_val_uc)[:,1]\n",
    "\n",
    "fpr_lr_uc_base, tpr_lr_uc_base, thresholds_lr_uc_base = metrics.roc_curve(Y_val, Y_pred)\n",
    "auc_lr_uc_base = metrics.auc(fpr_lr_uc_base, tpr_lr_uc_base)\n",
    "\n",
    "print(f\"Uncontrollable best params LR AUC = {auc_lr_uc_base}\")\n",
    "# fpr_lr_uc_base, tpr_lr_uc_base, thresholds_lr_uc_base = metrics.roc_curve(Y_val, Y_pred)\n",
    "# auc_lr_uc_base = metrics.auc(fpr_lr_uc_base, tpr_lr_uc_base)"
   ]
  },
  {
   "cell_type": "code",
   "execution_count": 69,
   "metadata": {},
   "outputs": [
    {
     "data": {
      "text/plain": [
       "({'subsample': 1.0,\n",
       "  'n_estimators': 1000,\n",
       "  'min_samples_split': 0.12438775510204082,\n",
       "  'min_samples_leaf': 0.05353061224489796,\n",
       "  'max_features': 'sqrt',\n",
       "  'max_depth': 22,\n",
       "  'learning_rate': 0.025},\n",
       " GradientBoostingClassifier(learning_rate=0.025, max_depth=22,\n",
       "                            max_features='sqrt',\n",
       "                            min_samples_leaf=0.05353061224489796,\n",
       "                            min_samples_split=0.12438775510204082,\n",
       "                            n_estimators=1000),\n",
       " 0.5826079114320846)"
      ]
     },
     "execution_count": 69,
     "metadata": {},
     "output_type": "execute_result"
    }
   ],
   "source": [
    "# Hyperparameter search 2\n",
    "from sklearn.model_selection import RandomizedSearchCV\n",
    "\n",
    "# Hyperparameters over which to search\n",
    "parameters = {\n",
    "    #\"loss\":[\"deviance\"],\n",
    "    \"learning_rate\": [0.025],\n",
    "    \"min_samples_split\": np.linspace(0.005, 0.2, 50),\n",
    "    \"min_samples_leaf\": np.linspace(0.001, 0.1, 50),\n",
    "    \"max_depth\":[20,22,25,28,30],\n",
    "    \"max_features\":[\"sqrt\"],\n",
    "    #\"criterion\": [\"friedman_mse\",  \"mae\"],\n",
    "    \"subsample\":[0.5, 0.8,0.9, 1.0],\n",
    "    \"n_estimators\": [550,600,700,800,1000,1500,2000,2500]\n",
    "    }\n",
    "\n",
    "scores = ['roc_auc', 'accuracy']\n",
    "\n",
    "gbc_uc_base_RS = RandomizedSearchCV(GradientBoostingClassifier(), parameters, random_state=0,scoring = scores, \n",
    "                     cv = pds, refit = scores[0], n_jobs = -1)\n",
    "\n",
    "gbc_uc_base_RS.fit(X_trainval_uc, Y_trainval)\n",
    "gbc_uc_base_RS.best_params_,gbc_uc_base_RS.best_estimator_,gbc_uc_base_RS.best_score_\n",
    "# Note the cv parameter 'pds'\n",
    "# lr_uc_base_RS = RandomizedSearchCV(linear_model.LogisticRegression(), param_grid, scoring = scores, \n",
    "#                      cv = pds, refit = scores[0], n_jobs = -1)\n",
    "# lr_uc_base_RS.fit(X_trainval_uc, Y_trainval) # Note use of trainval data together"
   ]
  },
  {
   "cell_type": "code",
   "execution_count": 9,
   "metadata": {},
   "outputs": [
    {
     "data": {
      "text/plain": [
       "0.5884722001727108"
      ]
     },
     "execution_count": 9,
     "metadata": {},
     "output_type": "execute_result"
    }
   ],
   "source": [
    "gbc_uc_base_RS.best_score_"
   ]
  },
  {
   "cell_type": "code",
   "execution_count": 71,
   "metadata": {},
   "outputs": [
    {
     "name": "stdout",
     "output_type": "stream",
     "text": [
      "Uncontrollable best params LR AUC = 0.5825090362268135\n"
     ]
    }
   ],
   "source": [
    "gbc= GradientBoostingClassifier(learning_rate=0.025, max_depth=22,\n",
    "                            max_features='sqrt',\n",
    "                            min_samples_leaf=0.05353061224489796,\n",
    "                            min_samples_split=0.12438775510204082,\n",
    "                            n_estimators=1000)\n",
    "\n",
    "\n",
    "gbc.fit(X_train_uc, Y_train)\n",
    "Y_pred = gbc.predict_proba(X_val_uc)[:,1]\n",
    "\n",
    "fpr_lr_uc_base, tpr_lr_uc_base, thresholds_lr_uc_base = metrics.roc_curve(Y_val, Y_pred)\n",
    "auc_lr_uc_base = metrics.auc(fpr_lr_uc_base, tpr_lr_uc_base)\n",
    "\n",
    "print(f\"Uncontrollable best params LR AUC = {auc_lr_uc_base}\")"
   ]
  },
  {
   "cell_type": "code",
   "execution_count": 50,
   "metadata": {},
   "outputs": [
    {
     "name": "stdout",
     "output_type": "stream",
     "text": [
      "Uncontrollable best params LR AUC = 0.5883194160188323\n"
     ]
    }
   ],
   "source": [
    "gbc= GradientBoostingClassifier(learning_rate=0.05, max_depth=25,\n",
    "                            max_features='sqrt', min_samples_leaf=0.034,\n",
    "                            min_samples_split=0.08916666666666667,\n",
    "                            n_estimators=2000)\n",
    "\n",
    "gbc.fit(X_train_uc, Y_train)\n",
    "Y_pred = gbc.predict_proba(X_val_uc)[:,1]\n",
    "\n",
    "fpr_lr_uc_base, tpr_lr_uc_base, thresholds_lr_uc_base = metrics.roc_curve(Y_val, Y_pred)\n",
    "auc_lr_uc_base = metrics.auc(fpr_lr_uc_base, tpr_lr_uc_base)\n",
    "\n",
    "print(f\"Uncontrollable best params LR AUC = {auc_lr_uc_base}\")\n"
   ]
  },
  {
   "cell_type": "code",
   "execution_count": null,
   "metadata": {},
   "outputs": [],
   "source": [
    "# Hyperparameter search 2\n",
    "from sklearn.model_selection import RandomizedSearchCV\n",
    "\n",
    "# Hyperparameters over which to search\n",
    "parameters = {\n",
    "    \"loss\":[\"deviance\"],\n",
    "    \"learning_rate\": [0.025,0.03,0.04,0.05],\n",
    "    \"min_samples_split\": np.linspace(0.01, 0.2, 25),\n",
    "    \"min_samples_leaf\": np.linspace(0.001, 0.1, 25),\n",
    "    \"max_depth\":[10,15,18,20,25,30],\n",
    "    \"max_features\":[\"sqrt\"],\n",
    "    #\"criterion\": [\"friedman_mse\",  \"mae\"],\n",
    "    #\"subsample\":[0.5, 0.8,0.9, 1.0],\n",
    "    \"n_estimators\": [2500]\n",
    "    }\n",
    "\n",
    "scores = ['roc_auc', 'accuracy']\n",
    "\n",
    "gbc_uc_base_RS = RandomizedSearchCV(GradientBoostingClassifier(), parameters, random_state=0,scoring = scores, \n",
    "                     cv = pds, refit = scores[0], n_jobs = -1)\n",
    "\n",
    "gbc_uc_base_RS.fit(X_trainval_uc, Y_trainval)\n",
    "gbc_uc_base_RS.best_params_,gbc_uc_base_RS.best_estimator_\n",
    "# Note the cv parameter 'pds'\n",
    "# lr_uc_base_RS = RandomizedSearchCV(linear_model.LogisticRegression(), param_grid, scoring = scores, \n",
    "#                      cv = pds, refit = scores[0], n_jobs = -1)\n",
    "# lr_uc_base_RS.fit(X_trainval_uc, Y_trainval) # Note use of trainval data together"
   ]
  },
  {
   "cell_type": "markdown",
   "metadata": {},
   "source": [
    "### Random forest"
   ]
  },
  {
   "cell_type": "code",
   "execution_count": 7,
   "metadata": {},
   "outputs": [
    {
     "name": "stdout",
     "output_type": "stream",
     "text": [
      "Baseline RF AUC = 0.5753657845401523\n"
     ]
    }
   ],
   "source": [
    "# Baseline model\n",
    "rf_uc_base = RandomForestClassifier(criterion='entropy',)\n",
    "rf_uc_base.fit(X_train_uc, Y_train)\n",
    "Y_pred = rf_uc_base.predict_proba(X_val_uc)[:,1]\n",
    "\n",
    "fpr_rf_uc_base, tpr_rf_uc_base, thresholds_rf_uc_base = metrics.roc_curve(Y_val, Y_pred)\n",
    "auc_rf_uc_base = metrics.auc(fpr_rf_uc_base, tpr_rf_uc_base)\n",
    "\n",
    "print(\"Baseline RF AUC = {}\".format(auc_rf_uc_base))"
   ]
  },
  {
   "cell_type": "code",
   "execution_count": 25,
   "metadata": {},
   "outputs": [
    {
     "data": {
      "text/plain": [
       "RandomizedSearchCV(cv=PredefinedSplit(test_fold=array([-1, -1, ..., -1,  0])),\n",
       "                   estimator=RandomForestClassifier(), n_jobs=-1,\n",
       "                   param_distributions=[{'max_features': array([  1,  11,  21,  31,  41,  51,  61,  71,  81,  91, 101, 111, 121,\n",
       "       131, 141, 151, 161, 171, 181, 191]),\n",
       "                                         'min_samples_leaf': array([  1,  11,  21,  31,  41,  51,  61,  71,  81,  91, 101, 111, 121,\n",
       "       131, 141, 151, 161, 171, 181, 191]),\n",
       "                                         'min_samples_split': array([ 100,  300,  500,  700,  900, 1100, 1300, 1500, 1700, 1900]),\n",
       "                                         'n_estimators': array([  1,  11,  21,  31,  41,  51,  61,  71,  81,  91, 101, 111, 121,\n",
       "       131, 141, 151, 161, 171, 181, 191])}],\n",
       "                   refit='roc_auc', scoring=['roc_auc', 'accuracy'])"
      ]
     },
     "execution_count": 25,
     "metadata": {},
     "output_type": "execute_result"
    }
   ],
   "source": [
    "# Hyperparameters over which to search\n",
    "param_grid = [\n",
    "    {'max_features': np.arange(1,200,10)\n",
    "     ,'n_estimators': np.arange(1,200,10)\n",
    "     ,'min_samples_leaf': np.arange(1,200,10)\n",
    "     ,'min_samples_split': np.arange(100,2000,200)}\n",
    "]\n",
    "\n",
    "scores = ['roc_auc', 'accuracy']\n",
    "\n",
    "# Note the cv parameter 'pds'\n",
    "rf_uc_RS = RandomizedSearchCV(RandomForestClassifier(), param_grid, scoring = scores, \n",
    "                     cv = pds, refit = scores[0], n_jobs = -1)\n",
    "rf_uc_RS.fit(X_trainval_uc, Y_trainval) # Note use of trainval data together"
   ]
  },
  {
   "cell_type": "code",
   "execution_count": 26,
   "metadata": {},
   "outputs": [
    {
     "data": {
      "text/plain": [
       "{'n_estimators': 101,\n",
       " 'min_samples_split': 300,\n",
       " 'min_samples_leaf': 1,\n",
       " 'max_features': 161}"
      ]
     },
     "execution_count": 26,
     "metadata": {},
     "output_type": "execute_result"
    }
   ],
   "source": [
    "rf_uc_RS.best_params_"
   ]
  },
  {
   "cell_type": "code",
   "execution_count": 35,
   "metadata": {},
   "outputs": [
    {
     "name": "stdout",
     "output_type": "stream",
     "text": [
      "Best RF AUC = 0.5927739825934135\n"
     ]
    }
   ],
   "source": [
    "# Tuned model\n",
    "rf_uc_best = RandomForestClassifier(criterion='entropy',n_estimators=101\n",
    "                                    ,min_samples_split=300, min_samples_leaf=1\n",
    "                                    ,max_features=161)\n",
    "rf_uc_best.fit(X_train_uc, Y_train)\n",
    "Y_pred = rf_uc_best.predict_proba(X_val_uc)[:,1]\n",
    "\n",
    "fpr_rf_uc_best, tpr_rf_uc_best, thresholds_rf_uc_best = metrics.roc_curve(Y_val, Y_pred)\n",
    "auc_rf_uc_best = metrics.auc(fpr_rf_uc_best, tpr_rf_uc_best)\n",
    "\n",
    "print(\"Best RF AUC = {}\".format(auc_rf_uc_best))"
   ]
  },
  {
   "cell_type": "markdown",
   "metadata": {},
   "source": [
    "## Controllable feature models"
   ]
  },
  {
   "cell_type": "markdown",
   "metadata": {},
   "source": [
    "### Decision tree"
   ]
  },
  {
   "cell_type": "code",
   "execution_count": 85,
   "metadata": {},
   "outputs": [
    {
     "name": "stdout",
     "output_type": "stream",
     "text": [
      "Baseline LR AUC = 0.5650416204890913\n"
     ]
    }
   ],
   "source": [
    "#Baseline model\n",
    "dt_c_base = DecisionTreeClassifier(criterion = 'entropy')\n",
    "fit = dt_c_base.fit(X_train_c, Y_train)\n",
    "Y_pred = dt_c_base.predict_proba(X_val_c)[:,1]\n",
    "\n",
    "fpr_dt_c_base, tpr_dt_c_base, thresholds_dt_uc_base = metrics.roc_curve(Y_val, Y_pred)\n",
    "auc_dt_c_base = metrics.auc(fpr_dt_c_base, tpr_dt_c_base)\n",
    "\n",
    "print(\"Baseline LR AUC = {}\".format(auc_dt_c_base))"
   ]
  },
  {
   "cell_type": "code",
   "execution_count": 86,
   "metadata": {},
   "outputs": [
    {
     "data": {
      "text/plain": [
       "GridSearchCV(cv=PredefinedSplit(test_fold=array([-1, -1, ..., -1,  0])),\n",
       "             estimator=DecisionTreeClassifier(), n_jobs=-1,\n",
       "             param_grid={'criterion': ['gini', 'entropy'],\n",
       "                         'min_samples_leaf': array([0.001     , 0.00302041, 0.00504082, 0.00706122, 0.00908163,\n",
       "       0.01110204, 0.01312245, 0.01514286, 0.01716327, 0.01918367,\n",
       "       0.02120408, 0.02322449, 0.0252449 , 0.02726531, 0.02928571,\n",
       "       0.03130612...\n",
       "       0.08755102, 0.09142857, 0.09530612, 0.09918367, 0.10306122,\n",
       "       0.10693878, 0.11081633, 0.11469388, 0.11857143, 0.12244898,\n",
       "       0.12632653, 0.13020408, 0.13408163, 0.13795918, 0.14183673,\n",
       "       0.14571429, 0.14959184, 0.15346939, 0.15734694, 0.16122449,\n",
       "       0.16510204, 0.16897959, 0.17285714, 0.17673469, 0.18061224,\n",
       "       0.1844898 , 0.18836735, 0.1922449 , 0.19612245, 0.2       ])},\n",
       "             refit='roc_auc', scoring='roc_auc')"
      ]
     },
     "execution_count": 86,
     "metadata": {},
     "output_type": "execute_result"
    }
   ],
   "source": [
    "dt_parameters = {\n",
    "    \"min_samples_split\": np.linspace(0.01, 0.2, 50),\n",
    "    \"min_samples_leaf\": np.linspace(0.001, 0.1, 50),\n",
    "    \"criterion\": ['gini', 'entropy']\n",
    "    }\n",
    "\n",
    "# Note the cv parameter 'pds'\n",
    "dt_c_base_GS = GridSearchCV(DecisionTreeClassifier(), dt_parameters, scoring = 'roc_auc', \n",
    "                     cv = pds, refit = 'roc_auc', n_jobs = -1)\n",
    "dt_c_base_GS.fit(X_trainval_c, Y_trainval) # Note use of trainval data together"
   ]
  },
  {
   "cell_type": "code",
   "execution_count": 87,
   "metadata": {},
   "outputs": [
    {
     "name": "stdout",
     "output_type": "stream",
     "text": [
      "DecisionTreeClassifier(criterion='entropy',\n",
      "                       min_samples_leaf=0.0030204081632653063,\n",
      "                       min_samples_split=0.017755102040816328)\n",
      "{'criterion': 'entropy', 'min_samples_leaf': 0.0030204081632653063, 'min_samples_split': 0.017755102040816328}\n",
      "Best AUC is 0.6706278262698496\n"
     ]
    }
   ],
   "source": [
    "print(dt_c_base_GS.best_estimator_)\n",
    "print(dt_c_base_GS.best_params_)\n",
    "print(\"Best AUC is \" + str(dt_c_base_GS.best_score_))"
   ]
  },
  {
   "cell_type": "markdown",
   "metadata": {},
   "source": [
    "### Logistic regression"
   ]
  },
  {
   "cell_type": "code",
   "execution_count": 35,
   "metadata": {},
   "outputs": [
    {
     "name": "stdout",
     "output_type": "stream",
     "text": [
      "Baseline LR AUC = 0.686077321990503\n"
     ]
    }
   ],
   "source": [
    "# Baseline model\n",
    "lr_c_base = linear_model.LogisticRegression(max_iter = 2000, solver = 'liblinear')\n",
    "lr_c_base.fit(X_train_c, Y_train)\n",
    "Y_pred = lr_c_base.predict_proba(X_val_c)[:,1] # Using validation data to test baseline model\n",
    "\n",
    "fpr_lr_c_base, tpr_lr_c_base, thresholds_lr_c_base = metrics.roc_curve(Y_val, Y_pred)\n",
    "auc_lr_c_base = metrics.auc(fpr_lr_c_base, tpr_lr_c_base)\n",
    "\n",
    "print(\"Baseline LR AUC = {}\".format(auc_lr_c_base))"
   ]
  },
  {
   "cell_type": "code",
   "execution_count": 36,
   "metadata": {},
   "outputs": [
    {
     "name": "stdout",
     "output_type": "stream",
     "text": [
      "Best parameters: {'solver': 'liblinear', 'penalty': 'l1', 'max_iter': 4000, 'C': 50.89870193519685}\n",
      "AUC of best performing model: 0.6872489094339775\n"
     ]
    }
   ],
   "source": [
    "# Hyperparameter search\n",
    "\n",
    "param_grid = [\n",
    "    {'C': np.logspace(-5, 5, num = 5000), \n",
    "     'penalty': ['l1', 'l2'],\n",
    "    'solver': ['liblinear', 'saga'],\n",
    "    'max_iter': [4000]}\n",
    "]\n",
    "\n",
    "scores = ['roc_auc', 'accuracy']\n",
    "\n",
    "# Note the cv parameter 'pds'\n",
    "lr_c_base_RS = RandomizedSearchCV(linear_model.LogisticRegression(), param_grid, scoring = scores, \n",
    "                     cv = pds, refit = scores[0], n_jobs = -1)\n",
    "lr_c_base_RS.fit(X_trainval_c, Y_trainval) # Note use of trainval data together for fitting\n",
    "\n",
    "print(\"Best parameters: {}\".format(lr_c_base_RS.best_params_))\n",
    "print(\"AUC of best performing model: {}\".format(lr_c_base_RS.best_score_))"
   ]
  },
  {
   "cell_type": "markdown",
   "metadata": {},
   "source": [
    "### Support vector machine"
   ]
  },
  {
   "cell_type": "code",
   "execution_count": 39,
   "metadata": {},
   "outputs": [
    {
     "name": "stdout",
     "output_type": "stream",
     "text": [
      "Baseline SVM AUC = 0.7005392032446993\n"
     ]
    }
   ],
   "source": [
    "# Baseline model\n",
    "svm_c_base = svm.SVC()\n",
    "svm_c_base.fit(X_train_c, Y_train)\n",
    "Y_pred = svm_c_base.decision_function(X_val_c)\n",
    "\n",
    "fpr_svm_c_base, tpr_svm_c_base, thresholds_svm_c_base = metrics.roc_curve(Y_val, Y_pred)\n",
    "auc_svm_c_base = metrics.auc(fpr_svm_c_base, tpr_svm_c_base)\n",
    "\n",
    "print(\"Baseline SVM AUC = {}\".format(auc_svm_c_base))"
   ]
  },
  {
   "cell_type": "code",
   "execution_count": 41,
   "metadata": {},
   "outputs": [
    {
     "name": "stdout",
     "output_type": "stream",
     "text": [
      "Best parameters: {'kernel': 'linear', 'C': 1.9510035139852595}\n",
      "AUC of best performing model: 0.6863120439543104\n"
     ]
    }
   ],
   "source": [
    "# Hyperparameter search\n",
    "\n",
    "param_grid = [\n",
    "    {'C': np.logspace(-5, 2, num = 5000), \n",
    "     'kernel': ['linear', 'rbf', 'sigmoid', 'poly']}\n",
    "]\n",
    "\n",
    "scores = ['roc_auc', 'accuracy']\n",
    "\n",
    "# Note the cv parameter 'pds'\n",
    "svm_c_base_RS = RandomizedSearchCV(svm.SVC(), param_grid, scoring = scores, \n",
    "                     cv = pds, refit = scores[0], n_jobs = -1)\n",
    "svm_c_base_RS.fit(X_trainval_c, Y_trainval) # Note use of trainval data together for fitting\n",
    "\n",
    "print(\"Best parameters: {}\".format(svm_c_base_RS.best_params_))\n",
    "print(\"AUC of best performing model: {}\".format(svm_c_base_RS.best_score_))"
   ]
  },
  {
   "cell_type": "markdown",
   "metadata": {},
   "source": [
    "### Gradient boosted decision tree"
   ]
  },
  {
   "cell_type": "code",
   "execution_count": 16,
   "metadata": {},
   "outputs": [
    {
     "name": "stdout",
     "output_type": "stream",
     "text": [
      "Baseline LR AUC = 0.7119472341991797\n"
     ]
    }
   ],
   "source": [
    "#Baseline model\n",
    "from sklearn.ensemble import GradientBoostingClassifier\n",
    "\n",
    "gbc = GradientBoostingClassifier()\n",
    "gbc.fit(X_train_c, Y_train)\n",
    "Y_pred = gbc.predict_proba(X_val_c)[:,1]\n",
    "\n",
    "fpr_lr_uc_base, tpr_lr_uc_base, thresholds_lr_uc_base = metrics.roc_curve(Y_val, Y_pred)\n",
    "auc_lr_uc_base = metrics.auc(fpr_lr_uc_base, tpr_lr_uc_base)\n",
    "\n",
    "print(\"Baseline LR AUC = {}\".format(auc_lr_uc_base))"
   ]
  },
  {
   "cell_type": "code",
   "execution_count": 17,
   "metadata": {},
   "outputs": [
    {
     "data": {
      "text/plain": [
       "({'subsample': 1.0,\n",
       "  'n_estimators': 2500,\n",
       "  'min_samples_split': 0.22244897959183674,\n",
       "  'min_samples_leaf': 0.1489795918367347,\n",
       "  'max_features': 'sqrt',\n",
       "  'max_depth': 10,\n",
       "  'loss': 'deviance',\n",
       "  'learning_rate': 0.025,\n",
       "  'criterion': 'friedman_mse'},\n",
       " GradientBoostingClassifier(learning_rate=0.025, max_depth=10,\n",
       "                            max_features='sqrt',\n",
       "                            min_samples_leaf=0.1489795918367347,\n",
       "                            min_samples_split=0.22244897959183674,\n",
       "                            n_estimators=2500))"
      ]
     },
     "execution_count": 17,
     "metadata": {},
     "output_type": "execute_result"
    }
   ],
   "source": [
    "# Hyperparameter search\n",
    "from sklearn.model_selection import RandomizedSearchCV\n",
    "\n",
    "# Hyperparameters over which to search\n",
    "parameters = {\n",
    "    \"loss\":[\"deviance\"],\n",
    "    \"learning_rate\": [0.01, 0.025, 0.05, 0.075, 0.1, 0.15, 0.2],\n",
    "    \"min_samples_split\": np.linspace(0.1, 0.5, 50),\n",
    "    \"min_samples_leaf\": np.linspace(0.1, 0.5, 50),\n",
    "    \"max_depth\":[3,5,7,8,9,10],\n",
    "    \"max_features\":[\"log2\",\"sqrt\"],\n",
    "    \"criterion\": [\"friedman_mse\",  \"mae\"],\n",
    "    \"subsample\":[0.5, 0.618, 0.8, 0.85, 0.9, 0.95, 1.0],\n",
    "    \"n_estimators\": [100,200,500,1000,1500,2000,2500]\n",
    "    }\n",
    "\n",
    "scores = ['roc_auc', 'accuracy']\n",
    "\n",
    "gbc_uc_base_RS = RandomizedSearchCV(GradientBoostingClassifier(), parameters, random_state=0,scoring = scores, \n",
    "                     cv = pds, refit = scores[0], n_jobs = -1)\n",
    "\n",
    "gbc_uc_base_RS.fit(X_trainval_c, Y_trainval)\n",
    "gbc_uc_base_RS.best_params_,gbc_uc_base_RS.best_estimator_\n",
    "# Note the cv parameter 'pds'\n",
    "# lr_uc_base_RS = RandomizedSearchCV(linear_model.LogisticRegression(), param_grid, scoring = scores, \n",
    "#                      cv = pds, refit = scores[0], n_jobs = -1)\n",
    "# lr_uc_base_RS.fit(X_trainval_uc, Y_trainval) # Note use of trainval data together"
   ]
  },
  {
   "cell_type": "code",
   "execution_count": 10,
   "metadata": {},
   "outputs": [
    {
     "name": "stdout",
     "output_type": "stream",
     "text": [
      "Controllable best params LR AUC = 0.7065143434458853\n"
     ]
    }
   ],
   "source": [
    "gbc =  GradientBoostingClassifier(learning_rate=0.025, max_depth=10,\n",
    "                            max_features='sqrt',\n",
    "                            min_samples_leaf=0.1489795918367347,\n",
    "                            min_samples_split=0.22244897959183674,\n",
    "                            n_estimators=2500)\n",
    "gbc.fit(X_train_c, Y_train)\n",
    "Y_pred = gbc.predict_proba(X_val_c)[:,1]\n",
    "\n",
    "fpr_lr_uc_base, tpr_lr_uc_base, thresholds_lr_uc_base = metrics.roc_curve(Y_val, Y_pred)\n",
    "auc_lr_uc_base = metrics.auc(fpr_lr_uc_base, tpr_lr_uc_base)\n",
    "\n",
    "print(f\"Controllable best params LR AUC = {auc_lr_uc_base}\")"
   ]
  },
  {
   "cell_type": "code",
   "execution_count": 10,
   "metadata": {},
   "outputs": [
    {
     "data": {
      "text/plain": [
       "({'n_estimators': 2500,\n",
       "  'min_samples_split': 0.12083333333333333,\n",
       "  'min_samples_leaf': 0.021625000000000002,\n",
       "  'max_features': 'sqrt',\n",
       "  'max_depth': 30,\n",
       "  'loss': 'deviance',\n",
       "  'learning_rate': 0.025},\n",
       " GradientBoostingClassifier(learning_rate=0.025, max_depth=30,\n",
       "                            max_features='sqrt',\n",
       "                            min_samples_leaf=0.021625000000000002,\n",
       "                            min_samples_split=0.12083333333333333,\n",
       "                            n_estimators=2500))"
      ]
     },
     "execution_count": 10,
     "metadata": {},
     "output_type": "execute_result"
    }
   ],
   "source": [
    "# Hyperparameter search 2\n",
    "from sklearn.model_selection import RandomizedSearchCV\n",
    "\n",
    "# Hyperparameters over which to search\n",
    "parameters = {\n",
    "    \"loss\":[\"deviance\"],\n",
    "    \"learning_rate\": [0.025],\n",
    "    \"min_samples_split\": np.linspace(0.01, 0.2, 25),\n",
    "    \"min_samples_leaf\": np.linspace(0.001, 0.1, 25),\n",
    "    \"max_depth\":[10,15,18,20,25,30],\n",
    "    \"max_features\":[\"sqrt\"],\n",
    "    #\"criterion\": [\"friedman_mse\",  \"mae\"],\n",
    "    #\"subsample\":[0.5, 0.8,0.9, 1.0],\n",
    "    \"n_estimators\": [2500]\n",
    "    }\n",
    "\n",
    "scores = ['roc_auc', 'accuracy']\n",
    "\n",
    "gbc_uc_base_RS = RandomizedSearchCV(GradientBoostingClassifier(), parameters, random_state=0,scoring = scores, \n",
    "                     cv = pds, refit = scores[0], n_jobs = -1)\n",
    "\n",
    "gbc_uc_base_RS.fit(X_trainval_c, Y_trainval)\n",
    "gbc_uc_base_RS.best_params_,gbc_uc_base_RS.best_estimator_\n",
    "# Note the cv parameter 'pds'"
   ]
  },
  {
   "cell_type": "code",
   "execution_count": 11,
   "metadata": {},
   "outputs": [
    {
     "name": "stdout",
     "output_type": "stream",
     "text": [
      "Controllable best params LR AUC = 0.7191144067967998\n"
     ]
    }
   ],
   "source": [
    "gbc = GradientBoostingClassifier(learning_rate=0.025, max_depth=30,\n",
    "                            max_features='sqrt',\n",
    "                            min_samples_leaf=0.021625000000000002,\n",
    "                            min_samples_split=0.12083333333333333,\n",
    "                            n_estimators=2500)\n",
    "\n",
    "gbc.fit(X_train_c, Y_train)\n",
    "Y_pred = gbc.predict_proba(X_val_c)[:,1]\n",
    "\n",
    "fpr_lr_uc_base, tpr_lr_uc_base, thresholds_lr_uc_base = metrics.roc_curve(Y_val, Y_pred)\n",
    "auc_lr_uc_base = metrics.auc(fpr_lr_uc_base, tpr_lr_uc_base)\n",
    "\n",
    "print(f\"Controllable best params LR AUC = {auc_lr_uc_base}\")"
   ]
  },
  {
   "cell_type": "code",
   "execution_count": 70,
   "metadata": {},
   "outputs": [
    {
     "data": {
      "text/plain": [
       "({'n_estimators': 2500,\n",
       "  'min_samples_split': 0.12083333333333333,\n",
       "  'min_samples_leaf': 0.021625000000000002,\n",
       "  'max_features': 'sqrt',\n",
       "  'max_depth': 30,\n",
       "  'loss': 'deviance',\n",
       "  'learning_rate': 0.025},\n",
       " GradientBoostingClassifier(learning_rate=0.025, max_depth=30,\n",
       "                            max_features='sqrt',\n",
       "                            min_samples_leaf=0.021625000000000002,\n",
       "                            min_samples_split=0.12083333333333333,\n",
       "                            n_estimators=2500))"
      ]
     },
     "execution_count": 70,
     "metadata": {},
     "output_type": "execute_result"
    }
   ],
   "source": [
    "parameters = {\n",
    "   \"loss\":[\"deviance\"],\n",
    "    \"learning_rate\": [0.025,0.03,0.04,0.05],\n",
    "    \"min_samples_split\": np.linspace(0.01, 0.2, 25),\n",
    "    \"min_samples_leaf\": np.linspace(0.001, 0.1, 25),\n",
    "    \"max_depth\":[10,15,18,20,25,30],\n",
    "    \"max_features\":[\"sqrt\"],\n",
    "    #\"criterion\": [\"friedman_mse\",  \"mae\"],\n",
    "    #\"subsample\":[0.5, 0.8,0.9, 1.0],\n",
    "    \"n_estimators\": [2500]\n",
    "    }\n",
    "scores = ['roc_auc', 'accuracy']\n",
    "\n",
    "gbc_uc_base_RS = RandomizedSearchCV(GradientBoostingClassifier(), parameters, random_state=0,scoring = scores, \n",
    "                     cv = pds, refit = scores[0], n_jobs = -1)\n",
    "\n",
    "gbc_uc_base_RS.fit(X_trainval_c, Y_trainval)\n",
    "gbc_uc_base_RS.best_params_,gbc_uc_base_RS.best_estimator_\n"
   ]
  },
  {
   "cell_type": "markdown",
   "metadata": {},
   "source": [
    "# Random Forest"
   ]
  },
  {
   "cell_type": "code",
   "execution_count": 8,
   "metadata": {},
   "outputs": [
    {
     "name": "stdout",
     "output_type": "stream",
     "text": [
      "Baseline RF AUC = 0.7163300696405025\n"
     ]
    }
   ],
   "source": [
    "# Baseline model\n",
    "rf_c_base = RandomForestClassifier(criterion='entropy',oob_score=True)\n",
    "rf_c_base.fit(X_train_c, Y_train)\n",
    "Y_pred = rf_c_base.predict_proba(X_val_c)[:,1]\n",
    "\n",
    "fpr_rf_c_base, tpr_rf_c_base, thresholds_rf_c_base = metrics.roc_curve(Y_val, Y_pred)\n",
    "auc_rf_c_base = metrics.auc(fpr_rf_c_base, tpr_rf_c_base)\n",
    "\n",
    "print(\"Baseline RF AUC = {}\".format(auc_rf_c_base))"
   ]
  },
  {
   "cell_type": "code",
   "execution_count": 51,
   "metadata": {},
   "outputs": [
    {
     "data": {
      "text/plain": [
       "RandomizedSearchCV(cv=PredefinedSplit(test_fold=array([-1, -1, ..., -1,  0])),\n",
       "                   estimator=RandomForestClassifier(), n_jobs=-1,\n",
       "                   param_distributions=[{'max_features': array([ 1,  6, 11, 16, 21, 26, 31, 36, 41, 46, 51, 56, 61]),\n",
       "                                         'min_samples_leaf': array([  1,  11,  21,  31,  41,  51,  61,  71,  81,  91, 101, 111, 121,\n",
       "       131, 141, 151, 161, 171, 181, 191]),\n",
       "                                         'min_samples_split': array([ 100,  150,  200,  250,  300,  350,  400,  450,  500,  550,  600,\n",
       "        650,  700,  750,  800,  850,  900,  950, 1000, 1050, 1100, 1150,\n",
       "       1200, 1250, 1300, 1350, 1400, 1450, 1500, 1550, 1600, 1650, 1700,\n",
       "       1750, 1800, 1850, 1900, 1950]),\n",
       "                                         'n_estimators': array([  1,  11,  21,  31,  41,  51,  61,  71,  81,  91, 101, 111, 121,\n",
       "       131, 141, 151, 161, 171, 181, 191])}],\n",
       "                   refit='roc_auc', scoring=['roc_auc', 'accuracy'])"
      ]
     },
     "execution_count": 51,
     "metadata": {},
     "output_type": "execute_result"
    }
   ],
   "source": [
    "gbc_uc_base_RS.best_score_# Hyperparameters over which to search\n",
    "param_grid = [\n",
    "    {'max_features': np.arange(1,65,5)\n",
    "     ,'n_estimators': np.arange(1,200,10)\n",
    "     ,'min_samples_leaf': np.arange(1,200,10)\n",
    "     ,'min_samples_split': np.arange(100,2000,50)}\n",
    "]\n",
    "\n",
    "scores = ['roc_auc', 'accuracy']\n",
    "\n",
    "# Note the cv parameter 'pds'\n",
    "rf_c_RS = RandomizedSearchCV(RandomForestClassifier(), param_grid, scoring = scores, \n",
    "                     cv = pds, refit = scores[0], n_jobs = -1)\n",
    "rf_c_RS.fit(X_trainval_c, Y_trainval) # Note use of trainval data together"
   ]
  },
  {
   "cell_type": "code",
   "execution_count": 45,
   "metadata": {},
   "outputs": [
    {
     "data": {
      "text/plain": [
       "{'n_estimators': 151,\n",
       " 'min_samples_split': 350,\n",
       " 'min_samples_leaf': 81,\n",
       " 'max_features': 61}"
      ]
     },
     "execution_count": 45,
     "metadata": {},
     "output_type": "execute_result"
    }
   ],
   "source": [
    "rf_c_RS.best_params_"
   ]
  },
  {
   "cell_type": "code",
   "execution_count": 11,
   "metadata": {},
   "outputs": [
    {
     "name": "stdout",
     "output_type": "stream",
     "text": [
      "Best RF AUC = 0.7140817884069343\n"
     ]
    }
   ],
   "source": [
    "### Random forest# Tuned model\n",
    "rf_c_best = RandomForestClassifier(criterion='entropy',max_features=10,oob_score=True)\n",
    "rf_c_best.fit(X_train_c, Y_train)\n",
    "Y_pred = rf_c_best.predict_proba(X_val_c)[:,1]\n",
    "\n",
    "fpr_rf_c_best, tpr_rf_c_best, thresholds_rf_c_best = metrics.roc_curve(Y_val, Y_pred)\n",
    "auc_rf_c_best = metrics.auc(fpr_rf_c_best, tpr_rf_c_best)\n",
    "\n",
    "print(\"Best RF AUC = {}\".format(auc_rf_c_best))"
   ]
  },
  {
   "cell_type": "markdown",
   "metadata": {},
   "source": [
    "# ULTIMATE BAKEOFF\n",
    "\n",
    "## Uncontrollable"
   ]
  },
  {
   "cell_type": "code",
   "execution_count": 12,
   "metadata": {},
   "outputs": [],
   "source": [
    "\n",
    "\n",
    "from sklearn.ensemble import RandomForestClassifier, GradientBoostingClassifier\n",
    "from sklearn import svm, linear_model\n",
    "\n",
    "\n",
    "#Best models:\n",
    "\n",
    "best_rf_uc = RandomForestClassifier(criterion='entropy', n_estimators=200, \n",
    "                                    max_features=11, oob_score=True,min_samples_leaf=61,min_samples_split=1402)\n",
    "best_gb_uc = GradientBoostingClassifier(learning_rate=0.025, max_depth=15,\n",
    "                            max_features='sqrt', min_samples_leaf=0.034,\n",
    "                            min_samples_split=0.08916666666666667,\n",
    "                            n_estimators=2500)\n",
    "gbc.fit(X_train_c, Y_train)\n",
    "best_dt_uc = DecisionTreeClassifier(criterion = 'gini', min_samples_leaf=180, min_samples_split=1050)\n",
    "best_svm_uc = svm.SVC(kernel = 'rbf', C = 0.2681812609453013)\n",
    "best_lr_uc = linear_model.LogisticRegression(C = 10**-1.5, penalty = 'l1', max_iter = 4000, solver = 'liblinear')\n",
    "\n",
    "\n",
    "models = {'RF': best_rf_uc, 'GB' : best_gb_uc, 'DT' : best_dt_uc, 'SVM': best_svm_uc, 'LR': best_lr_uc}\n"
   ]
  },
  {
   "cell_type": "code",
   "execution_count": 13,
   "metadata": {},
   "outputs": [],
   "source": [
    "from sklearn.model_selection import train_test_split\n",
    "\n",
    "X = df_all_features[uncontrollable_columns]\n",
    "Y = df_all_features['Label']\n",
    "\n",
    "X_train, X_test, Y_train, Y_test = train_test_split(X, Y, train_size=.80)"
   ]
  },
  {
   "cell_type": "code",
   "execution_count": 33,
   "metadata": {},
   "outputs": [],
   "source": [
    "from sklearn.preprocessing import StandardScaler\n",
    "\n",
    "scaler = StandardScaler().fit(X_train)\n",
    "X_train_scaled = pd.DataFrame(scaler.transform(X_train), columns = uncontrollable_columns)\n",
    "X_test_scaled = pd.DataFrame(scaler.transform(X_test), columns = uncontrollable_columns)"
   ]
  },
  {
   "cell_type": "code",
   "execution_count": 14,
   "metadata": {},
   "outputs": [],
   "source": [
    "for model in models:\n",
    "    models[model].fit(X_train, Y_train)"
   ]
  },
  {
   "cell_type": "code",
   "execution_count": 15,
   "metadata": {},
   "outputs": [],
   "source": [
    "predictions_rf = best_rf_uc.predict_proba(X_test[uncontrollable_columns])[:,1]\n",
    "predictions_gb = best_gb_uc.predict_proba(X_test[uncontrollable_columns])[:,1]\n",
    "predictions_dt = best_dt_uc.predict_proba(X_test[uncontrollable_columns])[:,1]\n",
    "predictions_svm = best_svm_uc.decision_function(X_test[uncontrollable_columns])\n",
    "predictions_lr = best_lr_uc.predict_proba(X_test[uncontrollable_columns])[:,1]\n",
    "\n",
    "predictions = {'RF': predictions_rf, 'GB' : predictions_gb, 'DT' : predictions_dt, 'SVM': predictions_svm, 'LR': predictions_lr}\n",
    "\n"
   ]
  },
  {
   "cell_type": "code",
   "execution_count": 16,
   "metadata": {},
   "outputs": [
    {
     "data": {
      "image/png": "[encoded data removed]",
      "text/plain": [
       "<Figure size 864x576 with 1 Axes>"
      ]
     },
     "metadata": {
      "needs_background": "light"
     },
     "output_type": "display_data"
    }
   ],
   "source": [
    "#Plot ROC curves of the two models\n",
    "\n",
    "import matplotlib.pyplot as plt\n",
    "%matplotlib inline\n",
    "from sklearn import linear_model, svm, metrics\n",
    "\n",
    "\n",
    "plt.figure(figsize=(12,8))\n",
    "\n",
    "for prediction in predictions:\n",
    "    fpr, tpr, thresholds = metrics.roc_curve(Y_test, predictions[prediction])\n",
    "    auc = metrics.auc(fpr,tpr)\n",
    "    label = prediction + \" AUC = %.3f\"%auc\n",
    "    plt.plot(fpr,tpr,label = label)\n",
    "    \n",
    "\n",
    "#Plot 45 degree line\n",
    "plt.plot([0,1],[0,1])\n",
    "\n",
    "plt.title('ROC')\n",
    "plt.xlabel('FPR')\n",
    "plt.ylabel('TPR')\n",
    "plt.legend()\n",
    "\n",
    "plt.show()"
   ]
  },
  {
   "cell_type": "code",
   "execution_count": null,
   "metadata": {},
   "outputs": [],
   "source": []
  },
  {
   "cell_type": "code",
   "execution_count": null,
   "metadata": {},
   "outputs": [],
   "source": []
  },
  {
   "cell_type": "markdown",
   "metadata": {},
   "source": [
    "## Controllable"
   ]
  },
  {
   "cell_type": "code",
   "execution_count": 18,
   "metadata": {},
   "outputs": [],
   "source": [
    "best_rf_c = RandomForestClassifier(criterion='entropy', max_features=8,\n",
    "                       min_samples_split=100, n_estimators=160)\n",
    "best_gb_c = GradientBoostingClassifier(learning_rate=0.025, max_depth=30,\n",
    "                            max_features='sqrt',\n",
    "                            min_samples_leaf=0.021625000000000002,\n",
    "                            min_samples_split=0.12083333333333333,\n",
    "                            n_estimators=2500)\n",
    "best_dt_c = DecisionTreeClassifier(criterion = 'gini', min_samples_leaf=40, min_samples_split=350)\n",
    "best_svm_c = svm.SVC(kernel = 'rbf',  C = 0.24175940791691308)\n",
    "best_lr_c = linear_model.LogisticRegression(solver = 'liblinear', penalty = 'l1', max_iter = 2000, C = 0.20151357338155584)\n",
    "\n",
    "models = {'RF': best_rf_c, 'GB' : best_gb_c, 'DT' : best_dt_c, 'SVM': best_svm_c, 'LR': best_lr_c}"
   ]
  },
  {
   "cell_type": "code",
   "execution_count": 19,
   "metadata": {},
   "outputs": [],
   "source": [
    "X = df_all_features[controllable_columns]\n",
    "Y = df_all_features['Label']\n",
    "\n",
    "X_train, X_test, Y_train, Y_test = train_test_split(X, Y, train_size=.80)"
   ]
  },
  {
   "cell_type": "code",
   "execution_count": 39,
   "metadata": {},
   "outputs": [],
   "source": [
    "scaler = StandardScaler().fit(X_train)\n",
    "X_train_scaled = pd.DataFrame(scaler.transform(X_train), columns = controllable_columns)\n",
    "X_test_scaled = pd.DataFrame(scaler.transform(X_test), columns = controllable_columns)"
   ]
  },
  {
   "cell_type": "code",
   "execution_count": 20,
   "metadata": {},
   "outputs": [],
   "source": [
    "for model in models:\n",
    "    models[model].fit(X_train, Y_train)"
   ]
  },
  {
   "cell_type": "code",
   "execution_count": 21,
   "metadata": {},
   "outputs": [],
   "source": [
    "predictions_rf = best_rf_c.predict_proba(X_test[controllable_columns])[:,1]\n",
    "predictions_gb = best_gb_c.predict_proba(X_test[controllable_columns])[:,1]\n",
    "predictions_dt = best_dt_c.predict_proba(X_test[controllable_columns])[:,1]\n",
    "predictions_svm = best_svm_c.decision_function(X_test[controllable_columns])\n",
    "predictions_lr = best_lr_c.predict_proba(X_test[controllable_columns])[:,1]\n",
    "\n",
    "predictions = {'RF': predictions_rf, 'GB' : predictions_gb, 'DT' : predictions_dt, 'SVM': predictions_svm, 'LR': predictions_lr}\n"
   ]
  },
  {
   "cell_type": "code",
   "execution_count": 22,
   "metadata": {},
   "outputs": [
    {
     "data": {
      "image/png": "[encoded data removed]",
      "text/plain": [
       "<Figure size 864x576 with 1 Axes>"
      ]
     },
     "metadata": {
      "needs_background": "light"
     },
     "output_type": "display_data"
    }
   ],
   "source": [
    "#Plot ROC curves of the two models\n",
    "\n",
    "import matplotlib.pyplot as plt\n",
    "%matplotlib inline\n",
    "from sklearn import linear_model, svm, metrics\n",
    "\n",
    "\n",
    "plt.figure(figsize=(12,8))\n",
    "\n",
    "for prediction in predictions:\n",
    "    fpr, tpr, thresholds = metrics.roc_curve(Y_test, predictions[prediction])\n",
    "    auc = metrics.auc(fpr,tpr)\n",
    "    label = prediction + \" AUC = %.3f\"%auc\n",
    "    plt.plot(fpr,tpr,label = label)\n",
    "    \n",
    "\n",
    "#Plot 45 degree line\n",
    "plt.plot([0,1],[0,1])\n",
    "\n",
    "plt.title('ROC')\n",
    "plt.xlabel('FPR')\n",
    "plt.ylabel('TPR')\n",
    "plt.legend()\n",
    "\n",
    "plt.show()"
   ]
  },
  {
   "cell_type": "markdown",
   "metadata": {},
   "source": [
    "## Winners: \n",
    "\n",
    "### Controllable: \n",
    "\n",
    "RandomForestClassifier(criterion='entropy', max_features=8,\n",
    "                       min_samples_split=100, n_estimators=160)\n",
    "\n",
    "\n",
    "### Uncontrollable:\n",
    "\n",
    "RandomForestClassifier(criterion='entropy', n_estimators=200, \n",
    "                                    max_features=11, oob_score=True,min_samples_leaf=61,min_samples_split=1402)"
   ]
  },
  {
   "cell_type": "markdown",
   "metadata": {},
   "source": [
    "## Leveraging Uncontrollable and Controllable models\n",
    "\n",
    "Basic Idea: Each location gets 2 scores - a location score and a property/quality score. We can bucket the listings into 4 buckets based on score combos"
   ]
  },
  {
   "cell_type": "code",
   "execution_count": 376,
   "metadata": {},
   "outputs": [],
   "source": [
    "#Take the full dataset and split into train and test:\n",
    "\n",
    "from sklearn.model_selection import train_test_split\n",
    "\n",
    "X = df_all_features.drop(columns=['Label'])\n",
    "Y = df_all_features['Label']\n",
    "\n",
    "X_train, X_test, Y_train, Y_test = train_test_split(X, Y, train_size=.80)"
   ]
  },
  {
   "cell_type": "code",
   "execution_count": 378,
   "metadata": {},
   "outputs": [],
   "source": [
    "#Train the location model and the property model on the Train dataset using best model parameters\n",
    "\n",
    "\n",
    "uncontrollable_columns = UC_Sampled.drop(columns='Label').columns\n",
    "rf_uncontrollable = RandomForestClassifier(criterion='entropy', n_estimators=200, \n",
    "                                    max_features=11, oob_score=True,min_samples_leaf=61,min_samples_split=1402)\n",
    "fit = rf_uncontrollable.fit(X_train[uncontrollable_columns], Y_train)\n",
    "\n",
    "controllable_columns = df_controllable_sampled.drop(columns='Label').columns\n",
    "rf_controllable = RandomForestClassifier(criterion='entropy', max_features=8,\n",
    "                       min_samples_split=100, n_estimators=160)\n",
    "fit = rf_controllable.fit(X_train[controllable_columns], Y_train)"
   ]
  },
  {
   "cell_type": "code",
   "execution_count": 379,
   "metadata": {},
   "outputs": [
    {
     "data": {
      "image/png": "[encoded data removed]",
      "text/plain": [
       "<Figure size 864x576 with 1 Axes>"
      ]
     },
     "metadata": {
      "needs_background": "light"
     },
     "output_type": "display_data"
    }
   ],
   "source": [
    "#Plot ROC curves of the two models\n",
    "\n",
    "import matplotlib.pyplot as plt\n",
    "%matplotlib inline\n",
    "from sklearn import linear_model, svm, metrics\n",
    "\n",
    "predictions_rf_uc = rf_uncontrollable.predict_proba(X_test[uncontrollable_columns])[:,1]\n",
    "predictions_rf_c = rf_controllable.predict_proba(X_test[controllable_columns])[:,1]\n",
    "\n",
    "\n",
    "plt.figure(figsize=(12,8))\n",
    "\n",
    "#Plot LR ROC/AUC\n",
    "fpr, tpr, thresholds = metrics.roc_curve(Y_test, predictions_rf_uc)\n",
    "auc = metrics.auc(fpr,tpr)\n",
    "label = \"UC AUC = %.3f\"%auc\n",
    "plt.plot(fpr,tpr,label = label)\n",
    "\n",
    "#Plot LR ROC/AUC\n",
    "fpr, tpr, thresholds = metrics.roc_curve(Y_test, predictions_rf_c)\n",
    "auc = metrics.auc(fpr,tpr)\n",
    "label = \"C AUC = %.3f\"%auc\n",
    "plt.plot(fpr,tpr,label = label)\n",
    "\n",
    "\n",
    "#Plot 45 degree line\n",
    "plt.plot([0,1],[0,1])\n",
    "\n",
    "plt.title('ROC')\n",
    "plt.xlabel('FPR')\n",
    "plt.ylabel('TPR')\n",
    "plt.legend()\n",
    "\n",
    "plt.show()"
   ]
  },
  {
   "cell_type": "code",
   "execution_count": 380,
   "metadata": {},
   "outputs": [],
   "source": [
    "df_test_with_predictions = pd.DataFrame(Y_test)"
   ]
  },
  {
   "cell_type": "code",
   "execution_count": 381,
   "metadata": {},
   "outputs": [],
   "source": [
    "df_test_with_predictions['Location_predictions_score'] = rf_uncontrollable.predict_proba(X_test[uncontrollable_columns])[:,1]\n",
    "df_test_with_predictions['Property_predictions_score'] = rf_controllable.predict_proba(X_test[controllable_columns])[:,1]\n"
   ]
  },
  {
   "cell_type": "code",
   "execution_count": 382,
   "metadata": {},
   "outputs": [],
   "source": [
    "df_test_with_predictions['Loc_bucket'] = pd.qcut(df_test_with_predictions['Location_predictions_score'], 3, labels=[\"low\", \"medium\", \"high\"])\n",
    "\n",
    "df_test_with_predictions['Prop_bucket'] = pd.qcut(df_test_with_predictions['Property_predictions_score'], 3, labels=[\"low\", \"medium\", \"high\"])\n"
   ]
  },
  {
   "cell_type": "code",
   "execution_count": 383,
   "metadata": {},
   "outputs": [],
   "source": [
    "statistics = df_test_with_predictions.groupby(['Loc_bucket', 'Prop_bucket']).agg(['mean', 'count'])['Label']"
   ]
  },
  {
   "cell_type": "code",
   "execution_count": 384,
   "metadata": {},
   "outputs": [],
   "source": [
    "statistics['percent'] = statistics['count'] / len(df_test_with_predictions)"
   ]
  },
  {
   "cell_type": "code",
   "execution_count": 385,
   "metadata": {},
   "outputs": [
    {
     "data": {
      "text/html": [
       "<div>\n",
       "<style scoped>\n",
       "    .dataframe tbody tr th:only-of-type {\n",
       "        vertical-align: middle;\n",
       "    }\n",
       "\n",
       "    .dataframe tbody tr th {\n",
       "        vertical-align: top;\n",
       "    }\n",
       "\n",
       "    .dataframe thead th {\n",
       "        text-align: right;\n",
       "    }\n",
       "</style>\n",
       "<table border=\"1\" class=\"dataframe\">\n",
       "  <thead>\n",
       "    <tr style=\"text-align: right;\">\n",
       "      <th></th>\n",
       "      <th></th>\n",
       "      <th>mean</th>\n",
       "      <th>count</th>\n",
       "      <th>percent</th>\n",
       "    </tr>\n",
       "    <tr>\n",
       "      <th>Loc_bucket</th>\n",
       "      <th>Prop_bucket</th>\n",
       "      <th></th>\n",
       "      <th></th>\n",
       "      <th></th>\n",
       "    </tr>\n",
       "  </thead>\n",
       "  <tbody>\n",
       "    <tr>\n",
       "      <th rowspan=\"3\" valign=\"top\">low</th>\n",
       "      <th>low</th>\n",
       "      <td>0.232350</td>\n",
       "      <td>1119</td>\n",
       "      <td>0.140560</td>\n",
       "    </tr>\n",
       "    <tr>\n",
       "      <th>medium</th>\n",
       "      <td>0.475787</td>\n",
       "      <td>826</td>\n",
       "      <td>0.103756</td>\n",
       "    </tr>\n",
       "    <tr>\n",
       "      <th>high</th>\n",
       "      <td>0.644570</td>\n",
       "      <td>709</td>\n",
       "      <td>0.089059</td>\n",
       "    </tr>\n",
       "    <tr>\n",
       "      <th rowspan=\"3\" valign=\"top\">medium</th>\n",
       "      <th>low</th>\n",
       "      <td>0.249431</td>\n",
       "      <td>878</td>\n",
       "      <td>0.110288</td>\n",
       "    </tr>\n",
       "    <tr>\n",
       "      <th>medium</th>\n",
       "      <td>0.497256</td>\n",
       "      <td>911</td>\n",
       "      <td>0.114433</td>\n",
       "    </tr>\n",
       "    <tr>\n",
       "      <th>high</th>\n",
       "      <td>0.659722</td>\n",
       "      <td>864</td>\n",
       "      <td>0.108529</td>\n",
       "    </tr>\n",
       "    <tr>\n",
       "      <th rowspan=\"3\" valign=\"top\">high</th>\n",
       "      <th>low</th>\n",
       "      <td>0.336377</td>\n",
       "      <td>657</td>\n",
       "      <td>0.082527</td>\n",
       "    </tr>\n",
       "    <tr>\n",
       "      <th>medium</th>\n",
       "      <td>0.534934</td>\n",
       "      <td>916</td>\n",
       "      <td>0.115061</td>\n",
       "    </tr>\n",
       "    <tr>\n",
       "      <th>high</th>\n",
       "      <td>0.708603</td>\n",
       "      <td>1081</td>\n",
       "      <td>0.135787</td>\n",
       "    </tr>\n",
       "  </tbody>\n",
       "</table>\n",
       "</div>"
      ],
      "text/plain": [
       "                            mean  count   percent\n",
       "Loc_bucket Prop_bucket                           \n",
       "low        low          0.232350   1119  0.140560\n",
       "           medium       0.475787    826  0.103756\n",
       "           high         0.644570    709  0.089059\n",
       "medium     low          0.249431    878  0.110288\n",
       "           medium       0.497256    911  0.114433\n",
       "           high         0.659722    864  0.108529\n",
       "high       low          0.336377    657  0.082527\n",
       "           medium       0.534934    916  0.115061\n",
       "           high         0.708603   1081  0.135787"
      ]
     },
     "execution_count": 385,
     "metadata": {},
     "output_type": "execute_result"
    }
   ],
   "source": [
    "statistics"
   ]
  },
  {
   "cell_type": "markdown",
   "metadata": {},
   "source": [
    "<table style=\"height: 306px;\" width=\"637\">\n",
    "<tbody>\n",
    "<tr>\n",
    "<td style=\"width: 152px;\">&nbsp;</td>\n",
    "<td style=\"width: 152px; text-align: center;\"><strong>High Property Score</strong></td>\n",
    "<td style=\"width: 152px; text-align: center;\"><strong>Medium Property Score</strong></td>\n",
    "<td style=\"width: 153px; text-align: center;\"><strong>Low Property Score</strong></td>\n",
    "</tr>\n",
    "<tr>\n",
    "<td style=\"width: 152px; text-align: center;\"><strong>High Location Score</strong></td>\n",
    "<td style=\"width: 152px;\">\n",
    "<p>Percent of Listings: 12.1%</p>\n",
    "<p>% Actual Positives: 66.3%</p>\n",
    "</td>\n",
    "<td style=\"width: 152px;\">\n",
    "<p>Percent of Listings: 10.7%</p>\n",
    "<p>% Actual Positives: 57.4%</p>\n",
    "</td>\n",
    "<td style=\"width: 153px;\">\n",
    "<p>Percent of Listings: 8.6%</p>\n",
    "<p>% Actual Positives: 37.7%</p>\n",
    "</td>\n",
    "</tr>\n",
    "<tr>\n",
    "<td style=\"width: 152px; text-align: center;\"><strong>Medium Location Score</strong></td>\n",
    "<td style=\"width: 152px;\">Percent of Listings: 10.9%\n",
    "<p>% Actual Positives: 61.6%</p>\n",
    "</td>\n",
    "<td style=\"width: 152px;\">Percent of Listings: 11.0%\n",
    "<p>% Actual Positives: 50.2%</p>\n",
    "</td>\n",
    "<td style=\"width: 153px;\">Percent of Listings: 11.1%\n",
    "<p>% Actual Positives: 34.9%</p>\n",
    "</td>\n",
    "</tr>\n",
    "<tr>\n",
    "<td style=\"width: 152px; text-align: center;\"><strong>Low Location Score</strong></td>\n",
    "<td style=\"width: 152px;\">\n",
    "<p>Percent of Listings: 9.8%</p>\n",
    "<p>% Actual Positives: 60.5%</p>\n",
    "</td>\n",
    "<td style=\"width: 152px;\">\n",
    "<p>Percent of Listings: 11.5%</p>\n",
    "<p>% Actual Positives: 45.4%</p>\n",
    "</td>\n",
    "<td style=\"width: 153px;\">\n",
    "<p>Percent of Listings: 14.3%</p>\n",
    "<p>% Actual Positives: 25.5%</p>\n",
    "</td>\n",
    "</tr>\n",
    "</tbody>\n",
    "</table>"
   ]
  },
  {
   "cell_type": "code",
   "execution_count": 23,
   "metadata": {},
   "outputs": [
    {
     "data": {
      "text/html": [
       "<div>\n",
       "<style scoped>\n",
       "    .dataframe tbody tr th:only-of-type {\n",
       "        vertical-align: middle;\n",
       "    }\n",
       "\n",
       "    .dataframe tbody tr th {\n",
       "        vertical-align: top;\n",
       "    }\n",
       "\n",
       "    .dataframe thead th {\n",
       "        text-align: right;\n",
       "    }\n",
       "</style>\n",
       "<table border=\"1\" class=\"dataframe\">\n",
       "  <thead>\n",
       "    <tr style=\"text-align: right;\">\n",
       "      <th></th>\n",
       "      <th>host_response_rate</th>\n",
       "      <th>host_listings_count</th>\n",
       "      <th>host_has_profile_pic</th>\n",
       "      <th>host_identity_verified</th>\n",
       "      <th>accommodates</th>\n",
       "      <th>bathrooms</th>\n",
       "      <th>bedrooms</th>\n",
       "      <th>beds</th>\n",
       "      <th>price</th>\n",
       "      <th>security_deposit</th>\n",
       "      <th>...</th>\n",
       "      <th>Amenties Include parking</th>\n",
       "      <th>Amenties Include Pets</th>\n",
       "      <th>Amenties Include Dishes and silverware</th>\n",
       "      <th>Amenties Include Coffee maker</th>\n",
       "      <th>Amenties Include Microwave</th>\n",
       "      <th>Amenties Include Refrigerator</th>\n",
       "      <th>offers_weekly_price</th>\n",
       "      <th>offers_monthly_price</th>\n",
       "      <th>charges_security_deposit</th>\n",
       "      <th>charges_cleaning_fee</th>\n",
       "    </tr>\n",
       "    <tr>\n",
       "      <th>id</th>\n",
       "      <th></th>\n",
       "      <th></th>\n",
       "      <th></th>\n",
       "      <th></th>\n",
       "      <th></th>\n",
       "      <th></th>\n",
       "      <th></th>\n",
       "      <th></th>\n",
       "      <th></th>\n",
       "      <th></th>\n",
       "      <th></th>\n",
       "      <th></th>\n",
       "      <th></th>\n",
       "      <th></th>\n",
       "      <th></th>\n",
       "      <th></th>\n",
       "      <th></th>\n",
       "      <th></th>\n",
       "      <th></th>\n",
       "      <th></th>\n",
       "      <th></th>\n",
       "    </tr>\n",
       "  </thead>\n",
       "  <tbody>\n",
       "    <tr>\n",
       "      <th>4571925.0</th>\n",
       "      <td>100.0</td>\n",
       "      <td>2.0</td>\n",
       "      <td>1.0</td>\n",
       "      <td>0.0</td>\n",
       "      <td>4.0</td>\n",
       "      <td>1.0</td>\n",
       "      <td>1.0</td>\n",
       "      <td>5.0</td>\n",
       "      <td>165.0</td>\n",
       "      <td>227.138887</td>\n",
       "      <td>...</td>\n",
       "      <td>0</td>\n",
       "      <td>0</td>\n",
       "      <td>0</td>\n",
       "      <td>0</td>\n",
       "      <td>0</td>\n",
       "      <td>0</td>\n",
       "      <td>1</td>\n",
       "      <td>1</td>\n",
       "      <td>0</td>\n",
       "      <td>1</td>\n",
       "    </tr>\n",
       "    <tr>\n",
       "      <th>1950311.0</th>\n",
       "      <td>100.0</td>\n",
       "      <td>2.0</td>\n",
       "      <td>1.0</td>\n",
       "      <td>1.0</td>\n",
       "      <td>3.0</td>\n",
       "      <td>1.0</td>\n",
       "      <td>2.0</td>\n",
       "      <td>2.0</td>\n",
       "      <td>151.0</td>\n",
       "      <td>100.000000</td>\n",
       "      <td>...</td>\n",
       "      <td>1</td>\n",
       "      <td>0</td>\n",
       "      <td>1</td>\n",
       "      <td>1</td>\n",
       "      <td>1</td>\n",
       "      <td>1</td>\n",
       "      <td>0</td>\n",
       "      <td>0</td>\n",
       "      <td>1</td>\n",
       "      <td>1</td>\n",
       "    </tr>\n",
       "    <tr>\n",
       "      <th>20812387.0</th>\n",
       "      <td>90.0</td>\n",
       "      <td>1.0</td>\n",
       "      <td>1.0</td>\n",
       "      <td>0.0</td>\n",
       "      <td>2.0</td>\n",
       "      <td>1.0</td>\n",
       "      <td>1.0</td>\n",
       "      <td>1.0</td>\n",
       "      <td>80.0</td>\n",
       "      <td>100.000000</td>\n",
       "      <td>...</td>\n",
       "      <td>1</td>\n",
       "      <td>0</td>\n",
       "      <td>1</td>\n",
       "      <td>1</td>\n",
       "      <td>1</td>\n",
       "      <td>1</td>\n",
       "      <td>0</td>\n",
       "      <td>0</td>\n",
       "      <td>1</td>\n",
       "      <td>1</td>\n",
       "    </tr>\n",
       "    <tr>\n",
       "      <th>20171578.0</th>\n",
       "      <td>100.0</td>\n",
       "      <td>1.0</td>\n",
       "      <td>1.0</td>\n",
       "      <td>0.0</td>\n",
       "      <td>2.0</td>\n",
       "      <td>1.0</td>\n",
       "      <td>1.0</td>\n",
       "      <td>1.0</td>\n",
       "      <td>140.0</td>\n",
       "      <td>0.000000</td>\n",
       "      <td>...</td>\n",
       "      <td>0</td>\n",
       "      <td>0</td>\n",
       "      <td>1</td>\n",
       "      <td>1</td>\n",
       "      <td>1</td>\n",
       "      <td>1</td>\n",
       "      <td>0</td>\n",
       "      <td>0</td>\n",
       "      <td>1</td>\n",
       "      <td>1</td>\n",
       "    </tr>\n",
       "    <tr>\n",
       "      <th>29126779.0</th>\n",
       "      <td>67.0</td>\n",
       "      <td>1.0</td>\n",
       "      <td>1.0</td>\n",
       "      <td>0.0</td>\n",
       "      <td>2.0</td>\n",
       "      <td>1.0</td>\n",
       "      <td>1.0</td>\n",
       "      <td>0.0</td>\n",
       "      <td>230.0</td>\n",
       "      <td>0.000000</td>\n",
       "      <td>...</td>\n",
       "      <td>0</td>\n",
       "      <td>0</td>\n",
       "      <td>1</td>\n",
       "      <td>1</td>\n",
       "      <td>1</td>\n",
       "      <td>1</td>\n",
       "      <td>0</td>\n",
       "      <td>0</td>\n",
       "      <td>1</td>\n",
       "      <td>1</td>\n",
       "    </tr>\n",
       "  </tbody>\n",
       "</table>\n",
       "<p>5 rows × 68 columns</p>\n",
       "</div>"
      ],
      "text/plain": [
       "            host_response_rate  host_listings_count  host_has_profile_pic  \\\n",
       "id                                                                          \n",
       "4571925.0                100.0                  2.0                   1.0   \n",
       "1950311.0                100.0                  2.0                   1.0   \n",
       "20812387.0                90.0                  1.0                   1.0   \n",
       "20171578.0               100.0                  1.0                   1.0   \n",
       "29126779.0                67.0                  1.0                   1.0   \n",
       "\n",
       "            host_identity_verified  accommodates  bathrooms  bedrooms  beds  \\\n",
       "id                                                                            \n",
       "4571925.0                      0.0           4.0        1.0       1.0   5.0   \n",
       "1950311.0                      1.0           3.0        1.0       2.0   2.0   \n",
       "20812387.0                     0.0           2.0        1.0       1.0   1.0   \n",
       "20171578.0                     0.0           2.0        1.0       1.0   1.0   \n",
       "29126779.0                     0.0           2.0        1.0       1.0   0.0   \n",
       "\n",
       "            price  security_deposit  ...  Amenties Include parking  \\\n",
       "id                                   ...                             \n",
       "4571925.0   165.0        227.138887  ...                         0   \n",
       "1950311.0   151.0        100.000000  ...                         1   \n",
       "20812387.0   80.0        100.000000  ...                         1   \n",
       "20171578.0  140.0          0.000000  ...                         0   \n",
       "29126779.0  230.0          0.000000  ...                         0   \n",
       "\n",
       "            Amenties Include Pets  Amenties Include Dishes and silverware  \\\n",
       "id                                                                          \n",
       "4571925.0                       0                                       0   \n",
       "1950311.0                       0                                       1   \n",
       "20812387.0                      0                                       1   \n",
       "20171578.0                      0                                       1   \n",
       "29126779.0                      0                                       1   \n",
       "\n",
       "            Amenties Include Coffee maker  Amenties Include Microwave  \\\n",
       "id                                                                      \n",
       "4571925.0                               0                           0   \n",
       "1950311.0                               1                           1   \n",
       "20812387.0                              1                           1   \n",
       "20171578.0                              1                           1   \n",
       "29126779.0                              1                           1   \n",
       "\n",
       "            Amenties Include Refrigerator  offers_weekly_price  \\\n",
       "id                                                               \n",
       "4571925.0                               0                    1   \n",
       "1950311.0                               1                    0   \n",
       "20812387.0                              1                    0   \n",
       "20171578.0                              1                    0   \n",
       "29126779.0                              1                    0   \n",
       "\n",
       "            offers_monthly_price  charges_security_deposit  \\\n",
       "id                                                           \n",
       "4571925.0                      1                         0   \n",
       "1950311.0                      0                         1   \n",
       "20812387.0                     0                         1   \n",
       "20171578.0                     0                         1   \n",
       "29126779.0                     0                         1   \n",
       "\n",
       "            charges_cleaning_fee  \n",
       "id                                \n",
       "4571925.0                      1  \n",
       "1950311.0                      1  \n",
       "20812387.0                     1  \n",
       "20171578.0                     1  \n",
       "29126779.0                     1  \n",
       "\n",
       "[5 rows x 68 columns]"
      ]
     },
     "execution_count": 23,
     "metadata": {},
     "output_type": "execute_result"
    }
   ],
   "source": [
    "X_train_c.head()"
   ]
  },
  {
   "cell_type": "code",
   "execution_count": null,
   "metadata": {},
   "outputs": [],
   "source": []
  }
 ],
 "metadata": {
  "kernelspec": {
   "display_name": "Python 3",
   "language": "python",
   "name": "python3"
  },
  "language_info": {
   "codemirror_mode": {
    "name": "ipython",
    "version": 3
   },
   "file_extension": ".py",
   "mimetype": "text/x-python",
   "name": "python",
   "nbconvert_exporter": "python",
   "pygments_lexer": "ipython3",
   "version": "3.8.3"
  }
 },
 "nbformat": 4,
 "nbformat_minor": 4
}
