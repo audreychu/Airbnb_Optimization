{
 "cells": [
  {
   "cell_type": "code",
   "execution_count": 1,
   "metadata": {},
   "outputs": [
    {
     "data": {
      "text/plain": [
       "40135"
      ]
     },
     "execution_count": 1,
     "metadata": {},
     "output_type": "execute_result"
    }
   ],
   "source": [
    "\n",
    "import pandas as pd\n",
    "import os\n",
    "import numpy as np\n",
    "\n",
    "file_path=os.getcwd()+'/1001_project/Airbnb_Optimization/datasets/deduped_listings_updated.csv'\n",
    "air_bnb_data=pd.read_csv(file_path)\n",
    "air_bnb_data.head()\n",
    "len(air_bnb_data)"
   ]
  },
  {
   "cell_type": "code",
   "execution_count": 4,
   "metadata": {},
   "outputs": [
    {
     "data": {
      "text/plain": [
       "0                     (40.80155, -73.97)\n",
       "1        (40.672059999999995, -73.96344)\n",
       "2                  (40.74968, -74.00052)\n",
       "3         (40.72159, -73.96018000000002)\n",
       "4                  (40.72195, -74.00356)\n",
       "                      ...               \n",
       "40130              (40.76186, -73.99834)\n",
       "40131               (40.76104, -73.9915)\n",
       "40132              (40.80005, -73.95271)\n",
       "40133              (40.82973, -73.94749)\n",
       "40134     (40.76479000000001, -73.98753)\n",
       "Name: coord, Length: 40135, dtype: object"
      ]
     },
     "execution_count": 4,
     "metadata": {},
     "output_type": "execute_result"
    }
   ],
   "source": [
    "len(air_bnb_data.id.unique()), len(air_bnb_data)\n",
    "air_bnb_data['coord'] = list(zip(air_bnb_data.latitude, air_bnb_data.longitude))\n",
    "air_bnb_data.coord"
   ]
  },
  {
   "cell_type": "code",
   "execution_count": 9,
   "metadata": {},
   "outputs": [
    {
     "data": {
      "text/plain": [
       "Index(['Unnamed: 0', 'id', 'last_scraped', 'neighbourhood',\n",
       "       'neighbourhood_cleansed', 'neighbourhood_group_cleansed', 'city',\n",
       "       'state', 'zipcode', 'latitude', 'longitude', 'coord'],\n",
       "      dtype='object')"
      ]
     },
     "execution_count": 9,
     "metadata": {},
     "output_type": "execute_result"
    }
   ],
   "source": [
    "air_bnb_data.columns"
   ]
  },
  {
   "cell_type": "code",
   "execution_count": 5,
   "metadata": {},
   "outputs": [
    {
     "name": "stdout",
     "output_type": "stream",
     "text": [
      "(40.80155, -73.97)\n"
     ]
    }
   ],
   "source": [
    "for i in air_bnb_data.coord:\n",
    "    print(i)\n",
    "    break"
   ]
  },
  {
   "cell_type": "code",
   "execution_count": 16,
   "metadata": {},
   "outputs": [
    {
     "ename": "KeyboardInterrupt",
     "evalue": "",
     "output_type": "error",
     "traceback": [
      "\u001b[0;31m---------------------------------------------------------------------------\u001b[0m",
      "\u001b[0;31mKeyboardInterrupt\u001b[0m                         Traceback (most recent call last)",
      "\u001b[0;32m<ipython-input-16-8bfbc560f24c>\u001b[0m in \u001b[0;36m<module>\u001b[0;34m\u001b[0m\n\u001b[1;32m     12\u001b[0m     \u001b[0;32mreturn\u001b[0m \u001b[0mcnt\u001b[0m\u001b[0;34m\u001b[0m\u001b[0;34m\u001b[0m\u001b[0m\n\u001b[1;32m     13\u001b[0m \u001b[0;34m\u001b[0m\u001b[0m\n\u001b[0;32m---> 14\u001b[0;31m \u001b[0mair_bnb_data\u001b[0m\u001b[0;34m[\u001b[0m\u001b[0;34m'competition'\u001b[0m\u001b[0;34m]\u001b[0m  \u001b[0;34m=\u001b[0m \u001b[0mair_bnb_data\u001b[0m\u001b[0;34m.\u001b[0m\u001b[0mapply\u001b[0m\u001b[0;34m(\u001b[0m\u001b[0;32mlambda\u001b[0m \u001b[0mx\u001b[0m\u001b[0;34m:\u001b[0m \u001b[0mdistance\u001b[0m\u001b[0;34m(\u001b[0m\u001b[0mx\u001b[0m\u001b[0;34m)\u001b[0m\u001b[0;34m,\u001b[0m \u001b[0maxis\u001b[0m\u001b[0;34m=\u001b[0m\u001b[0;36m1\u001b[0m\u001b[0;34m)\u001b[0m\u001b[0;34m\u001b[0m\u001b[0;34m\u001b[0m\u001b[0m\n\u001b[0m\u001b[1;32m     15\u001b[0m \u001b[0;31m# comp = []\u001b[0m\u001b[0;34m\u001b[0m\u001b[0;34m\u001b[0m\u001b[0;34m\u001b[0m\u001b[0m\n\u001b[1;32m     16\u001b[0m \u001b[0;31m# air_bnb_data['coord'] = list(zip(air_bnb_data.latitude, air_bnb_data.longitude))\u001b[0m\u001b[0;34m\u001b[0m\u001b[0;34m\u001b[0m\u001b[0;34m\u001b[0m\u001b[0m\n",
      "\u001b[0;32m~/anaconda3/lib/python3.8/site-packages/pandas/core/frame.py\u001b[0m in \u001b[0;36mapply\u001b[0;34m(self, func, axis, raw, result_type, args, **kwds)\u001b[0m\n\u001b[1;32m   7546\u001b[0m             \u001b[0mkwds\u001b[0m\u001b[0;34m=\u001b[0m\u001b[0mkwds\u001b[0m\u001b[0;34m,\u001b[0m\u001b[0;34m\u001b[0m\u001b[0;34m\u001b[0m\u001b[0m\n\u001b[1;32m   7547\u001b[0m         )\n\u001b[0;32m-> 7548\u001b[0;31m         \u001b[0;32mreturn\u001b[0m \u001b[0mop\u001b[0m\u001b[0;34m.\u001b[0m\u001b[0mget_result\u001b[0m\u001b[0;34m(\u001b[0m\u001b[0;34m)\u001b[0m\u001b[0;34m\u001b[0m\u001b[0;34m\u001b[0m\u001b[0m\n\u001b[0m\u001b[1;32m   7549\u001b[0m \u001b[0;34m\u001b[0m\u001b[0m\n\u001b[1;32m   7550\u001b[0m     \u001b[0;32mdef\u001b[0m \u001b[0mapplymap\u001b[0m\u001b[0;34m(\u001b[0m\u001b[0mself\u001b[0m\u001b[0;34m,\u001b[0m \u001b[0mfunc\u001b[0m\u001b[0;34m)\u001b[0m \u001b[0;34m->\u001b[0m \u001b[0;34m\"DataFrame\"\u001b[0m\u001b[0;34m:\u001b[0m\u001b[0;34m\u001b[0m\u001b[0;34m\u001b[0m\u001b[0m\n",
      "\u001b[0;32m~/anaconda3/lib/python3.8/site-packages/pandas/core/apply.py\u001b[0m in \u001b[0;36mget_result\u001b[0;34m(self)\u001b[0m\n\u001b[1;32m    178\u001b[0m             \u001b[0;32mreturn\u001b[0m \u001b[0mself\u001b[0m\u001b[0;34m.\u001b[0m\u001b[0mapply_raw\u001b[0m\u001b[0;34m(\u001b[0m\u001b[0;34m)\u001b[0m\u001b[0;34m\u001b[0m\u001b[0;34m\u001b[0m\u001b[0m\n\u001b[1;32m    179\u001b[0m \u001b[0;34m\u001b[0m\u001b[0m\n\u001b[0;32m--> 180\u001b[0;31m         \u001b[0;32mreturn\u001b[0m \u001b[0mself\u001b[0m\u001b[0;34m.\u001b[0m\u001b[0mapply_standard\u001b[0m\u001b[0;34m(\u001b[0m\u001b[0;34m)\u001b[0m\u001b[0;34m\u001b[0m\u001b[0;34m\u001b[0m\u001b[0m\n\u001b[0m\u001b[1;32m    181\u001b[0m \u001b[0;34m\u001b[0m\u001b[0m\n\u001b[1;32m    182\u001b[0m     \u001b[0;32mdef\u001b[0m \u001b[0mapply_empty_result\u001b[0m\u001b[0;34m(\u001b[0m\u001b[0mself\u001b[0m\u001b[0;34m)\u001b[0m\u001b[0;34m:\u001b[0m\u001b[0;34m\u001b[0m\u001b[0;34m\u001b[0m\u001b[0m\n",
      "\u001b[0;32m~/anaconda3/lib/python3.8/site-packages/pandas/core/apply.py\u001b[0m in \u001b[0;36mapply_standard\u001b[0;34m(self)\u001b[0m\n\u001b[1;32m    269\u001b[0m \u001b[0;34m\u001b[0m\u001b[0m\n\u001b[1;32m    270\u001b[0m     \u001b[0;32mdef\u001b[0m \u001b[0mapply_standard\u001b[0m\u001b[0;34m(\u001b[0m\u001b[0mself\u001b[0m\u001b[0;34m)\u001b[0m\u001b[0;34m:\u001b[0m\u001b[0;34m\u001b[0m\u001b[0;34m\u001b[0m\u001b[0m\n\u001b[0;32m--> 271\u001b[0;31m         \u001b[0mresults\u001b[0m\u001b[0;34m,\u001b[0m \u001b[0mres_index\u001b[0m \u001b[0;34m=\u001b[0m \u001b[0mself\u001b[0m\u001b[0;34m.\u001b[0m\u001b[0mapply_series_generator\u001b[0m\u001b[0;34m(\u001b[0m\u001b[0;34m)\u001b[0m\u001b[0;34m\u001b[0m\u001b[0;34m\u001b[0m\u001b[0m\n\u001b[0m\u001b[1;32m    272\u001b[0m \u001b[0;34m\u001b[0m\u001b[0m\n\u001b[1;32m    273\u001b[0m         \u001b[0;31m# wrap results\u001b[0m\u001b[0;34m\u001b[0m\u001b[0;34m\u001b[0m\u001b[0;34m\u001b[0m\u001b[0m\n",
      "\u001b[0;32m~/anaconda3/lib/python3.8/site-packages/pandas/core/apply.py\u001b[0m in \u001b[0;36mapply_series_generator\u001b[0;34m(self)\u001b[0m\n\u001b[1;32m    298\u001b[0m                 \u001b[0;32mfor\u001b[0m \u001b[0mi\u001b[0m\u001b[0;34m,\u001b[0m \u001b[0mv\u001b[0m \u001b[0;32min\u001b[0m \u001b[0menumerate\u001b[0m\u001b[0;34m(\u001b[0m\u001b[0mseries_gen\u001b[0m\u001b[0;34m)\u001b[0m\u001b[0;34m:\u001b[0m\u001b[0;34m\u001b[0m\u001b[0;34m\u001b[0m\u001b[0m\n\u001b[1;32m    299\u001b[0m                     \u001b[0;31m# ignore SettingWithCopy here in case the user mutates\u001b[0m\u001b[0;34m\u001b[0m\u001b[0;34m\u001b[0m\u001b[0;34m\u001b[0m\u001b[0m\n\u001b[0;32m--> 300\u001b[0;31m                     \u001b[0mresults\u001b[0m\u001b[0;34m[\u001b[0m\u001b[0mi\u001b[0m\u001b[0;34m]\u001b[0m \u001b[0;34m=\u001b[0m \u001b[0mself\u001b[0m\u001b[0;34m.\u001b[0m\u001b[0mf\u001b[0m\u001b[0;34m(\u001b[0m\u001b[0mv\u001b[0m\u001b[0;34m)\u001b[0m\u001b[0;34m\u001b[0m\u001b[0;34m\u001b[0m\u001b[0m\n\u001b[0m\u001b[1;32m    301\u001b[0m                     \u001b[0;32mif\u001b[0m \u001b[0misinstance\u001b[0m\u001b[0;34m(\u001b[0m\u001b[0mresults\u001b[0m\u001b[0;34m[\u001b[0m\u001b[0mi\u001b[0m\u001b[0;34m]\u001b[0m\u001b[0;34m,\u001b[0m \u001b[0mABCSeries\u001b[0m\u001b[0;34m)\u001b[0m\u001b[0;34m:\u001b[0m\u001b[0;34m\u001b[0m\u001b[0;34m\u001b[0m\u001b[0m\n\u001b[1;32m    302\u001b[0m                         \u001b[0;31m# If we have a view on v, we need to make a copy because\u001b[0m\u001b[0;34m\u001b[0m\u001b[0;34m\u001b[0m\u001b[0;34m\u001b[0m\u001b[0m\n",
      "\u001b[0;32m<ipython-input-16-8bfbc560f24c>\u001b[0m in \u001b[0;36m<lambda>\u001b[0;34m(x)\u001b[0m\n\u001b[1;32m     12\u001b[0m     \u001b[0;32mreturn\u001b[0m \u001b[0mcnt\u001b[0m\u001b[0;34m\u001b[0m\u001b[0;34m\u001b[0m\u001b[0m\n\u001b[1;32m     13\u001b[0m \u001b[0;34m\u001b[0m\u001b[0m\n\u001b[0;32m---> 14\u001b[0;31m \u001b[0mair_bnb_data\u001b[0m\u001b[0;34m[\u001b[0m\u001b[0;34m'competition'\u001b[0m\u001b[0;34m]\u001b[0m  \u001b[0;34m=\u001b[0m \u001b[0mair_bnb_data\u001b[0m\u001b[0;34m.\u001b[0m\u001b[0mapply\u001b[0m\u001b[0;34m(\u001b[0m\u001b[0;32mlambda\u001b[0m \u001b[0mx\u001b[0m\u001b[0;34m:\u001b[0m \u001b[0mdistance\u001b[0m\u001b[0;34m(\u001b[0m\u001b[0mx\u001b[0m\u001b[0;34m)\u001b[0m\u001b[0;34m,\u001b[0m \u001b[0maxis\u001b[0m\u001b[0;34m=\u001b[0m\u001b[0;36m1\u001b[0m\u001b[0;34m)\u001b[0m\u001b[0;34m\u001b[0m\u001b[0;34m\u001b[0m\u001b[0m\n\u001b[0m\u001b[1;32m     15\u001b[0m \u001b[0;31m# comp = []\u001b[0m\u001b[0;34m\u001b[0m\u001b[0;34m\u001b[0m\u001b[0;34m\u001b[0m\u001b[0m\n\u001b[1;32m     16\u001b[0m \u001b[0;31m# air_bnb_data['coord'] = list(zip(air_bnb_data.latitude, air_bnb_data.longitude))\u001b[0m\u001b[0;34m\u001b[0m\u001b[0;34m\u001b[0m\u001b[0;34m\u001b[0m\u001b[0m\n",
      "\u001b[0;32m<ipython-input-16-8bfbc560f24c>\u001b[0m in \u001b[0;36mdistance\u001b[0;34m(row)\u001b[0m\n\u001b[1;32m      8\u001b[0m     \u001b[0mrow_compare\u001b[0m \u001b[0;34m=\u001b[0m \u001b[0mair_bnb_data\u001b[0m\u001b[0;34m.\u001b[0m\u001b[0mloc\u001b[0m\u001b[0;34m[\u001b[0m\u001b[0;34m(\u001b[0m\u001b[0mabs\u001b[0m\u001b[0;34m(\u001b[0m\u001b[0mair_bnb_data\u001b[0m\u001b[0;34m.\u001b[0m\u001b[0mlatitude\u001b[0m \u001b[0;34m-\u001b[0m \u001b[0mla\u001b[0m\u001b[0;34m)\u001b[0m\u001b[0;34m<\u001b[0m\u001b[0;36m0.02\u001b[0m\u001b[0;34m)\u001b[0m \u001b[0;34m&\u001b[0m \u001b[0;34m(\u001b[0m\u001b[0mabs\u001b[0m\u001b[0;34m(\u001b[0m\u001b[0mair_bnb_data\u001b[0m\u001b[0;34m.\u001b[0m\u001b[0mlongitude\u001b[0m \u001b[0;34m-\u001b[0m \u001b[0mlo\u001b[0m\u001b[0;34m)\u001b[0m\u001b[0;34m<\u001b[0m\u001b[0;36m0.02\u001b[0m\u001b[0;34m)\u001b[0m\u001b[0;34m]\u001b[0m\u001b[0;34m\u001b[0m\u001b[0;34m\u001b[0m\u001b[0m\n\u001b[1;32m      9\u001b[0m     \u001b[0;32mfor\u001b[0m \u001b[0mi\u001b[0m \u001b[0;32min\u001b[0m \u001b[0mrow_compare\u001b[0m\u001b[0;34m.\u001b[0m\u001b[0mcoord\u001b[0m\u001b[0;34m:\u001b[0m\u001b[0;34m\u001b[0m\u001b[0;34m\u001b[0m\u001b[0m\n\u001b[0;32m---> 10\u001b[0;31m         \u001b[0;32mif\u001b[0m \u001b[0mgd\u001b[0m\u001b[0;34m.\u001b[0m\u001b[0mgeodesic\u001b[0m\u001b[0;34m(\u001b[0m\u001b[0mrow\u001b[0m\u001b[0;34m.\u001b[0m\u001b[0mcoord\u001b[0m\u001b[0;34m,\u001b[0m \u001b[0mi\u001b[0m\u001b[0;34m)\u001b[0m\u001b[0;34m.\u001b[0m\u001b[0mmiles\u001b[0m \u001b[0;34m<=\u001b[0m\u001b[0;36m2\u001b[0m\u001b[0;34m:\u001b[0m\u001b[0;34m\u001b[0m\u001b[0;34m\u001b[0m\u001b[0m\n\u001b[0m\u001b[1;32m     11\u001b[0m             \u001b[0mcnt\u001b[0m\u001b[0;34m+=\u001b[0m\u001b[0;36m1\u001b[0m\u001b[0;34m\u001b[0m\u001b[0;34m\u001b[0m\u001b[0m\n\u001b[1;32m     12\u001b[0m     \u001b[0;32mreturn\u001b[0m \u001b[0mcnt\u001b[0m\u001b[0;34m\u001b[0m\u001b[0;34m\u001b[0m\u001b[0m\n",
      "\u001b[0;32m~/anaconda3/lib/python3.8/site-packages/geopy/distance.py\u001b[0m in \u001b[0;36m__init__\u001b[0;34m(self, *args, **kwargs)\u001b[0m\n\u001b[1;32m    416\u001b[0m         \u001b[0mself\u001b[0m\u001b[0;34m.\u001b[0m\u001b[0mset_ellipsoid\u001b[0m\u001b[0;34m(\u001b[0m\u001b[0mkwargs\u001b[0m\u001b[0;34m.\u001b[0m\u001b[0mpop\u001b[0m\u001b[0;34m(\u001b[0m\u001b[0;34m'ellipsoid'\u001b[0m\u001b[0;34m,\u001b[0m \u001b[0;34m'WGS-84'\u001b[0m\u001b[0;34m)\u001b[0m\u001b[0;34m)\u001b[0m\u001b[0;34m\u001b[0m\u001b[0;34m\u001b[0m\u001b[0m\n\u001b[1;32m    417\u001b[0m         \u001b[0mmajor\u001b[0m\u001b[0;34m,\u001b[0m \u001b[0mminor\u001b[0m\u001b[0;34m,\u001b[0m \u001b[0mf\u001b[0m \u001b[0;34m=\u001b[0m \u001b[0mself\u001b[0m\u001b[0;34m.\u001b[0m\u001b[0mELLIPSOID\u001b[0m\u001b[0;34m\u001b[0m\u001b[0;34m\u001b[0m\u001b[0m\n\u001b[0;32m--> 418\u001b[0;31m         \u001b[0msuper\u001b[0m\u001b[0;34m(\u001b[0m\u001b[0;34m)\u001b[0m\u001b[0;34m.\u001b[0m\u001b[0m__init__\u001b[0m\u001b[0;34m(\u001b[0m\u001b[0;34m*\u001b[0m\u001b[0margs\u001b[0m\u001b[0;34m,\u001b[0m \u001b[0;34m**\u001b[0m\u001b[0mkwargs\u001b[0m\u001b[0;34m)\u001b[0m\u001b[0;34m\u001b[0m\u001b[0;34m\u001b[0m\u001b[0m\n\u001b[0m\u001b[1;32m    419\u001b[0m \u001b[0;34m\u001b[0m\u001b[0m\n\u001b[1;32m    420\u001b[0m     \u001b[0;32mdef\u001b[0m \u001b[0mset_ellipsoid\u001b[0m\u001b[0;34m(\u001b[0m\u001b[0mself\u001b[0m\u001b[0;34m,\u001b[0m \u001b[0mellipsoid\u001b[0m\u001b[0;34m)\u001b[0m\u001b[0;34m:\u001b[0m\u001b[0;34m\u001b[0m\u001b[0;34m\u001b[0m\u001b[0m\n",
      "\u001b[0;32m~/anaconda3/lib/python3.8/site-packages/geopy/distance.py\u001b[0m in \u001b[0;36m__init__\u001b[0;34m(self, *args, **kwargs)\u001b[0m\n\u001b[1;32m    199\u001b[0m         \u001b[0;32melif\u001b[0m \u001b[0mlen\u001b[0m\u001b[0;34m(\u001b[0m\u001b[0margs\u001b[0m\u001b[0;34m)\u001b[0m \u001b[0;34m>\u001b[0m \u001b[0;36m1\u001b[0m\u001b[0;34m:\u001b[0m\u001b[0;34m\u001b[0m\u001b[0;34m\u001b[0m\u001b[0m\n\u001b[1;32m    200\u001b[0m             \u001b[0;32mfor\u001b[0m \u001b[0ma\u001b[0m\u001b[0;34m,\u001b[0m \u001b[0mb\u001b[0m \u001b[0;32min\u001b[0m \u001b[0mutil\u001b[0m\u001b[0;34m.\u001b[0m\u001b[0mpairwise\u001b[0m\u001b[0;34m(\u001b[0m\u001b[0margs\u001b[0m\u001b[0;34m)\u001b[0m\u001b[0;34m:\u001b[0m\u001b[0;34m\u001b[0m\u001b[0;34m\u001b[0m\u001b[0m\n\u001b[0;32m--> 201\u001b[0;31m                 \u001b[0mkilometers\u001b[0m \u001b[0;34m+=\u001b[0m \u001b[0mself\u001b[0m\u001b[0;34m.\u001b[0m\u001b[0mmeasure\u001b[0m\u001b[0;34m(\u001b[0m\u001b[0ma\u001b[0m\u001b[0;34m,\u001b[0m \u001b[0mb\u001b[0m\u001b[0;34m)\u001b[0m\u001b[0;34m\u001b[0m\u001b[0;34m\u001b[0m\u001b[0m\n\u001b[0m\u001b[1;32m    202\u001b[0m \u001b[0;34m\u001b[0m\u001b[0m\n\u001b[1;32m    203\u001b[0m         \u001b[0mkilometers\u001b[0m \u001b[0;34m+=\u001b[0m \u001b[0munits\u001b[0m\u001b[0;34m.\u001b[0m\u001b[0mkilometers\u001b[0m\u001b[0;34m(\u001b[0m\u001b[0;34m**\u001b[0m\u001b[0mkwargs\u001b[0m\u001b[0;34m)\u001b[0m\u001b[0;34m\u001b[0m\u001b[0;34m\u001b[0m\u001b[0m\n",
      "\u001b[0;32m~/anaconda3/lib/python3.8/site-packages/geopy/distance.py\u001b[0m in \u001b[0;36mmeasure\u001b[0;34m(self, a, b)\u001b[0m\n\u001b[1;32m    446\u001b[0m             \u001b[0mself\u001b[0m\u001b[0;34m.\u001b[0m\u001b[0mgeod\u001b[0m \u001b[0;34m=\u001b[0m \u001b[0mGeodesic\u001b[0m\u001b[0;34m(\u001b[0m\u001b[0mself\u001b[0m\u001b[0;34m.\u001b[0m\u001b[0mELLIPSOID\u001b[0m\u001b[0;34m[\u001b[0m\u001b[0;36m0\u001b[0m\u001b[0;34m]\u001b[0m\u001b[0;34m,\u001b[0m \u001b[0mself\u001b[0m\u001b[0;34m.\u001b[0m\u001b[0mELLIPSOID\u001b[0m\u001b[0;34m[\u001b[0m\u001b[0;36m2\u001b[0m\u001b[0;34m]\u001b[0m\u001b[0;34m)\u001b[0m\u001b[0;34m\u001b[0m\u001b[0;34m\u001b[0m\u001b[0m\n\u001b[1;32m    447\u001b[0m \u001b[0;34m\u001b[0m\u001b[0m\n\u001b[0;32m--> 448\u001b[0;31m         s12 = self.geod.Inverse(lat1, lon1, lat2, lon2,\n\u001b[0m\u001b[1;32m    449\u001b[0m                                 Geodesic.DISTANCE)['s12']\n\u001b[1;32m    450\u001b[0m \u001b[0;34m\u001b[0m\u001b[0m\n",
      "\u001b[0;32m~/anaconda3/lib/python3.8/site-packages/geographiclib/geodesic.py\u001b[0m in \u001b[0;36mInverse\u001b[0;34m(self, lat1, lon1, lat2, lon2, outmask)\u001b[0m\n\u001b[1;32m   1033\u001b[0m     \"\"\"\n\u001b[1;32m   1034\u001b[0m \u001b[0;34m\u001b[0m\u001b[0m\n\u001b[0;32m-> 1035\u001b[0;31m     a12, s12, salp1,calp1, salp2,calp2, m12, M12, M21, S12 = self._GenInverse(\n\u001b[0m\u001b[1;32m   1036\u001b[0m       lat1, lon1, lat2, lon2, outmask)\n\u001b[1;32m   1037\u001b[0m     \u001b[0moutmask\u001b[0m \u001b[0;34m&=\u001b[0m \u001b[0mGeodesic\u001b[0m\u001b[0;34m.\u001b[0m\u001b[0mOUT_MASK\u001b[0m\u001b[0;34m\u001b[0m\u001b[0;34m\u001b[0m\u001b[0m\n",
      "\u001b[0;32m~/anaconda3/lib/python3.8/site-packages/geographiclib/geodesic.py\u001b[0m in \u001b[0;36m_GenInverse\u001b[0;34m(self, lat1, lon1, lat2, lon2, outmask)\u001b[0m\n\u001b[1;32m    720\u001b[0m       \u001b[0mslam12\u001b[0m\u001b[0;34m,\u001b[0m \u001b[0mclam12\u001b[0m \u001b[0;34m=\u001b[0m \u001b[0mMath\u001b[0m\u001b[0;34m.\u001b[0m\u001b[0msincosd\u001b[0m\u001b[0;34m(\u001b[0m\u001b[0mlon12s\u001b[0m\u001b[0;34m)\u001b[0m\u001b[0;34m;\u001b[0m \u001b[0mclam12\u001b[0m \u001b[0;34m=\u001b[0m \u001b[0;34m-\u001b[0m\u001b[0mclam12\u001b[0m\u001b[0;34m\u001b[0m\u001b[0;34m\u001b[0m\u001b[0m\n\u001b[1;32m    721\u001b[0m     \u001b[0;32melse\u001b[0m\u001b[0;34m:\u001b[0m\u001b[0;34m\u001b[0m\u001b[0;34m\u001b[0m\u001b[0m\n\u001b[0;32m--> 722\u001b[0;31m       \u001b[0mslam12\u001b[0m\u001b[0;34m,\u001b[0m \u001b[0mclam12\u001b[0m \u001b[0;34m=\u001b[0m \u001b[0mMath\u001b[0m\u001b[0;34m.\u001b[0m\u001b[0msincosd\u001b[0m\u001b[0;34m(\u001b[0m\u001b[0mlon12\u001b[0m\u001b[0;34m)\u001b[0m\u001b[0;34m\u001b[0m\u001b[0;34m\u001b[0m\u001b[0m\n\u001b[0m\u001b[1;32m    723\u001b[0m \u001b[0;34m\u001b[0m\u001b[0m\n\u001b[1;32m    724\u001b[0m     \u001b[0;31m# If really close to the equator, treat as on equator.\u001b[0m\u001b[0;34m\u001b[0m\u001b[0;34m\u001b[0m\u001b[0;34m\u001b[0m\u001b[0m\n",
      "\u001b[0;32m~/anaconda3/lib/python3.8/site-packages/geographiclib/geomath.py\u001b[0m in \u001b[0;36msincosd\u001b[0;34m(x)\u001b[0m\n\u001b[1;32m    169\u001b[0m     \u001b[0;32mif\u001b[0m \u001b[0mq\u001b[0m \u001b[0;34m==\u001b[0m \u001b[0;36m1\u001b[0m\u001b[0;34m:\u001b[0m\u001b[0;34m\u001b[0m\u001b[0;34m\u001b[0m\u001b[0m\n\u001b[1;32m    170\u001b[0m       \u001b[0ms\u001b[0m\u001b[0;34m,\u001b[0m \u001b[0mc\u001b[0m \u001b[0;34m=\u001b[0m  \u001b[0mc\u001b[0m\u001b[0;34m,\u001b[0m \u001b[0;34m-\u001b[0m\u001b[0ms\u001b[0m\u001b[0;34m\u001b[0m\u001b[0;34m\u001b[0m\u001b[0m\n\u001b[0;32m--> 171\u001b[0;31m     \u001b[0;32melif\u001b[0m \u001b[0mq\u001b[0m \u001b[0;34m==\u001b[0m \u001b[0;36m2\u001b[0m\u001b[0;34m:\u001b[0m\u001b[0;34m\u001b[0m\u001b[0;34m\u001b[0m\u001b[0m\n\u001b[0m\u001b[1;32m    172\u001b[0m       \u001b[0ms\u001b[0m\u001b[0;34m,\u001b[0m \u001b[0mc\u001b[0m \u001b[0;34m=\u001b[0m \u001b[0;34m-\u001b[0m\u001b[0ms\u001b[0m\u001b[0;34m,\u001b[0m \u001b[0;34m-\u001b[0m\u001b[0mc\u001b[0m\u001b[0;34m\u001b[0m\u001b[0;34m\u001b[0m\u001b[0m\n\u001b[1;32m    173\u001b[0m     \u001b[0;32melif\u001b[0m \u001b[0mq\u001b[0m \u001b[0;34m==\u001b[0m \u001b[0;36m3\u001b[0m\u001b[0;34m:\u001b[0m\u001b[0;34m\u001b[0m\u001b[0;34m\u001b[0m\u001b[0m\n",
      "\u001b[0;31mKeyboardInterrupt\u001b[0m: "
     ]
    }
   ],
   "source": [
    "import geopy.distance as gd\n",
    "i=0\n",
    "def distance(row):\n",
    "    print(i)\n",
    "    la = row['latitude']\n",
    "    lo = row['longitude']\n",
    "    cnt = 0\n",
    "    row_compare = air_bnb_data.loc[(abs(air_bnb_data.latitude - la)<0.02) & (abs(air_bnb_data.longitude - lo)<0.02)]\n",
    "    for i in row_compare.coord:\n",
    "        if gd.geodesic(row.coord, i).miles <=2:\n",
    "            cnt+=1\n",
    "    i+=1\n",
    "    return cnt\n",
    "\n",
    "air_bnb_data['competition']  = air_bnb_data.apply(lambda x: distance(x), axis=1)\n",
    "# comp = []\n",
    "# air_bnb_data['coord'] = list(zip(air_bnb_data.latitude, air_bnb_data.longitude))\n",
    "# #air_bnb_data1 = air_bnb_data.merge(air_bnb_data,on='id',how='cross')\n",
    "# for index, row in air_bnb_data.iterrows():\n",
    "#     coords = air_bnb_data.loc[(abs(air_bnb_data['latitude'] - row['latitude']) <=0.05) & (abs(air_bnb_data['longitude'] - row['longitude']) <0.05)]\n",
    "#     cnt=0\n",
    "#     for index, row1 in coords.iterrows():\n",
    "#         d = distance(row['coord'],row1['coord'])\n",
    "#         if d <=2:\n",
    "#             cnt+=1\n",
    "#     comp.append(cnt)\n",
    "    #row['comp'] = len(air_bnb_data.loc[(gd.geodesic((air_bnb_data['latitude'],air_bnb_data['longitude']),(row['latitude'],row['longitude'])).miles<=2)])\n",
    "        \n",
    "        #abs(air_bnb_data['latitude']-row['latitude']<=0.001)) & (abs(air_bnb_data['longitude']-row['longitude']<=0.001))])"
   ]
  },
  {
   "cell_type": "code",
   "execution_count": 15,
   "metadata": {},
   "outputs": [
    {
     "data": {
      "text/plain": [
       "40.80155"
      ]
     },
     "execution_count": 15,
     "metadata": {},
     "output_type": "execute_result"
    }
   ],
   "source": [
    "air_bnb_data.loc[0].latitude"
   ]
  },
  {
   "cell_type": "code",
   "execution_count": null,
   "metadata": {},
   "outputs": [],
   "source": [
    "air_bnb_data.loc[(abs(air_bnb_data.latitude - la)<0.02) & (abs(air_bnb_data.longitude - lo)<0.02)]\n"
   ]
  },
  {
   "cell_type": "code",
   "execution_count": 13,
   "metadata": {},
   "outputs": [
    {
     "data": {
      "text/plain": [
       "array([0])"
      ]
     },
     "execution_count": 13,
     "metadata": {},
     "output_type": "execute_result"
    }
   ],
   "source": [
    "air_bnb_data.competition.unique()"
   ]
  },
  {
   "cell_type": "code",
   "execution_count": 72,
   "metadata": {},
   "outputs": [
    {
     "data": {
      "text/plain": [
       "40.80155"
      ]
     },
     "execution_count": 72,
     "metadata": {},
     "output_type": "execute_result"
    }
   ],
   "source": [
    "gd.geodesic(air_bnb_data.coord[0], air_bnb_data.coord[0]).miles\n",
    "\n",
    "air_bnb_data.coord[0][0]"
   ]
  },
  {
   "cell_type": "code",
   "execution_count": 55,
   "metadata": {},
   "outputs": [
    {
     "data": {
      "text/plain": [
       "40135"
      ]
     },
     "execution_count": 55,
     "metadata": {},
     "output_type": "execute_result"
    }
   ],
   "source": [
    "air_bnb_data['comp'] = air_bnb_data.apply(lambda row['coord']: distance('coord'), axis=1)"
   ]
  },
  {
   "cell_type": "code",
   "execution_count": null,
   "metadata": {},
   "outputs": [],
   "source": [
    "def measure(data, latitude,longitude):\n",
    "    \n",
    "\n",
    "air_bnb_data['comp'] = air_bnb_data.apply( lambda x : )"
   ]
  },
  {
   "cell_type": "code",
   "execution_count": 58,
   "metadata": {},
   "outputs": [],
   "source": [
    "air_bnb_data_1 = pd.merge(air_bnb_data,air_bnb_data,on='id')"
   ]
  },
  {
   "cell_type": "code",
   "execution_count": 60,
   "metadata": {},
   "outputs": [
    {
     "ename": "KeyError",
     "evalue": "\"['key'] not found in axis\"",
     "output_type": "error",
     "traceback": [
      "\u001b[0;31m---------------------------------------------------------------------------\u001b[0m",
      "\u001b[0;31mKeyError\u001b[0m                                  Traceback (most recent call last)",
      "\u001b[0;32m<ipython-input-60-3425dd48327f>\u001b[0m in \u001b[0;36m<module>\u001b[0;34m\u001b[0m\n\u001b[0;32m----> 1\u001b[0;31m \u001b[0mair_bnb_data\u001b[0m\u001b[0;34m.\u001b[0m\u001b[0massign\u001b[0m\u001b[0;34m(\u001b[0m\u001b[0mkey\u001b[0m\u001b[0;34m=\u001b[0m\u001b[0;36m1\u001b[0m\u001b[0;34m)\u001b[0m\u001b[0;34m.\u001b[0m\u001b[0mmerge\u001b[0m\u001b[0;34m(\u001b[0m\u001b[0mair_bnb_data\u001b[0m\u001b[0;34m.\u001b[0m\u001b[0massign\u001b[0m\u001b[0;34m(\u001b[0m\u001b[0mkey\u001b[0m\u001b[0;34m=\u001b[0m\u001b[0;36m1\u001b[0m\u001b[0;34m)\u001b[0m\u001b[0;34m,\u001b[0m \u001b[0mon\u001b[0m\u001b[0;34m=\u001b[0m\u001b[0;34m'id'\u001b[0m\u001b[0;34m)\u001b[0m\u001b[0;34m.\u001b[0m\u001b[0mdrop\u001b[0m\u001b[0;34m(\u001b[0m\u001b[0;34m'key'\u001b[0m\u001b[0;34m,\u001b[0m \u001b[0;36m1\u001b[0m\u001b[0;34m)\u001b[0m\u001b[0;34m\u001b[0m\u001b[0;34m\u001b[0m\u001b[0m\n\u001b[0m",
      "\u001b[0;32m~/anaconda3/lib/python3.8/site-packages/pandas/core/frame.py\u001b[0m in \u001b[0;36mdrop\u001b[0;34m(self, labels, axis, index, columns, level, inplace, errors)\u001b[0m\n\u001b[1;32m   4161\u001b[0m                 \u001b[0mweight\u001b[0m  \u001b[0;36m1.0\u001b[0m     \u001b[0;36m0.8\u001b[0m\u001b[0;34m\u001b[0m\u001b[0;34m\u001b[0m\u001b[0m\n\u001b[1;32m   4162\u001b[0m         \"\"\"\n\u001b[0;32m-> 4163\u001b[0;31m         return super().drop(\n\u001b[0m\u001b[1;32m   4164\u001b[0m             \u001b[0mlabels\u001b[0m\u001b[0;34m=\u001b[0m\u001b[0mlabels\u001b[0m\u001b[0;34m,\u001b[0m\u001b[0;34m\u001b[0m\u001b[0;34m\u001b[0m\u001b[0m\n\u001b[1;32m   4165\u001b[0m             \u001b[0maxis\u001b[0m\u001b[0;34m=\u001b[0m\u001b[0maxis\u001b[0m\u001b[0;34m,\u001b[0m\u001b[0;34m\u001b[0m\u001b[0;34m\u001b[0m\u001b[0m\n",
      "\u001b[0;32m~/anaconda3/lib/python3.8/site-packages/pandas/core/generic.py\u001b[0m in \u001b[0;36mdrop\u001b[0;34m(self, labels, axis, index, columns, level, inplace, errors)\u001b[0m\n\u001b[1;32m   3885\u001b[0m         \u001b[0;32mfor\u001b[0m \u001b[0maxis\u001b[0m\u001b[0;34m,\u001b[0m \u001b[0mlabels\u001b[0m \u001b[0;32min\u001b[0m \u001b[0maxes\u001b[0m\u001b[0;34m.\u001b[0m\u001b[0mitems\u001b[0m\u001b[0;34m(\u001b[0m\u001b[0;34m)\u001b[0m\u001b[0;34m:\u001b[0m\u001b[0;34m\u001b[0m\u001b[0;34m\u001b[0m\u001b[0m\n\u001b[1;32m   3886\u001b[0m             \u001b[0;32mif\u001b[0m \u001b[0mlabels\u001b[0m \u001b[0;32mis\u001b[0m \u001b[0;32mnot\u001b[0m \u001b[0;32mNone\u001b[0m\u001b[0;34m:\u001b[0m\u001b[0;34m\u001b[0m\u001b[0;34m\u001b[0m\u001b[0m\n\u001b[0;32m-> 3887\u001b[0;31m                 \u001b[0mobj\u001b[0m \u001b[0;34m=\u001b[0m \u001b[0mobj\u001b[0m\u001b[0;34m.\u001b[0m\u001b[0m_drop_axis\u001b[0m\u001b[0;34m(\u001b[0m\u001b[0mlabels\u001b[0m\u001b[0;34m,\u001b[0m \u001b[0maxis\u001b[0m\u001b[0;34m,\u001b[0m \u001b[0mlevel\u001b[0m\u001b[0;34m=\u001b[0m\u001b[0mlevel\u001b[0m\u001b[0;34m,\u001b[0m \u001b[0merrors\u001b[0m\u001b[0;34m=\u001b[0m\u001b[0merrors\u001b[0m\u001b[0;34m)\u001b[0m\u001b[0;34m\u001b[0m\u001b[0;34m\u001b[0m\u001b[0m\n\u001b[0m\u001b[1;32m   3888\u001b[0m \u001b[0;34m\u001b[0m\u001b[0m\n\u001b[1;32m   3889\u001b[0m         \u001b[0;32mif\u001b[0m \u001b[0minplace\u001b[0m\u001b[0;34m:\u001b[0m\u001b[0;34m\u001b[0m\u001b[0;34m\u001b[0m\u001b[0m\n",
      "\u001b[0;32m~/anaconda3/lib/python3.8/site-packages/pandas/core/generic.py\u001b[0m in \u001b[0;36m_drop_axis\u001b[0;34m(self, labels, axis, level, errors)\u001b[0m\n\u001b[1;32m   3919\u001b[0m                 \u001b[0mnew_axis\u001b[0m \u001b[0;34m=\u001b[0m \u001b[0maxis\u001b[0m\u001b[0;34m.\u001b[0m\u001b[0mdrop\u001b[0m\u001b[0;34m(\u001b[0m\u001b[0mlabels\u001b[0m\u001b[0;34m,\u001b[0m \u001b[0mlevel\u001b[0m\u001b[0;34m=\u001b[0m\u001b[0mlevel\u001b[0m\u001b[0;34m,\u001b[0m \u001b[0merrors\u001b[0m\u001b[0;34m=\u001b[0m\u001b[0merrors\u001b[0m\u001b[0;34m)\u001b[0m\u001b[0;34m\u001b[0m\u001b[0;34m\u001b[0m\u001b[0m\n\u001b[1;32m   3920\u001b[0m             \u001b[0;32melse\u001b[0m\u001b[0;34m:\u001b[0m\u001b[0;34m\u001b[0m\u001b[0;34m\u001b[0m\u001b[0m\n\u001b[0;32m-> 3921\u001b[0;31m                 \u001b[0mnew_axis\u001b[0m \u001b[0;34m=\u001b[0m \u001b[0maxis\u001b[0m\u001b[0;34m.\u001b[0m\u001b[0mdrop\u001b[0m\u001b[0;34m(\u001b[0m\u001b[0mlabels\u001b[0m\u001b[0;34m,\u001b[0m \u001b[0merrors\u001b[0m\u001b[0;34m=\u001b[0m\u001b[0merrors\u001b[0m\u001b[0;34m)\u001b[0m\u001b[0;34m\u001b[0m\u001b[0;34m\u001b[0m\u001b[0m\n\u001b[0m\u001b[1;32m   3922\u001b[0m             \u001b[0mresult\u001b[0m \u001b[0;34m=\u001b[0m \u001b[0mself\u001b[0m\u001b[0;34m.\u001b[0m\u001b[0mreindex\u001b[0m\u001b[0;34m(\u001b[0m\u001b[0;34m**\u001b[0m\u001b[0;34m{\u001b[0m\u001b[0maxis_name\u001b[0m\u001b[0;34m:\u001b[0m \u001b[0mnew_axis\u001b[0m\u001b[0;34m}\u001b[0m\u001b[0;34m)\u001b[0m\u001b[0;34m\u001b[0m\u001b[0;34m\u001b[0m\u001b[0m\n\u001b[1;32m   3923\u001b[0m \u001b[0;34m\u001b[0m\u001b[0m\n",
      "\u001b[0;32m~/anaconda3/lib/python3.8/site-packages/pandas/core/indexes/base.py\u001b[0m in \u001b[0;36mdrop\u001b[0;34m(self, labels, errors)\u001b[0m\n\u001b[1;32m   5280\u001b[0m         \u001b[0;32mif\u001b[0m \u001b[0mmask\u001b[0m\u001b[0;34m.\u001b[0m\u001b[0many\u001b[0m\u001b[0;34m(\u001b[0m\u001b[0;34m)\u001b[0m\u001b[0;34m:\u001b[0m\u001b[0;34m\u001b[0m\u001b[0;34m\u001b[0m\u001b[0m\n\u001b[1;32m   5281\u001b[0m             \u001b[0;32mif\u001b[0m \u001b[0merrors\u001b[0m \u001b[0;34m!=\u001b[0m \u001b[0;34m\"ignore\"\u001b[0m\u001b[0;34m:\u001b[0m\u001b[0;34m\u001b[0m\u001b[0;34m\u001b[0m\u001b[0m\n\u001b[0;32m-> 5282\u001b[0;31m                 \u001b[0;32mraise\u001b[0m \u001b[0mKeyError\u001b[0m\u001b[0;34m(\u001b[0m\u001b[0;34mf\"{labels[mask]} not found in axis\"\u001b[0m\u001b[0;34m)\u001b[0m\u001b[0;34m\u001b[0m\u001b[0;34m\u001b[0m\u001b[0m\n\u001b[0m\u001b[1;32m   5283\u001b[0m             \u001b[0mindexer\u001b[0m \u001b[0;34m=\u001b[0m \u001b[0mindexer\u001b[0m\u001b[0;34m[\u001b[0m\u001b[0;34m~\u001b[0m\u001b[0mmask\u001b[0m\u001b[0;34m]\u001b[0m\u001b[0;34m\u001b[0m\u001b[0;34m\u001b[0m\u001b[0m\n\u001b[1;32m   5284\u001b[0m         \u001b[0;32mreturn\u001b[0m \u001b[0mself\u001b[0m\u001b[0;34m.\u001b[0m\u001b[0mdelete\u001b[0m\u001b[0;34m(\u001b[0m\u001b[0mindexer\u001b[0m\u001b[0;34m)\u001b[0m\u001b[0;34m\u001b[0m\u001b[0;34m\u001b[0m\u001b[0m\n",
      "\u001b[0;31mKeyError\u001b[0m: \"['key'] not found in axis\""
     ]
    }
   ],
   "source": [
    "air_bnb_data.assign(key=1).merge(air_bnb_data.assign(key=1), on='id').drop('key', 1)"
   ]
  },
  {
   "cell_type": "code",
   "execution_count": 5,
   "metadata": {},
   "outputs": [
    {
     "data": {
      "text/plain": [
       "array([[<matplotlib.axes._subplots.AxesSubplot object at 0x7f6ab8269310>,\n",
       "        <matplotlib.axes._subplots.AxesSubplot object at 0x7f6ab8e928e0>,\n",
       "        <matplotlib.axes._subplots.AxesSubplot object at 0x7f6ab8e75dc0>,\n",
       "        <matplotlib.axes._subplots.AxesSubplot object at 0x7f6ab982bd90>,\n",
       "        <matplotlib.axes._subplots.AxesSubplot object at 0x7f6ab99dfcd0>,\n",
       "        <matplotlib.axes._subplots.AxesSubplot object at 0x7f6ab63fdbe0>,\n",
       "        <matplotlib.axes._subplots.AxesSubplot object at 0x7f6ab63fdcd0>,\n",
       "        <matplotlib.axes._subplots.AxesSubplot object at 0x7f6ab63b81c0>,\n",
       "        <matplotlib.axes._subplots.AxesSubplot object at 0x7f6ab638f9d0>,\n",
       "        <matplotlib.axes._subplots.AxesSubplot object at 0x7f6ab633ae20>,\n",
       "        <matplotlib.axes._subplots.AxesSubplot object at 0x7f6ab62f32e0>,\n",
       "        <matplotlib.axes._subplots.AxesSubplot object at 0x7f6ab629f730>,\n",
       "        <matplotlib.axes._subplots.AxesSubplot object at 0x7f6ab62ccb80>,\n",
       "        <matplotlib.axes._subplots.AxesSubplot object at 0x7f6ab6277fd0>,\n",
       "        <matplotlib.axes._subplots.AxesSubplot object at 0x7f6ab622f460>,\n",
       "        <matplotlib.axes._subplots.AxesSubplot object at 0x7f6ab61da8e0>,\n",
       "        <matplotlib.axes._subplots.AxesSubplot object at 0x7f6ab6208d60>,\n",
       "        <matplotlib.axes._subplots.AxesSubplot object at 0x7f6ab61c01f0>,\n",
       "        <matplotlib.axes._subplots.AxesSubplot object at 0x7f6ab616e640>,\n",
       "        <matplotlib.axes._subplots.AxesSubplot object at 0x7f6ab6119a90>,\n",
       "        <matplotlib.axes._subplots.AxesSubplot object at 0x7f6ab6145ee0>],\n",
       "       [<matplotlib.axes._subplots.AxesSubplot object at 0x7f6ab60ff3d0>,\n",
       "        <matplotlib.axes._subplots.AxesSubplot object at 0x7f6ab60aa820>,\n",
       "        <matplotlib.axes._subplots.AxesSubplot object at 0x7f6ab6055cd0>,\n",
       "        <matplotlib.axes._subplots.AxesSubplot object at 0x7f6ab608e160>,\n",
       "        <matplotlib.axes._subplots.AxesSubplot object at 0x7f6ab60395b0>,\n",
       "        <matplotlib.axes._subplots.AxesSubplot object at 0x7f6ab5fe6a00>,\n",
       "        <matplotlib.axes._subplots.AxesSubplot object at 0x7f6ab5f91e50>,\n",
       "        <matplotlib.axes._subplots.AxesSubplot object at 0x7f6ab5fcc2e0>,\n",
       "        <matplotlib.axes._subplots.AxesSubplot object at 0x7f6ab5f76790>,\n",
       "        <matplotlib.axes._subplots.AxesSubplot object at 0x7f6ab5f2b3a0>,\n",
       "        <matplotlib.axes._subplots.AxesSubplot object at 0x7f6ab5ed2b20>,\n",
       "        <matplotlib.axes._subplots.AxesSubplot object at 0x7f6ab5f08310>,\n",
       "        <matplotlib.axes._subplots.AxesSubplot object at 0x7f6ab5eafa90>,\n",
       "        <matplotlib.axes._subplots.AxesSubplot object at 0x7f6ab5e66250>,\n",
       "        <matplotlib.axes._subplots.AxesSubplot object at 0x7f6ab5e8d9d0>,\n",
       "        <matplotlib.axes._subplots.AxesSubplot object at 0x7f6ab5e431f0>,\n",
       "        <matplotlib.axes._subplots.AxesSubplot object at 0x7f6ab5deb970>,\n",
       "        <matplotlib.axes._subplots.AxesSubplot object at 0x7f6ab5da2130>,\n",
       "        <matplotlib.axes._subplots.AxesSubplot object at 0x7f6ab5dca8b0>,\n",
       "        <matplotlib.axes._subplots.AxesSubplot object at 0x7f6ab5d730d0>,\n",
       "        <matplotlib.axes._subplots.AxesSubplot object at 0x7f6ab5d297f0>],\n",
       "       [<matplotlib.axes._subplots.AxesSubplot object at 0x7f6ab5cd4f70>,\n",
       "        <matplotlib.axes._subplots.AxesSubplot object at 0x7f6ab5d07730>,\n",
       "        <matplotlib.axes._subplots.AxesSubplot object at 0x7f6ab5cb0eb0>,\n",
       "        <matplotlib.axes._subplots.AxesSubplot object at 0x7f6ab5c63670>,\n",
       "        <matplotlib.axes._subplots.AxesSubplot object at 0x7f6ab5c8fdf0>,\n",
       "        <matplotlib.axes._subplots.AxesSubplot object at 0x7f6ab5c435b0>,\n",
       "        <matplotlib.axes._subplots.AxesSubplot object at 0x7f6ab5becd30>,\n",
       "        <matplotlib.axes._subplots.AxesSubplot object at 0x7f6ab5ba34f0>,\n",
       "        <matplotlib.axes._subplots.AxesSubplot object at 0x7f6ab5bc9c70>,\n",
       "        <matplotlib.axes._subplots.AxesSubplot object at 0x7f6ab5b80430>,\n",
       "        <matplotlib.axes._subplots.AxesSubplot object at 0x7f6ab5b26bb0>,\n",
       "        <matplotlib.axes._subplots.AxesSubplot object at 0x7f6ab5add370>,\n",
       "        <matplotlib.axes._subplots.AxesSubplot object at 0x7f6ab5b07af0>,\n",
       "        <matplotlib.axes._subplots.AxesSubplot object at 0x7f6ab5abc2b0>,\n",
       "        <matplotlib.axes._subplots.AxesSubplot object at 0x7f6ab5a64a30>,\n",
       "        <matplotlib.axes._subplots.AxesSubplot object at 0x7f6ab5a1a250>,\n",
       "        <matplotlib.axes._subplots.AxesSubplot object at 0x7f6ab5a429d0>,\n",
       "        <matplotlib.axes._subplots.AxesSubplot object at 0x7f6ab59f8190>,\n",
       "        <matplotlib.axes._subplots.AxesSubplot object at 0x7f6ab59a1910>,\n",
       "        <matplotlib.axes._subplots.AxesSubplot object at 0x7f6ab59cb130>,\n",
       "        <matplotlib.axes._subplots.AxesSubplot object at 0x7f6ab912f130>],\n",
       "       [<matplotlib.axes._subplots.AxesSubplot object at 0x7f6ab636deb0>,\n",
       "        <matplotlib.axes._subplots.AxesSubplot object at 0x7f6ab6239820>,\n",
       "        <matplotlib.axes._subplots.AxesSubplot object at 0x7f6ab612b4f0>,\n",
       "        <matplotlib.axes._subplots.AxesSubplot object at 0x7f6ab5fa35e0>,\n",
       "        <matplotlib.axes._subplots.AxesSubplot object at 0x7f6ab58554f0>,\n",
       "        <matplotlib.axes._subplots.AxesSubplot object at 0x7f6ab5882940>,\n",
       "        <matplotlib.axes._subplots.AxesSubplot object at 0x7f6ab582ddc0>,\n",
       "        <matplotlib.axes._subplots.AxesSubplot object at 0x7f6ab57e8250>,\n",
       "        <matplotlib.axes._subplots.AxesSubplot object at 0x7f6ab57926a0>,\n",
       "        <matplotlib.axes._subplots.AxesSubplot object at 0x7f6ab57c0af0>,\n",
       "        <matplotlib.axes._subplots.AxesSubplot object at 0x7f6ab576bf40>,\n",
       "        <matplotlib.axes._subplots.AxesSubplot object at 0x7f6ab5726460>,\n",
       "        <matplotlib.axes._subplots.AxesSubplot object at 0x7f6ab56d18b0>,\n",
       "        <matplotlib.axes._subplots.AxesSubplot object at 0x7f6ab56ffd00>,\n",
       "        <matplotlib.axes._subplots.AxesSubplot object at 0x7f6ab56b5190>,\n",
       "        <matplotlib.axes._subplots.AxesSubplot object at 0x7f6ab56625e0>,\n",
       "        <matplotlib.axes._subplots.AxesSubplot object at 0x7f6ab568ca30>,\n",
       "        <matplotlib.axes._subplots.AxesSubplot object at 0x7f6ab563ce80>,\n",
       "        <matplotlib.axes._subplots.AxesSubplot object at 0x7f6ab55f4310>,\n",
       "        <matplotlib.axes._subplots.AxesSubplot object at 0x7f6ab55a1760>,\n",
       "        <matplotlib.axes._subplots.AxesSubplot object at 0x7f6ab55ccbb0>],\n",
       "       [<matplotlib.axes._subplots.AxesSubplot object at 0x7f6ab55790a0>,\n",
       "        <matplotlib.axes._subplots.AxesSubplot object at 0x7f6ab552f490>,\n",
       "        <matplotlib.axes._subplots.AxesSubplot object at 0x7f6ab54dc910>,\n",
       "        <matplotlib.axes._subplots.AxesSubplot object at 0x7f6ab5509d60>,\n",
       "        <matplotlib.axes._subplots.AxesSubplot object at 0x7f6ab54c21f0>,\n",
       "        <matplotlib.axes._subplots.AxesSubplot object at 0x7f6ab546e640>,\n",
       "        <matplotlib.axes._subplots.AxesSubplot object at 0x7f6ab541aa90>,\n",
       "        <matplotlib.axes._subplots.AxesSubplot object at 0x7f6ab5446ee0>,\n",
       "        <matplotlib.axes._subplots.AxesSubplot object at 0x7f6ab53f5eb0>,\n",
       "        <matplotlib.axes._subplots.AxesSubplot object at 0x7f6ab53ab670>,\n",
       "        <matplotlib.axes._subplots.AxesSubplot object at 0x7f6ab5355df0>,\n",
       "        <matplotlib.axes._subplots.AxesSubplot object at 0x7f6ab53885b0>,\n",
       "        <matplotlib.axes._subplots.AxesSubplot object at 0x7f6ab5334d30>,\n",
       "        <matplotlib.axes._subplots.AxesSubplot object at 0x7f6ab52e84f0>,\n",
       "        <matplotlib.axes._subplots.AxesSubplot object at 0x7f6ab5310c70>,\n",
       "        <matplotlib.axes._subplots.AxesSubplot object at 0x7f6ab52c7430>,\n",
       "        <matplotlib.axes._subplots.AxesSubplot object at 0x7f6ab526ebb0>,\n",
       "        <matplotlib.axes._subplots.AxesSubplot object at 0x7f6ab52233d0>,\n",
       "        <matplotlib.axes._subplots.AxesSubplot object at 0x7f6ab524cb50>,\n",
       "        <matplotlib.axes._subplots.AxesSubplot object at 0x7f6ab5200340>,\n",
       "        <matplotlib.axes._subplots.AxesSubplot object at 0x7f6ab51adac0>],\n",
       "       [<matplotlib.axes._subplots.AxesSubplot object at 0x7f6ab5161280>,\n",
       "        <matplotlib.axes._subplots.AxesSubplot object at 0x7f6ab518ca00>,\n",
       "        <matplotlib.axes._subplots.AxesSubplot object at 0x7f6ab513e1c0>,\n",
       "        <matplotlib.axes._subplots.AxesSubplot object at 0x7f6ab50e8940>,\n",
       "        <matplotlib.axes._subplots.AxesSubplot object at 0x7f6ab510f160>,\n",
       "        <matplotlib.axes._subplots.AxesSubplot object at 0x7f6ab50c5880>,\n",
       "        <matplotlib.axes._subplots.AxesSubplot object at 0x7f6ab506e0a0>,\n",
       "        <matplotlib.axes._subplots.AxesSubplot object at 0x7f6ab50277c0>,\n",
       "        <matplotlib.axes._subplots.AxesSubplot object at 0x7f6ab504df40>,\n",
       "        <matplotlib.axes._subplots.AxesSubplot object at 0x7f6ab5004700>,\n",
       "        <matplotlib.axes._subplots.AxesSubplot object at 0x7f6ab4faae80>,\n",
       "        <matplotlib.axes._subplots.AxesSubplot object at 0x7f6ab4f61640>,\n",
       "        <matplotlib.axes._subplots.AxesSubplot object at 0x7f6ab4f88dc0>,\n",
       "        <matplotlib.axes._subplots.AxesSubplot object at 0x7f6ab4f3f580>,\n",
       "        <matplotlib.axes._subplots.AxesSubplot object at 0x7f6ab4ee6d00>,\n",
       "        <matplotlib.axes._subplots.AxesSubplot object at 0x7f6ab4e9f4c0>,\n",
       "        <matplotlib.axes._subplots.AxesSubplot object at 0x7f6ab4ec6c40>,\n",
       "        <matplotlib.axes._subplots.AxesSubplot object at 0x7f6ab4e7e400>,\n",
       "        <matplotlib.axes._subplots.AxesSubplot object at 0x7f6ab4e24b80>,\n",
       "        <matplotlib.axes._subplots.AxesSubplot object at 0x7f6ab4ddc340>,\n",
       "        <matplotlib.axes._subplots.AxesSubplot object at 0x7f6ab4e03ac0>],\n",
       "       [<matplotlib.axes._subplots.AxesSubplot object at 0x7f6ab4dba280>,\n",
       "        <matplotlib.axes._subplots.AxesSubplot object at 0x7f6ab4d60a00>,\n",
       "        <matplotlib.axes._subplots.AxesSubplot object at 0x7f6ab4d181f0>,\n",
       "        <matplotlib.axes._subplots.AxesSubplot object at 0x7f6ab4d40970>,\n",
       "        <matplotlib.axes._subplots.AxesSubplot object at 0x7f6ab4cf8130>,\n",
       "        <matplotlib.axes._subplots.AxesSubplot object at 0x7f6ab4c9e8b0>,\n",
       "        <matplotlib.axes._subplots.AxesSubplot object at 0x7f6ab4cc90d0>,\n",
       "        <matplotlib.axes._subplots.AxesSubplot object at 0x7f6ab4c7d7f0>,\n",
       "        <matplotlib.axes._subplots.AxesSubplot object at 0x7f6ab4c27f70>,\n",
       "        <matplotlib.axes._subplots.AxesSubplot object at 0x7f6ab4bdb730>,\n",
       "        <matplotlib.axes._subplots.AxesSubplot object at 0x7f6ab4c06eb0>,\n",
       "        <matplotlib.axes._subplots.AxesSubplot object at 0x7f6ab4bb9670>,\n",
       "        <matplotlib.axes._subplots.AxesSubplot object at 0x7f6ab4b64df0>,\n",
       "        <matplotlib.axes._subplots.AxesSubplot object at 0x7f6ab4b185b0>,\n",
       "        <matplotlib.axes._subplots.AxesSubplot object at 0x7f6ab61950a0>,\n",
       "        <matplotlib.axes._subplots.AxesSubplot object at 0x7f6ab579fa00>,\n",
       "        <matplotlib.axes._subplots.AxesSubplot object at 0x7f6ab5691790>,\n",
       "        <matplotlib.axes._subplots.AxesSubplot object at 0x7f6ab558e760>,\n",
       "        <matplotlib.axes._subplots.AxesSubplot object at 0x7f6ab53d4d30>,\n",
       "        <matplotlib.axes._subplots.AxesSubplot object at 0x7f6ab4a1a9a0>,\n",
       "        <matplotlib.axes._subplots.AxesSubplot object at 0x7f6ab4a47df0>],\n",
       "       [<matplotlib.axes._subplots.AxesSubplot object at 0x7f6ab4a00280>,\n",
       "        <matplotlib.axes._subplots.AxesSubplot object at 0x7f6ab49aa6d0>,\n",
       "        <matplotlib.axes._subplots.AxesSubplot object at 0x7f6ab4956b20>,\n",
       "        <matplotlib.axes._subplots.AxesSubplot object at 0x7f6ab4985f70>,\n",
       "        <matplotlib.axes._subplots.AxesSubplot object at 0x7f6ab493d400>,\n",
       "        <matplotlib.axes._subplots.AxesSubplot object at 0x7f6ab48eb850>,\n",
       "        <matplotlib.axes._subplots.AxesSubplot object at 0x7f6ab4895ca0>,\n",
       "        <matplotlib.axes._subplots.AxesSubplot object at 0x7f6ab48d0130>,\n",
       "        <matplotlib.axes._subplots.AxesSubplot object at 0x7f6ab4879580>,\n",
       "        <matplotlib.axes._subplots.AxesSubplot object at 0x7f6ab48259d0>,\n",
       "        <matplotlib.axes._subplots.AxesSubplot object at 0x7f6ab47d1e20>,\n",
       "        <matplotlib.axes._subplots.AxesSubplot object at 0x7f6ab480b2b0>,\n",
       "        <matplotlib.axes._subplots.AxesSubplot object at 0x7f6ab47b7700>,\n",
       "        <matplotlib.axes._subplots.AxesSubplot object at 0x7f6ab4766b50>,\n",
       "        <matplotlib.axes._subplots.AxesSubplot object at 0x7f6ab478ffa0>,\n",
       "        <matplotlib.axes._subplots.AxesSubplot object at 0x7f6ab4748430>,\n",
       "        <matplotlib.axes._subplots.AxesSubplot object at 0x7f6ab46f3880>,\n",
       "        <matplotlib.axes._subplots.AxesSubplot object at 0x7f6ab46a0cd0>,\n",
       "        <matplotlib.axes._subplots.AxesSubplot object at 0x7f6ab465a160>,\n",
       "        <matplotlib.axes._subplots.AxesSubplot object at 0x7f6ab46865b0>,\n",
       "        <matplotlib.axes._subplots.AxesSubplot object at 0x7f6ab4631a00>],\n",
       "       [<matplotlib.axes._subplots.AxesSubplot object at 0x7f6ab45e0e50>,\n",
       "        <matplotlib.axes._subplots.AxesSubplot object at 0x7f6ab45982e0>,\n",
       "        <matplotlib.axes._subplots.AxesSubplot object at 0x7f6ab45c81f0>,\n",
       "        <matplotlib.axes._subplots.AxesSubplot object at 0x7f6ab45709d0>,\n",
       "        <matplotlib.axes._subplots.AxesSubplot object at 0x7f6ab4526190>,\n",
       "        <matplotlib.axes._subplots.AxesSubplot object at 0x7f6ab454e910>,\n",
       "        <matplotlib.axes._subplots.AxesSubplot object at 0x7f6ab44f8130>,\n",
       "        <matplotlib.axes._subplots.AxesSubplot object at 0x7f6ab44ab850>,\n",
       "        <matplotlib.axes._subplots.AxesSubplot object at 0x7f6ab4456fd0>,\n",
       "        <matplotlib.axes._subplots.AxesSubplot object at 0x7f6ab448b790>,\n",
       "        <matplotlib.axes._subplots.AxesSubplot object at 0x7f6ab4435f10>,\n",
       "        <matplotlib.axes._subplots.AxesSubplot object at 0x7f6ab43e76d0>,\n",
       "        <matplotlib.axes._subplots.AxesSubplot object at 0x7f6ab4394e50>,\n",
       "        <matplotlib.axes._subplots.AxesSubplot object at 0x7f6ab43c6610>,\n",
       "        <matplotlib.axes._subplots.AxesSubplot object at 0x7f6ab4370d90>,\n",
       "        <matplotlib.axes._subplots.AxesSubplot object at 0x7f6ab4325550>,\n",
       "        <matplotlib.axes._subplots.AxesSubplot object at 0x7f6ab42d1cd0>,\n",
       "        <matplotlib.axes._subplots.AxesSubplot object at 0x7f6ab4304490>,\n",
       "        <matplotlib.axes._subplots.AxesSubplot object at 0x7f6ab42aec10>,\n",
       "        <matplotlib.axes._subplots.AxesSubplot object at 0x7f6ab42633d0>,\n",
       "        <matplotlib.axes._subplots.AxesSubplot object at 0x7f6ab428cb50>],\n",
       "       [<matplotlib.axes._subplots.AxesSubplot object at 0x7f6ab4240310>,\n",
       "        <matplotlib.axes._subplots.AxesSubplot object at 0x7f6ab41e9a90>,\n",
       "        <matplotlib.axes._subplots.AxesSubplot object at 0x7f6ab419e250>,\n",
       "        <matplotlib.axes._subplots.AxesSubplot object at 0x7f6ab41c89d0>,\n",
       "        <matplotlib.axes._subplots.AxesSubplot object at 0x7f6ab417c190>,\n",
       "        <matplotlib.axes._subplots.AxesSubplot object at 0x7f6ab4127910>,\n",
       "        <matplotlib.axes._subplots.AxesSubplot object at 0x7f6ab414f130>,\n",
       "        <matplotlib.axes._subplots.AxesSubplot object at 0x7f6ab4105850>,\n",
       "        <matplotlib.axes._subplots.AxesSubplot object at 0x7f6ab40affd0>,\n",
       "        <matplotlib.axes._subplots.AxesSubplot object at 0x7f6ab4063790>,\n",
       "        <matplotlib.axes._subplots.AxesSubplot object at 0x7f6ab408bf10>,\n",
       "        <matplotlib.axes._subplots.AxesSubplot object at 0x7f6ab40406d0>,\n",
       "        <matplotlib.axes._subplots.AxesSubplot object at 0x7f6ab3febe50>,\n",
       "        <matplotlib.axes._subplots.AxesSubplot object at 0x7f6ab3fa0610>,\n",
       "        <matplotlib.axes._subplots.AxesSubplot object at 0x7f6ab3fc8d90>,\n",
       "        <matplotlib.axes._subplots.AxesSubplot object at 0x7f6ab3f7f550>,\n",
       "        <matplotlib.axes._subplots.AxesSubplot object at 0x7f6ab3f26d00>,\n",
       "        <matplotlib.axes._subplots.AxesSubplot object at 0x7f6ab3edc4c0>,\n",
       "        <matplotlib.axes._subplots.AxesSubplot object at 0x7f6ab3f05c40>,\n",
       "        <matplotlib.axes._subplots.AxesSubplot object at 0x7f6ab3ebb400>,\n",
       "        <matplotlib.axes._subplots.AxesSubplot object at 0x7f6ab3e64b80>],\n",
       "       [<matplotlib.axes._subplots.AxesSubplot object at 0x7f6ab3e1a340>,\n",
       "        <matplotlib.axes._subplots.AxesSubplot object at 0x7f6ab3e42ac0>,\n",
       "        <matplotlib.axes._subplots.AxesSubplot object at 0x7f6ab3df9280>,\n",
       "        <matplotlib.axes._subplots.AxesSubplot object at 0x7f6ab3d9fa00>,\n",
       "        <matplotlib.axes._subplots.AxesSubplot object at 0x7f6ab3d551c0>,\n",
       "        <matplotlib.axes._subplots.AxesSubplot object at 0x7f6ab3d7e940>,\n",
       "        <matplotlib.axes._subplots.AxesSubplot object at 0x7f6ab3d28160>,\n",
       "        <matplotlib.axes._subplots.AxesSubplot object at 0x7f6ab3cdc880>,\n",
       "        <matplotlib.axes._subplots.AxesSubplot object at 0x7f6ab3d060a0>,\n",
       "        <matplotlib.axes._subplots.AxesSubplot object at 0x7f6ab3cba7c0>,\n",
       "        <matplotlib.axes._subplots.AxesSubplot object at 0x7f6ab3c64f40>,\n",
       "        <matplotlib.axes._subplots.AxesSubplot object at 0x7f6ab3c18700>,\n",
       "        <matplotlib.axes._subplots.AxesSubplot object at 0x7f6ab3c43e80>,\n",
       "        <matplotlib.axes._subplots.AxesSubplot object at 0x7f6ab3bf6640>,\n",
       "        <matplotlib.axes._subplots.AxesSubplot object at 0x7f6ab3ba2dc0>,\n",
       "        <matplotlib.axes._subplots.AxesSubplot object at 0x7f6ab3b55580>,\n",
       "        <matplotlib.axes._subplots.AxesSubplot object at 0x7f6ab3b7fd00>,\n",
       "        <matplotlib.axes._subplots.AxesSubplot object at 0x7f6ab3b344c0>,\n",
       "        <matplotlib.axes._subplots.AxesSubplot object at 0x7f6ab3adfc40>,\n",
       "        <matplotlib.axes._subplots.AxesSubplot object at 0x7f6ab3a93400>,\n",
       "        <matplotlib.axes._subplots.AxesSubplot object at 0x7f6ab3abeb80>],\n",
       "       [<matplotlib.axes._subplots.AxesSubplot object at 0x7f6ab3a70340>,\n",
       "        <matplotlib.axes._subplots.AxesSubplot object at 0x7f6ab3a1cac0>,\n",
       "        <matplotlib.axes._subplots.AxesSubplot object at 0x7f6ab3a4f280>,\n",
       "        <matplotlib.axes._subplots.AxesSubplot object at 0x7f6ab39f7a00>,\n",
       "        <matplotlib.axes._subplots.AxesSubplot object at 0x7f6ab39ab1c0>,\n",
       "        <matplotlib.axes._subplots.AxesSubplot object at 0x7f6ab3957940>,\n",
       "        <matplotlib.axes._subplots.AxesSubplot object at 0x7f6ab3980160>,\n",
       "        <matplotlib.axes._subplots.AxesSubplot object at 0x7f6ab4b25580>,\n",
       "        <matplotlib.axes._subplots.AxesSubplot object at 0x7f6ab49dc400>,\n",
       "        <matplotlib.axes._subplots.AxesSubplot object at 0x7f6ab48a5b20>,\n",
       "        <matplotlib.axes._subplots.AxesSubplot object at 0x7f6ab4794910>,\n",
       "        <matplotlib.axes._subplots.AxesSubplot object at 0x7f6ab46144f0>,\n",
       "        <matplotlib.axes._subplots.AxesSubplot object at 0x7f6ab3890310>,\n",
       "        <matplotlib.axes._subplots.AxesSubplot object at 0x7f6ab383b760>,\n",
       "        <matplotlib.axes._subplots.AxesSubplot object at 0x7f6ab37e9bb0>,\n",
       "        <matplotlib.axes._subplots.AxesSubplot object at 0x7f6ab37940a0>,\n",
       "        <matplotlib.axes._subplots.AxesSubplot object at 0x7f6ab37ce490>,\n",
       "        <matplotlib.axes._subplots.AxesSubplot object at 0x7f6ab37798e0>,\n",
       "        <matplotlib.axes._subplots.AxesSubplot object at 0x7f6ab3726d30>,\n",
       "        <matplotlib.axes._subplots.AxesSubplot object at 0x7f6ab36dd1c0>,\n",
       "        <matplotlib.axes._subplots.AxesSubplot object at 0x7f6ab370b610>],\n",
       "       [<matplotlib.axes._subplots.AxesSubplot object at 0x7f6ab36b6a60>,\n",
       "        <matplotlib.axes._subplots.AxesSubplot object at 0x7f6ab3663eb0>,\n",
       "        <matplotlib.axes._subplots.AxesSubplot object at 0x7f6ab3619340>,\n",
       "        <matplotlib.axes._subplots.AxesSubplot object at 0x7f6ab3648790>,\n",
       "        <matplotlib.axes._subplots.AxesSubplot object at 0x7f6ab35f4c40>,\n",
       "        <matplotlib.axes._subplots.AxesSubplot object at 0x7f6ab35a3130>,\n",
       "        <matplotlib.axes._subplots.AxesSubplot object at 0x7f6ab3559520>,\n",
       "        <matplotlib.axes._subplots.AxesSubplot object at 0x7f6ab3587970>,\n",
       "        <matplotlib.axes._subplots.AxesSubplot object at 0x7f6ab3531dc0>,\n",
       "        <matplotlib.axes._subplots.AxesSubplot object at 0x7f6ab34ea250>,\n",
       "        <matplotlib.axes._subplots.AxesSubplot object at 0x7f6ab34966a0>,\n",
       "        <matplotlib.axes._subplots.AxesSubplot object at 0x7f6ab34c4af0>,\n",
       "        <matplotlib.axes._subplots.AxesSubplot object at 0x7f6ab346ff40>,\n",
       "        <matplotlib.axes._subplots.AxesSubplot object at 0x7f6ab342a3d0>,\n",
       "        <matplotlib.axes._subplots.AxesSubplot object at 0x7f6ab33d4820>,\n",
       "        <matplotlib.axes._subplots.AxesSubplot object at 0x7f6ab3402c70>,\n",
       "        <matplotlib.axes._subplots.AxesSubplot object at 0x7f6ab33afd60>,\n",
       "        <matplotlib.axes._subplots.AxesSubplot object at 0x7f6ab3363520>,\n",
       "        <matplotlib.axes._subplots.AxesSubplot object at 0x7f6ab338dca0>,\n",
       "        <matplotlib.axes._subplots.AxesSubplot object at 0x7f6ab3342460>,\n",
       "        <matplotlib.axes._subplots.AxesSubplot object at 0x7f6ab32eebe0>],\n",
       "       [<matplotlib.axes._subplots.AxesSubplot object at 0x7f6ab32a23a0>,\n",
       "        <matplotlib.axes._subplots.AxesSubplot object at 0x7f6ab32cbb20>,\n",
       "        <matplotlib.axes._subplots.AxesSubplot object at 0x7f6ab32822e0>,\n",
       "        <matplotlib.axes._subplots.AxesSubplot object at 0x7f6ab3229a60>,\n",
       "        <matplotlib.axes._subplots.AxesSubplot object at 0x7f6ab31de220>,\n",
       "        <matplotlib.axes._subplots.AxesSubplot object at 0x7f6ab32079a0>,\n",
       "        <matplotlib.axes._subplots.AxesSubplot object at 0x7f6ab31bd160>,\n",
       "        <matplotlib.axes._subplots.AxesSubplot object at 0x7f6ab31668e0>,\n",
       "        <matplotlib.axes._subplots.AxesSubplot object at 0x7f6ab318f100>,\n",
       "        <matplotlib.axes._subplots.AxesSubplot object at 0x7f6ab3144820>,\n",
       "        <matplotlib.axes._subplots.AxesSubplot object at 0x7f6ab30effa0>,\n",
       "        <matplotlib.axes._subplots.AxesSubplot object at 0x7f6ab30a1760>,\n",
       "        <matplotlib.axes._subplots.AxesSubplot object at 0x7f6ab30cbee0>,\n",
       "        <matplotlib.axes._subplots.AxesSubplot object at 0x7f6ab30806a0>,\n",
       "        <matplotlib.axes._subplots.AxesSubplot object at 0x7f6ab302ae20>,\n",
       "        <matplotlib.axes._subplots.AxesSubplot object at 0x7f6ab2fe05e0>,\n",
       "        <matplotlib.axes._subplots.AxesSubplot object at 0x7f6ab300ad60>,\n",
       "        <matplotlib.axes._subplots.AxesSubplot object at 0x7f6ab2fbd520>,\n",
       "        <matplotlib.axes._subplots.AxesSubplot object at 0x7f6ab2f68ca0>,\n",
       "        <matplotlib.axes._subplots.AxesSubplot object at 0x7f6ab2f1c460>,\n",
       "        <matplotlib.axes._subplots.AxesSubplot object at 0x7f6ab2f46be0>],\n",
       "       [<matplotlib.axes._subplots.AxesSubplot object at 0x7f6ab2efa3a0>,\n",
       "        <matplotlib.axes._subplots.AxesSubplot object at 0x7f6ab2ea5b20>,\n",
       "        <matplotlib.axes._subplots.AxesSubplot object at 0x7f6ab2e592e0>,\n",
       "        <matplotlib.axes._subplots.AxesSubplot object at 0x7f6ab2e83a60>,\n",
       "        <matplotlib.axes._subplots.AxesSubplot object at 0x7f6ab2e35220>,\n",
       "        <matplotlib.axes._subplots.AxesSubplot object at 0x7f6ab2de09a0>,\n",
       "        <matplotlib.axes._subplots.AxesSubplot object at 0x7f6ab2d94160>,\n",
       "        <matplotlib.axes._subplots.AxesSubplot object at 0x7f6ab2dbe8e0>,\n",
       "        <matplotlib.axes._subplots.AxesSubplot object at 0x7f6ab2d67100>,\n",
       "        <matplotlib.axes._subplots.AxesSubplot object at 0x7f6ab2d1f820>,\n",
       "        <matplotlib.axes._subplots.AxesSubplot object at 0x7f6ab2d46fa0>,\n",
       "        <matplotlib.axes._subplots.AxesSubplot object at 0x7f6ab2cfc760>,\n",
       "        <matplotlib.axes._subplots.AxesSubplot object at 0x7f6ab2ca3ee0>,\n",
       "        <matplotlib.axes._subplots.AxesSubplot object at 0x7f6ab2c5b6a0>,\n",
       "        <matplotlib.axes._subplots.AxesSubplot object at 0x7f6ab2c83e20>,\n",
       "        <matplotlib.axes._subplots.AxesSubplot object at 0x7f6ab2c385e0>,\n",
       "        <matplotlib.axes._subplots.AxesSubplot object at 0x7f6ab2be1d60>,\n",
       "        <matplotlib.axes._subplots.AxesSubplot object at 0x7f6ab2b97520>,\n",
       "        <matplotlib.axes._subplots.AxesSubplot object at 0x7f6ab2bbeca0>,\n",
       "        <matplotlib.axes._subplots.AxesSubplot object at 0x7f6ab2b76460>,\n",
       "        <matplotlib.axes._subplots.AxesSubplot object at 0x7f6ab2b1ebe0>],\n",
       "       [<matplotlib.axes._subplots.AxesSubplot object at 0x7f6ab2ad43a0>,\n",
       "        <matplotlib.axes._subplots.AxesSubplot object at 0x7f6ab2afcb20>,\n",
       "        <matplotlib.axes._subplots.AxesSubplot object at 0x7f6ab2ab12e0>,\n",
       "        <matplotlib.axes._subplots.AxesSubplot object at 0x7f6ab2a58a60>,\n",
       "        <matplotlib.axes._subplots.AxesSubplot object at 0x7f6ab2a90220>,\n",
       "        <matplotlib.axes._subplots.AxesSubplot object at 0x7f6ab2a399a0>,\n",
       "        <matplotlib.axes._subplots.AxesSubplot object at 0x7f6ab29f0160>,\n",
       "        <matplotlib.axes._subplots.AxesSubplot object at 0x7f6ab29988e0>,\n",
       "        <matplotlib.axes._subplots.AxesSubplot object at 0x7f6ab29c1100>,\n",
       "        <matplotlib.axes._subplots.AxesSubplot object at 0x7f6ab2975820>,\n",
       "        <matplotlib.axes._subplots.AxesSubplot object at 0x7f6ab291ffa0>,\n",
       "        <matplotlib.axes._subplots.AxesSubplot object at 0x7f6ab28d2760>,\n",
       "        <matplotlib.axes._subplots.AxesSubplot object at 0x7f6ab2900ee0>,\n",
       "        <matplotlib.axes._subplots.AxesSubplot object at 0x7f6ab28b26a0>,\n",
       "        <matplotlib.axes._subplots.AxesSubplot object at 0x7f6ab285ee20>,\n",
       "        <matplotlib.axes._subplots.AxesSubplot object at 0x7f6ab28115e0>,\n",
       "        <matplotlib.axes._subplots.AxesSubplot object at 0x7f6ab283bd60>,\n",
       "        <matplotlib.axes._subplots.AxesSubplot object at 0x7f6ab27ed520>,\n",
       "        <matplotlib.axes._subplots.AxesSubplot object at 0x7f6ab2797ca0>,\n",
       "        <matplotlib.axes._subplots.AxesSubplot object at 0x7f6ab27cd460>,\n",
       "        <matplotlib.axes._subplots.AxesSubplot object at 0x7f6ab2778be0>],\n",
       "       [<matplotlib.axes._subplots.AxesSubplot object at 0x7f6ab272b3a0>,\n",
       "        <matplotlib.axes._subplots.AxesSubplot object at 0x7f6ab26d5b20>,\n",
       "        <matplotlib.axes._subplots.AxesSubplot object at 0x7f6ab270a2e0>,\n",
       "        <matplotlib.axes._subplots.AxesSubplot object at 0x7f6ab26b2a60>,\n",
       "        <matplotlib.axes._subplots.AxesSubplot object at 0x7f6ab2668220>,\n",
       "        <matplotlib.axes._subplots.AxesSubplot object at 0x7f6ab26129a0>,\n",
       "        <matplotlib.axes._subplots.AxesSubplot object at 0x7f6ab2644340>,\n",
       "        <matplotlib.axes._subplots.AxesSubplot object at 0x7f6ab25f0ac0>,\n",
       "        <matplotlib.axes._subplots.AxesSubplot object at 0x7f6ab25a5280>,\n",
       "        <matplotlib.axes._subplots.AxesSubplot object at 0x7f6ab25cea00>,\n",
       "        <matplotlib.axes._subplots.AxesSubplot object at 0x7f6ab25821c0>,\n",
       "        <matplotlib.axes._subplots.AxesSubplot object at 0x7f6ab252d940>,\n",
       "        <matplotlib.axes._subplots.AxesSubplot object at 0x7f6ab24d5160>,\n",
       "        <matplotlib.axes._subplots.AxesSubplot object at 0x7f6ab250a880>,\n",
       "        <matplotlib.axes._subplots.AxesSubplot object at 0x7f6ab24b30a0>,\n",
       "        <matplotlib.axes._subplots.AxesSubplot object at 0x7f6ab24697c0>,\n",
       "        <matplotlib.axes._subplots.AxesSubplot object at 0x7f6ab2413f40>,\n",
       "        <matplotlib.axes._subplots.AxesSubplot object at 0x7f6ab2447700>,\n",
       "        <matplotlib.axes._subplots.AxesSubplot object at 0x7f6ab23efe80>,\n",
       "        <matplotlib.axes._subplots.AxesSubplot object at 0x7f6ab23a5640>,\n",
       "        <matplotlib.axes._subplots.AxesSubplot object at 0x7f6ab23cfdc0>],\n",
       "       [<matplotlib.axes._subplots.AxesSubplot object at 0x7f6ab2384580>,\n",
       "        <matplotlib.axes._subplots.AxesSubplot object at 0x7f6ab49ca310>,\n",
       "        <matplotlib.axes._subplots.AxesSubplot object at 0x7f6ab37f9b80>,\n",
       "        <matplotlib.axes._subplots.AxesSubplot object at 0x7f6ab369d100>,\n",
       "        <matplotlib.axes._subplots.AxesSubplot object at 0x7f6ab35179a0>,\n",
       "        <matplotlib.axes._subplots.AxesSubplot object at 0x7f6ab33e3640>,\n",
       "        <matplotlib.axes._subplots.AxesSubplot object at 0x7f6ab22868e0>,\n",
       "        <matplotlib.axes._subplots.AxesSubplot object at 0x7f6ab2230d30>,\n",
       "        <matplotlib.axes._subplots.AxesSubplot object at 0x7f6ab21eb1c0>,\n",
       "        <matplotlib.axes._subplots.AxesSubplot object at 0x7f6ab2197610>,\n",
       "        <matplotlib.axes._subplots.AxesSubplot object at 0x7f6ab21c6a60>,\n",
       "        <matplotlib.axes._subplots.AxesSubplot object at 0x7f6ab2170eb0>,\n",
       "        <matplotlib.axes._subplots.AxesSubplot object at 0x7f6ab2129340>,\n",
       "        <matplotlib.axes._subplots.AxesSubplot object at 0x7f6ab20d4790>,\n",
       "        <matplotlib.axes._subplots.AxesSubplot object at 0x7f6ab2102be0>,\n",
       "        <matplotlib.axes._subplots.AxesSubplot object at 0x7f6ab20ac0d0>,\n",
       "        <matplotlib.axes._subplots.AxesSubplot object at 0x7f6ab20664c0>,\n",
       "        <matplotlib.axes._subplots.AxesSubplot object at 0x7f6ab2090910>,\n",
       "        <matplotlib.axes._subplots.AxesSubplot object at 0x7f6ab203fd60>,\n",
       "        <matplotlib.axes._subplots.AxesSubplot object at 0x7f6ab1ff51f0>,\n",
       "        <matplotlib.axes._subplots.AxesSubplot object at 0x7f6ab1fa3640>],\n",
       "       [<matplotlib.axes._subplots.AxesSubplot object at 0x7f6ab1fcea90>,\n",
       "        <matplotlib.axes._subplots.AxesSubplot object at 0x7f6ab1f7dee0>,\n",
       "        <matplotlib.axes._subplots.AxesSubplot object at 0x7f6ab1f34370>,\n",
       "        <matplotlib.axes._subplots.AxesSubplot object at 0x7f6ab1ee27c0>,\n",
       "        <matplotlib.axes._subplots.AxesSubplot object at 0x7f6ab1f0dc10>,\n",
       "        <matplotlib.axes._subplots.AxesSubplot object at 0x7f6ab1ebb100>,\n",
       "        <matplotlib.axes._subplots.AxesSubplot object at 0x7f6ab1e734f0>,\n",
       "        <matplotlib.axes._subplots.AxesSubplot object at 0x7f6ab1e21940>,\n",
       "        <matplotlib.axes._subplots.AxesSubplot object at 0x7f6ab1e4cd90>,\n",
       "        <matplotlib.axes._subplots.AxesSubplot object at 0x7f6ab1e03220>,\n",
       "        <matplotlib.axes._subplots.AxesSubplot object at 0x7f6ab1db21c0>,\n",
       "        <matplotlib.axes._subplots.AxesSubplot object at 0x7f6ab1d5c940>,\n",
       "        <matplotlib.axes._subplots.AxesSubplot object at 0x7f6ab1d85160>,\n",
       "        <matplotlib.axes._subplots.AxesSubplot object at 0x7f6ab1d3a880>,\n",
       "        <matplotlib.axes._subplots.AxesSubplot object at 0x7f6ab1ce50a0>,\n",
       "        <matplotlib.axes._subplots.AxesSubplot object at 0x7f6ab1c9a7c0>,\n",
       "        <matplotlib.axes._subplots.AxesSubplot object at 0x7f6ab1cc2f40>,\n",
       "        <matplotlib.axes._subplots.AxesSubplot object at 0x7f6ab1c76700>,\n",
       "        <matplotlib.axes._subplots.AxesSubplot object at 0x7f6ab1c20e80>,\n",
       "        <matplotlib.axes._subplots.AxesSubplot object at 0x7f6ab1bd5640>,\n",
       "        <matplotlib.axes._subplots.AxesSubplot object at 0x7f6ab1c00dc0>],\n",
       "       [<matplotlib.axes._subplots.AxesSubplot object at 0x7f6ab1bb5580>,\n",
       "        <matplotlib.axes._subplots.AxesSubplot object at 0x7f6ab1b5cd00>,\n",
       "        <matplotlib.axes._subplots.AxesSubplot object at 0x7f6ab1b154c0>,\n",
       "        <matplotlib.axes._subplots.AxesSubplot object at 0x7f6ab1b3bc40>,\n",
       "        <matplotlib.axes._subplots.AxesSubplot object at 0x7f6ab1af1400>,\n",
       "        <matplotlib.axes._subplots.AxesSubplot object at 0x7f6ab1a99b80>,\n",
       "        <matplotlib.axes._subplots.AxesSubplot object at 0x7f6ab1a51340>,\n",
       "        <matplotlib.axes._subplots.AxesSubplot object at 0x7f6ab1a78ac0>,\n",
       "        <matplotlib.axes._subplots.AxesSubplot object at 0x7f6ab1a2f280>,\n",
       "        <matplotlib.axes._subplots.AxesSubplot object at 0x7f6ab19d5a00>,\n",
       "        <matplotlib.axes._subplots.AxesSubplot object at 0x7f6ab1a0c1c0>,\n",
       "        <matplotlib.axes._subplots.AxesSubplot object at 0x7f6ab19b3940>,\n",
       "        <matplotlib.axes._subplots.AxesSubplot object at 0x7f6ab195e160>,\n",
       "        <matplotlib.axes._subplots.AxesSubplot object at 0x7f6ab1913880>,\n",
       "        <matplotlib.axes._subplots.AxesSubplot object at 0x7f6ab193d0a0>,\n",
       "        <matplotlib.axes._subplots.AxesSubplot object at 0x7f6ab18f17c0>,\n",
       "        <matplotlib.axes._subplots.AxesSubplot object at 0x7f6ab189cf40>,\n",
       "        <matplotlib.axes._subplots.AxesSubplot object at 0x7f6ab18cf700>,\n",
       "        <matplotlib.axes._subplots.AxesSubplot object at 0x7f6ab1879e80>,\n",
       "        <matplotlib.axes._subplots.AxesSubplot object at 0x7f6ab182e640>,\n",
       "        <matplotlib.axes._subplots.AxesSubplot object at 0x7f6ab17d9dc0>],\n",
       "       [<matplotlib.axes._subplots.AxesSubplot object at 0x7f6ab180c580>,\n",
       "        <matplotlib.axes._subplots.AxesSubplot object at 0x7f6ab17b6d00>,\n",
       "        <matplotlib.axes._subplots.AxesSubplot object at 0x7f6ab176a4c0>,\n",
       "        <matplotlib.axes._subplots.AxesSubplot object at 0x7f6ab1716c40>,\n",
       "        <matplotlib.axes._subplots.AxesSubplot object at 0x7f6ab1749400>,\n",
       "        <matplotlib.axes._subplots.AxesSubplot object at 0x7f6ab16f2b80>,\n",
       "        <matplotlib.axes._subplots.AxesSubplot object at 0x7f6ab16a8340>,\n",
       "        <matplotlib.axes._subplots.AxesSubplot object at 0x7f6ab1651ac0>,\n",
       "        <matplotlib.axes._subplots.AxesSubplot object at 0x7f6ab1686280>,\n",
       "        <matplotlib.axes._subplots.AxesSubplot object at 0x7f6ab162fa00>,\n",
       "        <matplotlib.axes._subplots.AxesSubplot object at 0x7f6ab15e31c0>,\n",
       "        <matplotlib.axes._subplots.AxesSubplot object at 0x7f6ab160f940>,\n",
       "        <matplotlib.axes._subplots.AxesSubplot object at 0x7f6ab15b7160>,\n",
       "        <matplotlib.axes._subplots.AxesSubplot object at 0x7f6ab156c880>,\n",
       "        <matplotlib.axes._subplots.AxesSubplot object at 0x7f6ab15160a0>,\n",
       "        <matplotlib.axes._subplots.AxesSubplot object at 0x7f6ab154a7c0>,\n",
       "        <matplotlib.axes._subplots.AxesSubplot object at 0x7f6ab14f3f40>,\n",
       "        <matplotlib.axes._subplots.AxesSubplot object at 0x7f6ab14a9700>,\n",
       "        <matplotlib.axes._subplots.AxesSubplot object at 0x7f6ab1451e80>,\n",
       "        <matplotlib.axes._subplots.AxesSubplot object at 0x7f6ab1487640>,\n",
       "        <matplotlib.axes._subplots.AxesSubplot object at 0x7f6ab1431dc0>],\n",
       "       [<matplotlib.axes._subplots.AxesSubplot object at 0x7f6ab13e5580>,\n",
       "        <matplotlib.axes._subplots.AxesSubplot object at 0x7f6ab140dd00>,\n",
       "        <matplotlib.axes._subplots.AxesSubplot object at 0x7f6ab13c44c0>,\n",
       "        <matplotlib.axes._subplots.AxesSubplot object at 0x7f6ab136db80>,\n",
       "        <matplotlib.axes._subplots.AxesSubplot object at 0x7f6ab13174f0>,\n",
       "        <matplotlib.axes._subplots.AxesSubplot object at 0x7f6ab133fc70>,\n",
       "        <matplotlib.axes._subplots.AxesSubplot object at 0x7f6ab12f6430>,\n",
       "        <matplotlib.axes._subplots.AxesSubplot object at 0x7f6ab129fbb0>,\n",
       "        <matplotlib.axes._subplots.AxesSubplot object at 0x7f6ab1253370>,\n",
       "        <matplotlib.axes._subplots.AxesSubplot object at 0x7f6ab127aaf0>,\n",
       "        <matplotlib.axes._subplots.AxesSubplot object at 0x7f6ab12312b0>,\n",
       "        <matplotlib.axes._subplots.AxesSubplot object at 0x7f6ab11daa30>,\n",
       "        <matplotlib.axes._subplots.AxesSubplot object at 0x7f6ab12101f0>,\n",
       "        <matplotlib.axes._subplots.AxesSubplot object at 0x7f6ab11b7970>,\n",
       "        <matplotlib.axes._subplots.AxesSubplot object at 0x7f6ab1170130>,\n",
       "        <matplotlib.axes._subplots.AxesSubplot object at 0x7f6ab11178b0>,\n",
       "        <matplotlib.axes._subplots.AxesSubplot object at 0x7f6ab114d070>,\n",
       "        <matplotlib.axes._subplots.AxesSubplot object at 0x7f6ab10f57f0>,\n",
       "        <matplotlib.axes._subplots.AxesSubplot object at 0x7f6ab10a1f70>,\n",
       "        <matplotlib.axes._subplots.AxesSubplot object at 0x7f6ab1052730>,\n",
       "        <matplotlib.axes._subplots.AxesSubplot object at 0x7f6ab107feb0>]],\n",
       "      dtype=object)"
      ]
     },
     "execution_count": 5,
     "metadata": {},
     "output_type": "execute_result"
    },
    {
     "name": "stdout",
     "output_type": "stream",
     "text": [
      "Error in callback <function flush_figures at 0x7f6ab70d9af0> (for post_execute):\n"
     ]
    },
    {
     "ename": "KeyboardInterrupt",
     "evalue": "",
     "output_type": "error",
     "traceback": [
      "\u001b[0;31m---------------------------------------------------------------------------\u001b[0m",
      "\u001b[0;31mKeyboardInterrupt\u001b[0m                         Traceback (most recent call last)",
      "\u001b[0;32m~/anaconda3/lib/python3.8/site-packages/ipykernel/pylab/backend_inline.py\u001b[0m in \u001b[0;36mflush_figures\u001b[0;34m()\u001b[0m\n\u001b[1;32m    119\u001b[0m         \u001b[0;31m# ignore the tracking, just draw and close all figures\u001b[0m\u001b[0;34m\u001b[0m\u001b[0;34m\u001b[0m\u001b[0;34m\u001b[0m\u001b[0m\n\u001b[1;32m    120\u001b[0m         \u001b[0;32mtry\u001b[0m\u001b[0;34m:\u001b[0m\u001b[0;34m\u001b[0m\u001b[0;34m\u001b[0m\u001b[0m\n\u001b[0;32m--> 121\u001b[0;31m             \u001b[0;32mreturn\u001b[0m \u001b[0mshow\u001b[0m\u001b[0;34m(\u001b[0m\u001b[0;32mTrue\u001b[0m\u001b[0;34m)\u001b[0m\u001b[0;34m\u001b[0m\u001b[0;34m\u001b[0m\u001b[0m\n\u001b[0m\u001b[1;32m    122\u001b[0m         \u001b[0;32mexcept\u001b[0m \u001b[0mException\u001b[0m \u001b[0;32mas\u001b[0m \u001b[0me\u001b[0m\u001b[0;34m:\u001b[0m\u001b[0;34m\u001b[0m\u001b[0;34m\u001b[0m\u001b[0m\n\u001b[1;32m    123\u001b[0m             \u001b[0;31m# safely show traceback if in IPython, else raise\u001b[0m\u001b[0;34m\u001b[0m\u001b[0;34m\u001b[0m\u001b[0;34m\u001b[0m\u001b[0m\n",
      "\u001b[0;32m~/anaconda3/lib/python3.8/site-packages/ipykernel/pylab/backend_inline.py\u001b[0m in \u001b[0;36mshow\u001b[0;34m(close, block)\u001b[0m\n\u001b[1;32m     39\u001b[0m     \u001b[0;32mtry\u001b[0m\u001b[0;34m:\u001b[0m\u001b[0;34m\u001b[0m\u001b[0;34m\u001b[0m\u001b[0m\n\u001b[1;32m     40\u001b[0m         \u001b[0;32mfor\u001b[0m \u001b[0mfigure_manager\u001b[0m \u001b[0;32min\u001b[0m \u001b[0mGcf\u001b[0m\u001b[0;34m.\u001b[0m\u001b[0mget_all_fig_managers\u001b[0m\u001b[0;34m(\u001b[0m\u001b[0;34m)\u001b[0m\u001b[0;34m:\u001b[0m\u001b[0;34m\u001b[0m\u001b[0;34m\u001b[0m\u001b[0m\n\u001b[0;32m---> 41\u001b[0;31m             display(\n\u001b[0m\u001b[1;32m     42\u001b[0m                 \u001b[0mfigure_manager\u001b[0m\u001b[0;34m.\u001b[0m\u001b[0mcanvas\u001b[0m\u001b[0;34m.\u001b[0m\u001b[0mfigure\u001b[0m\u001b[0;34m,\u001b[0m\u001b[0;34m\u001b[0m\u001b[0;34m\u001b[0m\u001b[0m\n\u001b[1;32m     43\u001b[0m                 \u001b[0mmetadata\u001b[0m\u001b[0;34m=\u001b[0m\u001b[0m_fetch_figure_metadata\u001b[0m\u001b[0;34m(\u001b[0m\u001b[0mfigure_manager\u001b[0m\u001b[0;34m.\u001b[0m\u001b[0mcanvas\u001b[0m\u001b[0;34m.\u001b[0m\u001b[0mfigure\u001b[0m\u001b[0;34m)\u001b[0m\u001b[0;34m\u001b[0m\u001b[0;34m\u001b[0m\u001b[0m\n",
      "\u001b[0;32m~/anaconda3/lib/python3.8/site-packages/IPython/core/display.py\u001b[0m in \u001b[0;36mdisplay\u001b[0;34m(include, exclude, metadata, transient, display_id, *objs, **kwargs)\u001b[0m\n\u001b[1;32m    311\u001b[0m             \u001b[0mpublish_display_data\u001b[0m\u001b[0;34m(\u001b[0m\u001b[0mdata\u001b[0m\u001b[0;34m=\u001b[0m\u001b[0mobj\u001b[0m\u001b[0;34m,\u001b[0m \u001b[0mmetadata\u001b[0m\u001b[0;34m=\u001b[0m\u001b[0mmetadata\u001b[0m\u001b[0;34m,\u001b[0m \u001b[0;34m**\u001b[0m\u001b[0mkwargs\u001b[0m\u001b[0;34m)\u001b[0m\u001b[0;34m\u001b[0m\u001b[0;34m\u001b[0m\u001b[0m\n\u001b[1;32m    312\u001b[0m         \u001b[0;32melse\u001b[0m\u001b[0;34m:\u001b[0m\u001b[0;34m\u001b[0m\u001b[0;34m\u001b[0m\u001b[0m\n\u001b[0;32m--> 313\u001b[0;31m             \u001b[0mformat_dict\u001b[0m\u001b[0;34m,\u001b[0m \u001b[0mmd_dict\u001b[0m \u001b[0;34m=\u001b[0m \u001b[0mformat\u001b[0m\u001b[0;34m(\u001b[0m\u001b[0mobj\u001b[0m\u001b[0;34m,\u001b[0m \u001b[0minclude\u001b[0m\u001b[0;34m=\u001b[0m\u001b[0minclude\u001b[0m\u001b[0;34m,\u001b[0m \u001b[0mexclude\u001b[0m\u001b[0;34m=\u001b[0m\u001b[0mexclude\u001b[0m\u001b[0;34m)\u001b[0m\u001b[0;34m\u001b[0m\u001b[0;34m\u001b[0m\u001b[0m\n\u001b[0m\u001b[1;32m    314\u001b[0m             \u001b[0;32mif\u001b[0m \u001b[0;32mnot\u001b[0m \u001b[0mformat_dict\u001b[0m\u001b[0;34m:\u001b[0m\u001b[0;34m\u001b[0m\u001b[0;34m\u001b[0m\u001b[0m\n\u001b[1;32m    315\u001b[0m                 \u001b[0;31m# nothing to display (e.g. _ipython_display_ took over)\u001b[0m\u001b[0;34m\u001b[0m\u001b[0;34m\u001b[0m\u001b[0;34m\u001b[0m\u001b[0m\n",
      "\u001b[0;32m~/anaconda3/lib/python3.8/site-packages/IPython/core/formatters.py\u001b[0m in \u001b[0;36mformat\u001b[0;34m(self, obj, include, exclude)\u001b[0m\n\u001b[1;32m    178\u001b[0m             \u001b[0mmd\u001b[0m \u001b[0;34m=\u001b[0m \u001b[0;32mNone\u001b[0m\u001b[0;34m\u001b[0m\u001b[0;34m\u001b[0m\u001b[0m\n\u001b[1;32m    179\u001b[0m             \u001b[0;32mtry\u001b[0m\u001b[0;34m:\u001b[0m\u001b[0;34m\u001b[0m\u001b[0;34m\u001b[0m\u001b[0m\n\u001b[0;32m--> 180\u001b[0;31m                 \u001b[0mdata\u001b[0m \u001b[0;34m=\u001b[0m \u001b[0mformatter\u001b[0m\u001b[0;34m(\u001b[0m\u001b[0mobj\u001b[0m\u001b[0;34m)\u001b[0m\u001b[0;34m\u001b[0m\u001b[0;34m\u001b[0m\u001b[0m\n\u001b[0m\u001b[1;32m    181\u001b[0m             \u001b[0;32mexcept\u001b[0m\u001b[0;34m:\u001b[0m\u001b[0;34m\u001b[0m\u001b[0;34m\u001b[0m\u001b[0m\n\u001b[1;32m    182\u001b[0m                 \u001b[0;31m# FIXME: log the exception\u001b[0m\u001b[0;34m\u001b[0m\u001b[0;34m\u001b[0m\u001b[0;34m\u001b[0m\u001b[0m\n",
      "\u001b[0;32m<decorator-gen-9>\u001b[0m in \u001b[0;36m__call__\u001b[0;34m(self, obj)\u001b[0m\n",
      "\u001b[0;32m~/anaconda3/lib/python3.8/site-packages/IPython/core/formatters.py\u001b[0m in \u001b[0;36mcatch_format_error\u001b[0;34m(method, self, *args, **kwargs)\u001b[0m\n\u001b[1;32m    222\u001b[0m     \u001b[0;34m\"\"\"show traceback on failed format call\"\"\"\u001b[0m\u001b[0;34m\u001b[0m\u001b[0;34m\u001b[0m\u001b[0m\n\u001b[1;32m    223\u001b[0m     \u001b[0;32mtry\u001b[0m\u001b[0;34m:\u001b[0m\u001b[0;34m\u001b[0m\u001b[0;34m\u001b[0m\u001b[0m\n\u001b[0;32m--> 224\u001b[0;31m         \u001b[0mr\u001b[0m \u001b[0;34m=\u001b[0m \u001b[0mmethod\u001b[0m\u001b[0;34m(\u001b[0m\u001b[0mself\u001b[0m\u001b[0;34m,\u001b[0m \u001b[0;34m*\u001b[0m\u001b[0margs\u001b[0m\u001b[0;34m,\u001b[0m \u001b[0;34m**\u001b[0m\u001b[0mkwargs\u001b[0m\u001b[0;34m)\u001b[0m\u001b[0;34m\u001b[0m\u001b[0;34m\u001b[0m\u001b[0m\n\u001b[0m\u001b[1;32m    225\u001b[0m     \u001b[0;32mexcept\u001b[0m \u001b[0mNotImplementedError\u001b[0m\u001b[0;34m:\u001b[0m\u001b[0;34m\u001b[0m\u001b[0;34m\u001b[0m\u001b[0m\n\u001b[1;32m    226\u001b[0m         \u001b[0;31m# don't warn on NotImplementedErrors\u001b[0m\u001b[0;34m\u001b[0m\u001b[0;34m\u001b[0m\u001b[0;34m\u001b[0m\u001b[0m\n",
      "\u001b[0;32m~/anaconda3/lib/python3.8/site-packages/IPython/core/formatters.py\u001b[0m in \u001b[0;36m__call__\u001b[0;34m(self, obj)\u001b[0m\n\u001b[1;32m    339\u001b[0m                 \u001b[0;32mpass\u001b[0m\u001b[0;34m\u001b[0m\u001b[0;34m\u001b[0m\u001b[0m\n\u001b[1;32m    340\u001b[0m             \u001b[0;32melse\u001b[0m\u001b[0;34m:\u001b[0m\u001b[0;34m\u001b[0m\u001b[0;34m\u001b[0m\u001b[0m\n\u001b[0;32m--> 341\u001b[0;31m                 \u001b[0;32mreturn\u001b[0m \u001b[0mprinter\u001b[0m\u001b[0;34m(\u001b[0m\u001b[0mobj\u001b[0m\u001b[0;34m)\u001b[0m\u001b[0;34m\u001b[0m\u001b[0;34m\u001b[0m\u001b[0m\n\u001b[0m\u001b[1;32m    342\u001b[0m             \u001b[0;31m# Finally look for special method names\u001b[0m\u001b[0;34m\u001b[0m\u001b[0;34m\u001b[0m\u001b[0;34m\u001b[0m\u001b[0m\n\u001b[1;32m    343\u001b[0m             \u001b[0mmethod\u001b[0m \u001b[0;34m=\u001b[0m \u001b[0mget_real_method\u001b[0m\u001b[0;34m(\u001b[0m\u001b[0mobj\u001b[0m\u001b[0;34m,\u001b[0m \u001b[0mself\u001b[0m\u001b[0;34m.\u001b[0m\u001b[0mprint_method\u001b[0m\u001b[0;34m)\u001b[0m\u001b[0;34m\u001b[0m\u001b[0;34m\u001b[0m\u001b[0m\n",
      "\u001b[0;32m~/anaconda3/lib/python3.8/site-packages/IPython/core/pylabtools.py\u001b[0m in \u001b[0;36m<lambda>\u001b[0;34m(fig)\u001b[0m\n\u001b[1;32m    246\u001b[0m \u001b[0;34m\u001b[0m\u001b[0m\n\u001b[1;32m    247\u001b[0m     \u001b[0;32mif\u001b[0m \u001b[0;34m'png'\u001b[0m \u001b[0;32min\u001b[0m \u001b[0mformats\u001b[0m\u001b[0;34m:\u001b[0m\u001b[0;34m\u001b[0m\u001b[0;34m\u001b[0m\u001b[0m\n\u001b[0;32m--> 248\u001b[0;31m         \u001b[0mpng_formatter\u001b[0m\u001b[0;34m.\u001b[0m\u001b[0mfor_type\u001b[0m\u001b[0;34m(\u001b[0m\u001b[0mFigure\u001b[0m\u001b[0;34m,\u001b[0m \u001b[0;32mlambda\u001b[0m \u001b[0mfig\u001b[0m\u001b[0;34m:\u001b[0m \u001b[0mprint_figure\u001b[0m\u001b[0;34m(\u001b[0m\u001b[0mfig\u001b[0m\u001b[0;34m,\u001b[0m \u001b[0;34m'png'\u001b[0m\u001b[0;34m,\u001b[0m \u001b[0;34m**\u001b[0m\u001b[0mkwargs\u001b[0m\u001b[0;34m)\u001b[0m\u001b[0;34m)\u001b[0m\u001b[0;34m\u001b[0m\u001b[0;34m\u001b[0m\u001b[0m\n\u001b[0m\u001b[1;32m    249\u001b[0m     \u001b[0;32mif\u001b[0m \u001b[0;34m'retina'\u001b[0m \u001b[0;32min\u001b[0m \u001b[0mformats\u001b[0m \u001b[0;32mor\u001b[0m \u001b[0;34m'png2x'\u001b[0m \u001b[0;32min\u001b[0m \u001b[0mformats\u001b[0m\u001b[0;34m:\u001b[0m\u001b[0;34m\u001b[0m\u001b[0;34m\u001b[0m\u001b[0m\n\u001b[1;32m    250\u001b[0m         \u001b[0mpng_formatter\u001b[0m\u001b[0;34m.\u001b[0m\u001b[0mfor_type\u001b[0m\u001b[0;34m(\u001b[0m\u001b[0mFigure\u001b[0m\u001b[0;34m,\u001b[0m \u001b[0;32mlambda\u001b[0m \u001b[0mfig\u001b[0m\u001b[0;34m:\u001b[0m \u001b[0mretina_figure\u001b[0m\u001b[0;34m(\u001b[0m\u001b[0mfig\u001b[0m\u001b[0;34m,\u001b[0m \u001b[0;34m**\u001b[0m\u001b[0mkwargs\u001b[0m\u001b[0;34m)\u001b[0m\u001b[0;34m)\u001b[0m\u001b[0;34m\u001b[0m\u001b[0;34m\u001b[0m\u001b[0m\n",
      "\u001b[0;32m~/anaconda3/lib/python3.8/site-packages/IPython/core/pylabtools.py\u001b[0m in \u001b[0;36mprint_figure\u001b[0;34m(fig, fmt, bbox_inches, **kwargs)\u001b[0m\n\u001b[1;32m    130\u001b[0m         \u001b[0mFigureCanvasBase\u001b[0m\u001b[0;34m(\u001b[0m\u001b[0mfig\u001b[0m\u001b[0;34m)\u001b[0m\u001b[0;34m\u001b[0m\u001b[0;34m\u001b[0m\u001b[0m\n\u001b[1;32m    131\u001b[0m \u001b[0;34m\u001b[0m\u001b[0m\n\u001b[0;32m--> 132\u001b[0;31m     \u001b[0mfig\u001b[0m\u001b[0;34m.\u001b[0m\u001b[0mcanvas\u001b[0m\u001b[0;34m.\u001b[0m\u001b[0mprint_figure\u001b[0m\u001b[0;34m(\u001b[0m\u001b[0mbytes_io\u001b[0m\u001b[0;34m,\u001b[0m \u001b[0;34m**\u001b[0m\u001b[0mkw\u001b[0m\u001b[0;34m)\u001b[0m\u001b[0;34m\u001b[0m\u001b[0;34m\u001b[0m\u001b[0m\n\u001b[0m\u001b[1;32m    133\u001b[0m     \u001b[0mdata\u001b[0m \u001b[0;34m=\u001b[0m \u001b[0mbytes_io\u001b[0m\u001b[0;34m.\u001b[0m\u001b[0mgetvalue\u001b[0m\u001b[0;34m(\u001b[0m\u001b[0;34m)\u001b[0m\u001b[0;34m\u001b[0m\u001b[0;34m\u001b[0m\u001b[0m\n\u001b[1;32m    134\u001b[0m     \u001b[0;32mif\u001b[0m \u001b[0mfmt\u001b[0m \u001b[0;34m==\u001b[0m \u001b[0;34m'svg'\u001b[0m\u001b[0;34m:\u001b[0m\u001b[0;34m\u001b[0m\u001b[0;34m\u001b[0m\u001b[0m\n",
      "\u001b[0;32m~/anaconda3/lib/python3.8/site-packages/matplotlib/backend_bases.py\u001b[0m in \u001b[0;36mprint_figure\u001b[0;34m(self, filename, dpi, facecolor, edgecolor, orientation, format, bbox_inches, **kwargs)\u001b[0m\n\u001b[1;32m   2100\u001b[0m                         \u001b[0mself\u001b[0m\u001b[0;34m.\u001b[0m\u001b[0mfigure\u001b[0m\u001b[0;34m.\u001b[0m\u001b[0mdraw\u001b[0m\u001b[0;34m(\u001b[0m\u001b[0mrenderer\u001b[0m\u001b[0;34m)\u001b[0m\u001b[0;34m\u001b[0m\u001b[0;34m\u001b[0m\u001b[0m\n\u001b[1;32m   2101\u001b[0m                     \u001b[0mbbox_artists\u001b[0m \u001b[0;34m=\u001b[0m \u001b[0mkwargs\u001b[0m\u001b[0;34m.\u001b[0m\u001b[0mpop\u001b[0m\u001b[0;34m(\u001b[0m\u001b[0;34m\"bbox_extra_artists\"\u001b[0m\u001b[0;34m,\u001b[0m \u001b[0;32mNone\u001b[0m\u001b[0;34m)\u001b[0m\u001b[0;34m\u001b[0m\u001b[0;34m\u001b[0m\u001b[0m\n\u001b[0;32m-> 2102\u001b[0;31m                     bbox_inches = self.figure.get_tightbbox(renderer,\n\u001b[0m\u001b[1;32m   2103\u001b[0m                             bbox_extra_artists=bbox_artists)\n\u001b[1;32m   2104\u001b[0m                     \u001b[0mpad\u001b[0m \u001b[0;34m=\u001b[0m \u001b[0mkwargs\u001b[0m\u001b[0;34m.\u001b[0m\u001b[0mpop\u001b[0m\u001b[0;34m(\u001b[0m\u001b[0;34m\"pad_inches\"\u001b[0m\u001b[0;34m,\u001b[0m \u001b[0;32mNone\u001b[0m\u001b[0;34m)\u001b[0m\u001b[0;34m\u001b[0m\u001b[0;34m\u001b[0m\u001b[0m\n",
      "\u001b[0;32m~/anaconda3/lib/python3.8/site-packages/matplotlib/figure.py\u001b[0m in \u001b[0;36mget_tightbbox\u001b[0;34m(self, renderer, bbox_extra_artists)\u001b[0m\n\u001b[1;32m   2392\u001b[0m                 \u001b[0;31m# need this conditional....\u001b[0m\u001b[0;34m\u001b[0m\u001b[0;34m\u001b[0m\u001b[0;34m\u001b[0m\u001b[0m\n\u001b[1;32m   2393\u001b[0m                 \u001b[0;32mtry\u001b[0m\u001b[0;34m:\u001b[0m\u001b[0;34m\u001b[0m\u001b[0;34m\u001b[0m\u001b[0m\n\u001b[0;32m-> 2394\u001b[0;31m                     bbox = ax.get_tightbbox(renderer,\n\u001b[0m\u001b[1;32m   2395\u001b[0m                             bbox_extra_artists=bbox_extra_artists)\n\u001b[1;32m   2396\u001b[0m                 \u001b[0;32mexcept\u001b[0m \u001b[0mTypeError\u001b[0m\u001b[0;34m:\u001b[0m\u001b[0;34m\u001b[0m\u001b[0;34m\u001b[0m\u001b[0m\n",
      "\u001b[0;32m~/anaconda3/lib/python3.8/site-packages/matplotlib/axes/_base.py\u001b[0m in \u001b[0;36mget_tightbbox\u001b[0;34m(self, renderer, call_axes_locator, bbox_extra_artists)\u001b[0m\n\u001b[1;32m   4359\u001b[0m                     \u001b[0;31m# this artist\u001b[0m\u001b[0;34m\u001b[0m\u001b[0;34m\u001b[0m\u001b[0;34m\u001b[0m\u001b[0m\n\u001b[1;32m   4360\u001b[0m                     \u001b[0;32mcontinue\u001b[0m\u001b[0;34m\u001b[0m\u001b[0;34m\u001b[0m\u001b[0m\n\u001b[0;32m-> 4361\u001b[0;31m             \u001b[0mbbox\u001b[0m \u001b[0;34m=\u001b[0m \u001b[0ma\u001b[0m\u001b[0;34m.\u001b[0m\u001b[0mget_tightbbox\u001b[0m\u001b[0;34m(\u001b[0m\u001b[0mrenderer\u001b[0m\u001b[0;34m)\u001b[0m\u001b[0;34m\u001b[0m\u001b[0;34m\u001b[0m\u001b[0m\n\u001b[0m\u001b[1;32m   4362\u001b[0m             if (bbox is not None\n\u001b[1;32m   4363\u001b[0m                     \u001b[0;32mand\u001b[0m \u001b[0;36m0\u001b[0m \u001b[0;34m<\u001b[0m \u001b[0mbbox\u001b[0m\u001b[0;34m.\u001b[0m\u001b[0mwidth\u001b[0m \u001b[0;34m<\u001b[0m \u001b[0mnp\u001b[0m\u001b[0;34m.\u001b[0m\u001b[0minf\u001b[0m\u001b[0;34m\u001b[0m\u001b[0;34m\u001b[0m\u001b[0m\n",
      "\u001b[0;32m~/anaconda3/lib/python3.8/site-packages/matplotlib/artist.py\u001b[0m in \u001b[0;36mget_tightbbox\u001b[0;34m(self, renderer)\u001b[0m\n\u001b[1;32m    280\u001b[0m             \u001b[0mThe\u001b[0m \u001b[0menclosing\u001b[0m \u001b[0mbounding\u001b[0m \u001b[0mbox\u001b[0m \u001b[0;34m(\u001b[0m\u001b[0;32min\u001b[0m \u001b[0mfigure\u001b[0m \u001b[0mpixel\u001b[0m \u001b[0mco\u001b[0m\u001b[0;34m-\u001b[0m\u001b[0mordinates\u001b[0m\u001b[0;34m)\u001b[0m\u001b[0;34m.\u001b[0m\u001b[0;34m\u001b[0m\u001b[0;34m\u001b[0m\u001b[0m\n\u001b[1;32m    281\u001b[0m         \"\"\"\n\u001b[0;32m--> 282\u001b[0;31m         \u001b[0mbbox\u001b[0m \u001b[0;34m=\u001b[0m \u001b[0mself\u001b[0m\u001b[0;34m.\u001b[0m\u001b[0mget_window_extent\u001b[0m\u001b[0;34m(\u001b[0m\u001b[0mrenderer\u001b[0m\u001b[0;34m)\u001b[0m\u001b[0;34m\u001b[0m\u001b[0;34m\u001b[0m\u001b[0m\n\u001b[0m\u001b[1;32m    283\u001b[0m         \u001b[0;32mif\u001b[0m \u001b[0mself\u001b[0m\u001b[0;34m.\u001b[0m\u001b[0mget_clip_on\u001b[0m\u001b[0;34m(\u001b[0m\u001b[0;34m)\u001b[0m\u001b[0;34m:\u001b[0m\u001b[0;34m\u001b[0m\u001b[0;34m\u001b[0m\u001b[0m\n\u001b[1;32m    284\u001b[0m             \u001b[0mclip_box\u001b[0m \u001b[0;34m=\u001b[0m \u001b[0mself\u001b[0m\u001b[0;34m.\u001b[0m\u001b[0mget_clip_box\u001b[0m\u001b[0;34m(\u001b[0m\u001b[0;34m)\u001b[0m\u001b[0;34m\u001b[0m\u001b[0;34m\u001b[0m\u001b[0m\n",
      "\u001b[0;32m~/anaconda3/lib/python3.8/site-packages/matplotlib/text.py\u001b[0m in \u001b[0;36mget_window_extent\u001b[0;34m(self, renderer, dpi)\u001b[0m\n\u001b[1;32m    906\u001b[0m         \u001b[0mx\u001b[0m\u001b[0;34m,\u001b[0m \u001b[0my\u001b[0m \u001b[0;34m=\u001b[0m \u001b[0mself\u001b[0m\u001b[0;34m.\u001b[0m\u001b[0mget_unitless_position\u001b[0m\u001b[0;34m(\u001b[0m\u001b[0;34m)\u001b[0m\u001b[0;34m\u001b[0m\u001b[0;34m\u001b[0m\u001b[0m\n\u001b[1;32m    907\u001b[0m         \u001b[0mx\u001b[0m\u001b[0;34m,\u001b[0m \u001b[0my\u001b[0m \u001b[0;34m=\u001b[0m \u001b[0mself\u001b[0m\u001b[0;34m.\u001b[0m\u001b[0mget_transform\u001b[0m\u001b[0;34m(\u001b[0m\u001b[0;34m)\u001b[0m\u001b[0;34m.\u001b[0m\u001b[0mtransform\u001b[0m\u001b[0;34m(\u001b[0m\u001b[0;34m(\u001b[0m\u001b[0mx\u001b[0m\u001b[0;34m,\u001b[0m \u001b[0my\u001b[0m\u001b[0;34m)\u001b[0m\u001b[0;34m)\u001b[0m\u001b[0;34m\u001b[0m\u001b[0;34m\u001b[0m\u001b[0m\n\u001b[0;32m--> 908\u001b[0;31m         \u001b[0mbbox\u001b[0m \u001b[0;34m=\u001b[0m \u001b[0mbbox\u001b[0m\u001b[0;34m.\u001b[0m\u001b[0mtranslated\u001b[0m\u001b[0;34m(\u001b[0m\u001b[0mx\u001b[0m\u001b[0;34m,\u001b[0m \u001b[0my\u001b[0m\u001b[0;34m)\u001b[0m\u001b[0;34m\u001b[0m\u001b[0;34m\u001b[0m\u001b[0m\n\u001b[0m\u001b[1;32m    909\u001b[0m         \u001b[0;32mif\u001b[0m \u001b[0mdpi\u001b[0m \u001b[0;32mis\u001b[0m \u001b[0;32mnot\u001b[0m \u001b[0;32mNone\u001b[0m\u001b[0;34m:\u001b[0m\u001b[0;34m\u001b[0m\u001b[0;34m\u001b[0m\u001b[0m\n\u001b[1;32m    910\u001b[0m             \u001b[0mself\u001b[0m\u001b[0;34m.\u001b[0m\u001b[0mfigure\u001b[0m\u001b[0;34m.\u001b[0m\u001b[0mdpi\u001b[0m \u001b[0;34m=\u001b[0m \u001b[0mdpi_orig\u001b[0m\u001b[0;34m\u001b[0m\u001b[0;34m\u001b[0m\u001b[0m\n",
      "\u001b[0;32m~/anaconda3/lib/python3.8/site-packages/matplotlib/transforms.py\u001b[0m in \u001b[0;36mtranslated\u001b[0;34m(self, tx, ty)\u001b[0m\n\u001b[1;32m    669\u001b[0m     \u001b[0;32mdef\u001b[0m \u001b[0mtranslated\u001b[0m\u001b[0;34m(\u001b[0m\u001b[0mself\u001b[0m\u001b[0;34m,\u001b[0m \u001b[0mtx\u001b[0m\u001b[0;34m,\u001b[0m \u001b[0mty\u001b[0m\u001b[0;34m)\u001b[0m\u001b[0;34m:\u001b[0m\u001b[0;34m\u001b[0m\u001b[0;34m\u001b[0m\u001b[0m\n\u001b[1;32m    670\u001b[0m         \u001b[0;34m\"\"\"Construct a `Bbox` by translating this one by *tx* and *ty*.\"\"\"\u001b[0m\u001b[0;34m\u001b[0m\u001b[0;34m\u001b[0m\u001b[0m\n\u001b[0;32m--> 671\u001b[0;31m         \u001b[0;32mreturn\u001b[0m \u001b[0mBbox\u001b[0m\u001b[0;34m(\u001b[0m\u001b[0mself\u001b[0m\u001b[0;34m.\u001b[0m\u001b[0m_points\u001b[0m \u001b[0;34m+\u001b[0m \u001b[0;34m(\u001b[0m\u001b[0mtx\u001b[0m\u001b[0;34m,\u001b[0m \u001b[0mty\u001b[0m\u001b[0;34m)\u001b[0m\u001b[0;34m)\u001b[0m\u001b[0;34m\u001b[0m\u001b[0;34m\u001b[0m\u001b[0m\n\u001b[0m\u001b[1;32m    672\u001b[0m \u001b[0;34m\u001b[0m\u001b[0m\n\u001b[1;32m    673\u001b[0m     \u001b[0;32mdef\u001b[0m \u001b[0mcorners\u001b[0m\u001b[0;34m(\u001b[0m\u001b[0mself\u001b[0m\u001b[0;34m)\u001b[0m\u001b[0;34m:\u001b[0m\u001b[0;34m\u001b[0m\u001b[0;34m\u001b[0m\u001b[0m\n",
      "\u001b[0;32m~/anaconda3/lib/python3.8/site-packages/matplotlib/transforms.py\u001b[0m in \u001b[0;36m__init__\u001b[0;34m(self, points, **kwargs)\u001b[0m\n\u001b[1;32m    740\u001b[0m         \u001b[0mBboxBase\u001b[0m\u001b[0;34m.\u001b[0m\u001b[0m__init__\u001b[0m\u001b[0;34m(\u001b[0m\u001b[0mself\u001b[0m\u001b[0;34m,\u001b[0m \u001b[0;34m**\u001b[0m\u001b[0mkwargs\u001b[0m\u001b[0;34m)\u001b[0m\u001b[0;34m\u001b[0m\u001b[0;34m\u001b[0m\u001b[0m\n\u001b[1;32m    741\u001b[0m         \u001b[0mpoints\u001b[0m \u001b[0;34m=\u001b[0m \u001b[0mnp\u001b[0m\u001b[0;34m.\u001b[0m\u001b[0masarray\u001b[0m\u001b[0;34m(\u001b[0m\u001b[0mpoints\u001b[0m\u001b[0;34m,\u001b[0m \u001b[0mfloat\u001b[0m\u001b[0;34m)\u001b[0m\u001b[0;34m\u001b[0m\u001b[0;34m\u001b[0m\u001b[0m\n\u001b[0;32m--> 742\u001b[0;31m         \u001b[0;32mif\u001b[0m \u001b[0mpoints\u001b[0m\u001b[0;34m.\u001b[0m\u001b[0mshape\u001b[0m \u001b[0;34m!=\u001b[0m \u001b[0;34m(\u001b[0m\u001b[0;36m2\u001b[0m\u001b[0;34m,\u001b[0m \u001b[0;36m2\u001b[0m\u001b[0;34m)\u001b[0m\u001b[0;34m:\u001b[0m\u001b[0;34m\u001b[0m\u001b[0;34m\u001b[0m\u001b[0m\n\u001b[0m\u001b[1;32m    743\u001b[0m             raise ValueError('Bbox points must be of the form '\n\u001b[1;32m    744\u001b[0m                              '\"[[x0, y0], [x1, y1]]\".')\n",
      "\u001b[0;31mKeyboardInterrupt\u001b[0m: "
     ]
    }
   ],
   "source": [
    "air_bnb_data.hist(column='id',by='zipcode'\n",
    "                 )"
   ]
  },
  {
   "cell_type": "code",
   "execution_count": 1,
   "metadata": {},
   "outputs": [],
   "source": [
    "import pandas as pd\n",
    "from sodapy import Socrata\n"
   ]
  },
  {
   "cell_type": "code",
   "execution_count": 29,
   "metadata": {},
   "outputs": [
    {
     "name": "stderr",
     "output_type": "stream",
     "text": [
      "WARNING:root:Requests made without an app_token will be subject to strict throttling limits.\n"
     ]
    }
   ],
   "source": [
    "client = Socrata(\"data.cityofnewyork.us\", None)\n",
    "\n",
    "results = client.get(\"c3uy-2p5r\", where = \"lower(geo_entity_name) = 'manhattan'\")\n",
    "\n",
    "# Convert to pandas DataFrame\n",
    "results_df = pd.DataFrame.from_records(results)"
   ]
  },
  {
   "cell_type": "code",
   "execution_count": 30,
   "metadata": {},
   "outputs": [
    {
     "data": {
      "text/plain": [
       "array(['2005', '2013', 'Annual Average 2009-2010',\n",
       "       '2-Year Winter Average 2009-2010', '2005-2007', '2009-2011'],\n",
       "      dtype=object)"
      ]
     },
     "execution_count": 30,
     "metadata": {},
     "output_type": "execute_result"
    }
   ],
   "source": [
    "results_df.year_description.unique()"
   ]
  },
  {
   "cell_type": "code",
   "execution_count": 16,
   "metadata": {},
   "outputs": [],
   "source": [
    "metrics = results_df.name.unique()"
   ]
  },
  {
   "cell_type": "code",
   "execution_count": 8,
   "metadata": {},
   "outputs": [
    {
     "data": {
      "text/plain": [
       "array(['Borough', 'Citywide', 'UHF42'], dtype=object)"
      ]
     },
     "execution_count": 8,
     "metadata": {},
     "output_type": "execute_result"
    }
   ],
   "source": [
    "results_df.geo_type_name.unique()"
   ]
  },
  {
   "cell_type": "code",
   "execution_count": 10,
   "metadata": {},
   "outputs": [
    {
     "data": {
      "text/plain": [
       "array(['Bronx', 'Brooklyn', 'Manhattan', 'Queens', 'Staten Island',\n",
       "       'New York City', 'Kingsbridge - Riverdale', 'Northeast Bronx',\n",
       "       'Fordham - Bronx Pk', 'Pelham - Throgs Neck', 'Crotona -Tremont',\n",
       "       'High Bridge - Morrisania', 'Hunts Point - Mott Haven',\n",
       "       'Greenpoint', 'Downtown - Heights - Slope',\n",
       "       'Bedford Stuyvesant - Crown Heights', 'East New York',\n",
       "       'Sunset Park', 'Borough Park', 'East Flatbush - Flatbush',\n",
       "       'Canarsie - Flatlands', 'Bensonhurst - Bay Ridge',\n",
       "       'Coney Island - Sheepshead Bay', 'Williamsburg - Bushwick',\n",
       "       'Washington Heights', 'Central Harlem - Morningside Heights',\n",
       "       'East Harlem', 'Upper West Side', 'Upper East Side',\n",
       "       'Chelsea - Clinton', 'Gramercy Park - Murray Hill',\n",
       "       'Greenwich Village - SoHo', 'Union Square - Lower East Side',\n",
       "       'Lower Manhattan', 'Long Island City - Astoria', 'West Queens',\n",
       "       'Flushing - Clearview', 'Bayside - Little Neck',\n",
       "       'Ridgewood - Forest Hills', 'Fresh Meadows', 'Southwest Queens',\n",
       "       'Jamaica', 'Southeast Queens', 'Rockaways', 'Port Richmond',\n",
       "       'Stapleton - St. George', 'Willowbrook',\n",
       "       'South Beach - Tottenville'], dtype=object)"
      ]
     },
     "execution_count": 10,
     "metadata": {},
     "output_type": "execute_result"
    }
   ],
   "source": [
    "results_df.geo_entity_name.unique()"
   ]
  },
  {
   "cell_type": "code",
   "execution_count": 17,
   "metadata": {},
   "outputs": [],
   "source": [
    "a= air_bnb_data.copy()"
   ]
  },
  {
   "cell_type": "code",
   "execution_count": 21,
   "metadata": {},
   "outputs": [
    {
     "data": {
      "text/plain": [
       "array(['Manhattan', 'Bedford-Stuyvesant', 'Brooklyn', 'Chelsea',\n",
       "       'Upper West Side', 'Williamsburg', 'Soho', 'Clinton Hill',\n",
       "       'Inwood', 'Harlem', 'East Village', 'Lower East Side', 'Queens',\n",
       "       'Astoria', 'Richmond Hill', 'West Village', 'Windsor Terrace',\n",
       "       'Crown Heights', 'Alphabet City', 'Greenpoint', 'Maspeth',\n",
       "       'Greenwich Village', 'Hamilton Heights', 'Kensington',\n",
       "       'Times Square/Theatre District', 'Concourse Village', 'Midtown',\n",
       "       'Bushwick', 'Kips Bay', 'Forest Hills', 'Staten Island',\n",
       "       'Flatbush', 'Midtown East', 'Long Island City', 'Lefferts Garden',\n",
       "       'Downtown Brooklyn', 'Fort Greene', 'East New York',\n",
       "       'Brooklyn Navy Yard', 'Ditmars / Steinway', 'Carroll Gardens',\n",
       "       'Park Slope', 'The Rockaways', 'Chinatown', 'East Harlem', 'DUMBO',\n",
       "       'Bensonhurst', 'Rego Park', 'Sunnyside', 'Upper East Side',\n",
       "       'Clifton', \"Hell's Kitchen\", 'Tribeca', 'Washington Heights',\n",
       "       'Flatiron District', 'Jamaica', 'Ridgewood', 'Baychester',\n",
       "       'Concourse', 'Sunset Park', 'Noho', 'Financial District',\n",
       "       'Jackson Heights', 'Red Hook', 'The Bronx', 'Sheepshead Bay',\n",
       "       'Morningside Heights', 'Roosevelt Island', 'Bedford Park',\n",
       "       'Canarsie', 'East Flatbush', 'Murray Hill', 'Flushing',\n",
       "       'Greenwood Heights', 'Midwood', 'Woodside', 'Prospect Heights',\n",
       "       'East Elmhurst', 'Tompkinsville', 'Tremont', 'Coney Island',\n",
       "       'Gowanus', 'South Ozone Park', 'Bay Ridge', 'Highbridge',\n",
       "       'Bayside', 'Morrisania', 'Gravesend', 'Battery Park City',\n",
       "       'Glendale', 'Mott Haven', 'College Point', 'Brighton Beach',\n",
       "       'Pelham Bay', 'Woodhaven', 'Flatlands', 'South Beach',\n",
       "       'South Street Seaport', 'Corona', 'Norwood', 'Wakefield',\n",
       "       'Elmhurst', 'University Heights', 'Hillcrest',\n",
       "       'Kingsbridge Heights', 'Hudson Square', 'Dongan Hills', 'Grasmere',\n",
       "       'Edenwald', 'Hunts Point', 'Boerum Hill', 'Grant City',\n",
       "       'Parkchester', 'Brooklyn Heights', 'Port Morris', 'St. George',\n",
       "       'Fordham', 'Kew Garden Hills', 'Kingsbridge', 'West Brighton',\n",
       "       'City Island', 'Morris Park', 'Brownsville', 'Morris Heights',\n",
       "       'Meiers Corners', 'Ozone Park', 'Melrose', 'New Dorp Beach',\n",
       "       'Elm Park', 'Throgs Neck', 'Utopia', 'Gerritsen Beach',\n",
       "       'Midland Beach', 'Gramercy Park', 'Cobble Hill', 'Whitestone',\n",
       "       'Allerton', 'Dyker Heights', 'Annadale', 'Castle Hill ', 'Crotona',\n",
       "       'Westchester Village', 'Columbia Street Waterfront',\n",
       "       'Williamsbridge', 'Middle Village', 'Bergen Beach', 'Tottenville',\n",
       "       nan, 'Rosebank', 'Pleasant Plains', 'Lindenwood', 'Port Richmond',\n",
       "       'Civic Center', 'Nolita', 'Soundview', 'Howard Beach',\n",
       "       'Great Kills', 'Mariners Harbor', 'Westerleigh', 'Manhattan Beach',\n",
       "       'Grymes Hill', 'Bronxdale', 'Riverdale', 'Country Club',\n",
       "       'Longwood', 'Stapleton', 'Claremont', 'Union Square', 'Arrochar',\n",
       "       'Meatpacking District', 'Van Nest', 'Eastchester', 'Borough Park',\n",
       "       'Park Versailles', 'Castleton Corners', 'Concord', 'Fresh Meadows',\n",
       "       'Woodlawn', 'Spuyten Duyvil', 'Fort Wadsworth', 'Bath Beach',\n",
       "       'Little Italy', 'Eltingville', 'Belmont', 'Graniteville',\n",
       "       'New Dorp', 'Bay Terrace', 'Fort Hamilton', 'Todt Hill',\n",
       "       'Randall Manor', 'Mount Eden', 'Marble Hill', 'Sea Gate',\n",
       "       'Lighthouse HIll', 'New Brighton', 'Huguenot', 'New Springville',\n",
       "       'Mill Basin', 'Greenridge', 'Rossville'], dtype=object)"
      ]
     },
     "execution_count": 21,
     "metadata": {},
     "output_type": "execute_result"
    }
   ],
   "source": [
    "a.neighbourhood.unique(), results_df."
   ]
  },
  {
   "cell_type": "code",
   "execution_count": 20,
   "metadata": {},
   "outputs": [
    {
     "data": {
      "text/plain": [
       "array(['Air Toxics Concentrations- Average Benzene Concentrations',\n",
       "       'Air Toxics Concentrations- Average Formaldehyde Concentrations',\n",
       "       'Boiler Emissions- Total NOx Emissions',\n",
       "       'Boiler Emissions- Total PM2.5 Emissions',\n",
       "       'Boiler Emissions- Total SO2 Emissions',\n",
       "       'Neighborhood Air Quality Concentrations- Elemental Carbon (EC)',\n",
       "       'Neighborhood Air Quality Concentrations- Fine Particulate Matter (PM2.5)',\n",
       "       'Neighborhood Air Quality Concentrations- Nitric Oxide (NO)',\n",
       "       'Neighborhood Air Quality Concentrations- Nitrogen Dioxide (NO2)',\n",
       "       'Neighborhood Air Quality Concentrations- Ozone (O3)',\n",
       "       'Neighborhood Air Quality Concentrations: Sulfur Dioxide (SO2)',\n",
       "       'O3-Attributable Asthma ED Visits',\n",
       "       'O3-Attributable Asthma Hospitalizations ',\n",
       "       'O3-Attributable Cardiac and Respiratory Deaths ',\n",
       "       'PM2.5-Attributable Asthma ED Visits ',\n",
       "       'PM2.5-Attributable Deaths ',\n",
       "       'PM2.5-Attributable Cardiovascular Hospitalizations (Adults 40 Yrs and Older) '],\n",
       "      dtype=object)"
      ]
     },
     "execution_count": 20,
     "metadata": {},
     "output_type": "execute_result"
    }
   ],
   "source": [
    "metrics"
   ]
  },
  {
   "cell_type": "code",
   "execution_count": null,
   "metadata": {},
   "outputs": [],
   "source": []
  }
 ],
 "metadata": {
  "kernelspec": {
   "display_name": "Python 3",
   "language": "python",
   "name": "python3"
  },
  "language_info": {
   "codemirror_mode": {
    "name": "ipython",
    "version": 3
   },
   "file_extension": ".py",
   "mimetype": "text/x-python",
   "name": "python",
   "nbconvert_exporter": "python",
   "pygments_lexer": "ipython3",
   "version": "3.8.3"
  }
 },
 "nbformat": 4,
 "nbformat_minor": 4
}
